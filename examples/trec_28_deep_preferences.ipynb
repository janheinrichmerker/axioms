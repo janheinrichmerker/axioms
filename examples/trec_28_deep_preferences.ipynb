{
 "cells": [
  {
   "cell_type": "code",
   "execution_count": 1,
   "outputs": [],
   "source": [
    "from sys import modules\n",
    "\n",
    "IN_COLAB = 'google.colab' in modules\n",
    "if IN_COLAB:\n",
    "    !pip install -q ir_axioms python-terrier"
   ],
   "metadata": {
    "collapsed": false,
    "pycharm": {
     "name": "#%%\n"
    }
   }
  },
  {
   "cell_type": "code",
   "execution_count": 2,
   "outputs": [
    {
     "name": "stderr",
     "output_type": "stream",
     "text": [
      "PyTerrier 0.8.0 has loaded Terrier 5.6 (built by craigmacdonald on 2021-09-17 13:27)\n",
      "\n",
      "No etc/terrier.properties, using terrier.default.properties for bootstrap configuration.\n"
     ]
    }
   ],
   "source": [
    "# Start/initialize PyTerrier.\n",
    "from pyterrier import started, init\n",
    "\n",
    "if not started():\n",
    "    init(tqdm=\"notebook\")"
   ],
   "metadata": {
    "collapsed": false,
    "pycharm": {
     "name": "#%%\n"
    }
   }
  },
  {
   "cell_type": "code",
   "execution_count": 3,
   "outputs": [
    {
     "name": "stderr",
     "output_type": "stream",
     "text": [
      "Read results: 100%|██████████| 37/37 [00:13<00:00,  2.66run/s]\n"
     ]
    }
   ],
   "source": [
    "from pathlib import Path\n",
    "from typing import List\n",
    "from pyterrier import Transformer\n",
    "from examples.trec_util import TrecTrack\n",
    "\n",
    "# track = TrecTrack(28, \"deep\", \"msmarco-passage/trec-dl-2019\")\n",
    "track = TrecTrack(\n",
    "    28, \"deep\", \"msmarco-passage/trec-dl-2019\",\n",
    "    base_results_dir=Path(\"/home/heinrich/Development/webis/trec-system-runs\")\n",
    ")\n",
    "retrieval_systems: List[Transformer] = [result % 10 for result in track.results]"
   ],
   "metadata": {
    "collapsed": false,
    "pycharm": {
     "name": "#%%\n"
    }
   }
  },
  {
   "cell_type": "code",
   "execution_count": 4,
   "outputs": [
    {
     "data": {
      "text/plain": "AxiomaticExperiment(retrieval_systems=[RankCutoffTransformer(ComposedPipeline(SourceTransformer(), TaggedTransformer(tag='/home/heinrich/Development/webis/trec-system-runs/trec28/deep/input.srchvrs_ps_run1.gz')), Scalar('10')), RankCutoffTransformer(ComposedPipeline(SourceTransformer(), TaggedTransformer(tag='/home/heinrich/Development/webis/trec-system-runs/trec28/deep/input.ICT-BERT2.gz')), Scalar('10')), RankCutoffTransformer(ComposedPipeline(SourceTransformer(), TaggedTransformer(tag='/home/heinrich/Development/webis/trec-system-runs/trec28/deep/input.TUW19-p1-f.gz')), Scalar('10')), RankCutoffTransformer(ComposedPipeline(SourceTransformer(), TaggedTransformer(tag='/home/heinrich/Development/webis/trec-system-runs/trec28/deep/input.bm25tuned_rm3_p.gz')), Scalar('10')), RankCutoffTransformer(ComposedPipeline(SourceTransformer(), TaggedTransformer(tag='/home/heinrich/Development/webis/trec-system-runs/trec28/deep/input.bm25tuned_p.gz')), Scalar('10')), RankCutoffTransformer(ComposedPipeline(SourceTransformer(), TaggedTransformer(tag='/home/heinrich/Development/webis/trec-system-runs/trec28/deep/input.idst_bert_p1.gz')), Scalar('10')), RankCutoffTransformer(ComposedPipeline(SourceTransformer(), TaggedTransformer(tag='/home/heinrich/Development/webis/trec-system-runs/trec28/deep/input.bm25tuned_ax_p.gz')), Scalar('10')), RankCutoffTransformer(ComposedPipeline(SourceTransformer(), TaggedTransformer(tag='/home/heinrich/Development/webis/trec-system-runs/trec28/deep/input.ICT-CKNRM_B50.gz')), Scalar('10')), RankCutoffTransformer(ComposedPipeline(SourceTransformer(), TaggedTransformer(tag='/home/heinrich/Development/webis/trec-system-runs/trec28/deep/input.p_bert.gz')), Scalar('10')), RankCutoffTransformer(ComposedPipeline(SourceTransformer(), TaggedTransformer(tag='/home/heinrich/Development/webis/trec-system-runs/trec28/deep/input.ms_duet_passage.gz')), Scalar('10')), RankCutoffTransformer(ComposedPipeline(SourceTransformer(), TaggedTransformer(tag='/home/heinrich/Development/webis/trec-system-runs/trec28/deep/input.TUW19-p3-f.gz')), Scalar('10')), RankCutoffTransformer(ComposedPipeline(SourceTransformer(), TaggedTransformer(tag='/home/heinrich/Development/webis/trec-system-runs/trec28/deep/input.runid3.gz')), Scalar('10')), RankCutoffTransformer(ComposedPipeline(SourceTransformer(), TaggedTransformer(tag='/home/heinrich/Development/webis/trec-system-runs/trec28/deep/input.runid5.gz')), Scalar('10')), RankCutoffTransformer(ComposedPipeline(SourceTransformer(), TaggedTransformer(tag='/home/heinrich/Development/webis/trec-system-runs/trec28/deep/input.bm25tuned_prf_p.gz')), Scalar('10')), RankCutoffTransformer(ComposedPipeline(SourceTransformer(), TaggedTransformer(tag='/home/heinrich/Development/webis/trec-system-runs/trec28/deep/input.TUW19-p2-f.gz')), Scalar('10')), RankCutoffTransformer(ComposedPipeline(SourceTransformer(), TaggedTransformer(tag='/home/heinrich/Development/webis/trec-system-runs/trec28/deep/input.idst_bert_pr2.gz')), Scalar('10')), RankCutoffTransformer(ComposedPipeline(SourceTransformer(), TaggedTransformer(tag='/home/heinrich/Development/webis/trec-system-runs/trec28/deep/input.TUA1-1.gz')), Scalar('10')), RankCutoffTransformer(ComposedPipeline(SourceTransformer(), TaggedTransformer(tag='/home/heinrich/Development/webis/trec-system-runs/trec28/deep/input.p_exp_rm3_bert.gz')), Scalar('10')), RankCutoffTransformer(ComposedPipeline(SourceTransformer(), TaggedTransformer(tag='/home/heinrich/Development/webis/trec-system-runs/trec28/deep/input.p_exp_bert.gz')), Scalar('10')), RankCutoffTransformer(ComposedPipeline(SourceTransformer(), TaggedTransformer(tag='/home/heinrich/Development/webis/trec-system-runs/trec28/deep/input.test1.gz')), Scalar('10')), RankCutoffTransformer(ComposedPipeline(SourceTransformer(), TaggedTransformer(tag='/home/heinrich/Development/webis/trec-system-runs/trec28/deep/input.TUW19-p3-re.gz')), Scalar('10')), RankCutoffTransformer(ComposedPipeline(SourceTransformer(), TaggedTransformer(tag='/home/heinrich/Development/webis/trec-system-runs/trec28/deep/input.TUW19-p1-re.gz')), Scalar('10')), RankCutoffTransformer(ComposedPipeline(SourceTransformer(), TaggedTransformer(tag='/home/heinrich/Development/webis/trec-system-runs/trec28/deep/input.runid4.gz')), Scalar('10')), RankCutoffTransformer(ComposedPipeline(SourceTransformer(), TaggedTransformer(tag='/home/heinrich/Development/webis/trec-system-runs/trec28/deep/input.UNH_exDL_bm25.gz')), Scalar('10')), RankCutoffTransformer(ComposedPipeline(SourceTransformer(), TaggedTransformer(tag='/home/heinrich/Development/webis/trec-system-runs/trec28/deep/input.idst_bert_p3.gz')), Scalar('10')), RankCutoffTransformer(ComposedPipeline(SourceTransformer(), TaggedTransformer(tag='/home/heinrich/Development/webis/trec-system-runs/trec28/deep/input.ICT-CKNRM_B.gz')), Scalar('10')), RankCutoffTransformer(ComposedPipeline(SourceTransformer(), TaggedTransformer(tag='/home/heinrich/Development/webis/trec-system-runs/trec28/deep/input.bm25base_rm3_p.gz')), Scalar('10')), RankCutoffTransformer(ComposedPipeline(SourceTransformer(), TaggedTransformer(tag='/home/heinrich/Development/webis/trec-system-runs/trec28/deep/input.TUW19-p2-re.gz')), Scalar('10')), RankCutoffTransformer(ComposedPipeline(SourceTransformer(), TaggedTransformer(tag='/home/heinrich/Development/webis/trec-system-runs/trec28/deep/input.bm25base_prf_p.gz')), Scalar('10')), RankCutoffTransformer(ComposedPipeline(SourceTransformer(), TaggedTransformer(tag='/home/heinrich/Development/webis/trec-system-runs/trec28/deep/input.srchvrs_ps_run2.gz')), Scalar('10')), RankCutoffTransformer(ComposedPipeline(SourceTransformer(), TaggedTransformer(tag='/home/heinrich/Development/webis/trec-system-runs/trec28/deep/input.srchvrs_ps_run3.gz')), Scalar('10')), RankCutoffTransformer(ComposedPipeline(SourceTransformer(), TaggedTransformer(tag='/home/heinrich/Development/webis/trec-system-runs/trec28/deep/input.bm25base_ax_p.gz')), Scalar('10')), RankCutoffTransformer(ComposedPipeline(SourceTransformer(), TaggedTransformer(tag='/home/heinrich/Development/webis/trec-system-runs/trec28/deep/input.idst_bert_pr1.gz')), Scalar('10')), RankCutoffTransformer(ComposedPipeline(SourceTransformer(), TaggedTransformer(tag='/home/heinrich/Development/webis/trec-system-runs/trec28/deep/input.bm25base_p.gz')), Scalar('10')), RankCutoffTransformer(ComposedPipeline(SourceTransformer(), TaggedTransformer(tag='/home/heinrich/Development/webis/trec-system-runs/trec28/deep/input.idst_bert_p2.gz')), Scalar('10')), RankCutoffTransformer(ComposedPipeline(SourceTransformer(), TaggedTransformer(tag='/home/heinrich/Development/webis/trec-system-runs/trec28/deep/input.UNH_bm25.gz')), Scalar('10')), RankCutoffTransformer(ComposedPipeline(SourceTransformer(), TaggedTransformer(tag='/home/heinrich/Development/webis/trec-system-runs/trec28/deep/input.runid2.gz')), Scalar('10'))], topics=         qid                                              query\n0    1108939                  what slows down the flow of blood\n1    1112389             what is the county for grand rapids mn\n2     792752                                     what is ruclip\n3    1119729  what do you do when you have a nosebleed from ...\n4    1105095                  where is sugar lake lodge located\n..       ...                                                ...\n195   146187  difference between a mcdouble and a double che...\n196   634428                            what does chs stand for\n197  1121986     what are the effects of having low blood sugar\n198   321441                 how much is a us postal stamp cost\n199   532603                   university of dubuque enrollment\n\n[200 rows x 2 columns], qrels=          qid    docno  label iteration\n0       19335  1017759      0        Q0\n1       19335  1082489      0        Q0\n2       19335   109063      0        Q0\n3       19335  1160863      0        Q0\n4       19335  1160871      0        Q0\n...       ...      ...    ...       ...\n9255  1133167  8839920      2        Q0\n9256  1133167  8839922      2        Q0\n9257  1133167   944810      0        Q0\n9258  1133167   949411      0        Q0\n9259  1133167   977421      0        Q0\n\n[9260 rows x 4 columns], index=PosixPath('data/indices/msmarco-passage/trec-dl-2019'), axioms=[TFC1(), LNC1()], filter_by_topics=True, filter_by_qrels=True, dataset=Dataset(id='msmarco-passage/trec-dl-2019', provides=['docs', 'queries', 'qrels', 'scoreddocs']), contents_accessor='text', tokeniser=None, cache_dir=None, verbose=True)"
     },
     "execution_count": 4,
     "metadata": {},
     "output_type": "execute_result"
    }
   ],
   "source": [
    "from ir_axioms.backend.pyterrier.experiment import AxiomaticExperiment\n",
    "from ir_axioms.axiom import TFC1, LNC1\n",
    "\n",
    "axiomatic_experiment = AxiomaticExperiment(\n",
    "    retrieval_systems=retrieval_systems,\n",
    "    topics=track.dataset.get_topics(),\n",
    "    qrels=track.dataset.get_qrels(),\n",
    "    index=track.index,\n",
    "    dataset=track.ir_dataset,\n",
    "    axioms=[TFC1(), LNC1()],\n",
    "    filter_by_qrels=True,\n",
    "    filter_by_topics=True,\n",
    "    verbose=True,\n",
    ")\n",
    "axiomatic_experiment"
   ],
   "metadata": {
    "collapsed": false,
    "pycharm": {
     "name": "#%%\n"
    }
   }
  },
  {
   "cell_type": "code",
   "execution_count": 5,
   "outputs": [
    {
     "name": "stderr",
     "output_type": "stream",
     "text": [
      "AxiomaticExperiment: 100%|██████████| 37/37 [00:05<00:00,  6.69system/s]\n"
     ]
    },
    {
     "data": {
      "text/plain": "         qid  docno_a  rank_a   score_a             name  \\\n0     156493  2259183       1  6.572989  srchvrs_ps_run1   \n1     156493  2259183       1  6.572989  srchvrs_ps_run1   \n2     156493  2259183       1  6.572989  srchvrs_ps_run1   \n3     156493  2259183       1  6.572989  srchvrs_ps_run1   \n4     156493  2259183       1  6.572989  srchvrs_ps_run1   \n...      ...      ...     ...       ...              ...   \n3422  146187  1230566       9  0.427014           runid2   \n3423  146187  1230566       9  0.427014           runid2   \n3424  146187  1230566       9  0.427014           runid2   \n3425  146187  1230566       9  0.427014           runid2   \n3426  146187  1230566       9  0.427014           runid2   \n\n                                                  query  docno_b  rank_b  \\\n0                                      do goldfish grow  2259183       1   \n1                                      do goldfish grow  3288597       2   \n2                                      do goldfish grow  3288601       3   \n3                                      do goldfish grow  3288596       4   \n4                                      do goldfish grow  3288600       5   \n...                                                 ...      ...     ...   \n3422  difference between a mcdouble and a double che...  6430258       5   \n3423  difference between a mcdouble and a double che...  6658185       6   \n3424  difference between a mcdouble and a double che...  7096817       7   \n3425  difference between a mcdouble and a double che...  1138801       8   \n3426  difference between a mcdouble and a double che...  1230566       9   \n\n       score_b  original_preference  oracle_preference  TFC1_preference  \\\n0     6.572989                    0                  0                0   \n1     6.525999                    1                  0                0   \n2     6.517504                    1                  0                0   \n3     6.508273                    1                  0                0   \n4     6.508273                    1                  0                0   \n...        ...                  ...                ...              ...   \n3422  0.430223                   -1                  0               -1   \n3423  0.428952                   -1                  1                0   \n3424  0.427588                   -1                  1                0   \n3425  0.427014                   -1                  1                0   \n3426  0.427014                    0                  0                0   \n\n      LNC1_preference  \n0                   0  \n1                   0  \n2                   0  \n3                  -1  \n4                   0  \n...               ...  \n3422                0  \n3423                0  \n3424                0  \n3425                0  \n3426                0  \n\n[132932 rows x 13 columns]",
      "text/html": "<div>\n<style scoped>\n    .dataframe tbody tr th:only-of-type {\n        vertical-align: middle;\n    }\n\n    .dataframe tbody tr th {\n        vertical-align: top;\n    }\n\n    .dataframe thead th {\n        text-align: right;\n    }\n</style>\n<table border=\"1\" class=\"dataframe\">\n  <thead>\n    <tr style=\"text-align: right;\">\n      <th></th>\n      <th>qid</th>\n      <th>docno_a</th>\n      <th>rank_a</th>\n      <th>score_a</th>\n      <th>name</th>\n      <th>query</th>\n      <th>docno_b</th>\n      <th>rank_b</th>\n      <th>score_b</th>\n      <th>original_preference</th>\n      <th>oracle_preference</th>\n      <th>TFC1_preference</th>\n      <th>LNC1_preference</th>\n    </tr>\n  </thead>\n  <tbody>\n    <tr>\n      <th>0</th>\n      <td>156493</td>\n      <td>2259183</td>\n      <td>1</td>\n      <td>6.572989</td>\n      <td>srchvrs_ps_run1</td>\n      <td>do goldfish grow</td>\n      <td>2259183</td>\n      <td>1</td>\n      <td>6.572989</td>\n      <td>0</td>\n      <td>0</td>\n      <td>0</td>\n      <td>0</td>\n    </tr>\n    <tr>\n      <th>1</th>\n      <td>156493</td>\n      <td>2259183</td>\n      <td>1</td>\n      <td>6.572989</td>\n      <td>srchvrs_ps_run1</td>\n      <td>do goldfish grow</td>\n      <td>3288597</td>\n      <td>2</td>\n      <td>6.525999</td>\n      <td>1</td>\n      <td>0</td>\n      <td>0</td>\n      <td>0</td>\n    </tr>\n    <tr>\n      <th>2</th>\n      <td>156493</td>\n      <td>2259183</td>\n      <td>1</td>\n      <td>6.572989</td>\n      <td>srchvrs_ps_run1</td>\n      <td>do goldfish grow</td>\n      <td>3288601</td>\n      <td>3</td>\n      <td>6.517504</td>\n      <td>1</td>\n      <td>0</td>\n      <td>0</td>\n      <td>0</td>\n    </tr>\n    <tr>\n      <th>3</th>\n      <td>156493</td>\n      <td>2259183</td>\n      <td>1</td>\n      <td>6.572989</td>\n      <td>srchvrs_ps_run1</td>\n      <td>do goldfish grow</td>\n      <td>3288596</td>\n      <td>4</td>\n      <td>6.508273</td>\n      <td>1</td>\n      <td>0</td>\n      <td>0</td>\n      <td>-1</td>\n    </tr>\n    <tr>\n      <th>4</th>\n      <td>156493</td>\n      <td>2259183</td>\n      <td>1</td>\n      <td>6.572989</td>\n      <td>srchvrs_ps_run1</td>\n      <td>do goldfish grow</td>\n      <td>3288600</td>\n      <td>5</td>\n      <td>6.508273</td>\n      <td>1</td>\n      <td>0</td>\n      <td>0</td>\n      <td>0</td>\n    </tr>\n    <tr>\n      <th>...</th>\n      <td>...</td>\n      <td>...</td>\n      <td>...</td>\n      <td>...</td>\n      <td>...</td>\n      <td>...</td>\n      <td>...</td>\n      <td>...</td>\n      <td>...</td>\n      <td>...</td>\n      <td>...</td>\n      <td>...</td>\n      <td>...</td>\n    </tr>\n    <tr>\n      <th>3422</th>\n      <td>146187</td>\n      <td>1230566</td>\n      <td>9</td>\n      <td>0.427014</td>\n      <td>runid2</td>\n      <td>difference between a mcdouble and a double che...</td>\n      <td>6430258</td>\n      <td>5</td>\n      <td>0.430223</td>\n      <td>-1</td>\n      <td>0</td>\n      <td>-1</td>\n      <td>0</td>\n    </tr>\n    <tr>\n      <th>3423</th>\n      <td>146187</td>\n      <td>1230566</td>\n      <td>9</td>\n      <td>0.427014</td>\n      <td>runid2</td>\n      <td>difference between a mcdouble and a double che...</td>\n      <td>6658185</td>\n      <td>6</td>\n      <td>0.428952</td>\n      <td>-1</td>\n      <td>1</td>\n      <td>0</td>\n      <td>0</td>\n    </tr>\n    <tr>\n      <th>3424</th>\n      <td>146187</td>\n      <td>1230566</td>\n      <td>9</td>\n      <td>0.427014</td>\n      <td>runid2</td>\n      <td>difference between a mcdouble and a double che...</td>\n      <td>7096817</td>\n      <td>7</td>\n      <td>0.427588</td>\n      <td>-1</td>\n      <td>1</td>\n      <td>0</td>\n      <td>0</td>\n    </tr>\n    <tr>\n      <th>3425</th>\n      <td>146187</td>\n      <td>1230566</td>\n      <td>9</td>\n      <td>0.427014</td>\n      <td>runid2</td>\n      <td>difference between a mcdouble and a double che...</td>\n      <td>1138801</td>\n      <td>8</td>\n      <td>0.427014</td>\n      <td>-1</td>\n      <td>1</td>\n      <td>0</td>\n      <td>0</td>\n    </tr>\n    <tr>\n      <th>3426</th>\n      <td>146187</td>\n      <td>1230566</td>\n      <td>9</td>\n      <td>0.427014</td>\n      <td>runid2</td>\n      <td>difference between a mcdouble and a double che...</td>\n      <td>1230566</td>\n      <td>9</td>\n      <td>0.427014</td>\n      <td>0</td>\n      <td>0</td>\n      <td>0</td>\n      <td>0</td>\n    </tr>\n  </tbody>\n</table>\n<p>132932 rows × 13 columns</p>\n</div>"
     },
     "execution_count": 5,
     "metadata": {},
     "output_type": "execute_result"
    }
   ],
   "source": [
    "preferences = axiomatic_experiment.preferences\n",
    "preferences"
   ],
   "metadata": {
    "collapsed": false,
    "pycharm": {
     "name": "#%%\n"
    }
   }
  },
  {
   "cell_type": "code",
   "execution_count": 6,
   "outputs": [
    {
     "data": {
      "text/plain": "         qid  docno_a  rank_a   score_a             name  \\\n0     156493  2259183       1  6.572989  srchvrs_ps_run1   \n1     156493  2259183       1  6.572989  srchvrs_ps_run1   \n2     156493  2259183       1  6.572989  srchvrs_ps_run1   \n3     156493  2259183       1  6.572989  srchvrs_ps_run1   \n4     156493  2259183       1  6.572989  srchvrs_ps_run1   \n...      ...      ...     ...       ...              ...   \n3422  146187  1230566       9  0.427014           runid2   \n3423  146187  1230566       9  0.427014           runid2   \n3424  146187  1230566       9  0.427014           runid2   \n3425  146187  1230566       9  0.427014           runid2   \n3426  146187  1230566       9  0.427014           runid2   \n\n                                                  query  docno_b  rank_b  \\\n0                                      do goldfish grow  2259183       1   \n1                                      do goldfish grow  3288597       2   \n2                                      do goldfish grow  3288601       3   \n3                                      do goldfish grow  3288596       4   \n4                                      do goldfish grow  3288600       5   \n...                                                 ...      ...     ...   \n3422  difference between a mcdouble and a double che...  6430258       5   \n3423  difference between a mcdouble and a double che...  6658185       6   \n3424  difference between a mcdouble and a double che...  7096817       7   \n3425  difference between a mcdouble and a double che...  1138801       8   \n3426  difference between a mcdouble and a double che...  1230566       9   \n\n       score_b  original_preference  oracle_preference  TFC1_preference  \\\n0     6.572989                    0                  0                0   \n1     6.525999                    1                  0                0   \n2     6.517504                    1                  0                0   \n3     6.508273                    1                  0                0   \n4     6.508273                    1                  0                0   \n...        ...                  ...                ...              ...   \n3422  0.430223                   -1                  0               -1   \n3423  0.428952                   -1                  1                0   \n3424  0.427588                   -1                  1                0   \n3425  0.427014                   -1                  1                0   \n3426  0.427014                    0                  0                0   \n\n      LNC1_preference  \n0                   0  \n1                   0  \n2                   0  \n3                  -1  \n4                   0  \n...               ...  \n3422                0  \n3423                0  \n3424                0  \n3425                0  \n3426                0  \n\n[132932 rows x 13 columns]",
      "text/html": "<div>\n<style scoped>\n    .dataframe tbody tr th:only-of-type {\n        vertical-align: middle;\n    }\n\n    .dataframe tbody tr th {\n        vertical-align: top;\n    }\n\n    .dataframe thead th {\n        text-align: right;\n    }\n</style>\n<table border=\"1\" class=\"dataframe\">\n  <thead>\n    <tr style=\"text-align: right;\">\n      <th></th>\n      <th>qid</th>\n      <th>docno_a</th>\n      <th>rank_a</th>\n      <th>score_a</th>\n      <th>name</th>\n      <th>query</th>\n      <th>docno_b</th>\n      <th>rank_b</th>\n      <th>score_b</th>\n      <th>original_preference</th>\n      <th>oracle_preference</th>\n      <th>TFC1_preference</th>\n      <th>LNC1_preference</th>\n    </tr>\n  </thead>\n  <tbody>\n    <tr>\n      <th>0</th>\n      <td>156493</td>\n      <td>2259183</td>\n      <td>1</td>\n      <td>6.572989</td>\n      <td>srchvrs_ps_run1</td>\n      <td>do goldfish grow</td>\n      <td>2259183</td>\n      <td>1</td>\n      <td>6.572989</td>\n      <td>0</td>\n      <td>0</td>\n      <td>0</td>\n      <td>0</td>\n    </tr>\n    <tr>\n      <th>1</th>\n      <td>156493</td>\n      <td>2259183</td>\n      <td>1</td>\n      <td>6.572989</td>\n      <td>srchvrs_ps_run1</td>\n      <td>do goldfish grow</td>\n      <td>3288597</td>\n      <td>2</td>\n      <td>6.525999</td>\n      <td>1</td>\n      <td>0</td>\n      <td>0</td>\n      <td>0</td>\n    </tr>\n    <tr>\n      <th>2</th>\n      <td>156493</td>\n      <td>2259183</td>\n      <td>1</td>\n      <td>6.572989</td>\n      <td>srchvrs_ps_run1</td>\n      <td>do goldfish grow</td>\n      <td>3288601</td>\n      <td>3</td>\n      <td>6.517504</td>\n      <td>1</td>\n      <td>0</td>\n      <td>0</td>\n      <td>0</td>\n    </tr>\n    <tr>\n      <th>3</th>\n      <td>156493</td>\n      <td>2259183</td>\n      <td>1</td>\n      <td>6.572989</td>\n      <td>srchvrs_ps_run1</td>\n      <td>do goldfish grow</td>\n      <td>3288596</td>\n      <td>4</td>\n      <td>6.508273</td>\n      <td>1</td>\n      <td>0</td>\n      <td>0</td>\n      <td>-1</td>\n    </tr>\n    <tr>\n      <th>4</th>\n      <td>156493</td>\n      <td>2259183</td>\n      <td>1</td>\n      <td>6.572989</td>\n      <td>srchvrs_ps_run1</td>\n      <td>do goldfish grow</td>\n      <td>3288600</td>\n      <td>5</td>\n      <td>6.508273</td>\n      <td>1</td>\n      <td>0</td>\n      <td>0</td>\n      <td>0</td>\n    </tr>\n    <tr>\n      <th>...</th>\n      <td>...</td>\n      <td>...</td>\n      <td>...</td>\n      <td>...</td>\n      <td>...</td>\n      <td>...</td>\n      <td>...</td>\n      <td>...</td>\n      <td>...</td>\n      <td>...</td>\n      <td>...</td>\n      <td>...</td>\n      <td>...</td>\n    </tr>\n    <tr>\n      <th>3422</th>\n      <td>146187</td>\n      <td>1230566</td>\n      <td>9</td>\n      <td>0.427014</td>\n      <td>runid2</td>\n      <td>difference between a mcdouble and a double che...</td>\n      <td>6430258</td>\n      <td>5</td>\n      <td>0.430223</td>\n      <td>-1</td>\n      <td>0</td>\n      <td>-1</td>\n      <td>0</td>\n    </tr>\n    <tr>\n      <th>3423</th>\n      <td>146187</td>\n      <td>1230566</td>\n      <td>9</td>\n      <td>0.427014</td>\n      <td>runid2</td>\n      <td>difference between a mcdouble and a double che...</td>\n      <td>6658185</td>\n      <td>6</td>\n      <td>0.428952</td>\n      <td>-1</td>\n      <td>1</td>\n      <td>0</td>\n      <td>0</td>\n    </tr>\n    <tr>\n      <th>3424</th>\n      <td>146187</td>\n      <td>1230566</td>\n      <td>9</td>\n      <td>0.427014</td>\n      <td>runid2</td>\n      <td>difference between a mcdouble and a double che...</td>\n      <td>7096817</td>\n      <td>7</td>\n      <td>0.427588</td>\n      <td>-1</td>\n      <td>1</td>\n      <td>0</td>\n      <td>0</td>\n    </tr>\n    <tr>\n      <th>3425</th>\n      <td>146187</td>\n      <td>1230566</td>\n      <td>9</td>\n      <td>0.427014</td>\n      <td>runid2</td>\n      <td>difference between a mcdouble and a double che...</td>\n      <td>1138801</td>\n      <td>8</td>\n      <td>0.427014</td>\n      <td>-1</td>\n      <td>1</td>\n      <td>0</td>\n      <td>0</td>\n    </tr>\n    <tr>\n      <th>3426</th>\n      <td>146187</td>\n      <td>1230566</td>\n      <td>9</td>\n      <td>0.427014</td>\n      <td>runid2</td>\n      <td>difference between a mcdouble and a double che...</td>\n      <td>1230566</td>\n      <td>9</td>\n      <td>0.427014</td>\n      <td>0</td>\n      <td>0</td>\n      <td>0</td>\n      <td>0</td>\n    </tr>\n  </tbody>\n</table>\n<p>132932 rows × 13 columns</p>\n</div>"
     },
     "execution_count": 6,
     "metadata": {},
     "output_type": "execute_result"
    }
   ],
   "source": [
    "# Judged preferences (should be equal to preferences if experiment was alreay filtered by qrels.)\n",
    "judged_preferences = preferences[preferences[\"oracle_preference\"].notna()]\n",
    "judged_preferences"
   ],
   "metadata": {
    "collapsed": false,
    "pycharm": {
     "name": "#%%\n"
    }
   }
  },
  {
   "cell_type": "code",
   "execution_count": 7,
   "outputs": [
    {
     "data": {
      "text/plain": "         qid  docno_a  rank_a   score_a             name  \\\n8     156493  2259183       1  6.572989  srchvrs_ps_run1   \n17    156493  3288597       2  6.525999  srchvrs_ps_run1   \n26    156493  3288601       3  6.517504  srchvrs_ps_run1   \n35    156493  3288596       4  6.508273  srchvrs_ps_run1   \n44    156493  3288600       5  6.508273  srchvrs_ps_run1   \n...      ...      ...     ...       ...              ...   \n3420  146187  1230566       9  0.427014           runid2   \n3421  146187  1230566       9  0.427014           runid2   \n3423  146187  1230566       9  0.427014           runid2   \n3424  146187  1230566       9  0.427014           runid2   \n3425  146187  1230566       9  0.427014           runid2   \n\n                                                  query  docno_b  rank_b  \\\n8                                      do goldfish grow  6139386       9   \n17                                     do goldfish grow  6139386       9   \n26                                     do goldfish grow  6139386       9   \n35                                     do goldfish grow  6139386       9   \n44                                     do goldfish grow  6139386       9   \n...                                                 ...      ...     ...   \n3420  difference between a mcdouble and a double che...  2040185       3   \n3421  difference between a mcdouble and a double che...  2257806       4   \n3423  difference between a mcdouble and a double che...  6658185       6   \n3424  difference between a mcdouble and a double che...  7096817       7   \n3425  difference between a mcdouble and a double che...  1138801       8   \n\n       score_b  original_preference  oracle_preference  TFC1_preference  \\\n8     6.399120                    1                 -1                0   \n17    6.399120                    1                 -1                0   \n26    6.399120                    1                 -1                0   \n35    6.399120                    1                 -1                0   \n44    6.399120                    1                 -1                0   \n...        ...                  ...                ...              ...   \n3420  0.430896                   -1                  1                0   \n3421  0.430273                   -1                  1                0   \n3423  0.428952                   -1                  1                0   \n3424  0.427588                   -1                  1                0   \n3425  0.427014                   -1                  1                0   \n\n      LNC1_preference  \n8                   0  \n17                  0  \n26                  0  \n35                  0  \n44                  0  \n...               ...  \n3420                0  \n3421                0  \n3423                0  \n3424                0  \n3425                0  \n\n[22432 rows x 13 columns]",
      "text/html": "<div>\n<style scoped>\n    .dataframe tbody tr th:only-of-type {\n        vertical-align: middle;\n    }\n\n    .dataframe tbody tr th {\n        vertical-align: top;\n    }\n\n    .dataframe thead th {\n        text-align: right;\n    }\n</style>\n<table border=\"1\" class=\"dataframe\">\n  <thead>\n    <tr style=\"text-align: right;\">\n      <th></th>\n      <th>qid</th>\n      <th>docno_a</th>\n      <th>rank_a</th>\n      <th>score_a</th>\n      <th>name</th>\n      <th>query</th>\n      <th>docno_b</th>\n      <th>rank_b</th>\n      <th>score_b</th>\n      <th>original_preference</th>\n      <th>oracle_preference</th>\n      <th>TFC1_preference</th>\n      <th>LNC1_preference</th>\n    </tr>\n  </thead>\n  <tbody>\n    <tr>\n      <th>8</th>\n      <td>156493</td>\n      <td>2259183</td>\n      <td>1</td>\n      <td>6.572989</td>\n      <td>srchvrs_ps_run1</td>\n      <td>do goldfish grow</td>\n      <td>6139386</td>\n      <td>9</td>\n      <td>6.399120</td>\n      <td>1</td>\n      <td>-1</td>\n      <td>0</td>\n      <td>0</td>\n    </tr>\n    <tr>\n      <th>17</th>\n      <td>156493</td>\n      <td>3288597</td>\n      <td>2</td>\n      <td>6.525999</td>\n      <td>srchvrs_ps_run1</td>\n      <td>do goldfish grow</td>\n      <td>6139386</td>\n      <td>9</td>\n      <td>6.399120</td>\n      <td>1</td>\n      <td>-1</td>\n      <td>0</td>\n      <td>0</td>\n    </tr>\n    <tr>\n      <th>26</th>\n      <td>156493</td>\n      <td>3288601</td>\n      <td>3</td>\n      <td>6.517504</td>\n      <td>srchvrs_ps_run1</td>\n      <td>do goldfish grow</td>\n      <td>6139386</td>\n      <td>9</td>\n      <td>6.399120</td>\n      <td>1</td>\n      <td>-1</td>\n      <td>0</td>\n      <td>0</td>\n    </tr>\n    <tr>\n      <th>35</th>\n      <td>156493</td>\n      <td>3288596</td>\n      <td>4</td>\n      <td>6.508273</td>\n      <td>srchvrs_ps_run1</td>\n      <td>do goldfish grow</td>\n      <td>6139386</td>\n      <td>9</td>\n      <td>6.399120</td>\n      <td>1</td>\n      <td>-1</td>\n      <td>0</td>\n      <td>0</td>\n    </tr>\n    <tr>\n      <th>44</th>\n      <td>156493</td>\n      <td>3288600</td>\n      <td>5</td>\n      <td>6.508273</td>\n      <td>srchvrs_ps_run1</td>\n      <td>do goldfish grow</td>\n      <td>6139386</td>\n      <td>9</td>\n      <td>6.399120</td>\n      <td>1</td>\n      <td>-1</td>\n      <td>0</td>\n      <td>0</td>\n    </tr>\n    <tr>\n      <th>...</th>\n      <td>...</td>\n      <td>...</td>\n      <td>...</td>\n      <td>...</td>\n      <td>...</td>\n      <td>...</td>\n      <td>...</td>\n      <td>...</td>\n      <td>...</td>\n      <td>...</td>\n      <td>...</td>\n      <td>...</td>\n      <td>...</td>\n    </tr>\n    <tr>\n      <th>3420</th>\n      <td>146187</td>\n      <td>1230566</td>\n      <td>9</td>\n      <td>0.427014</td>\n      <td>runid2</td>\n      <td>difference between a mcdouble and a double che...</td>\n      <td>2040185</td>\n      <td>3</td>\n      <td>0.430896</td>\n      <td>-1</td>\n      <td>1</td>\n      <td>0</td>\n      <td>0</td>\n    </tr>\n    <tr>\n      <th>3421</th>\n      <td>146187</td>\n      <td>1230566</td>\n      <td>9</td>\n      <td>0.427014</td>\n      <td>runid2</td>\n      <td>difference between a mcdouble and a double che...</td>\n      <td>2257806</td>\n      <td>4</td>\n      <td>0.430273</td>\n      <td>-1</td>\n      <td>1</td>\n      <td>0</td>\n      <td>0</td>\n    </tr>\n    <tr>\n      <th>3423</th>\n      <td>146187</td>\n      <td>1230566</td>\n      <td>9</td>\n      <td>0.427014</td>\n      <td>runid2</td>\n      <td>difference between a mcdouble and a double che...</td>\n      <td>6658185</td>\n      <td>6</td>\n      <td>0.428952</td>\n      <td>-1</td>\n      <td>1</td>\n      <td>0</td>\n      <td>0</td>\n    </tr>\n    <tr>\n      <th>3424</th>\n      <td>146187</td>\n      <td>1230566</td>\n      <td>9</td>\n      <td>0.427014</td>\n      <td>runid2</td>\n      <td>difference between a mcdouble and a double che...</td>\n      <td>7096817</td>\n      <td>7</td>\n      <td>0.427588</td>\n      <td>-1</td>\n      <td>1</td>\n      <td>0</td>\n      <td>0</td>\n    </tr>\n    <tr>\n      <th>3425</th>\n      <td>146187</td>\n      <td>1230566</td>\n      <td>9</td>\n      <td>0.427014</td>\n      <td>runid2</td>\n      <td>difference between a mcdouble and a double che...</td>\n      <td>1138801</td>\n      <td>8</td>\n      <td>0.427014</td>\n      <td>-1</td>\n      <td>1</td>\n      <td>0</td>\n      <td>0</td>\n    </tr>\n  </tbody>\n</table>\n<p>22432 rows × 13 columns</p>\n</div>"
     },
     "execution_count": 7,
     "metadata": {},
     "output_type": "execute_result"
    }
   ],
   "source": [
    "wrong_preferences = judged_preferences[\n",
    "    abs(judged_preferences[\"oracle_preference\"] - judged_preferences[\"original_preference\"]) >= 2\n",
    "    ]\n",
    "wrong_preferences"
   ],
   "metadata": {
    "collapsed": false,
    "pycharm": {
     "name": "#%%\n"
    }
   }
  },
  {
   "cell_type": "code",
   "execution_count": 8,
   "outputs": [
    {
     "data": {
      "text/plain": "          qid  docno_a  rank_a   score_a             name  \\\n94    1110199   398442       2  7.017928  srchvrs_ps_run1   \n112   1110199   554521       4  6.814814  srchvrs_ps_run1   \n118   1110199  5218014       5  6.803596  srchvrs_ps_run1   \n120   1110199  5218014       5  6.803596  srchvrs_ps_run1   \n246    130510  7125239       1  6.547254  srchvrs_ps_run1   \n...       ...      ...     ...       ...              ...   \n3140   182539  8757181       5  0.432632           runid2   \n3187  1113437  4981632       1  0.429929           runid2   \n3206  1113437  6021898       3  0.428806           runid2   \n3211  1113437  8128794       4  0.427766           runid2   \n3222  1113437  1066532       5  0.427582           runid2   \n\n                                       query  docno_b  rank_b   score_b  \\\n94                 what is wifi vs bluetooth  5218014       5  6.803596   \n112                what is wifi vs bluetooth  5218014       5  6.803596   \n118                what is wifi vs bluetooth   398442       2  7.017928   \n120                what is wifi vs bluetooth   554521       4  6.814814   \n246          definition declaratory judgment  1494936       4  6.341850   \n...                                      ...      ...     ...       ...   \n3140           example of monotonic function    57444       2  0.434976   \n3187  what is physical description of spruce  8128794       4  0.427766   \n3206  what is physical description of spruce  1066532       5  0.427582   \n3211  what is physical description of spruce  4981632       1  0.429929   \n3222  what is physical description of spruce  6021898       3  0.428806   \n\n      original_preference  oracle_preference  TFC1_preference  LNC1_preference  \n94                      1                 -1                1                0  \n112                     1                 -1                0               -1  \n118                    -1                  1               -1                0  \n120                    -1                  1                0                1  \n246                     1                 -1                1                0  \n...                   ...                ...              ...              ...  \n3140                   -1                  1                1                0  \n3187                    1                 -1               -1                0  \n3206                    1                 -1                1                0  \n3211                   -1                  1                1                0  \n3222                   -1                  1               -1                0  \n\n[3186 rows x 13 columns]",
      "text/html": "<div>\n<style scoped>\n    .dataframe tbody tr th:only-of-type {\n        vertical-align: middle;\n    }\n\n    .dataframe tbody tr th {\n        vertical-align: top;\n    }\n\n    .dataframe thead th {\n        text-align: right;\n    }\n</style>\n<table border=\"1\" class=\"dataframe\">\n  <thead>\n    <tr style=\"text-align: right;\">\n      <th></th>\n      <th>qid</th>\n      <th>docno_a</th>\n      <th>rank_a</th>\n      <th>score_a</th>\n      <th>name</th>\n      <th>query</th>\n      <th>docno_b</th>\n      <th>rank_b</th>\n      <th>score_b</th>\n      <th>original_preference</th>\n      <th>oracle_preference</th>\n      <th>TFC1_preference</th>\n      <th>LNC1_preference</th>\n    </tr>\n  </thead>\n  <tbody>\n    <tr>\n      <th>94</th>\n      <td>1110199</td>\n      <td>398442</td>\n      <td>2</td>\n      <td>7.017928</td>\n      <td>srchvrs_ps_run1</td>\n      <td>what is wifi vs bluetooth</td>\n      <td>5218014</td>\n      <td>5</td>\n      <td>6.803596</td>\n      <td>1</td>\n      <td>-1</td>\n      <td>1</td>\n      <td>0</td>\n    </tr>\n    <tr>\n      <th>112</th>\n      <td>1110199</td>\n      <td>554521</td>\n      <td>4</td>\n      <td>6.814814</td>\n      <td>srchvrs_ps_run1</td>\n      <td>what is wifi vs bluetooth</td>\n      <td>5218014</td>\n      <td>5</td>\n      <td>6.803596</td>\n      <td>1</td>\n      <td>-1</td>\n      <td>0</td>\n      <td>-1</td>\n    </tr>\n    <tr>\n      <th>118</th>\n      <td>1110199</td>\n      <td>5218014</td>\n      <td>5</td>\n      <td>6.803596</td>\n      <td>srchvrs_ps_run1</td>\n      <td>what is wifi vs bluetooth</td>\n      <td>398442</td>\n      <td>2</td>\n      <td>7.017928</td>\n      <td>-1</td>\n      <td>1</td>\n      <td>-1</td>\n      <td>0</td>\n    </tr>\n    <tr>\n      <th>120</th>\n      <td>1110199</td>\n      <td>5218014</td>\n      <td>5</td>\n      <td>6.803596</td>\n      <td>srchvrs_ps_run1</td>\n      <td>what is wifi vs bluetooth</td>\n      <td>554521</td>\n      <td>4</td>\n      <td>6.814814</td>\n      <td>-1</td>\n      <td>1</td>\n      <td>0</td>\n      <td>1</td>\n    </tr>\n    <tr>\n      <th>246</th>\n      <td>130510</td>\n      <td>7125239</td>\n      <td>1</td>\n      <td>6.547254</td>\n      <td>srchvrs_ps_run1</td>\n      <td>definition declaratory judgment</td>\n      <td>1494936</td>\n      <td>4</td>\n      <td>6.341850</td>\n      <td>1</td>\n      <td>-1</td>\n      <td>1</td>\n      <td>0</td>\n    </tr>\n    <tr>\n      <th>...</th>\n      <td>...</td>\n      <td>...</td>\n      <td>...</td>\n      <td>...</td>\n      <td>...</td>\n      <td>...</td>\n      <td>...</td>\n      <td>...</td>\n      <td>...</td>\n      <td>...</td>\n      <td>...</td>\n      <td>...</td>\n      <td>...</td>\n    </tr>\n    <tr>\n      <th>3140</th>\n      <td>182539</td>\n      <td>8757181</td>\n      <td>5</td>\n      <td>0.432632</td>\n      <td>runid2</td>\n      <td>example of monotonic function</td>\n      <td>57444</td>\n      <td>2</td>\n      <td>0.434976</td>\n      <td>-1</td>\n      <td>1</td>\n      <td>1</td>\n      <td>0</td>\n    </tr>\n    <tr>\n      <th>3187</th>\n      <td>1113437</td>\n      <td>4981632</td>\n      <td>1</td>\n      <td>0.429929</td>\n      <td>runid2</td>\n      <td>what is physical description of spruce</td>\n      <td>8128794</td>\n      <td>4</td>\n      <td>0.427766</td>\n      <td>1</td>\n      <td>-1</td>\n      <td>-1</td>\n      <td>0</td>\n    </tr>\n    <tr>\n      <th>3206</th>\n      <td>1113437</td>\n      <td>6021898</td>\n      <td>3</td>\n      <td>0.428806</td>\n      <td>runid2</td>\n      <td>what is physical description of spruce</td>\n      <td>1066532</td>\n      <td>5</td>\n      <td>0.427582</td>\n      <td>1</td>\n      <td>-1</td>\n      <td>1</td>\n      <td>0</td>\n    </tr>\n    <tr>\n      <th>3211</th>\n      <td>1113437</td>\n      <td>8128794</td>\n      <td>4</td>\n      <td>0.427766</td>\n      <td>runid2</td>\n      <td>what is physical description of spruce</td>\n      <td>4981632</td>\n      <td>1</td>\n      <td>0.429929</td>\n      <td>-1</td>\n      <td>1</td>\n      <td>1</td>\n      <td>0</td>\n    </tr>\n    <tr>\n      <th>3222</th>\n      <td>1113437</td>\n      <td>1066532</td>\n      <td>5</td>\n      <td>0.427582</td>\n      <td>runid2</td>\n      <td>what is physical description of spruce</td>\n      <td>6021898</td>\n      <td>3</td>\n      <td>0.428806</td>\n      <td>-1</td>\n      <td>1</td>\n      <td>-1</td>\n      <td>0</td>\n    </tr>\n  </tbody>\n</table>\n<p>3186 rows × 13 columns</p>\n</div>"
     },
     "execution_count": 8,
     "metadata": {},
     "output_type": "execute_result"
    }
   ],
   "source": [
    "wrong_preferences_with_axiom_hints = wrong_preferences[\n",
    "    (wrong_preferences[\"TFC1_preference\"] != 0) | (wrong_preferences[\"LNC1_preference\"] != 0)\n",
    "    ]\n",
    "wrong_preferences_with_axiom_hints"
   ],
   "metadata": {
    "collapsed": false,
    "pycharm": {
     "name": "#%%\n"
    }
   }
  },
  {
   "cell_type": "code",
   "execution_count": 9,
   "outputs": [
    {
     "data": {
      "text/plain": "         wrong_preferences\nqid                       \n47923                 1040\n405717                1006\n207786                 874\n451602                 840\n359349                 820\n148538                 818\n490595                 784\n1113437                748\n1129237                746\n573724                 692\n1114819                670\n146187                 670\n87452                  618\n527433                 614\n1037798                590\n182539                 564\n130510                 558\n1103812                558\n1114646                546\n1115776                538\n1110199                518\n1112341                514\n183378                 504\n264014                 502\n87181                  502\n1106007                476\n489204                 464\n1133167                462\n915593                 442\n833860                 436\n19335                  434\n1121709                426\n1124210                382\n443396                 332\n1117099                268\n168216                 246\n1121402                232\n962179                 226\n156493                 216\n1063750                208\n104861                 138\n131843                 138\n855410                  72",
      "text/html": "<div>\n<style scoped>\n    .dataframe tbody tr th:only-of-type {\n        vertical-align: middle;\n    }\n\n    .dataframe tbody tr th {\n        vertical-align: top;\n    }\n\n    .dataframe thead th {\n        text-align: right;\n    }\n</style>\n<table border=\"1\" class=\"dataframe\">\n  <thead>\n    <tr style=\"text-align: right;\">\n      <th></th>\n      <th>wrong_preferences</th>\n    </tr>\n    <tr>\n      <th>qid</th>\n      <th></th>\n    </tr>\n  </thead>\n  <tbody>\n    <tr>\n      <th>47923</th>\n      <td>1040</td>\n    </tr>\n    <tr>\n      <th>405717</th>\n      <td>1006</td>\n    </tr>\n    <tr>\n      <th>207786</th>\n      <td>874</td>\n    </tr>\n    <tr>\n      <th>451602</th>\n      <td>840</td>\n    </tr>\n    <tr>\n      <th>359349</th>\n      <td>820</td>\n    </tr>\n    <tr>\n      <th>148538</th>\n      <td>818</td>\n    </tr>\n    <tr>\n      <th>490595</th>\n      <td>784</td>\n    </tr>\n    <tr>\n      <th>1113437</th>\n      <td>748</td>\n    </tr>\n    <tr>\n      <th>1129237</th>\n      <td>746</td>\n    </tr>\n    <tr>\n      <th>573724</th>\n      <td>692</td>\n    </tr>\n    <tr>\n      <th>1114819</th>\n      <td>670</td>\n    </tr>\n    <tr>\n      <th>146187</th>\n      <td>670</td>\n    </tr>\n    <tr>\n      <th>87452</th>\n      <td>618</td>\n    </tr>\n    <tr>\n      <th>527433</th>\n      <td>614</td>\n    </tr>\n    <tr>\n      <th>1037798</th>\n      <td>590</td>\n    </tr>\n    <tr>\n      <th>182539</th>\n      <td>564</td>\n    </tr>\n    <tr>\n      <th>130510</th>\n      <td>558</td>\n    </tr>\n    <tr>\n      <th>1103812</th>\n      <td>558</td>\n    </tr>\n    <tr>\n      <th>1114646</th>\n      <td>546</td>\n    </tr>\n    <tr>\n      <th>1115776</th>\n      <td>538</td>\n    </tr>\n    <tr>\n      <th>1110199</th>\n      <td>518</td>\n    </tr>\n    <tr>\n      <th>1112341</th>\n      <td>514</td>\n    </tr>\n    <tr>\n      <th>183378</th>\n      <td>504</td>\n    </tr>\n    <tr>\n      <th>264014</th>\n      <td>502</td>\n    </tr>\n    <tr>\n      <th>87181</th>\n      <td>502</td>\n    </tr>\n    <tr>\n      <th>1106007</th>\n      <td>476</td>\n    </tr>\n    <tr>\n      <th>489204</th>\n      <td>464</td>\n    </tr>\n    <tr>\n      <th>1133167</th>\n      <td>462</td>\n    </tr>\n    <tr>\n      <th>915593</th>\n      <td>442</td>\n    </tr>\n    <tr>\n      <th>833860</th>\n      <td>436</td>\n    </tr>\n    <tr>\n      <th>19335</th>\n      <td>434</td>\n    </tr>\n    <tr>\n      <th>1121709</th>\n      <td>426</td>\n    </tr>\n    <tr>\n      <th>1124210</th>\n      <td>382</td>\n    </tr>\n    <tr>\n      <th>443396</th>\n      <td>332</td>\n    </tr>\n    <tr>\n      <th>1117099</th>\n      <td>268</td>\n    </tr>\n    <tr>\n      <th>168216</th>\n      <td>246</td>\n    </tr>\n    <tr>\n      <th>1121402</th>\n      <td>232</td>\n    </tr>\n    <tr>\n      <th>962179</th>\n      <td>226</td>\n    </tr>\n    <tr>\n      <th>156493</th>\n      <td>216</td>\n    </tr>\n    <tr>\n      <th>1063750</th>\n      <td>208</td>\n    </tr>\n    <tr>\n      <th>104861</th>\n      <td>138</td>\n    </tr>\n    <tr>\n      <th>131843</th>\n      <td>138</td>\n    </tr>\n    <tr>\n      <th>855410</th>\n      <td>72</td>\n    </tr>\n  </tbody>\n</table>\n</div>"
     },
     "execution_count": 9,
     "metadata": {},
     "output_type": "execute_result"
    }
   ],
   "source": [
    "wrong_preferences_per_query = wrong_preferences.groupby([\"qid\"]).aggregate(wrong_preferences=(\"original_preference\", \"count\"))\n",
    "wrong_preferences_per_query.sort_values(by=\"wrong_preferences\", ascending=False, inplace=True)\n",
    "wrong_preferences_per_query"
   ],
   "metadata": {
    "collapsed": false,
    "pycharm": {
     "name": "#%%\n"
    }
   }
  },
  {
   "cell_type": "code",
   "execution_count": 10,
   "outputs": [
    {
     "data": {
      "text/plain": "                 wrong_preferences\nname                              \nsrchvrs_ps_run1                792\nTUW19-p3-f                     770\nTUW19-p1-f                     748\nTUW19-p2-f                     744\nTUW19-p3-re                    726\nTUW19-p2-re                    726\nTUW19-p1-re                    706\nUNH_bm25                       706\nsrchvrs_ps_run3                702\nsrchvrs_ps_run2                698\nICT-CKNRM_B50                  648\nbm25base_p                     636\ntest1                          636\np_bert                         630\nTUA1-1                         624\np_exp_bert                     620\nbm25tuned_p                    614\nms_duet_passage                612\nbm25base_rm3_p                 612\nICT-CKNRM_B                    612\nbm25tuned_ax_p                 610\np_exp_rm3_bert                 596\nidst_bert_p2                   570\nidst_bert_p1                   560\nrunid3                         560\nbm25base_prf_p                 558\nrunid4                         554\nbm25tuned_rm3_p                552\nrunid5                         550\nrunid2                         548\nbm25tuned_prf_p                540\nbm25base_ax_p                  530\nidst_bert_p3                   528\nidst_bert_pr1                  524\nidst_bert_pr2                  484\nICT-BERT2                      430\nUNH_exDL_bm25                  176",
      "text/html": "<div>\n<style scoped>\n    .dataframe tbody tr th:only-of-type {\n        vertical-align: middle;\n    }\n\n    .dataframe tbody tr th {\n        vertical-align: top;\n    }\n\n    .dataframe thead th {\n        text-align: right;\n    }\n</style>\n<table border=\"1\" class=\"dataframe\">\n  <thead>\n    <tr style=\"text-align: right;\">\n      <th></th>\n      <th>wrong_preferences</th>\n    </tr>\n    <tr>\n      <th>name</th>\n      <th></th>\n    </tr>\n  </thead>\n  <tbody>\n    <tr>\n      <th>srchvrs_ps_run1</th>\n      <td>792</td>\n    </tr>\n    <tr>\n      <th>TUW19-p3-f</th>\n      <td>770</td>\n    </tr>\n    <tr>\n      <th>TUW19-p1-f</th>\n      <td>748</td>\n    </tr>\n    <tr>\n      <th>TUW19-p2-f</th>\n      <td>744</td>\n    </tr>\n    <tr>\n      <th>TUW19-p3-re</th>\n      <td>726</td>\n    </tr>\n    <tr>\n      <th>TUW19-p2-re</th>\n      <td>726</td>\n    </tr>\n    <tr>\n      <th>TUW19-p1-re</th>\n      <td>706</td>\n    </tr>\n    <tr>\n      <th>UNH_bm25</th>\n      <td>706</td>\n    </tr>\n    <tr>\n      <th>srchvrs_ps_run3</th>\n      <td>702</td>\n    </tr>\n    <tr>\n      <th>srchvrs_ps_run2</th>\n      <td>698</td>\n    </tr>\n    <tr>\n      <th>ICT-CKNRM_B50</th>\n      <td>648</td>\n    </tr>\n    <tr>\n      <th>bm25base_p</th>\n      <td>636</td>\n    </tr>\n    <tr>\n      <th>test1</th>\n      <td>636</td>\n    </tr>\n    <tr>\n      <th>p_bert</th>\n      <td>630</td>\n    </tr>\n    <tr>\n      <th>TUA1-1</th>\n      <td>624</td>\n    </tr>\n    <tr>\n      <th>p_exp_bert</th>\n      <td>620</td>\n    </tr>\n    <tr>\n      <th>bm25tuned_p</th>\n      <td>614</td>\n    </tr>\n    <tr>\n      <th>ms_duet_passage</th>\n      <td>612</td>\n    </tr>\n    <tr>\n      <th>bm25base_rm3_p</th>\n      <td>612</td>\n    </tr>\n    <tr>\n      <th>ICT-CKNRM_B</th>\n      <td>612</td>\n    </tr>\n    <tr>\n      <th>bm25tuned_ax_p</th>\n      <td>610</td>\n    </tr>\n    <tr>\n      <th>p_exp_rm3_bert</th>\n      <td>596</td>\n    </tr>\n    <tr>\n      <th>idst_bert_p2</th>\n      <td>570</td>\n    </tr>\n    <tr>\n      <th>idst_bert_p1</th>\n      <td>560</td>\n    </tr>\n    <tr>\n      <th>runid3</th>\n      <td>560</td>\n    </tr>\n    <tr>\n      <th>bm25base_prf_p</th>\n      <td>558</td>\n    </tr>\n    <tr>\n      <th>runid4</th>\n      <td>554</td>\n    </tr>\n    <tr>\n      <th>bm25tuned_rm3_p</th>\n      <td>552</td>\n    </tr>\n    <tr>\n      <th>runid5</th>\n      <td>550</td>\n    </tr>\n    <tr>\n      <th>runid2</th>\n      <td>548</td>\n    </tr>\n    <tr>\n      <th>bm25tuned_prf_p</th>\n      <td>540</td>\n    </tr>\n    <tr>\n      <th>bm25base_ax_p</th>\n      <td>530</td>\n    </tr>\n    <tr>\n      <th>idst_bert_p3</th>\n      <td>528</td>\n    </tr>\n    <tr>\n      <th>idst_bert_pr1</th>\n      <td>524</td>\n    </tr>\n    <tr>\n      <th>idst_bert_pr2</th>\n      <td>484</td>\n    </tr>\n    <tr>\n      <th>ICT-BERT2</th>\n      <td>430</td>\n    </tr>\n    <tr>\n      <th>UNH_exDL_bm25</th>\n      <td>176</td>\n    </tr>\n  </tbody>\n</table>\n</div>"
     },
     "execution_count": 10,
     "metadata": {},
     "output_type": "execute_result"
    }
   ],
   "source": [
    "wrong_preferences_per_run = wrong_preferences.groupby([\"name\"]).aggregate(wrong_preferences=(\"original_preference\", \"count\"))\n",
    "wrong_preferences_per_run.sort_values(by=\"wrong_preferences\", ascending=False, inplace=True)\n",
    "wrong_preferences_per_run"
   ],
   "metadata": {
    "collapsed": false,
    "pycharm": {
     "name": "#%%\n"
    }
   }
  }
 ],
 "metadata": {
  "kernelspec": {
   "display_name": "Python 3",
   "language": "python",
   "name": "python3"
  },
  "language_info": {
   "codemirror_mode": {
    "name": "ipython",
    "version": 2
   },
   "file_extension": ".py",
   "mimetype": "text/x-python",
   "name": "python",
   "nbconvert_exporter": "python",
   "pygments_lexer": "ipython2",
   "version": "2.7.6"
  }
 },
 "nbformat": 4,
 "nbformat_minor": 0
}