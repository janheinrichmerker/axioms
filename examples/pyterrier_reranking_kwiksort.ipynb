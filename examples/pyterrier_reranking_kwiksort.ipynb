{
 "cells": [
  {
   "cell_type": "code",
   "execution_count": 28,
   "outputs": [],
   "source": [
    "from sys import modules\n",
    "\n",
    "IN_COLAB = 'google.colab' in modules\n",
    "if IN_COLAB:\n",
    "    !pip install -q ir_axioms[examples] python-terrier"
   ],
   "metadata": {
    "collapsed": false,
    "pycharm": {
     "name": "#%%\n"
    }
   }
  },
  {
   "cell_type": "code",
   "execution_count": 29,
   "outputs": [],
   "source": [
    "# Start/initialize PyTerrier.\n",
    "from pyterrier import started, init\n",
    "\n",
    "if not started():\n",
    "    init(tqdm=\"auto\")"
   ],
   "metadata": {
    "collapsed": false,
    "pycharm": {
     "name": "#%%\n"
    }
   }
  },
  {
   "cell_type": "code",
   "execution_count": 30,
   "outputs": [],
   "source": [
    "from pyterrier.datasets import get_dataset, Dataset\n",
    "\n",
    "# Load dataset.\n",
    "dataset_name = \"antique/test\"\n",
    "dataset: Dataset = get_dataset(f\"irds:{dataset_name}\")"
   ],
   "metadata": {
    "collapsed": false,
    "pycharm": {
     "name": "#%%\n"
    }
   }
  },
  {
   "cell_type": "code",
   "execution_count": 31,
   "outputs": [],
   "source": [
    "from pathlib import Path\n",
    "from pyterrier.index import IterDictIndexer\n",
    "from ir_axioms.backend.pyterrier import IndexRef, IndexFactory\n",
    "\n",
    "# Load documents and build index.\n",
    "index_dir = Path(f\"cache/indices/{dataset_name.replace('/', '-')}\").absolute()\n",
    "index_ref: IndexRef\n",
    "if index_dir.exists():\n",
    "    index_ref = IndexRef.of(str(index_dir))\n",
    "else:\n",
    "    # Don't forget to include the 'text' field in the meta index.\n",
    "    indexer = IterDictIndexer(str(index_dir))\n",
    "    index_ref = indexer.index(dataset.get_corpus_iter(), fields=[\"text\"])\n",
    "index = IndexFactory.of(index_ref)"
   ],
   "metadata": {
    "collapsed": false,
    "pycharm": {
     "name": "#%%\n"
    }
   }
  },
  {
   "cell_type": "code",
   "execution_count": 32,
   "outputs": [],
   "source": [
    "# Load topics and qrels.\n",
    "topics = dataset.get_topics()\n",
    "qrels = dataset.get_qrels()"
   ],
   "metadata": {
    "collapsed": false,
    "pycharm": {
     "name": "#%%\n"
    }
   }
  },
  {
   "cell_type": "code",
   "execution_count": 33,
   "outputs": [
    {
     "data": {
      "text/plain": "          qid   docid       docno  rank      score  \\\n0     3990512  102622   3077638_1     0  15.887435   \n1     3990512   30676   3931664_0     1  15.621619   \n2     3990512  173781   4366141_0     2  15.395085   \n3     3990512  179429  1011598_10     3  15.134176   \n4     3990512  194913   4222212_0     4  15.134176   \n...       ...     ...         ...   ...        ...   \n9667  1340574  228996   1357684_2    47  22.565443   \n9668  1340574  352987  3604708_13    48  22.333112   \n9669  1340574  167132   603435_12    49  22.245608   \n9670  1971899  234068   1971899_6     0  28.234530   \n9671  1971899   87610   2667237_0     1  12.560643   \n\n                                                  query  \n0              how can we get concentration onsomething  \n1              how can we get concentration onsomething  \n2              how can we get concentration onsomething  \n3              how can we get concentration onsomething  \n4              how can we get concentration onsomething  \n...                                                 ...  \n9667  why do some people only go to church on easter...  \n9668  why do some people only go to church on easter...  \n9669  why do some people only go to church on easter...  \n9670                                  what is masturbat  \n9671                                  what is masturbat  \n\n[9672 rows x 6 columns]",
      "text/html": "<div>\n<style scoped>\n    .dataframe tbody tr th:only-of-type {\n        vertical-align: middle;\n    }\n\n    .dataframe tbody tr th {\n        vertical-align: top;\n    }\n\n    .dataframe thead th {\n        text-align: right;\n    }\n</style>\n<table border=\"1\" class=\"dataframe\">\n  <thead>\n    <tr style=\"text-align: right;\">\n      <th></th>\n      <th>qid</th>\n      <th>docid</th>\n      <th>docno</th>\n      <th>rank</th>\n      <th>score</th>\n      <th>query</th>\n    </tr>\n  </thead>\n  <tbody>\n    <tr>\n      <th>0</th>\n      <td>3990512</td>\n      <td>102622</td>\n      <td>3077638_1</td>\n      <td>0</td>\n      <td>15.887435</td>\n      <td>how can we get concentration onsomething</td>\n    </tr>\n    <tr>\n      <th>1</th>\n      <td>3990512</td>\n      <td>30676</td>\n      <td>3931664_0</td>\n      <td>1</td>\n      <td>15.621619</td>\n      <td>how can we get concentration onsomething</td>\n    </tr>\n    <tr>\n      <th>2</th>\n      <td>3990512</td>\n      <td>173781</td>\n      <td>4366141_0</td>\n      <td>2</td>\n      <td>15.395085</td>\n      <td>how can we get concentration onsomething</td>\n    </tr>\n    <tr>\n      <th>3</th>\n      <td>3990512</td>\n      <td>179429</td>\n      <td>1011598_10</td>\n      <td>3</td>\n      <td>15.134176</td>\n      <td>how can we get concentration onsomething</td>\n    </tr>\n    <tr>\n      <th>4</th>\n      <td>3990512</td>\n      <td>194913</td>\n      <td>4222212_0</td>\n      <td>4</td>\n      <td>15.134176</td>\n      <td>how can we get concentration onsomething</td>\n    </tr>\n    <tr>\n      <th>...</th>\n      <td>...</td>\n      <td>...</td>\n      <td>...</td>\n      <td>...</td>\n      <td>...</td>\n      <td>...</td>\n    </tr>\n    <tr>\n      <th>9667</th>\n      <td>1340574</td>\n      <td>228996</td>\n      <td>1357684_2</td>\n      <td>47</td>\n      <td>22.565443</td>\n      <td>why do some people only go to church on easter...</td>\n    </tr>\n    <tr>\n      <th>9668</th>\n      <td>1340574</td>\n      <td>352987</td>\n      <td>3604708_13</td>\n      <td>48</td>\n      <td>22.333112</td>\n      <td>why do some people only go to church on easter...</td>\n    </tr>\n    <tr>\n      <th>9669</th>\n      <td>1340574</td>\n      <td>167132</td>\n      <td>603435_12</td>\n      <td>49</td>\n      <td>22.245608</td>\n      <td>why do some people only go to church on easter...</td>\n    </tr>\n    <tr>\n      <th>9670</th>\n      <td>1971899</td>\n      <td>234068</td>\n      <td>1971899_6</td>\n      <td>0</td>\n      <td>28.234530</td>\n      <td>what is masturbat</td>\n    </tr>\n    <tr>\n      <th>9671</th>\n      <td>1971899</td>\n      <td>87610</td>\n      <td>2667237_0</td>\n      <td>1</td>\n      <td>12.560643</td>\n      <td>what is masturbat</td>\n    </tr>\n  </tbody>\n</table>\n<p>9672 rows × 6 columns</p>\n</div>"
     },
     "execution_count": 33,
     "metadata": {},
     "output_type": "execute_result"
    }
   ],
   "source": [
    "from pyterrier.batchretrieve import BatchRetrieve\n",
    "\n",
    "# BM25 baseline retrieval, cut off at 10 documents per query.\n",
    "pipeline_bm25 = BatchRetrieve(index, wmodel=\"BM25\", num_results=50)\n",
    "pipeline_bm25(topics)"
   ],
   "metadata": {
    "collapsed": false,
    "pycharm": {
     "name": "#%%\n"
    }
   }
  },
  {
   "cell_type": "code",
   "execution_count": 34,
   "outputs": [
    {
     "data": {
      "text/plain": "Reranking query axiomatically:   0%|          | 0/198 [00:00<?, ?query/s]",
      "application/vnd.jupyter.widget-view+json": {
       "version_major": 2,
       "version_minor": 0,
       "model_id": "644a92933cc5425ebe007ad791239815"
      }
     },
     "metadata": {},
     "output_type": "display_data"
    },
    {
     "data": {
      "text/plain": "           docno  rank  score      qid   docid  \\\n0      3077638_1     1     50  3990512  102622   \n1      3931664_0     2     49  3990512   30676   \n2      4366141_0     3     48  3990512  173781   \n3      2295947_1     4     47  3990512  188552   \n4     1011598_10     5     46  3990512  179429   \n...          ...   ...    ...      ...     ...   \n9667   1357684_2    48      3  1340574  228996   \n9668  3604708_13    49      2  1340574  352987   \n9669   603435_12    50      1  1340574  167132   \n9670   1971899_6     1      2  1971899  234068   \n9671   2667237_0     2      1  1971899   87610   \n\n                                                  query  \n0              how can we get concentration onsomething  \n1              how can we get concentration onsomething  \n2              how can we get concentration onsomething  \n3              how can we get concentration onsomething  \n4              how can we get concentration onsomething  \n...                                                 ...  \n9667  why do some people only go to church on easter...  \n9668  why do some people only go to church on easter...  \n9669  why do some people only go to church on easter...  \n9670                                  what is masturbat  \n9671                                  what is masturbat  \n\n[9672 rows x 6 columns]",
      "text/html": "<div>\n<style scoped>\n    .dataframe tbody tr th:only-of-type {\n        vertical-align: middle;\n    }\n\n    .dataframe tbody tr th {\n        vertical-align: top;\n    }\n\n    .dataframe thead th {\n        text-align: right;\n    }\n</style>\n<table border=\"1\" class=\"dataframe\">\n  <thead>\n    <tr style=\"text-align: right;\">\n      <th></th>\n      <th>docno</th>\n      <th>rank</th>\n      <th>score</th>\n      <th>qid</th>\n      <th>docid</th>\n      <th>query</th>\n    </tr>\n  </thead>\n  <tbody>\n    <tr>\n      <th>0</th>\n      <td>3077638_1</td>\n      <td>1</td>\n      <td>50</td>\n      <td>3990512</td>\n      <td>102622</td>\n      <td>how can we get concentration onsomething</td>\n    </tr>\n    <tr>\n      <th>1</th>\n      <td>3931664_0</td>\n      <td>2</td>\n      <td>49</td>\n      <td>3990512</td>\n      <td>30676</td>\n      <td>how can we get concentration onsomething</td>\n    </tr>\n    <tr>\n      <th>2</th>\n      <td>4366141_0</td>\n      <td>3</td>\n      <td>48</td>\n      <td>3990512</td>\n      <td>173781</td>\n      <td>how can we get concentration onsomething</td>\n    </tr>\n    <tr>\n      <th>3</th>\n      <td>2295947_1</td>\n      <td>4</td>\n      <td>47</td>\n      <td>3990512</td>\n      <td>188552</td>\n      <td>how can we get concentration onsomething</td>\n    </tr>\n    <tr>\n      <th>4</th>\n      <td>1011598_10</td>\n      <td>5</td>\n      <td>46</td>\n      <td>3990512</td>\n      <td>179429</td>\n      <td>how can we get concentration onsomething</td>\n    </tr>\n    <tr>\n      <th>...</th>\n      <td>...</td>\n      <td>...</td>\n      <td>...</td>\n      <td>...</td>\n      <td>...</td>\n      <td>...</td>\n    </tr>\n    <tr>\n      <th>9667</th>\n      <td>1357684_2</td>\n      <td>48</td>\n      <td>3</td>\n      <td>1340574</td>\n      <td>228996</td>\n      <td>why do some people only go to church on easter...</td>\n    </tr>\n    <tr>\n      <th>9668</th>\n      <td>3604708_13</td>\n      <td>49</td>\n      <td>2</td>\n      <td>1340574</td>\n      <td>352987</td>\n      <td>why do some people only go to church on easter...</td>\n    </tr>\n    <tr>\n      <th>9669</th>\n      <td>603435_12</td>\n      <td>50</td>\n      <td>1</td>\n      <td>1340574</td>\n      <td>167132</td>\n      <td>why do some people only go to church on easter...</td>\n    </tr>\n    <tr>\n      <th>9670</th>\n      <td>1971899_6</td>\n      <td>1</td>\n      <td>2</td>\n      <td>1971899</td>\n      <td>234068</td>\n      <td>what is masturbat</td>\n    </tr>\n    <tr>\n      <th>9671</th>\n      <td>2667237_0</td>\n      <td>2</td>\n      <td>1</td>\n      <td>1971899</td>\n      <td>87610</td>\n      <td>what is masturbat</td>\n    </tr>\n  </tbody>\n</table>\n<p>9672 rows × 6 columns</p>\n</div>"
     },
     "execution_count": 34,
     "metadata": {},
     "output_type": "execute_result"
    }
   ],
   "source": [
    "from ir_axioms.axiom import ORIG, ASPECT_REG_fastText, PROX1, PROX2, PROX4, STMC2\n",
    "from ir_axioms.backend.pyterrier.transformers import AxiomaticReranker\n",
    "\n",
    "# Rerank the baseline retrieval using KwikSort with preferences from the axiom above.\n",
    "pipeline_axiom = pipeline_bm25 >> AxiomaticReranker(\n",
    "    ~((ASPECT_REG_fastText() % PROX1() % PROX2() % PROX4() % STMC2()) | ORIG()),\n",
    "    index, dataset_name, cache_dir=Path(\"cache/\"), verbose=True\n",
    ")\n",
    "pipeline_axiom(topics)"
   ],
   "metadata": {
    "collapsed": false,
    "pycharm": {
     "name": "#%%\n"
    }
   }
  },
  {
   "cell_type": "code",
   "execution_count": 35,
   "outputs": [
    {
     "data": {
      "text/plain": "Reranking query axiomatically:   0%|          | 0/198 [00:00<?, ?query/s]",
      "application/vnd.jupyter.widget-view+json": {
       "version_major": 2,
       "version_minor": 0,
       "model_id": "109b2617b7584a929fde288cc952dcea"
      }
     },
     "metadata": {},
     "output_type": "display_data"
    }
   ],
   "source": [
    "from ir_measures import nDCG, MAP\n",
    "from pyterrier.pipelines import Experiment\n",
    "\n",
    "# Compare the baseline retrieval with the reranked pipeline in an experiment.\n",
    "results = Experiment(\n",
    "    [pipeline_bm25, pipeline_axiom],\n",
    "    topics,\n",
    "    qrels,\n",
    "    [nDCG @ 5, nDCG @ 10, nDCG @ 20, MAP],\n",
    "    [\"BM25\", \"BM25 + Axiomatic Reranking\"],\n",
    ")\n",
    "results.sort_values(\"nDCG@10\", ascending=False, inplace=True)"
   ],
   "metadata": {
    "collapsed": false,
    "pycharm": {
     "name": "#%%\n"
    }
   }
  },
  {
   "cell_type": "code",
   "execution_count": 36,
   "outputs": [
    {
     "data": {
      "text/plain": "                         name    nDCG@5   nDCG@10   nDCG@20        AP\n1  BM25 + Axiomatic Reranking  0.530281  0.511388  0.478413  0.396841\n0                        BM25  0.529428  0.510402  0.478976  0.399066",
      "text/html": "<div>\n<style scoped>\n    .dataframe tbody tr th:only-of-type {\n        vertical-align: middle;\n    }\n\n    .dataframe tbody tr th {\n        vertical-align: top;\n    }\n\n    .dataframe thead th {\n        text-align: right;\n    }\n</style>\n<table border=\"1\" class=\"dataframe\">\n  <thead>\n    <tr style=\"text-align: right;\">\n      <th></th>\n      <th>name</th>\n      <th>nDCG@5</th>\n      <th>nDCG@10</th>\n      <th>nDCG@20</th>\n      <th>AP</th>\n    </tr>\n  </thead>\n  <tbody>\n    <tr>\n      <th>1</th>\n      <td>BM25 + Axiomatic Reranking</td>\n      <td>0.530281</td>\n      <td>0.511388</td>\n      <td>0.478413</td>\n      <td>0.396841</td>\n    </tr>\n    <tr>\n      <th>0</th>\n      <td>BM25</td>\n      <td>0.529428</td>\n      <td>0.510402</td>\n      <td>0.478976</td>\n      <td>0.399066</td>\n    </tr>\n  </tbody>\n</table>\n</div>"
     },
     "execution_count": 36,
     "metadata": {},
     "output_type": "execute_result"
    }
   ],
   "source": [
    "results"
   ],
   "metadata": {
    "collapsed": false,
    "pycharm": {
     "name": "#%%\n"
    }
   }
  }
 ],
 "metadata": {
  "kernelspec": {
   "display_name": "Python 3",
   "language": "python",
   "name": "python3"
  },
  "language_info": {
   "codemirror_mode": {
    "name": "ipython",
    "version": 2
   },
   "file_extension": ".py",
   "mimetype": "text/x-python",
   "name": "python",
   "nbconvert_exporter": "python",
   "pygments_lexer": "ipython2",
   "version": "2.7.6"
  }
 },
 "nbformat": 4,
 "nbformat_minor": 0
}