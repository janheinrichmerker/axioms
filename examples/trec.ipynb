{
 "cells": [
  {
   "cell_type": "code",
   "execution_count": 1,
   "outputs": [],
   "source": [
    "from sys import modules\n",
    "\n",
    "IN_COLAB = 'google.colab' in modules\n",
    "if IN_COLAB:\n",
    "    !pip install -q ir_axioms python-terrier"
   ],
   "metadata": {
    "collapsed": false,
    "pycharm": {
     "name": "#%%\n"
    }
   }
  },
  {
   "cell_type": "code",
   "execution_count": 2,
   "outputs": [
    {
     "name": "stderr",
     "output_type": "stream",
     "text": [
      "PyTerrier 0.8.0 has loaded Terrier 5.6 (built by craigmacdonald on 2021-09-17 13:27)\n",
      "\n",
      "No etc/terrier.properties, using terrier.default.properties for bootstrap configuration.\n"
     ]
    }
   ],
   "source": [
    "# Start/initialize PyTerrier.\n",
    "from pyterrier import started, init\n",
    "\n",
    "if not started():\n",
    "    init(tqdm=\"notebook\")"
   ],
   "metadata": {
    "collapsed": false,
    "pycharm": {
     "name": "#%%\n"
    }
   }
  },
  {
   "cell_type": "code",
   "execution_count": 3,
   "outputs": [
    {
     "name": "stderr",
     "output_type": "stream",
     "text": [
      "Read results: 100%|██████████| 37/37 [00:17<00:00,  2.14run/s]\n"
     ]
    }
   ],
   "source": [
    "from pathlib import Path\n",
    "from typing import List\n",
    "from pyterrier import Transformer\n",
    "from examples.trec_util import TrecTrack\n",
    "\n",
    "# track = TrecTrack(28, \"deep\", \"msmarco-passage/trec-dl-2019\")\n",
    "track = TrecTrack(\n",
    "    28, \"deep\", \"msmarco-passage/trec-dl-2019\",\n",
    "    base_results_dir=Path(\"/home/heinrich/Development/webis/trec-system-runs\")\n",
    ")\n",
    "retrieval_systems: List[Transformer] = [result % 10 for result in track.results]"
   ],
   "metadata": {
    "collapsed": false,
    "pycharm": {
     "name": "#%%\n"
    }
   }
  },
  {
   "cell_type": "code",
   "execution_count": 4,
   "outputs": [
    {
     "data": {
      "text/plain": "pt.Experiment:   0%|          | 0/37 [00:00<?, ?system/s]",
      "application/vnd.jupyter.widget-view+json": {
       "version_major": 2,
       "version_minor": 0,
       "model_id": "2033acfe938e4bd9a4c874200a377423"
      }
     },
     "metadata": {},
     "output_type": "display_data"
    },
    {
     "data": {
      "text/plain": "                             name   nDCG@10\n0   RankCutoff(Transformer(), 10)  0.467633\n1   RankCutoff(Transformer(), 10)  0.638501\n2   RankCutoff(Transformer(), 10)  0.675600\n3   RankCutoff(Transformer(), 10)  0.494324\n4   RankCutoff(Transformer(), 10)  0.464744\n5   RankCutoff(Transformer(), 10)  0.715782\n6   RankCutoff(Transformer(), 10)  0.522749\n7   RankCutoff(Transformer(), 10)  0.566855\n8   RankCutoff(Transformer(), 10)  0.698716\n9   RankCutoff(Transformer(), 10)  0.585584\n10  RankCutoff(Transformer(), 10)  0.688357\n11  RankCutoff(Transformer(), 10)  0.666244\n12  RankCutoff(Transformer(), 10)  0.503907\n13  RankCutoff(Transformer(), 10)  0.529318\n14  RankCutoff(Transformer(), 10)  0.670856\n15  RankCutoff(Transformer(), 10)  0.694869\n16  RankCutoff(Transformer(), 10)  0.698296\n17  RankCutoff(Transformer(), 10)  0.703765\n18  RankCutoff(Transformer(), 10)  0.693974\n19  RankCutoff(Transformer(), 10)  0.699924\n20  RankCutoff(Transformer(), 10)  0.674575\n21  RankCutoff(Transformer(), 10)  0.674628\n22  RankCutoff(Transformer(), 10)  0.664808\n23  RankCutoff(Transformer(), 10)  0.075784\n24  RankCutoff(Transformer(), 10)  0.716163\n25  RankCutoff(Transformer(), 10)  0.620957\n26  RankCutoff(Transformer(), 10)  0.490248\n27  RankCutoff(Transformer(), 10)  0.661479\n28  RankCutoff(Transformer(), 10)  0.510992\n29  RankCutoff(Transformer(), 10)  0.635227\n30  RankCutoff(Transformer(), 10)  0.529312\n31  RankCutoff(Transformer(), 10)  0.524412\n32  RankCutoff(Transformer(), 10)  0.696790\n33  RankCutoff(Transformer(), 10)  0.481071\n34  RankCutoff(Transformer(), 10)  0.715965\n35  RankCutoff(Transformer(), 10)  0.426692\n36  RankCutoff(Transformer(), 10)  0.511827",
      "text/html": "<div>\n<style scoped>\n    .dataframe tbody tr th:only-of-type {\n        vertical-align: middle;\n    }\n\n    .dataframe tbody tr th {\n        vertical-align: top;\n    }\n\n    .dataframe thead th {\n        text-align: right;\n    }\n</style>\n<table border=\"1\" class=\"dataframe\">\n  <thead>\n    <tr style=\"text-align: right;\">\n      <th></th>\n      <th>name</th>\n      <th>nDCG@10</th>\n    </tr>\n  </thead>\n  <tbody>\n    <tr>\n      <th>0</th>\n      <td>RankCutoff(Transformer(), 10)</td>\n      <td>0.467633</td>\n    </tr>\n    <tr>\n      <th>1</th>\n      <td>RankCutoff(Transformer(), 10)</td>\n      <td>0.638501</td>\n    </tr>\n    <tr>\n      <th>2</th>\n      <td>RankCutoff(Transformer(), 10)</td>\n      <td>0.675600</td>\n    </tr>\n    <tr>\n      <th>3</th>\n      <td>RankCutoff(Transformer(), 10)</td>\n      <td>0.494324</td>\n    </tr>\n    <tr>\n      <th>4</th>\n      <td>RankCutoff(Transformer(), 10)</td>\n      <td>0.464744</td>\n    </tr>\n    <tr>\n      <th>5</th>\n      <td>RankCutoff(Transformer(), 10)</td>\n      <td>0.715782</td>\n    </tr>\n    <tr>\n      <th>6</th>\n      <td>RankCutoff(Transformer(), 10)</td>\n      <td>0.522749</td>\n    </tr>\n    <tr>\n      <th>7</th>\n      <td>RankCutoff(Transformer(), 10)</td>\n      <td>0.566855</td>\n    </tr>\n    <tr>\n      <th>8</th>\n      <td>RankCutoff(Transformer(), 10)</td>\n      <td>0.698716</td>\n    </tr>\n    <tr>\n      <th>9</th>\n      <td>RankCutoff(Transformer(), 10)</td>\n      <td>0.585584</td>\n    </tr>\n    <tr>\n      <th>10</th>\n      <td>RankCutoff(Transformer(), 10)</td>\n      <td>0.688357</td>\n    </tr>\n    <tr>\n      <th>11</th>\n      <td>RankCutoff(Transformer(), 10)</td>\n      <td>0.666244</td>\n    </tr>\n    <tr>\n      <th>12</th>\n      <td>RankCutoff(Transformer(), 10)</td>\n      <td>0.503907</td>\n    </tr>\n    <tr>\n      <th>13</th>\n      <td>RankCutoff(Transformer(), 10)</td>\n      <td>0.529318</td>\n    </tr>\n    <tr>\n      <th>14</th>\n      <td>RankCutoff(Transformer(), 10)</td>\n      <td>0.670856</td>\n    </tr>\n    <tr>\n      <th>15</th>\n      <td>RankCutoff(Transformer(), 10)</td>\n      <td>0.694869</td>\n    </tr>\n    <tr>\n      <th>16</th>\n      <td>RankCutoff(Transformer(), 10)</td>\n      <td>0.698296</td>\n    </tr>\n    <tr>\n      <th>17</th>\n      <td>RankCutoff(Transformer(), 10)</td>\n      <td>0.703765</td>\n    </tr>\n    <tr>\n      <th>18</th>\n      <td>RankCutoff(Transformer(), 10)</td>\n      <td>0.693974</td>\n    </tr>\n    <tr>\n      <th>19</th>\n      <td>RankCutoff(Transformer(), 10)</td>\n      <td>0.699924</td>\n    </tr>\n    <tr>\n      <th>20</th>\n      <td>RankCutoff(Transformer(), 10)</td>\n      <td>0.674575</td>\n    </tr>\n    <tr>\n      <th>21</th>\n      <td>RankCutoff(Transformer(), 10)</td>\n      <td>0.674628</td>\n    </tr>\n    <tr>\n      <th>22</th>\n      <td>RankCutoff(Transformer(), 10)</td>\n      <td>0.664808</td>\n    </tr>\n    <tr>\n      <th>23</th>\n      <td>RankCutoff(Transformer(), 10)</td>\n      <td>0.075784</td>\n    </tr>\n    <tr>\n      <th>24</th>\n      <td>RankCutoff(Transformer(), 10)</td>\n      <td>0.716163</td>\n    </tr>\n    <tr>\n      <th>25</th>\n      <td>RankCutoff(Transformer(), 10)</td>\n      <td>0.620957</td>\n    </tr>\n    <tr>\n      <th>26</th>\n      <td>RankCutoff(Transformer(), 10)</td>\n      <td>0.490248</td>\n    </tr>\n    <tr>\n      <th>27</th>\n      <td>RankCutoff(Transformer(), 10)</td>\n      <td>0.661479</td>\n    </tr>\n    <tr>\n      <th>28</th>\n      <td>RankCutoff(Transformer(), 10)</td>\n      <td>0.510992</td>\n    </tr>\n    <tr>\n      <th>29</th>\n      <td>RankCutoff(Transformer(), 10)</td>\n      <td>0.635227</td>\n    </tr>\n    <tr>\n      <th>30</th>\n      <td>RankCutoff(Transformer(), 10)</td>\n      <td>0.529312</td>\n    </tr>\n    <tr>\n      <th>31</th>\n      <td>RankCutoff(Transformer(), 10)</td>\n      <td>0.524412</td>\n    </tr>\n    <tr>\n      <th>32</th>\n      <td>RankCutoff(Transformer(), 10)</td>\n      <td>0.696790</td>\n    </tr>\n    <tr>\n      <th>33</th>\n      <td>RankCutoff(Transformer(), 10)</td>\n      <td>0.481071</td>\n    </tr>\n    <tr>\n      <th>34</th>\n      <td>RankCutoff(Transformer(), 10)</td>\n      <td>0.715965</td>\n    </tr>\n    <tr>\n      <th>35</th>\n      <td>RankCutoff(Transformer(), 10)</td>\n      <td>0.426692</td>\n    </tr>\n    <tr>\n      <th>36</th>\n      <td>RankCutoff(Transformer(), 10)</td>\n      <td>0.511827</td>\n    </tr>\n  </tbody>\n</table>\n</div>"
     },
     "execution_count": 4,
     "metadata": {},
     "output_type": "execute_result"
    }
   ],
   "source": [
    "from pyterrier.pipelines import Experiment\n",
    "from ir_measures import nDCG\n",
    "\n",
    "Experiment(\n",
    "    retr_systems=retrieval_systems,\n",
    "    topics=track.dataset.get_topics(),\n",
    "    qrels=track.dataset.get_qrels(),\n",
    "    eval_metrics=[nDCG @ 10],\n",
    "    verbose=True,\n",
    ")"
   ],
   "metadata": {
    "collapsed": false,
    "pycharm": {
     "name": "#%%\n"
    }
   }
  },
  {
   "cell_type": "code",
   "execution_count": 5,
   "outputs": [],
   "source": [
    "from ir_axioms.backend.pyterrier.experiment import AxiomaticExperiment\n",
    "from ir_axioms.axiom import TFC1, LNC1\n",
    "\n",
    "axiomatic_experiment = AxiomaticExperiment(\n",
    "    retrieval_systems=retrieval_systems,\n",
    "    topics=track.dataset.get_topics(),\n",
    "    qrels=track.dataset.get_qrels(),\n",
    "    index=track.index,\n",
    "    dataset=track.ir_dataset,\n",
    "    axioms=[TFC1(), LNC1()],\n",
    "    verbose=True,\n",
    ")"
   ],
   "metadata": {
    "collapsed": false,
    "pycharm": {
     "name": "#%%\n"
    }
   }
  },
  {
   "cell_type": "code",
   "execution_count": 6,
   "outputs": [
    {
     "name": "stderr",
     "output_type": "stream",
     "text": [
      "AxiomaticExperiment: 100%|██████████| 37/37 [03:40<00:00,  5.95s/system]\n"
     ]
    },
    {
     "data": {
      "text/plain": "           qid  docno_a  rank_a   score_a           name_a  \\\n0      1108939  7651010       1  5.532341  srchvrs_ps_run1   \n1      1108939  7651010       1  5.532341  srchvrs_ps_run1   \n2      1108939  7651010       1  5.532341  srchvrs_ps_run1   \n3      1108939  7651010       1  5.532341  srchvrs_ps_run1   \n4      1108939  7651010       1  5.532341  srchvrs_ps_run1   \n...        ...      ...     ...       ...              ...   \n15984   532603  7474474       9  0.427272           runid2   \n15985   532603  7474474       9  0.427272           runid2   \n15986   532603  7474474       9  0.427272           runid2   \n15987   532603  7474474       9  0.427272           runid2   \n15988   532603  7474474       9  0.427272           runid2   \n\n                                   query  docno_b  rank_b   score_b  \\\n0      what slows down the flow of blood  7651010       1  5.532341   \n1      what slows down the flow of blood  5291621       2  5.523702   \n2      what slows down the flow of blood  7724054       3  5.452711   \n3      what slows down the flow of blood  5163856       4  5.348308   \n4      what slows down the flow of blood  2846462       5  5.342947   \n...                                  ...      ...     ...       ...   \n15984   university of dubuque enrollment  1204838       5  0.427785   \n15985   university of dubuque enrollment  5346281       6  0.427509   \n15986   university of dubuque enrollment  2195902       7  0.427481   \n15987   university of dubuque enrollment  3920188       8  0.427431   \n15988   university of dubuque enrollment  7474474       9  0.427272   \n\n                name_b  original_preference  oracle_preference  \\\n0      srchvrs_ps_run1                    0                NaN   \n1      srchvrs_ps_run1                    1                NaN   \n2      srchvrs_ps_run1                    1                NaN   \n3      srchvrs_ps_run1                    1                NaN   \n4      srchvrs_ps_run1                    1                NaN   \n...                ...                  ...                ...   \n15984           runid2                   -1                NaN   \n15985           runid2                   -1                NaN   \n15986           runid2                   -1                NaN   \n15987           runid2                   -1                NaN   \n15988           runid2                    0                NaN   \n\n       TFC1_preference  LNC1_preference  \n0                    0                0  \n1                    0                0  \n2                    0                0  \n3                    0                0  \n4                    0                0  \n...                ...              ...  \n15984                0                0  \n15985                0                0  \n15986                0                0  \n15987                0                0  \n15988                0                0  \n\n[619464 rows x 14 columns]",
      "text/html": "<div>\n<style scoped>\n    .dataframe tbody tr th:only-of-type {\n        vertical-align: middle;\n    }\n\n    .dataframe tbody tr th {\n        vertical-align: top;\n    }\n\n    .dataframe thead th {\n        text-align: right;\n    }\n</style>\n<table border=\"1\" class=\"dataframe\">\n  <thead>\n    <tr style=\"text-align: right;\">\n      <th></th>\n      <th>qid</th>\n      <th>docno_a</th>\n      <th>rank_a</th>\n      <th>score_a</th>\n      <th>name_a</th>\n      <th>query</th>\n      <th>docno_b</th>\n      <th>rank_b</th>\n      <th>score_b</th>\n      <th>name_b</th>\n      <th>original_preference</th>\n      <th>oracle_preference</th>\n      <th>TFC1_preference</th>\n      <th>LNC1_preference</th>\n    </tr>\n  </thead>\n  <tbody>\n    <tr>\n      <th>0</th>\n      <td>1108939</td>\n      <td>7651010</td>\n      <td>1</td>\n      <td>5.532341</td>\n      <td>srchvrs_ps_run1</td>\n      <td>what slows down the flow of blood</td>\n      <td>7651010</td>\n      <td>1</td>\n      <td>5.532341</td>\n      <td>srchvrs_ps_run1</td>\n      <td>0</td>\n      <td>NaN</td>\n      <td>0</td>\n      <td>0</td>\n    </tr>\n    <tr>\n      <th>1</th>\n      <td>1108939</td>\n      <td>7651010</td>\n      <td>1</td>\n      <td>5.532341</td>\n      <td>srchvrs_ps_run1</td>\n      <td>what slows down the flow of blood</td>\n      <td>5291621</td>\n      <td>2</td>\n      <td>5.523702</td>\n      <td>srchvrs_ps_run1</td>\n      <td>1</td>\n      <td>NaN</td>\n      <td>0</td>\n      <td>0</td>\n    </tr>\n    <tr>\n      <th>2</th>\n      <td>1108939</td>\n      <td>7651010</td>\n      <td>1</td>\n      <td>5.532341</td>\n      <td>srchvrs_ps_run1</td>\n      <td>what slows down the flow of blood</td>\n      <td>7724054</td>\n      <td>3</td>\n      <td>5.452711</td>\n      <td>srchvrs_ps_run1</td>\n      <td>1</td>\n      <td>NaN</td>\n      <td>0</td>\n      <td>0</td>\n    </tr>\n    <tr>\n      <th>3</th>\n      <td>1108939</td>\n      <td>7651010</td>\n      <td>1</td>\n      <td>5.532341</td>\n      <td>srchvrs_ps_run1</td>\n      <td>what slows down the flow of blood</td>\n      <td>5163856</td>\n      <td>4</td>\n      <td>5.348308</td>\n      <td>srchvrs_ps_run1</td>\n      <td>1</td>\n      <td>NaN</td>\n      <td>0</td>\n      <td>0</td>\n    </tr>\n    <tr>\n      <th>4</th>\n      <td>1108939</td>\n      <td>7651010</td>\n      <td>1</td>\n      <td>5.532341</td>\n      <td>srchvrs_ps_run1</td>\n      <td>what slows down the flow of blood</td>\n      <td>2846462</td>\n      <td>5</td>\n      <td>5.342947</td>\n      <td>srchvrs_ps_run1</td>\n      <td>1</td>\n      <td>NaN</td>\n      <td>0</td>\n      <td>0</td>\n    </tr>\n    <tr>\n      <th>...</th>\n      <td>...</td>\n      <td>...</td>\n      <td>...</td>\n      <td>...</td>\n      <td>...</td>\n      <td>...</td>\n      <td>...</td>\n      <td>...</td>\n      <td>...</td>\n      <td>...</td>\n      <td>...</td>\n      <td>...</td>\n      <td>...</td>\n      <td>...</td>\n    </tr>\n    <tr>\n      <th>15984</th>\n      <td>532603</td>\n      <td>7474474</td>\n      <td>9</td>\n      <td>0.427272</td>\n      <td>runid2</td>\n      <td>university of dubuque enrollment</td>\n      <td>1204838</td>\n      <td>5</td>\n      <td>0.427785</td>\n      <td>runid2</td>\n      <td>-1</td>\n      <td>NaN</td>\n      <td>0</td>\n      <td>0</td>\n    </tr>\n    <tr>\n      <th>15985</th>\n      <td>532603</td>\n      <td>7474474</td>\n      <td>9</td>\n      <td>0.427272</td>\n      <td>runid2</td>\n      <td>university of dubuque enrollment</td>\n      <td>5346281</td>\n      <td>6</td>\n      <td>0.427509</td>\n      <td>runid2</td>\n      <td>-1</td>\n      <td>NaN</td>\n      <td>0</td>\n      <td>0</td>\n    </tr>\n    <tr>\n      <th>15986</th>\n      <td>532603</td>\n      <td>7474474</td>\n      <td>9</td>\n      <td>0.427272</td>\n      <td>runid2</td>\n      <td>university of dubuque enrollment</td>\n      <td>2195902</td>\n      <td>7</td>\n      <td>0.427481</td>\n      <td>runid2</td>\n      <td>-1</td>\n      <td>NaN</td>\n      <td>0</td>\n      <td>0</td>\n    </tr>\n    <tr>\n      <th>15987</th>\n      <td>532603</td>\n      <td>7474474</td>\n      <td>9</td>\n      <td>0.427272</td>\n      <td>runid2</td>\n      <td>university of dubuque enrollment</td>\n      <td>3920188</td>\n      <td>8</td>\n      <td>0.427431</td>\n      <td>runid2</td>\n      <td>-1</td>\n      <td>NaN</td>\n      <td>0</td>\n      <td>0</td>\n    </tr>\n    <tr>\n      <th>15988</th>\n      <td>532603</td>\n      <td>7474474</td>\n      <td>9</td>\n      <td>0.427272</td>\n      <td>runid2</td>\n      <td>university of dubuque enrollment</td>\n      <td>7474474</td>\n      <td>9</td>\n      <td>0.427272</td>\n      <td>runid2</td>\n      <td>0</td>\n      <td>NaN</td>\n      <td>0</td>\n      <td>0</td>\n    </tr>\n  </tbody>\n</table>\n<p>619464 rows × 14 columns</p>\n</div>"
     },
     "execution_count": 6,
     "metadata": {},
     "output_type": "execute_result"
    }
   ],
   "source": [
    "preferences = axiomatic_experiment.preferences\n",
    "preferences"
   ],
   "metadata": {
    "collapsed": false,
    "pycharm": {
     "name": "#%%\n"
    }
   }
  },
  {
   "cell_type": "code",
   "execution_count": 7,
   "outputs": [
    {
     "data": {
      "text/plain": "          qid  docno_a  rank_a   score_a           name_a  \\\n1548   156493  2259183       1  6.572989  srchvrs_ps_run1   \n1549   156493  2259183       1  6.572989  srchvrs_ps_run1   \n1550   156493  2259183       1  6.572989  srchvrs_ps_run1   \n1551   156493  2259183       1  6.572989  srchvrs_ps_run1   \n1552   156493  2259183       1  6.572989  srchvrs_ps_run1   \n...       ...      ...     ...       ...              ...   \n15660  146187  1230566       9  0.427014           runid2   \n15661  146187  1230566       9  0.427014           runid2   \n15662  146187  1230566       9  0.427014           runid2   \n15663  146187  1230566       9  0.427014           runid2   \n15664  146187  1230566       9  0.427014           runid2   \n\n                                                   query  docno_b  rank_b  \\\n1548                                    do goldfish grow  2259183       1   \n1549                                    do goldfish grow  3288597       2   \n1550                                    do goldfish grow  3288601       3   \n1551                                    do goldfish grow  3288596       4   \n1552                                    do goldfish grow  3288600       5   \n...                                                  ...      ...     ...   \n15660  difference between a mcdouble and a double che...  6430258       5   \n15661  difference between a mcdouble and a double che...  6658185       6   \n15662  difference between a mcdouble and a double che...  7096817       7   \n15663  difference between a mcdouble and a double che...  1138801       8   \n15664  difference between a mcdouble and a double che...  1230566       9   \n\n        score_b           name_b  original_preference  oracle_preference  \\\n1548   6.572989  srchvrs_ps_run1                    0                0.0   \n1549   6.525999  srchvrs_ps_run1                    1                0.0   \n1550   6.517504  srchvrs_ps_run1                    1                0.0   \n1551   6.508273  srchvrs_ps_run1                    1                0.0   \n1552   6.508273  srchvrs_ps_run1                    1                0.0   \n...         ...              ...                  ...                ...   \n15660  0.430223           runid2                   -1                0.0   \n15661  0.428952           runid2                   -1                1.0   \n15662  0.427588           runid2                   -1                1.0   \n15663  0.427014           runid2                   -1                1.0   \n15664  0.427014           runid2                    0                0.0   \n\n       TFC1_preference  LNC1_preference  \n1548                 0                0  \n1549                 0                0  \n1550                 0                0  \n1551                 0               -1  \n1552                 0                0  \n...                ...              ...  \n15660               -1                0  \n15661                0                0  \n15662                0                0  \n15663                0                0  \n15664                0                0  \n\n[132932 rows x 14 columns]",
      "text/html": "<div>\n<style scoped>\n    .dataframe tbody tr th:only-of-type {\n        vertical-align: middle;\n    }\n\n    .dataframe tbody tr th {\n        vertical-align: top;\n    }\n\n    .dataframe thead th {\n        text-align: right;\n    }\n</style>\n<table border=\"1\" class=\"dataframe\">\n  <thead>\n    <tr style=\"text-align: right;\">\n      <th></th>\n      <th>qid</th>\n      <th>docno_a</th>\n      <th>rank_a</th>\n      <th>score_a</th>\n      <th>name_a</th>\n      <th>query</th>\n      <th>docno_b</th>\n      <th>rank_b</th>\n      <th>score_b</th>\n      <th>name_b</th>\n      <th>original_preference</th>\n      <th>oracle_preference</th>\n      <th>TFC1_preference</th>\n      <th>LNC1_preference</th>\n    </tr>\n  </thead>\n  <tbody>\n    <tr>\n      <th>1548</th>\n      <td>156493</td>\n      <td>2259183</td>\n      <td>1</td>\n      <td>6.572989</td>\n      <td>srchvrs_ps_run1</td>\n      <td>do goldfish grow</td>\n      <td>2259183</td>\n      <td>1</td>\n      <td>6.572989</td>\n      <td>srchvrs_ps_run1</td>\n      <td>0</td>\n      <td>0.0</td>\n      <td>0</td>\n      <td>0</td>\n    </tr>\n    <tr>\n      <th>1549</th>\n      <td>156493</td>\n      <td>2259183</td>\n      <td>1</td>\n      <td>6.572989</td>\n      <td>srchvrs_ps_run1</td>\n      <td>do goldfish grow</td>\n      <td>3288597</td>\n      <td>2</td>\n      <td>6.525999</td>\n      <td>srchvrs_ps_run1</td>\n      <td>1</td>\n      <td>0.0</td>\n      <td>0</td>\n      <td>0</td>\n    </tr>\n    <tr>\n      <th>1550</th>\n      <td>156493</td>\n      <td>2259183</td>\n      <td>1</td>\n      <td>6.572989</td>\n      <td>srchvrs_ps_run1</td>\n      <td>do goldfish grow</td>\n      <td>3288601</td>\n      <td>3</td>\n      <td>6.517504</td>\n      <td>srchvrs_ps_run1</td>\n      <td>1</td>\n      <td>0.0</td>\n      <td>0</td>\n      <td>0</td>\n    </tr>\n    <tr>\n      <th>1551</th>\n      <td>156493</td>\n      <td>2259183</td>\n      <td>1</td>\n      <td>6.572989</td>\n      <td>srchvrs_ps_run1</td>\n      <td>do goldfish grow</td>\n      <td>3288596</td>\n      <td>4</td>\n      <td>6.508273</td>\n      <td>srchvrs_ps_run1</td>\n      <td>1</td>\n      <td>0.0</td>\n      <td>0</td>\n      <td>-1</td>\n    </tr>\n    <tr>\n      <th>1552</th>\n      <td>156493</td>\n      <td>2259183</td>\n      <td>1</td>\n      <td>6.572989</td>\n      <td>srchvrs_ps_run1</td>\n      <td>do goldfish grow</td>\n      <td>3288600</td>\n      <td>5</td>\n      <td>6.508273</td>\n      <td>srchvrs_ps_run1</td>\n      <td>1</td>\n      <td>0.0</td>\n      <td>0</td>\n      <td>0</td>\n    </tr>\n    <tr>\n      <th>...</th>\n      <td>...</td>\n      <td>...</td>\n      <td>...</td>\n      <td>...</td>\n      <td>...</td>\n      <td>...</td>\n      <td>...</td>\n      <td>...</td>\n      <td>...</td>\n      <td>...</td>\n      <td>...</td>\n      <td>...</td>\n      <td>...</td>\n      <td>...</td>\n    </tr>\n    <tr>\n      <th>15660</th>\n      <td>146187</td>\n      <td>1230566</td>\n      <td>9</td>\n      <td>0.427014</td>\n      <td>runid2</td>\n      <td>difference between a mcdouble and a double che...</td>\n      <td>6430258</td>\n      <td>5</td>\n      <td>0.430223</td>\n      <td>runid2</td>\n      <td>-1</td>\n      <td>0.0</td>\n      <td>-1</td>\n      <td>0</td>\n    </tr>\n    <tr>\n      <th>15661</th>\n      <td>146187</td>\n      <td>1230566</td>\n      <td>9</td>\n      <td>0.427014</td>\n      <td>runid2</td>\n      <td>difference between a mcdouble and a double che...</td>\n      <td>6658185</td>\n      <td>6</td>\n      <td>0.428952</td>\n      <td>runid2</td>\n      <td>-1</td>\n      <td>1.0</td>\n      <td>0</td>\n      <td>0</td>\n    </tr>\n    <tr>\n      <th>15662</th>\n      <td>146187</td>\n      <td>1230566</td>\n      <td>9</td>\n      <td>0.427014</td>\n      <td>runid2</td>\n      <td>difference between a mcdouble and a double che...</td>\n      <td>7096817</td>\n      <td>7</td>\n      <td>0.427588</td>\n      <td>runid2</td>\n      <td>-1</td>\n      <td>1.0</td>\n      <td>0</td>\n      <td>0</td>\n    </tr>\n    <tr>\n      <th>15663</th>\n      <td>146187</td>\n      <td>1230566</td>\n      <td>9</td>\n      <td>0.427014</td>\n      <td>runid2</td>\n      <td>difference between a mcdouble and a double che...</td>\n      <td>1138801</td>\n      <td>8</td>\n      <td>0.427014</td>\n      <td>runid2</td>\n      <td>-1</td>\n      <td>1.0</td>\n      <td>0</td>\n      <td>0</td>\n    </tr>\n    <tr>\n      <th>15664</th>\n      <td>146187</td>\n      <td>1230566</td>\n      <td>9</td>\n      <td>0.427014</td>\n      <td>runid2</td>\n      <td>difference between a mcdouble and a double che...</td>\n      <td>1230566</td>\n      <td>9</td>\n      <td>0.427014</td>\n      <td>runid2</td>\n      <td>0</td>\n      <td>0.0</td>\n      <td>0</td>\n      <td>0</td>\n    </tr>\n  </tbody>\n</table>\n<p>132932 rows × 14 columns</p>\n</div>"
     },
     "execution_count": 7,
     "metadata": {},
     "output_type": "execute_result"
    }
   ],
   "source": [
    "# Judged preferences\n",
    "judged_preferences = preferences[preferences[\"oracle_preference\"].notna()]\n",
    "judged_preferences"
   ],
   "metadata": {
    "collapsed": false,
    "pycharm": {
     "name": "#%%\n"
    }
   }
  },
  {
   "cell_type": "code",
   "execution_count": 8,
   "outputs": [
    {
     "data": {
      "text/plain": "          qid  docno_a  rank_a   score_a           name_a  \\\n1556   156493  2259183       1  6.572989  srchvrs_ps_run1   \n1565   156493  3288597       2  6.525999  srchvrs_ps_run1   \n1574   156493  3288601       3  6.517504  srchvrs_ps_run1   \n1583   156493  3288596       4  6.508273  srchvrs_ps_run1   \n1592   156493  3288600       5  6.508273  srchvrs_ps_run1   \n...       ...      ...     ...       ...              ...   \n15658  146187  1230566       9  0.427014           runid2   \n15659  146187  1230566       9  0.427014           runid2   \n15661  146187  1230566       9  0.427014           runid2   \n15662  146187  1230566       9  0.427014           runid2   \n15663  146187  1230566       9  0.427014           runid2   \n\n                                                   query  docno_b  rank_b  \\\n1556                                    do goldfish grow  6139386       9   \n1565                                    do goldfish grow  6139386       9   \n1574                                    do goldfish grow  6139386       9   \n1583                                    do goldfish grow  6139386       9   \n1592                                    do goldfish grow  6139386       9   \n...                                                  ...      ...     ...   \n15658  difference between a mcdouble and a double che...  2040185       3   \n15659  difference between a mcdouble and a double che...  2257806       4   \n15661  difference between a mcdouble and a double che...  6658185       6   \n15662  difference between a mcdouble and a double che...  7096817       7   \n15663  difference between a mcdouble and a double che...  1138801       8   \n\n        score_b           name_b  original_preference  oracle_preference  \\\n1556   6.399120  srchvrs_ps_run1                    1               -1.0   \n1565   6.399120  srchvrs_ps_run1                    1               -1.0   \n1574   6.399120  srchvrs_ps_run1                    1               -1.0   \n1583   6.399120  srchvrs_ps_run1                    1               -1.0   \n1592   6.399120  srchvrs_ps_run1                    1               -1.0   \n...         ...              ...                  ...                ...   \n15658  0.430896           runid2                   -1                1.0   \n15659  0.430273           runid2                   -1                1.0   \n15661  0.428952           runid2                   -1                1.0   \n15662  0.427588           runid2                   -1                1.0   \n15663  0.427014           runid2                   -1                1.0   \n\n       TFC1_preference  LNC1_preference  \n1556                 0                0  \n1565                 0                0  \n1574                 0                0  \n1583                 0                0  \n1592                 0                0  \n...                ...              ...  \n15658                0                0  \n15659                0                0  \n15661                0                0  \n15662                0                0  \n15663                0                0  \n\n[22432 rows x 14 columns]",
      "text/html": "<div>\n<style scoped>\n    .dataframe tbody tr th:only-of-type {\n        vertical-align: middle;\n    }\n\n    .dataframe tbody tr th {\n        vertical-align: top;\n    }\n\n    .dataframe thead th {\n        text-align: right;\n    }\n</style>\n<table border=\"1\" class=\"dataframe\">\n  <thead>\n    <tr style=\"text-align: right;\">\n      <th></th>\n      <th>qid</th>\n      <th>docno_a</th>\n      <th>rank_a</th>\n      <th>score_a</th>\n      <th>name_a</th>\n      <th>query</th>\n      <th>docno_b</th>\n      <th>rank_b</th>\n      <th>score_b</th>\n      <th>name_b</th>\n      <th>original_preference</th>\n      <th>oracle_preference</th>\n      <th>TFC1_preference</th>\n      <th>LNC1_preference</th>\n    </tr>\n  </thead>\n  <tbody>\n    <tr>\n      <th>1556</th>\n      <td>156493</td>\n      <td>2259183</td>\n      <td>1</td>\n      <td>6.572989</td>\n      <td>srchvrs_ps_run1</td>\n      <td>do goldfish grow</td>\n      <td>6139386</td>\n      <td>9</td>\n      <td>6.399120</td>\n      <td>srchvrs_ps_run1</td>\n      <td>1</td>\n      <td>-1.0</td>\n      <td>0</td>\n      <td>0</td>\n    </tr>\n    <tr>\n      <th>1565</th>\n      <td>156493</td>\n      <td>3288597</td>\n      <td>2</td>\n      <td>6.525999</td>\n      <td>srchvrs_ps_run1</td>\n      <td>do goldfish grow</td>\n      <td>6139386</td>\n      <td>9</td>\n      <td>6.399120</td>\n      <td>srchvrs_ps_run1</td>\n      <td>1</td>\n      <td>-1.0</td>\n      <td>0</td>\n      <td>0</td>\n    </tr>\n    <tr>\n      <th>1574</th>\n      <td>156493</td>\n      <td>3288601</td>\n      <td>3</td>\n      <td>6.517504</td>\n      <td>srchvrs_ps_run1</td>\n      <td>do goldfish grow</td>\n      <td>6139386</td>\n      <td>9</td>\n      <td>6.399120</td>\n      <td>srchvrs_ps_run1</td>\n      <td>1</td>\n      <td>-1.0</td>\n      <td>0</td>\n      <td>0</td>\n    </tr>\n    <tr>\n      <th>1583</th>\n      <td>156493</td>\n      <td>3288596</td>\n      <td>4</td>\n      <td>6.508273</td>\n      <td>srchvrs_ps_run1</td>\n      <td>do goldfish grow</td>\n      <td>6139386</td>\n      <td>9</td>\n      <td>6.399120</td>\n      <td>srchvrs_ps_run1</td>\n      <td>1</td>\n      <td>-1.0</td>\n      <td>0</td>\n      <td>0</td>\n    </tr>\n    <tr>\n      <th>1592</th>\n      <td>156493</td>\n      <td>3288600</td>\n      <td>5</td>\n      <td>6.508273</td>\n      <td>srchvrs_ps_run1</td>\n      <td>do goldfish grow</td>\n      <td>6139386</td>\n      <td>9</td>\n      <td>6.399120</td>\n      <td>srchvrs_ps_run1</td>\n      <td>1</td>\n      <td>-1.0</td>\n      <td>0</td>\n      <td>0</td>\n    </tr>\n    <tr>\n      <th>...</th>\n      <td>...</td>\n      <td>...</td>\n      <td>...</td>\n      <td>...</td>\n      <td>...</td>\n      <td>...</td>\n      <td>...</td>\n      <td>...</td>\n      <td>...</td>\n      <td>...</td>\n      <td>...</td>\n      <td>...</td>\n      <td>...</td>\n      <td>...</td>\n    </tr>\n    <tr>\n      <th>15658</th>\n      <td>146187</td>\n      <td>1230566</td>\n      <td>9</td>\n      <td>0.427014</td>\n      <td>runid2</td>\n      <td>difference between a mcdouble and a double che...</td>\n      <td>2040185</td>\n      <td>3</td>\n      <td>0.430896</td>\n      <td>runid2</td>\n      <td>-1</td>\n      <td>1.0</td>\n      <td>0</td>\n      <td>0</td>\n    </tr>\n    <tr>\n      <th>15659</th>\n      <td>146187</td>\n      <td>1230566</td>\n      <td>9</td>\n      <td>0.427014</td>\n      <td>runid2</td>\n      <td>difference between a mcdouble and a double che...</td>\n      <td>2257806</td>\n      <td>4</td>\n      <td>0.430273</td>\n      <td>runid2</td>\n      <td>-1</td>\n      <td>1.0</td>\n      <td>0</td>\n      <td>0</td>\n    </tr>\n    <tr>\n      <th>15661</th>\n      <td>146187</td>\n      <td>1230566</td>\n      <td>9</td>\n      <td>0.427014</td>\n      <td>runid2</td>\n      <td>difference between a mcdouble and a double che...</td>\n      <td>6658185</td>\n      <td>6</td>\n      <td>0.428952</td>\n      <td>runid2</td>\n      <td>-1</td>\n      <td>1.0</td>\n      <td>0</td>\n      <td>0</td>\n    </tr>\n    <tr>\n      <th>15662</th>\n      <td>146187</td>\n      <td>1230566</td>\n      <td>9</td>\n      <td>0.427014</td>\n      <td>runid2</td>\n      <td>difference between a mcdouble and a double che...</td>\n      <td>7096817</td>\n      <td>7</td>\n      <td>0.427588</td>\n      <td>runid2</td>\n      <td>-1</td>\n      <td>1.0</td>\n      <td>0</td>\n      <td>0</td>\n    </tr>\n    <tr>\n      <th>15663</th>\n      <td>146187</td>\n      <td>1230566</td>\n      <td>9</td>\n      <td>0.427014</td>\n      <td>runid2</td>\n      <td>difference between a mcdouble and a double che...</td>\n      <td>1138801</td>\n      <td>8</td>\n      <td>0.427014</td>\n      <td>runid2</td>\n      <td>-1</td>\n      <td>1.0</td>\n      <td>0</td>\n      <td>0</td>\n    </tr>\n  </tbody>\n</table>\n<p>22432 rows × 14 columns</p>\n</div>"
     },
     "execution_count": 8,
     "metadata": {},
     "output_type": "execute_result"
    }
   ],
   "source": [
    "wrong_preferences = judged_preferences[\n",
    "    abs(judged_preferences[\"oracle_preference\"] - judged_preferences[\"original_preference\"]) >= 2\n",
    "    ]\n",
    "wrong_preferences"
   ],
   "metadata": {
    "collapsed": false,
    "pycharm": {
     "name": "#%%\n"
    }
   }
  },
  {
   "cell_type": "code",
   "execution_count": 9,
   "outputs": [
    {
     "data": {
      "text/plain": "           qid  docno_a  rank_a   score_a           name_a  \\\n1723   1110199   398442       2  7.017928  srchvrs_ps_run1   \n1741   1110199   554521       4  6.814814  srchvrs_ps_run1   \n1747   1110199  5218014       5  6.803596  srchvrs_ps_run1   \n1749   1110199  5218014       5  6.803596  srchvrs_ps_run1   \n2685    130510  7125239       1  6.547254  srchvrs_ps_run1   \n...        ...      ...     ...       ...              ...   \n13839   182539  8757181       5  0.432632           runid2   \n14858  1113437  4981632       1  0.429929           runid2   \n14877  1113437  6021898       3  0.428806           runid2   \n14882  1113437  8128794       4  0.427766           runid2   \n14893  1113437  1066532       5  0.427582           runid2   \n\n                                        query  docno_b  rank_b   score_b  \\\n1723                what is wifi vs bluetooth  5218014       5  6.803596   \n1741                what is wifi vs bluetooth  5218014       5  6.803596   \n1747                what is wifi vs bluetooth   398442       2  7.017928   \n1749                what is wifi vs bluetooth   554521       4  6.814814   \n2685          definition declaratory judgment  1494936       4  6.341850   \n...                                       ...      ...     ...       ...   \n13839           example of monotonic function    57444       2  0.434976   \n14858  what is physical description of spruce  8128794       4  0.427766   \n14877  what is physical description of spruce  1066532       5  0.427582   \n14882  what is physical description of spruce  4981632       1  0.429929   \n14893  what is physical description of spruce  6021898       3  0.428806   \n\n                name_b  original_preference  oracle_preference  \\\n1723   srchvrs_ps_run1                    1               -1.0   \n1741   srchvrs_ps_run1                    1               -1.0   \n1747   srchvrs_ps_run1                   -1                1.0   \n1749   srchvrs_ps_run1                   -1                1.0   \n2685   srchvrs_ps_run1                    1               -1.0   \n...                ...                  ...                ...   \n13839           runid2                   -1                1.0   \n14858           runid2                    1               -1.0   \n14877           runid2                    1               -1.0   \n14882           runid2                   -1                1.0   \n14893           runid2                   -1                1.0   \n\n       TFC1_preference  LNC1_preference  \n1723                 1                0  \n1741                 0               -1  \n1747                -1                0  \n1749                 0                1  \n2685                 1                0  \n...                ...              ...  \n13839                1                0  \n14858               -1                0  \n14877                1                0  \n14882                1                0  \n14893               -1                0  \n\n[3186 rows x 14 columns]",
      "text/html": "<div>\n<style scoped>\n    .dataframe tbody tr th:only-of-type {\n        vertical-align: middle;\n    }\n\n    .dataframe tbody tr th {\n        vertical-align: top;\n    }\n\n    .dataframe thead th {\n        text-align: right;\n    }\n</style>\n<table border=\"1\" class=\"dataframe\">\n  <thead>\n    <tr style=\"text-align: right;\">\n      <th></th>\n      <th>qid</th>\n      <th>docno_a</th>\n      <th>rank_a</th>\n      <th>score_a</th>\n      <th>name_a</th>\n      <th>query</th>\n      <th>docno_b</th>\n      <th>rank_b</th>\n      <th>score_b</th>\n      <th>name_b</th>\n      <th>original_preference</th>\n      <th>oracle_preference</th>\n      <th>TFC1_preference</th>\n      <th>LNC1_preference</th>\n    </tr>\n  </thead>\n  <tbody>\n    <tr>\n      <th>1723</th>\n      <td>1110199</td>\n      <td>398442</td>\n      <td>2</td>\n      <td>7.017928</td>\n      <td>srchvrs_ps_run1</td>\n      <td>what is wifi vs bluetooth</td>\n      <td>5218014</td>\n      <td>5</td>\n      <td>6.803596</td>\n      <td>srchvrs_ps_run1</td>\n      <td>1</td>\n      <td>-1.0</td>\n      <td>1</td>\n      <td>0</td>\n    </tr>\n    <tr>\n      <th>1741</th>\n      <td>1110199</td>\n      <td>554521</td>\n      <td>4</td>\n      <td>6.814814</td>\n      <td>srchvrs_ps_run1</td>\n      <td>what is wifi vs bluetooth</td>\n      <td>5218014</td>\n      <td>5</td>\n      <td>6.803596</td>\n      <td>srchvrs_ps_run1</td>\n      <td>1</td>\n      <td>-1.0</td>\n      <td>0</td>\n      <td>-1</td>\n    </tr>\n    <tr>\n      <th>1747</th>\n      <td>1110199</td>\n      <td>5218014</td>\n      <td>5</td>\n      <td>6.803596</td>\n      <td>srchvrs_ps_run1</td>\n      <td>what is wifi vs bluetooth</td>\n      <td>398442</td>\n      <td>2</td>\n      <td>7.017928</td>\n      <td>srchvrs_ps_run1</td>\n      <td>-1</td>\n      <td>1.0</td>\n      <td>-1</td>\n      <td>0</td>\n    </tr>\n    <tr>\n      <th>1749</th>\n      <td>1110199</td>\n      <td>5218014</td>\n      <td>5</td>\n      <td>6.803596</td>\n      <td>srchvrs_ps_run1</td>\n      <td>what is wifi vs bluetooth</td>\n      <td>554521</td>\n      <td>4</td>\n      <td>6.814814</td>\n      <td>srchvrs_ps_run1</td>\n      <td>-1</td>\n      <td>1.0</td>\n      <td>0</td>\n      <td>1</td>\n    </tr>\n    <tr>\n      <th>2685</th>\n      <td>130510</td>\n      <td>7125239</td>\n      <td>1</td>\n      <td>6.547254</td>\n      <td>srchvrs_ps_run1</td>\n      <td>definition declaratory judgment</td>\n      <td>1494936</td>\n      <td>4</td>\n      <td>6.341850</td>\n      <td>srchvrs_ps_run1</td>\n      <td>1</td>\n      <td>-1.0</td>\n      <td>1</td>\n      <td>0</td>\n    </tr>\n    <tr>\n      <th>...</th>\n      <td>...</td>\n      <td>...</td>\n      <td>...</td>\n      <td>...</td>\n      <td>...</td>\n      <td>...</td>\n      <td>...</td>\n      <td>...</td>\n      <td>...</td>\n      <td>...</td>\n      <td>...</td>\n      <td>...</td>\n      <td>...</td>\n      <td>...</td>\n    </tr>\n    <tr>\n      <th>13839</th>\n      <td>182539</td>\n      <td>8757181</td>\n      <td>5</td>\n      <td>0.432632</td>\n      <td>runid2</td>\n      <td>example of monotonic function</td>\n      <td>57444</td>\n      <td>2</td>\n      <td>0.434976</td>\n      <td>runid2</td>\n      <td>-1</td>\n      <td>1.0</td>\n      <td>1</td>\n      <td>0</td>\n    </tr>\n    <tr>\n      <th>14858</th>\n      <td>1113437</td>\n      <td>4981632</td>\n      <td>1</td>\n      <td>0.429929</td>\n      <td>runid2</td>\n      <td>what is physical description of spruce</td>\n      <td>8128794</td>\n      <td>4</td>\n      <td>0.427766</td>\n      <td>runid2</td>\n      <td>1</td>\n      <td>-1.0</td>\n      <td>-1</td>\n      <td>0</td>\n    </tr>\n    <tr>\n      <th>14877</th>\n      <td>1113437</td>\n      <td>6021898</td>\n      <td>3</td>\n      <td>0.428806</td>\n      <td>runid2</td>\n      <td>what is physical description of spruce</td>\n      <td>1066532</td>\n      <td>5</td>\n      <td>0.427582</td>\n      <td>runid2</td>\n      <td>1</td>\n      <td>-1.0</td>\n      <td>1</td>\n      <td>0</td>\n    </tr>\n    <tr>\n      <th>14882</th>\n      <td>1113437</td>\n      <td>8128794</td>\n      <td>4</td>\n      <td>0.427766</td>\n      <td>runid2</td>\n      <td>what is physical description of spruce</td>\n      <td>4981632</td>\n      <td>1</td>\n      <td>0.429929</td>\n      <td>runid2</td>\n      <td>-1</td>\n      <td>1.0</td>\n      <td>1</td>\n      <td>0</td>\n    </tr>\n    <tr>\n      <th>14893</th>\n      <td>1113437</td>\n      <td>1066532</td>\n      <td>5</td>\n      <td>0.427582</td>\n      <td>runid2</td>\n      <td>what is physical description of spruce</td>\n      <td>6021898</td>\n      <td>3</td>\n      <td>0.428806</td>\n      <td>runid2</td>\n      <td>-1</td>\n      <td>1.0</td>\n      <td>-1</td>\n      <td>0</td>\n    </tr>\n  </tbody>\n</table>\n<p>3186 rows × 14 columns</p>\n</div>"
     },
     "execution_count": 9,
     "metadata": {},
     "output_type": "execute_result"
    }
   ],
   "source": [
    "wrong_preferences_with_axiom_hints = wrong_preferences[\n",
    "    (wrong_preferences[\"TFC1_preference\"] != 0) | (wrong_preferences[\"LNC1_preference\"] != 0)\n",
    "    ]\n",
    "wrong_preferences_with_axiom_hints"
   ],
   "metadata": {
    "collapsed": false,
    "pycharm": {
     "name": "#%%\n"
    }
   }
  },
  {
   "cell_type": "code",
   "execution_count": 10,
   "outputs": [],
   "source": [
    "from ir_axioms.axiom import TFC1, LNC1, OriginalAxiom\n",
    "\n",
    "tfc1_axiom = TFC1()  # Query term frequency in documents.\n",
    "lnc1_axiom = LNC1()  # Similarity between query and document terms.\n",
    "orig_axiom = OriginalAxiom()  # Similarity between query and document terms."
   ],
   "metadata": {
    "collapsed": false,
    "pycharm": {
     "name": "#%%\n"
    }
   }
  },
  {
   "cell_type": "code",
   "execution_count": 11,
   "outputs": [],
   "source": [
    "from ir_axioms.axiom import Axiom\n",
    "\n",
    "# Define axiom for reranker and permutations.\n",
    "axiom: Axiom = tfc1_axiom + lnc1_axiom + orig_axiom * 2.0"
   ],
   "metadata": {
    "collapsed": false,
    "pycharm": {
     "name": "#%%\n"
    }
   }
  },
  {
   "cell_type": "code",
   "execution_count": 12,
   "outputs": [],
   "source": [
    "from ir_axioms.backend.pyterrier.transformers import AxiomaticReranker\n",
    "\n",
    "reranked_retrieval_systems = [\n",
    "    retrieval_system >> AxiomaticReranker(\n",
    "        axiom,\n",
    "        track.index,\n",
    "        track.dataset_name,\n",
    "        verbose=True\n",
    "    )\n",
    "    for retrieval_system in retrieval_systems\n",
    "]"
   ],
   "metadata": {
    "collapsed": false,
    "pycharm": {
     "name": "#%%\n"
    }
   }
  },
  {
   "cell_type": "code",
   "execution_count": 13,
   "outputs": [
    {
     "name": "stderr",
     "output_type": "stream",
     "text": [
      "AxiomaticReranker: 100%|██████████| 200/200 [00:02<00:00, 68.04query/s]\n",
      "AxiomaticReranker: 100%|██████████| 200/200 [00:03<00:00, 66.41query/s]\n",
      "AxiomaticReranker: 100%|██████████| 200/200 [00:03<00:00, 57.20query/s]\n",
      "AxiomaticReranker: 100%|██████████| 200/200 [00:03<00:00, 57.65query/s]\n",
      "AxiomaticReranker: 100%|██████████| 200/200 [00:02<00:00, 69.31query/s]\n",
      "AxiomaticReranker: 100%|██████████| 200/200 [00:02<00:00, 79.93query/s]\n",
      "AxiomaticReranker: 100%|██████████| 200/200 [00:02<00:00, 66.69query/s]\n",
      "AxiomaticReranker: 100%|██████████| 200/200 [00:02<00:00, 71.73query/s]\n",
      "AxiomaticReranker: 100%|██████████| 200/200 [00:03<00:00, 61.52query/s]\n",
      "AxiomaticReranker: 100%|██████████| 200/200 [00:03<00:00, 55.47query/s]\n",
      "AxiomaticReranker: 100%|██████████| 200/200 [00:03<00:00, 56.90query/s]\n",
      "AxiomaticReranker: 100%|██████████| 200/200 [00:03<00:00, 62.02query/s]\n",
      "AxiomaticReranker: 100%|██████████| 200/200 [00:03<00:00, 60.21query/s]\n",
      "AxiomaticReranker: 100%|██████████| 200/200 [00:03<00:00, 64.90query/s]\n",
      "AxiomaticReranker: 100%|██████████| 200/200 [00:03<00:00, 63.21query/s]\n",
      "AxiomaticReranker: 100%|██████████| 200/200 [00:02<00:00, 72.13query/s]\n",
      "AxiomaticReranker: 100%|██████████| 200/200 [00:02<00:00, 75.53query/s]\n",
      "AxiomaticReranker: 100%|██████████| 200/200 [00:02<00:00, 66.81query/s]\n",
      "AxiomaticReranker: 100%|██████████| 200/200 [00:03<00:00, 63.49query/s]\n",
      "AxiomaticReranker: 100%|██████████| 200/200 [00:03<00:00, 64.08query/s]\n",
      "AxiomaticReranker: 100%|██████████| 200/200 [00:03<00:00, 64.36query/s]\n",
      "AxiomaticReranker: 100%|██████████| 200/200 [00:03<00:00, 64.80query/s]\n",
      "AxiomaticReranker: 100%|██████████| 200/200 [00:02<00:00, 71.92query/s]\n",
      "AxiomaticReranker: 100%|██████████| 200/200 [00:02<00:00, 67.06query/s]\n",
      "AxiomaticReranker: 100%|██████████| 200/200 [00:03<00:00, 59.81query/s]\n",
      "AxiomaticReranker: 100%|██████████| 200/200 [00:03<00:00, 63.80query/s]\n",
      "AxiomaticReranker: 100%|██████████| 200/200 [00:03<00:00, 63.61query/s]\n",
      "AxiomaticReranker: 100%|██████████| 200/200 [00:03<00:00, 60.74query/s]\n",
      "AxiomaticReranker: 100%|██████████| 200/200 [00:03<00:00, 57.81query/s]\n",
      "AxiomaticReranker: 100%|██████████| 200/200 [00:02<00:00, 69.81query/s]\n",
      "AxiomaticReranker: 100%|██████████| 200/200 [00:02<00:00, 69.30query/s]\n",
      "AxiomaticReranker: 100%|██████████| 200/200 [00:02<00:00, 75.28query/s]\n",
      "AxiomaticReranker: 100%|██████████| 200/200 [00:02<00:00, 80.40query/s]\n",
      "AxiomaticReranker: 100%|██████████| 200/200 [00:02<00:00, 77.36query/s]\n",
      "AxiomaticReranker: 100%|██████████| 200/200 [00:02<00:00, 67.84query/s]\n",
      "AxiomaticReranker: 100%|██████████| 200/200 [00:03<00:00, 65.51query/s]\n",
      "AxiomaticReranker: 100%|██████████| 200/200 [00:03<00:00, 63.53query/s]\n"
     ]
    },
    {
     "data": {
      "text/plain": "                                                 name   nDCG@10\n0                       RankCutoff(Transformer(), 10)  0.467633\n1                       RankCutoff(Transformer(), 10)  0.638501\n2                       RankCutoff(Transformer(), 10)  0.675600\n3                       RankCutoff(Transformer(), 10)  0.494324\n4                       RankCutoff(Transformer(), 10)  0.464744\n..                                                ...       ...\n69  Compose(RankCutoff(Transformer(), 10), <ir_axi...  0.696790\n70  Compose(RankCutoff(Transformer(), 10), <ir_axi...  0.481071\n71  Compose(RankCutoff(Transformer(), 10), <ir_axi...  0.715965\n72  Compose(RankCutoff(Transformer(), 10), <ir_axi...  0.426686\n73  Compose(RankCutoff(Transformer(), 10), <ir_axi...  0.512009\n\n[74 rows x 2 columns]",
      "text/html": "<div>\n<style scoped>\n    .dataframe tbody tr th:only-of-type {\n        vertical-align: middle;\n    }\n\n    .dataframe tbody tr th {\n        vertical-align: top;\n    }\n\n    .dataframe thead th {\n        text-align: right;\n    }\n</style>\n<table border=\"1\" class=\"dataframe\">\n  <thead>\n    <tr style=\"text-align: right;\">\n      <th></th>\n      <th>name</th>\n      <th>nDCG@10</th>\n    </tr>\n  </thead>\n  <tbody>\n    <tr>\n      <th>0</th>\n      <td>RankCutoff(Transformer(), 10)</td>\n      <td>0.467633</td>\n    </tr>\n    <tr>\n      <th>1</th>\n      <td>RankCutoff(Transformer(), 10)</td>\n      <td>0.638501</td>\n    </tr>\n    <tr>\n      <th>2</th>\n      <td>RankCutoff(Transformer(), 10)</td>\n      <td>0.675600</td>\n    </tr>\n    <tr>\n      <th>3</th>\n      <td>RankCutoff(Transformer(), 10)</td>\n      <td>0.494324</td>\n    </tr>\n    <tr>\n      <th>4</th>\n      <td>RankCutoff(Transformer(), 10)</td>\n      <td>0.464744</td>\n    </tr>\n    <tr>\n      <th>...</th>\n      <td>...</td>\n      <td>...</td>\n    </tr>\n    <tr>\n      <th>69</th>\n      <td>Compose(RankCutoff(Transformer(), 10), &lt;ir_axi...</td>\n      <td>0.696790</td>\n    </tr>\n    <tr>\n      <th>70</th>\n      <td>Compose(RankCutoff(Transformer(), 10), &lt;ir_axi...</td>\n      <td>0.481071</td>\n    </tr>\n    <tr>\n      <th>71</th>\n      <td>Compose(RankCutoff(Transformer(), 10), &lt;ir_axi...</td>\n      <td>0.715965</td>\n    </tr>\n    <tr>\n      <th>72</th>\n      <td>Compose(RankCutoff(Transformer(), 10), &lt;ir_axi...</td>\n      <td>0.426686</td>\n    </tr>\n    <tr>\n      <th>73</th>\n      <td>Compose(RankCutoff(Transformer(), 10), &lt;ir_axi...</td>\n      <td>0.512009</td>\n    </tr>\n  </tbody>\n</table>\n<p>74 rows × 2 columns</p>\n</div>"
     },
     "execution_count": 13,
     "metadata": {},
     "output_type": "execute_result"
    }
   ],
   "source": [
    "from pyterrier.pipelines import Experiment\n",
    "from ir_measures import nDCG\n",
    "\n",
    "# noinspection PyTypeChecker\n",
    "experiment = Experiment(\n",
    "    [*retrieval_systems, *reranked_retrieval_systems],\n",
    "    track.dataset.get_topics(),\n",
    "    track.dataset.get_qrels(),\n",
    "    [nDCG @ 10],\n",
    ")\n",
    "experiment"
   ],
   "metadata": {
    "collapsed": false,
    "pycharm": {
     "name": "#%%\n"
    }
   }
  },
  {
   "cell_type": "code",
   "execution_count": 13,
   "outputs": [],
   "source": [],
   "metadata": {
    "collapsed": false,
    "pycharm": {
     "name": "#%%\n"
    }
   }
  }
 ],
 "metadata": {
  "kernelspec": {
   "display_name": "Python 3",
   "language": "python",
   "name": "python3"
  },
  "language_info": {
   "codemirror_mode": {
    "name": "ipython",
    "version": 2
   },
   "file_extension": ".py",
   "mimetype": "text/x-python",
   "name": "python",
   "nbconvert_exporter": "python",
   "pygments_lexer": "ipython2",
   "version": "2.7.6"
  }
 },
 "nbformat": 4,
 "nbformat_minor": 0
}