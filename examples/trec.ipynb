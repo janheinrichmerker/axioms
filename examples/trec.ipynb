{
 "cells": [
  {
   "cell_type": "code",
   "execution_count": 20,
   "metadata": {
    "collapsed": true
   },
   "outputs": [],
   "source": [
    "# Start/initialize PyTerrier.\n",
    "from pyterrier import started, init\n",
    "\n",
    "if not started():\n",
    "    init(tqdm=\"notebook\")"
   ]
  },
  {
   "cell_type": "code",
   "execution_count": 21,
   "outputs": [],
   "source": [
    "from pathlib import Path\n",
    "\n",
    "base_results_dir = Path(\"/mnt/ceph/storage/data-in-progress/data-research/web-search/web-search-trec/trec-system-runs\")"
   ],
   "metadata": {
    "collapsed": false,
    "pycharm": {
     "name": "#%%\n"
    }
   }
  },
  {
   "cell_type": "code",
   "execution_count": 22,
   "outputs": [],
   "source": [
    "from pyterrier.io import read_results\n",
    "from pyterrier.transformer import Transformer\n",
    "from pyterrier.datasets import Dataset, get_dataset\n",
    "from typing import List, Dict\n",
    "from dataclasses import dataclass\n",
    "\n",
    "\n",
    "@dataclass(frozen=True)\n",
    "class Track:\n",
    "    edition: int\n",
    "    track: str\n",
    "    dataset_name: str\n",
    "\n",
    "    @property\n",
    "    def dataset(self) -> Dataset:\n",
    "        return get_dataset(f\"irds:{self.dataset_name}\")\n",
    "\n",
    "    @property\n",
    "    def result_dir(self) -> Path:\n",
    "        return base_results_dir / f\"trec{self.edition}\" / self.track\n",
    "\n",
    "    @property\n",
    "    def results(self) -> Dict[str, Transformer]:\n",
    "        dataset: Dataset = self.dataset\n",
    "        return {\n",
    "            path.stem.replace(\"input.\", \"\"): Transformer.from_df(read_results(\n",
    "                str(path.absolute()),\n",
    "                dataset=dataset,\n",
    "            ))\n",
    "            for path in self.result_dir.iterdir()\n",
    "        }"
   ],
   "metadata": {
    "collapsed": false,
    "pycharm": {
     "name": "#%%\n"
    }
   }
  },
  {
   "cell_type": "code",
   "execution_count": 23,
   "outputs": [],
   "source": [
    "tracks = [\n",
    "    Track(28, \"deep\", \"msmarco-passage/trec-dl-2019\"),\n",
    "    Track(29, \"deep\", \"msmarco-passage/trec-dl-2020\"),\n",
    "]"
   ],
   "metadata": {
    "collapsed": false,
    "pycharm": {
     "name": "#%%\n"
    }
   }
  },
  {
   "cell_type": "code",
   "execution_count": 24,
   "outputs": [
    {
     "name": "stderr",
     "output_type": "stream",
     "text": [
      "[INFO] [starting] https://msmarco.blob.core.windows.net/msmarcoranking/msmarco-test2020-queries.tsv.gz\n",
      "[INFO] [finished] https://msmarco.blob.core.windows.net/msmarcoranking/msmarco-test2020-queries.tsv.gz: [00:00] [4.13kB] [2.21MB/s]\n",
      "                                                                                                                \r"
     ]
    }
   ],
   "source": [
    "from typing import Tuple\n",
    "\n",
    "results: List[Tuple[Dataset, Dict[str, Transformer]]] = [\n",
    "    (track.dataset, track.results)\n",
    "    for track in tracks\n",
    "]"
   ],
   "metadata": {
    "collapsed": false,
    "pycharm": {
     "name": "#%%\n"
    }
   }
  },
  {
   "cell_type": "code",
   "execution_count": 25,
   "outputs": [],
   "source": [
    "dataset, track_results = results[0]"
   ],
   "metadata": {
    "collapsed": false,
    "pycharm": {
     "name": "#%%\n"
    }
   }
  },
  {
   "cell_type": "code",
   "execution_count": 27,
   "outputs": [],
   "source": [
    "pipelines = [pipeline for _, pipeline in track_results.items()]\n",
    "pipeline_names = [name for name, _ in track_results.items()]"
   ],
   "metadata": {
    "collapsed": false,
    "pycharm": {
     "name": "#%%\n"
    }
   }
  },
  {
   "cell_type": "code",
   "execution_count": 28,
   "outputs": [
    {
     "data": {
      "text/plain": "               name   nDCG@10\n0        TUW19-p1-f  0.675600\n1            runid4  0.702778\n2       bm25tuned_p  0.497332\n3       TUW19-p2-re  0.661479\n4       ICT-CKNRM_B  0.648106\n5     idst_bert_pr1  0.737759\n6   ms_duet_passage  0.613740\n7     UNH_exDL_bm25  0.081719\n8      idst_bert_p1  0.764475\n9    p_exp_rm3_bert  0.742242\n10  srchvrs_ps_run1  0.499044\n11           runid2  0.532180\n12       TUW19-p2-f  0.670856\n13      TUW19-p1-re  0.674628\n14           runid5  0.525246\n15   bm25base_rm3_p  0.518038\n16       p_exp_bert  0.733590\n17  bm25tuned_rm3_p  0.523074\n18  bm25tuned_prf_p  0.553616\n19            test1  0.731450\n20       bm25base_p  0.505831\n21  srchvrs_ps_run2  0.664461\n22       TUW19-p3-f  0.688357\n23    bm25base_ax_p  0.551123\n24           TUA1-1  0.731449\n25           p_bert  0.737975\n26    idst_bert_pr2  0.737948\n27        ICT-BERT2  0.664977\n28   bm25tuned_ax_p  0.546093\n29  srchvrs_ps_run3  0.555784\n30     idst_bert_p2  0.763157\n31     idst_bert_p3  0.759367\n32      TUW19-p3-re  0.674575\n33   bm25base_prf_p  0.537151\n34           runid3  0.697500\n35         UNH_bm25  0.449468\n36    ICT-CKNRM_B50  0.601358",
      "text/html": "<div>\n<style scoped>\n    .dataframe tbody tr th:only-of-type {\n        vertical-align: middle;\n    }\n\n    .dataframe tbody tr th {\n        vertical-align: top;\n    }\n\n    .dataframe thead th {\n        text-align: right;\n    }\n</style>\n<table border=\"1\" class=\"dataframe\">\n  <thead>\n    <tr style=\"text-align: right;\">\n      <th></th>\n      <th>name</th>\n      <th>nDCG@10</th>\n    </tr>\n  </thead>\n  <tbody>\n    <tr>\n      <th>0</th>\n      <td>TUW19-p1-f</td>\n      <td>0.675600</td>\n    </tr>\n    <tr>\n      <th>1</th>\n      <td>runid4</td>\n      <td>0.702778</td>\n    </tr>\n    <tr>\n      <th>2</th>\n      <td>bm25tuned_p</td>\n      <td>0.497332</td>\n    </tr>\n    <tr>\n      <th>3</th>\n      <td>TUW19-p2-re</td>\n      <td>0.661479</td>\n    </tr>\n    <tr>\n      <th>4</th>\n      <td>ICT-CKNRM_B</td>\n      <td>0.648106</td>\n    </tr>\n    <tr>\n      <th>5</th>\n      <td>idst_bert_pr1</td>\n      <td>0.737759</td>\n    </tr>\n    <tr>\n      <th>6</th>\n      <td>ms_duet_passage</td>\n      <td>0.613740</td>\n    </tr>\n    <tr>\n      <th>7</th>\n      <td>UNH_exDL_bm25</td>\n      <td>0.081719</td>\n    </tr>\n    <tr>\n      <th>8</th>\n      <td>idst_bert_p1</td>\n      <td>0.764475</td>\n    </tr>\n    <tr>\n      <th>9</th>\n      <td>p_exp_rm3_bert</td>\n      <td>0.742242</td>\n    </tr>\n    <tr>\n      <th>10</th>\n      <td>srchvrs_ps_run1</td>\n      <td>0.499044</td>\n    </tr>\n    <tr>\n      <th>11</th>\n      <td>runid2</td>\n      <td>0.532180</td>\n    </tr>\n    <tr>\n      <th>12</th>\n      <td>TUW19-p2-f</td>\n      <td>0.670856</td>\n    </tr>\n    <tr>\n      <th>13</th>\n      <td>TUW19-p1-re</td>\n      <td>0.674628</td>\n    </tr>\n    <tr>\n      <th>14</th>\n      <td>runid5</td>\n      <td>0.525246</td>\n    </tr>\n    <tr>\n      <th>15</th>\n      <td>bm25base_rm3_p</td>\n      <td>0.518038</td>\n    </tr>\n    <tr>\n      <th>16</th>\n      <td>p_exp_bert</td>\n      <td>0.733590</td>\n    </tr>\n    <tr>\n      <th>17</th>\n      <td>bm25tuned_rm3_p</td>\n      <td>0.523074</td>\n    </tr>\n    <tr>\n      <th>18</th>\n      <td>bm25tuned_prf_p</td>\n      <td>0.553616</td>\n    </tr>\n    <tr>\n      <th>19</th>\n      <td>test1</td>\n      <td>0.731450</td>\n    </tr>\n    <tr>\n      <th>20</th>\n      <td>bm25base_p</td>\n      <td>0.505831</td>\n    </tr>\n    <tr>\n      <th>21</th>\n      <td>srchvrs_ps_run2</td>\n      <td>0.664461</td>\n    </tr>\n    <tr>\n      <th>22</th>\n      <td>TUW19-p3-f</td>\n      <td>0.688357</td>\n    </tr>\n    <tr>\n      <th>23</th>\n      <td>bm25base_ax_p</td>\n      <td>0.551123</td>\n    </tr>\n    <tr>\n      <th>24</th>\n      <td>TUA1-1</td>\n      <td>0.731449</td>\n    </tr>\n    <tr>\n      <th>25</th>\n      <td>p_bert</td>\n      <td>0.737975</td>\n    </tr>\n    <tr>\n      <th>26</th>\n      <td>idst_bert_pr2</td>\n      <td>0.737948</td>\n    </tr>\n    <tr>\n      <th>27</th>\n      <td>ICT-BERT2</td>\n      <td>0.664977</td>\n    </tr>\n    <tr>\n      <th>28</th>\n      <td>bm25tuned_ax_p</td>\n      <td>0.546093</td>\n    </tr>\n    <tr>\n      <th>29</th>\n      <td>srchvrs_ps_run3</td>\n      <td>0.555784</td>\n    </tr>\n    <tr>\n      <th>30</th>\n      <td>idst_bert_p2</td>\n      <td>0.763157</td>\n    </tr>\n    <tr>\n      <th>31</th>\n      <td>idst_bert_p3</td>\n      <td>0.759367</td>\n    </tr>\n    <tr>\n      <th>32</th>\n      <td>TUW19-p3-re</td>\n      <td>0.674575</td>\n    </tr>\n    <tr>\n      <th>33</th>\n      <td>bm25base_prf_p</td>\n      <td>0.537151</td>\n    </tr>\n    <tr>\n      <th>34</th>\n      <td>runid3</td>\n      <td>0.697500</td>\n    </tr>\n    <tr>\n      <th>35</th>\n      <td>UNH_bm25</td>\n      <td>0.449468</td>\n    </tr>\n    <tr>\n      <th>36</th>\n      <td>ICT-CKNRM_B50</td>\n      <td>0.601358</td>\n    </tr>\n  </tbody>\n</table>\n</div>"
     },
     "execution_count": 28,
     "metadata": {},
     "output_type": "execute_result"
    }
   ],
   "source": [
    "from pyterrier.pipelines import Experiment\n",
    "from ir_measures import nDCG\n",
    "\n",
    "# noinspection PyTypeChecker\n",
    "experiment = Experiment(\n",
    "    pipelines,\n",
    "    dataset.get_topics(),\n",
    "    dataset.get_qrels(),\n",
    "    [nDCG @ 10],\n",
    "    pipeline_names\n",
    ")\n",
    "experiment"
   ],
   "metadata": {
    "collapsed": false,
    "pycharm": {
     "name": "#%%\n"
    }
   }
  },
  {
   "cell_type": "code",
   "execution_count": null,
   "outputs": [],
   "source": [],
   "metadata": {
    "collapsed": false,
    "pycharm": {
     "name": "#%%\n"
    }
   }
  }
 ],
 "metadata": {
  "kernelspec": {
   "display_name": "Python 3",
   "language": "python",
   "name": "python3"
  },
  "language_info": {
   "codemirror_mode": {
    "name": "ipython",
    "version": 2
   },
   "file_extension": ".py",
   "mimetype": "text/x-python",
   "name": "python",
   "nbconvert_exporter": "python",
   "pygments_lexer": "ipython2",
   "version": "2.7.6"
  }
 },
 "nbformat": 4,
 "nbformat_minor": 0
}