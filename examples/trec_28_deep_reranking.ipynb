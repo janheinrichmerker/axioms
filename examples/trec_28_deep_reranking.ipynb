{
 "cells": [
  {
   "cell_type": "code",
   "execution_count": 1,
   "outputs": [],
   "source": [
    "from sys import modules\n",
    "\n",
    "IN_COLAB = 'google.colab' in modules\n",
    "if IN_COLAB:\n",
    "    !pip install -q ir_axioms[examples] python-terrier"
   ],
   "metadata": {
    "collapsed": false,
    "pycharm": {
     "name": "#%%\n"
    }
   }
  },
  {
   "cell_type": "code",
   "execution_count": 2,
   "outputs": [
    {
     "name": "stderr",
     "output_type": "stream",
     "text": [
      "PyTerrier 0.8.0 has loaded Terrier 5.6 (built by craigmacdonald on 2021-09-17 13:27)\n",
      "\n",
      "No etc/terrier.properties, using terrier.default.properties for bootstrap configuration.\n"
     ]
    }
   ],
   "source": [
    "# Start/initialize PyTerrier.\n",
    "from pyterrier import started, init\n",
    "\n",
    "if not started():\n",
    "    init(tqdm=\"auto\")"
   ],
   "metadata": {
    "collapsed": false,
    "pycharm": {
     "name": "#%%\n"
    }
   }
  },
  {
   "cell_type": "code",
   "execution_count": 3,
   "outputs": [],
   "source": [
    "edition = 28\n",
    "track = \"deep\""
   ],
   "metadata": {
    "collapsed": false,
    "pycharm": {
     "name": "#%%\n"
    }
   }
  },
  {
   "cell_type": "code",
   "execution_count": 4,
   "outputs": [],
   "source": [
    "from pyterrier.datasets import get_dataset\n",
    "from ir_datasets import load\n",
    "\n",
    "dataset_name = \"msmarco-passage/trec-dl-2019\"\n",
    "dataset = get_dataset(f\"irds:{dataset_name}\")\n",
    "ir_dataset = load(dataset_name)"
   ],
   "metadata": {
    "collapsed": false,
    "pycharm": {
     "name": "#%%\n"
    }
   }
  },
  {
   "cell_type": "code",
   "execution_count": 5,
   "outputs": [],
   "source": [
    "from pathlib import Path\n",
    "\n",
    "cache_dir = Path(\"cache/\")\n",
    "index_dir = cache_dir / \"indices\" / dataset_name.replace(\"/\", \"-\")\n",
    "result_dir = Path(\n",
    "    \"/mnt/ceph/storage/data-in-progress/data-research/\"\n",
    "    \"web-search/web-search-trec/trec-system-runs\"\n",
    ") / f\"trec{edition}\" / track\n",
    "result_files = list(result_dir.iterdir())"
   ],
   "metadata": {
    "collapsed": false,
    "pycharm": {
     "name": "#%%\n"
    }
   }
  },
  {
   "cell_type": "code",
   "execution_count": null,
   "outputs": [],
   "source": [
    "from pyterrier.io import read_results\n",
    "from pyterrier import Transformer\n",
    "\n",
    "results = [Transformer.from_df(read_results(result_file)) for result_file in result_files]\n",
    "results_names = [result_file.stem.replace(\"input.\", \"\") for result_file in result_files]"
   ],
   "metadata": {
    "collapsed": false,
    "pycharm": {
     "name": "#%%\n"
    }
   }
  },
  {
   "cell_type": "code",
   "execution_count": null,
   "outputs": [
    {
     "data": {
      "text/plain": "msmarco-passage/trec-dl-2019 documents:   0%|          | 0/8841823 [00:00<?, ?it/s]",
      "application/vnd.jupyter.widget-view+json": {
       "version_major": 2,
       "version_minor": 0,
       "model_id": "1a8e9748591b49ee844434e39fe4ce1a"
      }
     },
     "metadata": {},
     "output_type": "display_data"
    }
   ],
   "source": [
    "from pyterrier.index import IterDictIndexer\n",
    "\n",
    "if not index_dir.exists():\n",
    "    indexer = IterDictIndexer(str(index_dir.absolute()))\n",
    "    indexer.index(\n",
    "        dataset.get_corpus_iter(),\n",
    "        fields=[\"text\"]\n",
    "    )"
   ],
   "metadata": {
    "collapsed": false,
    "pycharm": {
     "name": "#%%\n",
     "is_executing": true
    }
   }
  },
  {
   "cell_type": "markdown",
   "source": [
    "## Axiom definition\n",
    "Now let's define our axiom for reranking.\n",
    "In the `ir_axioms` package, we already include many great retrieval axioms that were found useful in literature.\n",
    "But a single axiom alone will likely not affect our ranking much.\n",
    "Therefore, it is essential to combine multiple axioms to form new axioms that can be used for reranking.\n",
    "We'll now combine a few axiom with and (`&`) to only give a score if all axioms agree.\n",
    "Then we add the `OriginalAxiom` as a fallback. That way, if our axioms did not conclude a preference, we use the original ranking order as preference."
   ],
   "metadata": {
    "collapsed": false
   }
  },
  {
   "cell_type": "code",
   "execution_count": null,
   "outputs": [],
   "source": [
    "from ir_axioms.axiom import (\n",
    "    ArgUC, QTArg, QTPArg, aSL, PROX1, PROX2, PROX3, PROX4, PROX5, TFC1, TFC3, RS_TF, RS_TF_IDF, RS_BM25, RS_PL2, RS_QL,\n",
    "    LNC1, TF_LNC, LB1, STMC1, STMC1_f, STMC2, STMC2_f, AND, LEN_AND, M_AND, LEN_M_AND, DIV, LEN_DIV, M_TDC, LEN_M_TDC,\n",
    "    AndAxiom, ORIG, REG, ANTI_REG\n",
    ")\n",
    "\n",
    "# Define axiom for reranker and permutations.\n",
    "axiom = (\n",
    "        AndAxiom([\n",
    "            # ~ArgUC(),  # Very slow due to network access.\n",
    "            # ~QTArg(),  # Very slow due to network access.\n",
    "            # ~QTPArg(),  # Very slow due to network access.\n",
    "            ~aSL(),\n",
    "            ~LNC1(),\n",
    "            ~TF_LNC(),\n",
    "            ~LB1(),\n",
    "            ~PROX1(),\n",
    "            ~PROX2(),\n",
    "            ~PROX3(),\n",
    "            ~PROX4(),\n",
    "            ~PROX5(),\n",
    "            ~REG(),\n",
    "            ~ANTI_REG(),\n",
    "            ~AND(),\n",
    "            ~LEN_AND(),\n",
    "            ~M_AND(),\n",
    "            ~LEN_M_AND(),\n",
    "            ~DIV(),\n",
    "            ~LEN_DIV(),\n",
    "            ~RS_TF(),\n",
    "            ~RS_TF_IDF(),\n",
    "            ~RS_BM25(),\n",
    "            ~RS_PL2(),\n",
    "            ~RS_QL(),\n",
    "            ~TFC1(),\n",
    "            ~TFC3(),\n",
    "            ~M_TDC(),\n",
    "            ~LEN_M_TDC(),\n",
    "            # ~STMC1(),  # Rather slow due many similarity calculations.\n",
    "            # ~STMC1_f(),  # Rather slow due many similarity calculations.\n",
    "            ~STMC2(),\n",
    "            ~STMC2_f(),\n",
    "        ]) | ORIG()\n",
    ")"
   ],
   "metadata": {
    "collapsed": false,
    "pycharm": {
     "name": "#%%\n",
     "is_executing": true
    }
   }
  },
  {
   "cell_type": "code",
   "execution_count": null,
   "outputs": [],
   "source": [
    "from ir_axioms.backend.pyterrier.transformers import AxiomaticReranker\n",
    "\n",
    "reranked = [\n",
    "    ~(\n",
    "            result % 10 >>\n",
    "            AxiomaticReranker(\n",
    "                axiom=axiom,\n",
    "                index=index_dir,\n",
    "                dataset=dataset_name,\n",
    "                verbose=True\n",
    "            ) ^ result\n",
    "    )\n",
    "    for result in results\n",
    "]\n",
    "reranked_names = [f\"{name} reranked\" for name in results_names]"
   ],
   "metadata": {
    "collapsed": false,
    "pycharm": {
     "name": "#%%\n",
     "is_executing": true
    }
   }
  },
  {
   "cell_type": "code",
   "execution_count": null,
   "outputs": [],
   "source": [
    "from pyterrier.pipelines import Experiment\n",
    "from ir_measures import nDCG, MAP\n",
    "\n",
    "experiment = Experiment(\n",
    "    [*results, *reranked],\n",
    "    dataset.get_topics(),\n",
    "    dataset.get_qrels(),\n",
    "    [nDCG @ 5, nDCG @ 10, nDCG @ 20, MAP],\n",
    "    [*results_names, *reranked_names],\n",
    "    verbose=True,\n",
    ")\n",
    "experiment.sort_values(by=\"nDCG@10\", ascending=False, inplace=True)"
   ],
   "metadata": {
    "collapsed": false,
    "pycharm": {
     "name": "#%%\n",
     "is_executing": true
    }
   }
  },
  {
   "cell_type": "code",
   "execution_count": null,
   "outputs": [],
   "source": [
    "experiment"
   ],
   "metadata": {
    "collapsed": false,
    "pycharm": {
     "name": "#%%\n",
     "is_executing": true
    }
   }
  }
 ],
 "metadata": {
  "kernelspec": {
   "display_name": "Python 3",
   "language": "python",
   "name": "python3"
  },
  "language_info": {
   "codemirror_mode": {
    "name": "ipython",
    "version": 2
   },
   "file_extension": ".py",
   "mimetype": "text/x-python",
   "name": "python",
   "nbconvert_exporter": "python",
   "pygments_lexer": "ipython2",
   "version": "2.7.6"
  }
 },
 "nbformat": 4,
 "nbformat_minor": 0
}