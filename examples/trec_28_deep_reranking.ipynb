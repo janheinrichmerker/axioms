{
 "cells": [
  {
   "cell_type": "code",
   "execution_count": 15,
   "outputs": [],
   "source": [
    "from sys import modules\n",
    "\n",
    "IN_COLAB = 'google.colab' in modules\n",
    "if IN_COLAB:\n",
    "    !pip install -q ir_axioms python-terrier"
   ],
   "metadata": {
    "collapsed": false,
    "pycharm": {
     "name": "#%%\n"
    }
   }
  },
  {
   "cell_type": "code",
   "execution_count": 16,
   "outputs": [],
   "source": [
    "# Start/initialize PyTerrier.\n",
    "from pyterrier import started, init\n",
    "\n",
    "if not started():\n",
    "    init(tqdm=\"notebook\")"
   ],
   "metadata": {
    "collapsed": false,
    "pycharm": {
     "name": "#%%\n"
    }
   }
  },
  {
   "cell_type": "code",
   "execution_count": 17,
   "outputs": [],
   "source": [
    "from pathlib import Path\n",
    "\n",
    "cache_dir = Path(f\"./cache/\")"
   ],
   "metadata": {
    "collapsed": false,
    "pycharm": {
     "name": "#%%\n"
    }
   }
  },
  {
   "cell_type": "code",
   "execution_count": 18,
   "outputs": [
    {
     "data": {
      "text/plain": "Read results:   0%|          | 0/37 [00:00<?, ?run/s]",
      "application/vnd.jupyter.widget-view+json": {
       "version_major": 2,
       "version_minor": 0,
       "model_id": "13e178cd5e384673b34f1d26152ed805"
      }
     },
     "metadata": {},
     "output_type": "display_data"
    }
   ],
   "source": [
    "from pathlib import Path\n",
    "from examples.trec_util import TrecTrack\n",
    "\n",
    "track = TrecTrack(\n",
    "    28, \"deep\", \"msmarco-passage/trec-dl-2019\", cache_dir,\n",
    "    Path(\n",
    "        \"/mnt/ceph/storage/data-in-progress/data-research/\"\n",
    "        \"web-search/web-search-trec/trec-system-runs\"\n",
    "    )\n",
    ")\n",
    "retrieval_systems = [result % 10 for result in track.results]"
   ],
   "metadata": {
    "collapsed": false,
    "pycharm": {
     "name": "#%%\n"
    }
   }
  },
  {
   "cell_type": "code",
   "execution_count": 19,
   "outputs": [],
   "source": [
    "from ir_axioms.axiom import (\n",
    "    ArgUC, QTArg, QTPArg, aSL, PROX1, PROX2, PROX3, PROX4, PROX5, TFC1, TFC3, RS_TF, RS_TF_IDF, RS_BM25, RS_PL2, RS_QL,\n",
    "    LNC1, TF_LNC, LB1, STMC1, STMC1_f, STMC2, STMC2_f, AND, LEN_AND, M_AND, LEN_M_AND, DIV, LEN_DIV, M_TDC, LEN_M_TDC,\n",
    "    AndAxiom\n",
    ")\n",
    "\n",
    "# Define axiom for reranker and permutations.\n",
    "axiom = AndAxiom([\n",
    "    ~ArgUC(),\n",
    "    ~QTArg(),\n",
    "    ~QTPArg(),\n",
    "    ~aSL(),\n",
    "    ~LNC1(),\n",
    "    ~TF_LNC(),\n",
    "    ~LB1(),\n",
    "    ~PROX1(),\n",
    "    ~PROX2(),\n",
    "    ~PROX3(),\n",
    "    ~PROX4(),\n",
    "    ~PROX5(),\n",
    "    # ~REG(),  # Tie\n",
    "    # ~ANTI_REG(),  # Tie\n",
    "    ~AND(),\n",
    "    ~LEN_AND(),\n",
    "    ~M_AND(),\n",
    "    ~LEN_M_AND(),\n",
    "    ~DIV(),\n",
    "    ~LEN_DIV(),\n",
    "    ~RS_TF(),\n",
    "    ~RS_TF_IDF(),\n",
    "    ~RS_BM25(),\n",
    "    ~RS_PL2(),\n",
    "    ~RS_QL(),\n",
    "    ~TFC1(),\n",
    "    ~TFC3(),\n",
    "    ~M_TDC(),\n",
    "    ~LEN_M_TDC(),\n",
    "    ~STMC1(),\n",
    "    ~STMC1_f(),\n",
    "    ~STMC2(),\n",
    "    ~STMC2_f(),\n",
    "])"
   ],
   "metadata": {
    "collapsed": false,
    "pycharm": {
     "name": "#%%\n"
    }
   }
  },
  {
   "cell_type": "code",
   "execution_count": 20,
   "outputs": [],
   "source": [
    "from ir_axioms.backend.pyterrier.transformers import AxiomaticReranker\n",
    "\n",
    "reranked_retrieval_systems = [\n",
    "    ~(\n",
    "            retrieval_system >> AxiomaticReranker(\n",
    "        axiom=axiom,\n",
    "        index=track.index,\n",
    "        dataset=track.dataset_name,\n",
    "        verbose=True\n",
    "    )\n",
    "    )\n",
    "    for retrieval_system in retrieval_systems\n",
    "]"
   ],
   "metadata": {
    "collapsed": false,
    "pycharm": {
     "name": "#%%\n"
    }
   }
  },
  {
   "cell_type": "code",
   "execution_count": 21,
   "outputs": [
    {
     "data": {
      "text/plain": "pt.Experiment:   0%|          | 0/74 [00:00<?, ?system/s]",
      "application/vnd.jupyter.widget-view+json": {
       "version_major": 2,
       "version_minor": 0,
       "model_id": "7b08e6e328144561b81416fc631b5fd8"
      }
     },
     "metadata": {},
     "output_type": "display_data"
    },
    {
     "data": {
      "text/plain": "Reranking axiomatically:   0%|          | 0/200 [00:00<?, ?query/s]",
      "application/vnd.jupyter.widget-view+json": {
       "version_major": 2,
       "version_minor": 0,
       "model_id": "39411e7c5f5f4770bffbbb45521dd845"
      }
     },
     "metadata": {},
     "output_type": "display_data"
    },
    {
     "ename": "KeyboardInterrupt",
     "evalue": "",
     "output_type": "error",
     "traceback": [
      "\u001B[0;31m---------------------------------------------------------------------------\u001B[0m",
      "\u001B[0;31mKeyboardInterrupt\u001B[0m                         Traceback (most recent call last)",
      "Input \u001B[0;32mIn [21]\u001B[0m, in \u001B[0;36m<module>\u001B[0;34m\u001B[0m\n\u001B[1;32m      2\u001B[0m \u001B[38;5;28;01mfrom\u001B[39;00m \u001B[38;5;21;01mir_measures\u001B[39;00m \u001B[38;5;28;01mimport\u001B[39;00m nDCG\n\u001B[1;32m      4\u001B[0m \u001B[38;5;66;03m# noinspection PyTypeChecker\u001B[39;00m\n\u001B[0;32m----> 5\u001B[0m experiment \u001B[38;5;241m=\u001B[39m \u001B[43mExperiment\u001B[49m\u001B[43m(\u001B[49m\n\u001B[1;32m      6\u001B[0m \u001B[43m    \u001B[49m\u001B[43m[\u001B[49m\u001B[38;5;241;43m*\u001B[39;49m\u001B[43mreranked_retrieval_systems\u001B[49m\u001B[43m,\u001B[49m\u001B[43m \u001B[49m\u001B[38;5;241;43m*\u001B[39;49m\u001B[43mretrieval_systems\u001B[49m\u001B[43m]\u001B[49m\u001B[43m,\u001B[49m\n\u001B[1;32m      7\u001B[0m \u001B[43m    \u001B[49m\u001B[43mtrack\u001B[49m\u001B[38;5;241;43m.\u001B[39;49m\u001B[43mdataset\u001B[49m\u001B[38;5;241;43m.\u001B[39;49m\u001B[43mget_topics\u001B[49m\u001B[43m(\u001B[49m\u001B[43m)\u001B[49m\u001B[43m,\u001B[49m\n\u001B[1;32m      8\u001B[0m \u001B[43m    \u001B[49m\u001B[43mtrack\u001B[49m\u001B[38;5;241;43m.\u001B[39;49m\u001B[43mdataset\u001B[49m\u001B[38;5;241;43m.\u001B[39;49m\u001B[43mget_qrels\u001B[49m\u001B[43m(\u001B[49m\u001B[43m)\u001B[49m\u001B[43m,\u001B[49m\n\u001B[1;32m      9\u001B[0m \u001B[43m    \u001B[49m\u001B[43m[\u001B[49m\u001B[43mnDCG\u001B[49m\u001B[43m \u001B[49m\u001B[38;5;241;43m@\u001B[39;49m\u001B[43m \u001B[49m\u001B[38;5;241;43m10\u001B[39;49m\u001B[43m]\u001B[49m\u001B[43m,\u001B[49m\n\u001B[1;32m     10\u001B[0m \u001B[43m    \u001B[49m\u001B[43mverbose\u001B[49m\u001B[38;5;241;43m=\u001B[39;49m\u001B[38;5;28;43;01mTrue\u001B[39;49;00m\u001B[43m,\u001B[49m\n\u001B[1;32m     11\u001B[0m \u001B[43m)\u001B[49m\n\u001B[1;32m     12\u001B[0m experiment\n",
      "File \u001B[0;32m~/Development/webis/ir_axioms/venv-pyterrier/lib/python3.8/site-packages/pyterrier/pipelines.py:450\u001B[0m, in \u001B[0;36mExperiment\u001B[0;34m(retr_systems, topics, qrels, eval_metrics, names, perquery, dataframe, batch_size, filter_by_qrels, filter_by_topics, baseline, test, correction, correction_alpha, highlight, round, verbose, save_dir, save_mode, **kwargs)\u001B[0m\n\u001B[1;32m    447\u001B[0m \u001B[38;5;28;01mif\u001B[39;00m save_dir \u001B[38;5;129;01mis\u001B[39;00m \u001B[38;5;129;01mnot\u001B[39;00m \u001B[38;5;28;01mNone\u001B[39;00m:\n\u001B[1;32m    448\u001B[0m     save_file \u001B[38;5;241m=\u001B[39m os\u001B[38;5;241m.\u001B[39mpath\u001B[38;5;241m.\u001B[39mjoin(save_dir, \u001B[38;5;124m\"\u001B[39m\u001B[38;5;132;01m%s\u001B[39;00m\u001B[38;5;124m.res.gz\u001B[39m\u001B[38;5;124m\"\u001B[39m \u001B[38;5;241m%\u001B[39m name)\n\u001B[0;32m--> 450\u001B[0m time, evalMeasuresDict \u001B[38;5;241m=\u001B[39m \u001B[43m_run_and_evaluate\u001B[49m\u001B[43m(\u001B[49m\n\u001B[1;32m    451\u001B[0m \u001B[43m    \u001B[49m\u001B[43msystem\u001B[49m\u001B[43m,\u001B[49m\u001B[43m \u001B[49m\u001B[43mtopics\u001B[49m\u001B[43m,\u001B[49m\u001B[43m \u001B[49m\u001B[43mqrels\u001B[49m\u001B[43m,\u001B[49m\u001B[43m \u001B[49m\u001B[43meval_metrics\u001B[49m\u001B[43m,\u001B[49m\u001B[43m \u001B[49m\n\u001B[1;32m    452\u001B[0m \u001B[43m    \u001B[49m\u001B[43mperquery\u001B[49m\u001B[38;5;241;43m=\u001B[39;49m\u001B[43mperquery\u001B[49m\u001B[43m \u001B[49m\u001B[38;5;129;43;01mor\u001B[39;49;00m\u001B[43m \u001B[49m\u001B[43mbaseline\u001B[49m\u001B[43m \u001B[49m\u001B[38;5;129;43;01mis\u001B[39;49;00m\u001B[43m \u001B[49m\u001B[38;5;129;43;01mnot\u001B[39;49;00m\u001B[43m \u001B[49m\u001B[38;5;28;43;01mNone\u001B[39;49;00m\u001B[43m,\u001B[49m\u001B[43m \u001B[49m\n\u001B[1;32m    453\u001B[0m \u001B[43m    \u001B[49m\u001B[43mbatch_size\u001B[49m\u001B[38;5;241;43m=\u001B[39;49m\u001B[43mbatch_size\u001B[49m\u001B[43m,\u001B[49m\u001B[43m \u001B[49m\n\u001B[1;32m    454\u001B[0m \u001B[43m    \u001B[49m\u001B[43mbackfill_qids\u001B[49m\u001B[38;5;241;43m=\u001B[39;49m\u001B[43mall_topic_qids\u001B[49m\u001B[43m \u001B[49m\u001B[38;5;28;43;01mif\u001B[39;49;00m\u001B[43m \u001B[49m\u001B[43mperquery\u001B[49m\u001B[43m \u001B[49m\u001B[38;5;28;43;01melse\u001B[39;49;00m\u001B[43m \u001B[49m\u001B[38;5;28;43;01mNone\u001B[39;49;00m\u001B[43m,\u001B[49m\n\u001B[1;32m    455\u001B[0m \u001B[43m    \u001B[49m\u001B[43msave_file\u001B[49m\u001B[38;5;241;43m=\u001B[39;49m\u001B[43msave_file\u001B[49m\u001B[43m,\u001B[49m\n\u001B[1;32m    456\u001B[0m \u001B[43m    \u001B[49m\u001B[43msave_mode\u001B[49m\u001B[38;5;241;43m=\u001B[39;49m\u001B[43msave_mode\u001B[49m\u001B[43m,\u001B[49m\n\u001B[1;32m    457\u001B[0m \u001B[43m    \u001B[49m\u001B[43mpbar\u001B[49m\u001B[38;5;241;43m=\u001B[39;49m\u001B[43mpbar\u001B[49m\u001B[43m)\u001B[49m\n\u001B[1;32m    459\u001B[0m \u001B[38;5;28;01mif\u001B[39;00m baseline \u001B[38;5;129;01mis\u001B[39;00m \u001B[38;5;129;01mnot\u001B[39;00m \u001B[38;5;28;01mNone\u001B[39;00m:\n\u001B[1;32m    460\u001B[0m     evalDictsPerQ\u001B[38;5;241m.\u001B[39mappend(evalMeasuresDict)\n",
      "File \u001B[0;32m~/Development/webis/ir_axioms/venv-pyterrier/lib/python3.8/site-packages/pyterrier/pipelines.py:171\u001B[0m, in \u001B[0;36m_run_and_evaluate\u001B[0;34m(system, topics, qrels, metrics, pbar, save_mode, save_file, perquery, batch_size, backfill_qids)\u001B[0m\n\u001B[1;32m    167\u001B[0m \u001B[38;5;28;01melif\u001B[39;00m batch_size \u001B[38;5;129;01mis\u001B[39;00m \u001B[38;5;28;01mNone\u001B[39;00m:\n\u001B[1;32m    168\u001B[0m     \u001B[38;5;66;03m#transformer, evaluate all queries at once\u001B[39;00m\n\u001B[1;32m    170\u001B[0m     starttime \u001B[38;5;241m=\u001B[39m timer()\n\u001B[0;32m--> 171\u001B[0m     res \u001B[38;5;241m=\u001B[39m \u001B[43msystem\u001B[49m\u001B[38;5;241;43m.\u001B[39;49m\u001B[43mtransform\u001B[49m\u001B[43m(\u001B[49m\u001B[43mtopics\u001B[49m\u001B[43m)\u001B[49m\n\u001B[1;32m    172\u001B[0m     endtime \u001B[38;5;241m=\u001B[39m timer()\n\u001B[1;32m    173\u001B[0m     runtime \u001B[38;5;241m=\u001B[39m  (endtime \u001B[38;5;241m-\u001B[39m starttime) \u001B[38;5;241m*\u001B[39m \u001B[38;5;241m1000.\u001B[39m\n",
      "File \u001B[0;32m~/Development/webis/ir_axioms/venv-pyterrier/lib/python3.8/site-packages/pyterrier/cache.py:146\u001B[0m, in \u001B[0;36mChestCacheTransformer.transform\u001B[0;34m(self, input_res)\u001B[0m\n\u001B[1;32m    144\u001B[0m \u001B[38;5;28;01mif\u001B[39;00m \u001B[38;5;124m\"\u001B[39m\u001B[38;5;124mdocid\u001B[39m\u001B[38;5;124m\"\u001B[39m \u001B[38;5;129;01min\u001B[39;00m input_res\u001B[38;5;241m.\u001B[39mcolumns \u001B[38;5;129;01mor\u001B[39;00m \u001B[38;5;124m\"\u001B[39m\u001B[38;5;124mdocno\u001B[39m\u001B[38;5;124m\"\u001B[39m \u001B[38;5;129;01min\u001B[39;00m input_res\u001B[38;5;241m.\u001B[39mcolumns:\n\u001B[1;32m    145\u001B[0m     \u001B[38;5;28;01mraise\u001B[39;00m \u001B[38;5;167;01mValueError\u001B[39;00m(\u001B[38;5;124m\"\u001B[39m\u001B[38;5;124mCaching of \u001B[39m\u001B[38;5;132;01m%s\u001B[39;00m\u001B[38;5;124m for re-ranking is not supported. Caching currently only supports input dataframes with queries as inputs and cannot be used for re-rankers.\u001B[39m\u001B[38;5;124m\"\u001B[39m \u001B[38;5;241m%\u001B[39m \u001B[38;5;28mself\u001B[39m\u001B[38;5;241m.\u001B[39minner\u001B[38;5;241m.\u001B[39m\u001B[38;5;21m__repr__\u001B[39m())\n\u001B[0;32m--> 146\u001B[0m \u001B[38;5;28;01mreturn\u001B[39;00m \u001B[38;5;28;43mself\u001B[39;49m\u001B[38;5;241;43m.\u001B[39;49m\u001B[43m_transform_qid\u001B[49m\u001B[43m(\u001B[49m\u001B[43minput_res\u001B[49m\u001B[43m)\u001B[49m\n",
      "File \u001B[0;32m~/Development/webis/ir_axioms/venv-pyterrier/lib/python3.8/site-packages/pyterrier/cache.py:170\u001B[0m, in \u001B[0;36mChestCacheTransformer._transform_qid\u001B[0;34m(self, input_res)\u001B[0m\n\u001B[1;32m    168\u001B[0m \u001B[38;5;28;01mif\u001B[39;00m \u001B[38;5;28mlen\u001B[39m(todo) \u001B[38;5;241m>\u001B[39m \u001B[38;5;241m0\u001B[39m:\n\u001B[1;32m    169\u001B[0m     todo_df \u001B[38;5;241m=\u001B[39m pd\u001B[38;5;241m.\u001B[39mconcat(todo)\n\u001B[0;32m--> 170\u001B[0m     todo_res \u001B[38;5;241m=\u001B[39m \u001B[38;5;28;43mself\u001B[39;49m\u001B[38;5;241;43m.\u001B[39;49m\u001B[43minner\u001B[49m\u001B[38;5;241;43m.\u001B[39;49m\u001B[43mtransform\u001B[49m\u001B[43m(\u001B[49m\u001B[43mtodo_df\u001B[49m\u001B[43m)\u001B[49m\n\u001B[1;32m    171\u001B[0m     \u001B[38;5;28;01mfor\u001B[39;00m row \u001B[38;5;129;01min\u001B[39;00m todo_df\u001B[38;5;241m.\u001B[39mitertuples():\n\u001B[1;32m    172\u001B[0m         qid \u001B[38;5;241m=\u001B[39m row\u001B[38;5;241m.\u001B[39mqid\n",
      "File \u001B[0;32m~/Development/webis/ir_axioms/venv-pyterrier/lib/python3.8/site-packages/pyterrier/transformer.py:879\u001B[0m, in \u001B[0;36mComposedPipeline.transform\u001B[0;34m(self, topics)\u001B[0m\n\u001B[1;32m    877\u001B[0m \u001B[38;5;28;01mdef\u001B[39;00m \u001B[38;5;21mtransform\u001B[39m(\u001B[38;5;28mself\u001B[39m, topics):\n\u001B[1;32m    878\u001B[0m     \u001B[38;5;28;01mfor\u001B[39;00m m \u001B[38;5;129;01min\u001B[39;00m \u001B[38;5;28mself\u001B[39m\u001B[38;5;241m.\u001B[39mmodels:\n\u001B[0;32m--> 879\u001B[0m         topics \u001B[38;5;241m=\u001B[39m \u001B[43mm\u001B[49m\u001B[38;5;241;43m.\u001B[39;49m\u001B[43mtransform\u001B[49m\u001B[43m(\u001B[49m\u001B[43mtopics\u001B[49m\u001B[43m)\u001B[49m\n\u001B[1;32m    880\u001B[0m     \u001B[38;5;28;01mreturn\u001B[39;00m topics\n",
      "File \u001B[0;32m~/Development/webis/ir_axioms/ir_axioms/backend/pyterrier/transformers.py:54\u001B[0m, in \u001B[0;36mPerGroupTransformer.transform\u001B[0;34m(self, topics_or_res)\u001B[0m\n\u001B[1;32m     48\u001B[0m \u001B[38;5;28;01mif\u001B[39;00m \u001B[38;5;28mself\u001B[39m\u001B[38;5;241m.\u001B[39mverbose:\n\u001B[1;32m     49\u001B[0m     \u001B[38;5;66;03m# Show progress during reranking queries.\u001B[39;00m\n\u001B[1;32m     50\u001B[0m     tqdm\u001B[38;5;241m.\u001B[39mpandas(\n\u001B[1;32m     51\u001B[0m         desc\u001B[38;5;241m=\u001B[39m\u001B[38;5;28mself\u001B[39m\u001B[38;5;241m.\u001B[39mdescription,\n\u001B[1;32m     52\u001B[0m         unit\u001B[38;5;241m=\u001B[39m\u001B[38;5;28mself\u001B[39m\u001B[38;5;241m.\u001B[39munit,\n\u001B[1;32m     53\u001B[0m     )\n\u001B[0;32m---> 54\u001B[0m     query_rankings \u001B[38;5;241m=\u001B[39m \u001B[43mquery_rankings\u001B[49m\u001B[38;5;241;43m.\u001B[39;49m\u001B[43mprogress_apply\u001B[49m\u001B[43m(\u001B[49m\n\u001B[1;32m     55\u001B[0m \u001B[43m        \u001B[49m\u001B[38;5;28;43mself\u001B[39;49m\u001B[38;5;241;43m.\u001B[39;49m\u001B[43mtransform_group\u001B[49m\n\u001B[1;32m     56\u001B[0m \u001B[43m    \u001B[49m\u001B[43m)\u001B[49m\n\u001B[1;32m     57\u001B[0m \u001B[38;5;28;01melse\u001B[39;00m:\n\u001B[1;32m     58\u001B[0m     query_rankings \u001B[38;5;241m=\u001B[39m query_rankings\u001B[38;5;241m.\u001B[39mapply(\u001B[38;5;28mself\u001B[39m\u001B[38;5;241m.\u001B[39mtransform_group)\n",
      "File \u001B[0;32m~/Development/webis/ir_axioms/venv-pyterrier/lib/python3.8/site-packages/tqdm/std.py:814\u001B[0m, in \u001B[0;36mtqdm.pandas.<locals>.inner_generator.<locals>.inner\u001B[0;34m(df, func, *args, **kwargs)\u001B[0m\n\u001B[1;32m    811\u001B[0m \u001B[38;5;66;03m# Apply the provided function (in **kwargs)\u001B[39;00m\n\u001B[1;32m    812\u001B[0m \u001B[38;5;66;03m# on the df using our wrapper (which provides bar updating)\u001B[39;00m\n\u001B[1;32m    813\u001B[0m \u001B[38;5;28;01mtry\u001B[39;00m:\n\u001B[0;32m--> 814\u001B[0m     \u001B[38;5;28;01mreturn\u001B[39;00m \u001B[38;5;28;43mgetattr\u001B[39;49m\u001B[43m(\u001B[49m\u001B[43mdf\u001B[49m\u001B[43m,\u001B[49m\u001B[43m \u001B[49m\u001B[43mdf_function\u001B[49m\u001B[43m)\u001B[49m\u001B[43m(\u001B[49m\u001B[43mwrapper\u001B[49m\u001B[43m,\u001B[49m\u001B[43m \u001B[49m\u001B[38;5;241;43m*\u001B[39;49m\u001B[38;5;241;43m*\u001B[39;49m\u001B[43mkwargs\u001B[49m\u001B[43m)\u001B[49m\n\u001B[1;32m    815\u001B[0m \u001B[38;5;28;01mfinally\u001B[39;00m:\n\u001B[1;32m    816\u001B[0m     t\u001B[38;5;241m.\u001B[39mclose()\n",
      "File \u001B[0;32m~/Development/webis/ir_axioms/venv-pyterrier/lib/python3.8/site-packages/pandas/core/groupby/groupby.py:1414\u001B[0m, in \u001B[0;36mGroupBy.apply\u001B[0;34m(self, func, *args, **kwargs)\u001B[0m\n\u001B[1;32m   1412\u001B[0m \u001B[38;5;28;01mwith\u001B[39;00m option_context(\u001B[38;5;124m\"\u001B[39m\u001B[38;5;124mmode.chained_assignment\u001B[39m\u001B[38;5;124m\"\u001B[39m, \u001B[38;5;28;01mNone\u001B[39;00m):\n\u001B[1;32m   1413\u001B[0m     \u001B[38;5;28;01mtry\u001B[39;00m:\n\u001B[0;32m-> 1414\u001B[0m         result \u001B[38;5;241m=\u001B[39m \u001B[38;5;28;43mself\u001B[39;49m\u001B[38;5;241;43m.\u001B[39;49m\u001B[43m_python_apply_general\u001B[49m\u001B[43m(\u001B[49m\u001B[43mf\u001B[49m\u001B[43m,\u001B[49m\u001B[43m \u001B[49m\u001B[38;5;28;43mself\u001B[39;49m\u001B[38;5;241;43m.\u001B[39;49m\u001B[43m_selected_obj\u001B[49m\u001B[43m)\u001B[49m\n\u001B[1;32m   1415\u001B[0m     \u001B[38;5;28;01mexcept\u001B[39;00m \u001B[38;5;167;01mTypeError\u001B[39;00m:\n\u001B[1;32m   1416\u001B[0m         \u001B[38;5;66;03m# gh-20949\u001B[39;00m\n\u001B[1;32m   1417\u001B[0m         \u001B[38;5;66;03m# try again, with .apply acting as a filtering\u001B[39;00m\n\u001B[0;32m   (...)\u001B[0m\n\u001B[1;32m   1421\u001B[0m         \u001B[38;5;66;03m# fails on *some* columns, e.g. a numeric operation\u001B[39;00m\n\u001B[1;32m   1422\u001B[0m         \u001B[38;5;66;03m# on a string grouper column\u001B[39;00m\n\u001B[1;32m   1424\u001B[0m         \u001B[38;5;28;01mwith\u001B[39;00m \u001B[38;5;28mself\u001B[39m\u001B[38;5;241m.\u001B[39m_group_selection_context():\n",
      "File \u001B[0;32m~/Development/webis/ir_axioms/venv-pyterrier/lib/python3.8/site-packages/pandas/core/groupby/groupby.py:1455\u001B[0m, in \u001B[0;36mGroupBy._python_apply_general\u001B[0;34m(self, f, data, not_indexed_same)\u001B[0m\n\u001B[1;32m   1429\u001B[0m \u001B[38;5;129m@final\u001B[39m\n\u001B[1;32m   1430\u001B[0m \u001B[38;5;28;01mdef\u001B[39;00m \u001B[38;5;21m_python_apply_general\u001B[39m(\n\u001B[1;32m   1431\u001B[0m     \u001B[38;5;28mself\u001B[39m,\n\u001B[0;32m   (...)\u001B[0m\n\u001B[1;32m   1434\u001B[0m     not_indexed_same: \u001B[38;5;28mbool\u001B[39m \u001B[38;5;241m|\u001B[39m \u001B[38;5;28;01mNone\u001B[39;00m \u001B[38;5;241m=\u001B[39m \u001B[38;5;28;01mNone\u001B[39;00m,\n\u001B[1;32m   1435\u001B[0m ) \u001B[38;5;241m-\u001B[39m\u001B[38;5;241m>\u001B[39m DataFrame \u001B[38;5;241m|\u001B[39m Series:\n\u001B[1;32m   1436\u001B[0m     \u001B[38;5;124;03m\"\"\"\u001B[39;00m\n\u001B[1;32m   1437\u001B[0m \u001B[38;5;124;03m    Apply function f in python space\u001B[39;00m\n\u001B[1;32m   1438\u001B[0m \n\u001B[0;32m   (...)\u001B[0m\n\u001B[1;32m   1453\u001B[0m \u001B[38;5;124;03m        data after applying f\u001B[39;00m\n\u001B[1;32m   1454\u001B[0m \u001B[38;5;124;03m    \"\"\"\u001B[39;00m\n\u001B[0;32m-> 1455\u001B[0m     values, mutated \u001B[38;5;241m=\u001B[39m \u001B[38;5;28;43mself\u001B[39;49m\u001B[38;5;241;43m.\u001B[39;49m\u001B[43mgrouper\u001B[49m\u001B[38;5;241;43m.\u001B[39;49m\u001B[43mapply\u001B[49m\u001B[43m(\u001B[49m\u001B[43mf\u001B[49m\u001B[43m,\u001B[49m\u001B[43m \u001B[49m\u001B[43mdata\u001B[49m\u001B[43m,\u001B[49m\u001B[43m \u001B[49m\u001B[38;5;28;43mself\u001B[39;49m\u001B[38;5;241;43m.\u001B[39;49m\u001B[43maxis\u001B[49m\u001B[43m)\u001B[49m\n\u001B[1;32m   1457\u001B[0m     \u001B[38;5;28;01mif\u001B[39;00m not_indexed_same \u001B[38;5;129;01mis\u001B[39;00m \u001B[38;5;28;01mNone\u001B[39;00m:\n\u001B[1;32m   1458\u001B[0m         not_indexed_same \u001B[38;5;241m=\u001B[39m mutated \u001B[38;5;129;01mor\u001B[39;00m \u001B[38;5;28mself\u001B[39m\u001B[38;5;241m.\u001B[39mmutated\n",
      "File \u001B[0;32m~/Development/webis/ir_axioms/venv-pyterrier/lib/python3.8/site-packages/pandas/core/groupby/ops.py:761\u001B[0m, in \u001B[0;36mBaseGrouper.apply\u001B[0;34m(self, f, data, axis)\u001B[0m\n\u001B[1;32m    759\u001B[0m \u001B[38;5;66;03m# group might be modified\u001B[39;00m\n\u001B[1;32m    760\u001B[0m group_axes \u001B[38;5;241m=\u001B[39m group\u001B[38;5;241m.\u001B[39maxes\n\u001B[0;32m--> 761\u001B[0m res \u001B[38;5;241m=\u001B[39m \u001B[43mf\u001B[49m\u001B[43m(\u001B[49m\u001B[43mgroup\u001B[49m\u001B[43m)\u001B[49m\n\u001B[1;32m    762\u001B[0m \u001B[38;5;28;01mif\u001B[39;00m \u001B[38;5;129;01mnot\u001B[39;00m mutated \u001B[38;5;129;01mand\u001B[39;00m \u001B[38;5;129;01mnot\u001B[39;00m _is_indexed_like(res, group_axes, axis):\n\u001B[1;32m    763\u001B[0m     mutated \u001B[38;5;241m=\u001B[39m \u001B[38;5;28;01mTrue\u001B[39;00m\n",
      "File \u001B[0;32m~/Development/webis/ir_axioms/venv-pyterrier/lib/python3.8/site-packages/tqdm/std.py:809\u001B[0m, in \u001B[0;36mtqdm.pandas.<locals>.inner_generator.<locals>.inner.<locals>.wrapper\u001B[0;34m(*args, **kwargs)\u001B[0m\n\u001B[1;32m    803\u001B[0m \u001B[38;5;28;01mdef\u001B[39;00m \u001B[38;5;21mwrapper\u001B[39m(\u001B[38;5;241m*\u001B[39margs, \u001B[38;5;241m*\u001B[39m\u001B[38;5;241m*\u001B[39mkwargs):\n\u001B[1;32m    804\u001B[0m     \u001B[38;5;66;03m# update tbar correctly\u001B[39;00m\n\u001B[1;32m    805\u001B[0m     \u001B[38;5;66;03m# it seems `pandas apply` calls `func` twice\u001B[39;00m\n\u001B[1;32m    806\u001B[0m     \u001B[38;5;66;03m# on the first column/row to decide whether it can\u001B[39;00m\n\u001B[1;32m    807\u001B[0m     \u001B[38;5;66;03m# take a fast or slow code path; so stop when t.total==t.n\u001B[39;00m\n\u001B[1;32m    808\u001B[0m     t\u001B[38;5;241m.\u001B[39mupdate(n\u001B[38;5;241m=\u001B[39m\u001B[38;5;241m1\u001B[39m \u001B[38;5;28;01mif\u001B[39;00m \u001B[38;5;129;01mnot\u001B[39;00m t\u001B[38;5;241m.\u001B[39mtotal \u001B[38;5;129;01mor\u001B[39;00m t\u001B[38;5;241m.\u001B[39mn \u001B[38;5;241m<\u001B[39m t\u001B[38;5;241m.\u001B[39mtotal \u001B[38;5;28;01melse\u001B[39;00m \u001B[38;5;241m0\u001B[39m)\n\u001B[0;32m--> 809\u001B[0m     \u001B[38;5;28;01mreturn\u001B[39;00m \u001B[43mfunc\u001B[49m\u001B[43m(\u001B[49m\u001B[38;5;241;43m*\u001B[39;49m\u001B[43margs\u001B[49m\u001B[43m,\u001B[49m\u001B[43m \u001B[49m\u001B[38;5;241;43m*\u001B[39;49m\u001B[38;5;241;43m*\u001B[39;49m\u001B[43mkwargs\u001B[49m\u001B[43m)\u001B[49m\n",
      "File \u001B[0;32m~/Development/webis/ir_axioms/ir_axioms/backend/pyterrier/transformers.py:129\u001B[0m, in \u001B[0;36mAxiomTransformer.transform_group\u001B[0;34m(self, topics_or_res)\u001B[0m\n\u001B[1;32m    119\u001B[0m \u001B[38;5;28;01melse\u001B[39;00m:\n\u001B[1;32m    120\u001B[0m     documents \u001B[38;5;241m=\u001B[39m [\n\u001B[1;32m    121\u001B[0m         RankedDocument(\n\u001B[1;32m    122\u001B[0m             \u001B[38;5;28mid\u001B[39m\u001B[38;5;241m=\u001B[39mrow[\u001B[38;5;124m\"\u001B[39m\u001B[38;5;124mdocno\u001B[39m\u001B[38;5;124m\"\u001B[39m],\n\u001B[0;32m   (...)\u001B[0m\n\u001B[1;32m    126\u001B[0m         \u001B[38;5;28;01mfor\u001B[39;00m index, row \u001B[38;5;129;01min\u001B[39;00m topics_or_res\u001B[38;5;241m.\u001B[39miterrows()\n\u001B[1;32m    127\u001B[0m     ]\n\u001B[0;32m--> 129\u001B[0m \u001B[38;5;28;01mreturn\u001B[39;00m \u001B[38;5;28;43mself\u001B[39;49m\u001B[38;5;241;43m.\u001B[39;49m\u001B[43mtransform_query_ranking\u001B[49m\u001B[43m(\u001B[49m\u001B[43mquery\u001B[49m\u001B[43m,\u001B[49m\u001B[43m \u001B[49m\u001B[43mdocuments\u001B[49m\u001B[43m,\u001B[49m\u001B[43m \u001B[49m\u001B[43mtopics_or_res\u001B[49m\u001B[43m)\u001B[49m\n",
      "File \u001B[0;32m~/Development/webis/ir_axioms/ir_axioms/backend/pyterrier/transformers.py:191\u001B[0m, in \u001B[0;36mAxiomaticReranker.transform_query_ranking\u001B[0;34m(self, query, documents, topics_or_res)\u001B[0m\n\u001B[1;32m    184\u001B[0m \u001B[38;5;28;01mdef\u001B[39;00m \u001B[38;5;21mtransform_query_ranking\u001B[39m(\n\u001B[1;32m    185\u001B[0m         \u001B[38;5;28mself\u001B[39m,\n\u001B[1;32m    186\u001B[0m         query: Query,\n\u001B[0;32m   (...)\u001B[0m\n\u001B[1;32m    189\u001B[0m ) \u001B[38;5;241m-\u001B[39m\u001B[38;5;241m>\u001B[39m DataFrame:\n\u001B[1;32m    190\u001B[0m     \u001B[38;5;66;03m# Rerank documents.\u001B[39;00m\n\u001B[0;32m--> 191\u001B[0m     reranked_documents \u001B[38;5;241m=\u001B[39m \u001B[38;5;28;43mself\u001B[39;49m\u001B[38;5;241;43m.\u001B[39;49m\u001B[43maxiom\u001B[49m\u001B[38;5;241;43m.\u001B[39;49m\u001B[43mcached\u001B[49m\u001B[43m(\u001B[49m\u001B[43m)\u001B[49m\u001B[38;5;241;43m.\u001B[39;49m\u001B[43mrerank\u001B[49m\u001B[43m(\u001B[49m\n\u001B[1;32m    192\u001B[0m \u001B[43m        \u001B[49m\u001B[38;5;28;43mself\u001B[39;49m\u001B[38;5;241;43m.\u001B[39;49m\u001B[43m_context\u001B[49m\u001B[43m,\u001B[49m\u001B[43m \u001B[49m\u001B[43mquery\u001B[49m\u001B[43m,\u001B[49m\u001B[43m \u001B[49m\u001B[43mdocuments\u001B[49m\n\u001B[1;32m    193\u001B[0m \u001B[43m    \u001B[49m\u001B[43m)\u001B[49m\n\u001B[1;32m    195\u001B[0m     \u001B[38;5;66;03m# Convert reranked documents back to data frame.\u001B[39;00m\n\u001B[1;32m    196\u001B[0m     reranked \u001B[38;5;241m=\u001B[39m DataFrame({\n\u001B[1;32m    197\u001B[0m         \u001B[38;5;124m\"\u001B[39m\u001B[38;5;124mdocno\u001B[39m\u001B[38;5;124m\"\u001B[39m: [doc\u001B[38;5;241m.\u001B[39mid \u001B[38;5;28;01mfor\u001B[39;00m doc \u001B[38;5;129;01min\u001B[39;00m reranked_documents],\n\u001B[1;32m    198\u001B[0m         \u001B[38;5;124m\"\u001B[39m\u001B[38;5;124mrank\u001B[39m\u001B[38;5;124m\"\u001B[39m: [doc\u001B[38;5;241m.\u001B[39mrank \u001B[38;5;28;01mfor\u001B[39;00m doc \u001B[38;5;129;01min\u001B[39;00m reranked_documents],\n\u001B[1;32m    199\u001B[0m         \u001B[38;5;124m\"\u001B[39m\u001B[38;5;124mscore\u001B[39m\u001B[38;5;124m\"\u001B[39m: [doc\u001B[38;5;241m.\u001B[39mscore \u001B[38;5;28;01mfor\u001B[39;00m doc \u001B[38;5;129;01min\u001B[39;00m reranked_documents],\n\u001B[1;32m    200\u001B[0m     })\n",
      "File \u001B[0;32m~/Development/webis/ir_axioms/ir_axioms/axiom/base.py:182\u001B[0m, in \u001B[0;36mAxiom.rerank\u001B[0;34m(self, context, query, ranking)\u001B[0m\n\u001B[1;32m    173\u001B[0m \u001B[38;5;129m@final\u001B[39m\n\u001B[1;32m    174\u001B[0m \u001B[38;5;28;01mdef\u001B[39;00m \u001B[38;5;21mrerank\u001B[39m(\n\u001B[1;32m    175\u001B[0m         \u001B[38;5;28mself\u001B[39m,\n\u001B[0;32m   (...)\u001B[0m\n\u001B[1;32m    178\u001B[0m         ranking: List[RankedDocument],\n\u001B[1;32m    179\u001B[0m ) \u001B[38;5;241m-\u001B[39m\u001B[38;5;241m>\u001B[39m List[RankedDocument]:\n\u001B[1;32m    180\u001B[0m     \u001B[38;5;28;01mfrom\u001B[39;00m \u001B[38;5;21;01mir_axioms\u001B[39;00m\u001B[38;5;21;01m.\u001B[39;00m\u001B[38;5;21;01maxiom\u001B[39;00m\u001B[38;5;21;01m.\u001B[39;00m\u001B[38;5;21;01msort\u001B[39;00m \u001B[38;5;28;01mimport\u001B[39;00m _kwiksort, _reset_score\n\u001B[0;32m--> 182\u001B[0m     ranking \u001B[38;5;241m=\u001B[39m \u001B[43m_kwiksort\u001B[49m\u001B[43m(\u001B[49m\u001B[38;5;28;43mself\u001B[39;49m\u001B[43m,\u001B[49m\u001B[43m \u001B[49m\u001B[43mquery\u001B[49m\u001B[43m,\u001B[49m\u001B[43m \u001B[49m\u001B[43mcontext\u001B[49m\u001B[43m,\u001B[49m\u001B[43m \u001B[49m\u001B[43mranking\u001B[49m\u001B[43m)\u001B[49m\n\u001B[1;32m    183\u001B[0m     ranking \u001B[38;5;241m=\u001B[39m _reset_score(ranking)\n\u001B[1;32m    184\u001B[0m     \u001B[38;5;28;01mreturn\u001B[39;00m ranking\n",
      "File \u001B[0;32m~/Development/webis/ir_axioms/ir_axioms/axiom/sort.py:46\u001B[0m, in \u001B[0;36m_kwiksort\u001B[0;34m(axiom, query, context, vertices)\u001B[0m\n\u001B[1;32m     39\u001B[0m     \u001B[38;5;28;01melse\u001B[39;00m:\n\u001B[1;32m     40\u001B[0m         \u001B[38;5;28;01mraise\u001B[39;00m \u001B[38;5;167;01mRuntimeError\u001B[39;00m(\n\u001B[1;32m     41\u001B[0m             \u001B[38;5;124mf\u001B[39m\u001B[38;5;124m\"\u001B[39m\u001B[38;5;124mTie during reranking. \u001B[39m\u001B[38;5;124m\"\u001B[39m\n\u001B[1;32m     42\u001B[0m             \u001B[38;5;124mf\u001B[39m\u001B[38;5;124m\"\u001B[39m\u001B[38;5;124mDocument \u001B[39m\u001B[38;5;132;01m{\u001B[39;00mvertex\u001B[38;5;132;01m}\u001B[39;00m\u001B[38;5;124m has same preference \u001B[39m\u001B[38;5;124m\"\u001B[39m\n\u001B[1;32m     43\u001B[0m             \u001B[38;5;124mf\u001B[39m\u001B[38;5;124m\"\u001B[39m\u001B[38;5;124mand rank as pivot document \u001B[39m\u001B[38;5;132;01m{\u001B[39;00mpivot\u001B[38;5;132;01m}\u001B[39;00m\u001B[38;5;124m.\u001B[39m\u001B[38;5;124m\"\u001B[39m\n\u001B[1;32m     44\u001B[0m         )\n\u001B[0;32m---> 46\u001B[0m vertices_left \u001B[38;5;241m=\u001B[39m \u001B[43m_kwiksort\u001B[49m\u001B[43m(\u001B[49m\n\u001B[1;32m     47\u001B[0m \u001B[43m    \u001B[49m\u001B[43maxiom\u001B[49m\u001B[43m,\u001B[49m\n\u001B[1;32m     48\u001B[0m \u001B[43m    \u001B[49m\u001B[43mquery\u001B[49m\u001B[43m,\u001B[49m\n\u001B[1;32m     49\u001B[0m \u001B[43m    \u001B[49m\u001B[43mcontext\u001B[49m\u001B[43m,\u001B[49m\n\u001B[1;32m     50\u001B[0m \u001B[43m    \u001B[49m\u001B[43mvertices_left\u001B[49m\n\u001B[1;32m     51\u001B[0m \u001B[43m\u001B[49m\u001B[43m)\u001B[49m\n\u001B[1;32m     52\u001B[0m vertices_right \u001B[38;5;241m=\u001B[39m _kwiksort(\n\u001B[1;32m     53\u001B[0m     axiom,\n\u001B[1;32m     54\u001B[0m     query,\n\u001B[1;32m     55\u001B[0m     context,\n\u001B[1;32m     56\u001B[0m     vertices_right\n\u001B[1;32m     57\u001B[0m )\n\u001B[1;32m     59\u001B[0m \u001B[38;5;28;01mreturn\u001B[39;00m [\u001B[38;5;241m*\u001B[39mvertices_left, pivot, \u001B[38;5;241m*\u001B[39mvertices_right]\n",
      "File \u001B[0;32m~/Development/webis/ir_axioms/ir_axioms/axiom/sort.py:46\u001B[0m, in \u001B[0;36m_kwiksort\u001B[0;34m(axiom, query, context, vertices)\u001B[0m\n\u001B[1;32m     39\u001B[0m     \u001B[38;5;28;01melse\u001B[39;00m:\n\u001B[1;32m     40\u001B[0m         \u001B[38;5;28;01mraise\u001B[39;00m \u001B[38;5;167;01mRuntimeError\u001B[39;00m(\n\u001B[1;32m     41\u001B[0m             \u001B[38;5;124mf\u001B[39m\u001B[38;5;124m\"\u001B[39m\u001B[38;5;124mTie during reranking. \u001B[39m\u001B[38;5;124m\"\u001B[39m\n\u001B[1;32m     42\u001B[0m             \u001B[38;5;124mf\u001B[39m\u001B[38;5;124m\"\u001B[39m\u001B[38;5;124mDocument \u001B[39m\u001B[38;5;132;01m{\u001B[39;00mvertex\u001B[38;5;132;01m}\u001B[39;00m\u001B[38;5;124m has same preference \u001B[39m\u001B[38;5;124m\"\u001B[39m\n\u001B[1;32m     43\u001B[0m             \u001B[38;5;124mf\u001B[39m\u001B[38;5;124m\"\u001B[39m\u001B[38;5;124mand rank as pivot document \u001B[39m\u001B[38;5;132;01m{\u001B[39;00mpivot\u001B[38;5;132;01m}\u001B[39;00m\u001B[38;5;124m.\u001B[39m\u001B[38;5;124m\"\u001B[39m\n\u001B[1;32m     44\u001B[0m         )\n\u001B[0;32m---> 46\u001B[0m vertices_left \u001B[38;5;241m=\u001B[39m \u001B[43m_kwiksort\u001B[49m\u001B[43m(\u001B[49m\n\u001B[1;32m     47\u001B[0m \u001B[43m    \u001B[49m\u001B[43maxiom\u001B[49m\u001B[43m,\u001B[49m\n\u001B[1;32m     48\u001B[0m \u001B[43m    \u001B[49m\u001B[43mquery\u001B[49m\u001B[43m,\u001B[49m\n\u001B[1;32m     49\u001B[0m \u001B[43m    \u001B[49m\u001B[43mcontext\u001B[49m\u001B[43m,\u001B[49m\n\u001B[1;32m     50\u001B[0m \u001B[43m    \u001B[49m\u001B[43mvertices_left\u001B[49m\n\u001B[1;32m     51\u001B[0m \u001B[43m\u001B[49m\u001B[43m)\u001B[49m\n\u001B[1;32m     52\u001B[0m vertices_right \u001B[38;5;241m=\u001B[39m _kwiksort(\n\u001B[1;32m     53\u001B[0m     axiom,\n\u001B[1;32m     54\u001B[0m     query,\n\u001B[1;32m     55\u001B[0m     context,\n\u001B[1;32m     56\u001B[0m     vertices_right\n\u001B[1;32m     57\u001B[0m )\n\u001B[1;32m     59\u001B[0m \u001B[38;5;28;01mreturn\u001B[39;00m [\u001B[38;5;241m*\u001B[39mvertices_left, pivot, \u001B[38;5;241m*\u001B[39mvertices_right]\n",
      "File \u001B[0;32m~/Development/webis/ir_axioms/ir_axioms/axiom/sort.py:30\u001B[0m, in \u001B[0;36m_kwiksort\u001B[0;34m(axiom, query, context, vertices)\u001B[0m\n\u001B[1;32m     27\u001B[0m \u001B[38;5;28;01mif\u001B[39;00m vertex \u001B[38;5;129;01mis\u001B[39;00m pivot:\n\u001B[1;32m     28\u001B[0m     \u001B[38;5;28;01mcontinue\u001B[39;00m\n\u001B[0;32m---> 30\u001B[0m preference \u001B[38;5;241m=\u001B[39m \u001B[43maxiom\u001B[49m\u001B[38;5;241;43m.\u001B[39;49m\u001B[43mpreference\u001B[49m\u001B[43m(\u001B[49m\u001B[43mcontext\u001B[49m\u001B[43m,\u001B[49m\u001B[43m \u001B[49m\u001B[43mquery\u001B[49m\u001B[43m,\u001B[49m\u001B[43m \u001B[49m\u001B[43mvertex\u001B[49m\u001B[43m,\u001B[49m\u001B[43m \u001B[49m\u001B[43mpivot\u001B[49m\u001B[43m)\u001B[49m\n\u001B[1;32m     31\u001B[0m \u001B[38;5;28;01mif\u001B[39;00m preference \u001B[38;5;241m>\u001B[39m \u001B[38;5;241m0\u001B[39m:\n\u001B[1;32m     32\u001B[0m     vertices_left\u001B[38;5;241m.\u001B[39mappend(vertex)\n",
      "File \u001B[0;32m~/Development/webis/ir_axioms/ir_axioms/axiom/cache.py:43\u001B[0m, in \u001B[0;36mCachedAxiom.preference\u001B[0;34m(self, context, query, document1, document2)\u001B[0m\n\u001B[1;32m     40\u001B[0m cache \u001B[38;5;241m=\u001B[39m \u001B[38;5;28mself\u001B[39m\u001B[38;5;241m.\u001B[39m_cache(context)\n\u001B[1;32m     42\u001B[0m \u001B[38;5;28;01mif\u001B[39;00m cache \u001B[38;5;129;01mis\u001B[39;00m \u001B[38;5;28;01mNone\u001B[39;00m:\n\u001B[0;32m---> 43\u001B[0m     \u001B[38;5;28;01mreturn\u001B[39;00m \u001B[38;5;28;43mself\u001B[39;49m\u001B[38;5;241;43m.\u001B[39;49m\u001B[43maxiom\u001B[49m\u001B[38;5;241;43m.\u001B[39;49m\u001B[43mpreference\u001B[49m\u001B[43m(\u001B[49m\u001B[43mcontext\u001B[49m\u001B[43m,\u001B[49m\u001B[43m \u001B[49m\u001B[43mquery\u001B[49m\u001B[43m,\u001B[49m\u001B[43m \u001B[49m\u001B[43mdocument1\u001B[49m\u001B[43m,\u001B[49m\u001B[43m \u001B[49m\u001B[43mdocument2\u001B[49m\u001B[43m)\u001B[49m\n\u001B[1;32m     45\u001B[0m key \u001B[38;5;241m=\u001B[39m \u001B[38;5;28mself\u001B[39m\u001B[38;5;241m.\u001B[39m_key(context, query, document1, document2)\n\u001B[1;32m     46\u001B[0m preference: \u001B[38;5;28mfloat\u001B[39m\n",
      "File \u001B[0;32m~/Development/webis/ir_axioms/ir_axioms/axiom/arithmetic.py:106\u001B[0m, in \u001B[0;36mAndAxiom.preference\u001B[0;34m(self, context, query, document1, document2)\u001B[0m\n\u001B[1;32m     99\u001B[0m \u001B[38;5;28;01mdef\u001B[39;00m \u001B[38;5;21mpreference\u001B[39m(\n\u001B[1;32m    100\u001B[0m         \u001B[38;5;28mself\u001B[39m,\n\u001B[1;32m    101\u001B[0m         context: RerankingContext,\n\u001B[0;32m   (...)\u001B[0m\n\u001B[1;32m    104\u001B[0m         document2: RankedDocument\n\u001B[1;32m    105\u001B[0m ) \u001B[38;5;241m-\u001B[39m\u001B[38;5;241m>\u001B[39m \u001B[38;5;28mfloat\u001B[39m:\n\u001B[0;32m--> 106\u001B[0m     preferences \u001B[38;5;241m=\u001B[39m [\n\u001B[1;32m    107\u001B[0m         axiom\u001B[38;5;241m.\u001B[39mpreference(context, query, document1, document2)\n\u001B[1;32m    108\u001B[0m         \u001B[38;5;28;01mfor\u001B[39;00m axiom \u001B[38;5;129;01min\u001B[39;00m \u001B[38;5;28mself\u001B[39m\u001B[38;5;241m.\u001B[39maxioms\n\u001B[1;32m    109\u001B[0m     ]\n\u001B[1;32m    110\u001B[0m     \u001B[38;5;28;01mif\u001B[39;00m \u001B[38;5;28mall\u001B[39m(preference \u001B[38;5;241m>\u001B[39m \u001B[38;5;241m0\u001B[39m \u001B[38;5;28;01mfor\u001B[39;00m preference \u001B[38;5;129;01min\u001B[39;00m preferences):\n\u001B[1;32m    111\u001B[0m         \u001B[38;5;28;01mreturn\u001B[39;00m \u001B[38;5;241m1\u001B[39m\n",
      "File \u001B[0;32m~/Development/webis/ir_axioms/ir_axioms/axiom/arithmetic.py:107\u001B[0m, in \u001B[0;36m<listcomp>\u001B[0;34m(.0)\u001B[0m\n\u001B[1;32m     99\u001B[0m \u001B[38;5;28;01mdef\u001B[39;00m \u001B[38;5;21mpreference\u001B[39m(\n\u001B[1;32m    100\u001B[0m         \u001B[38;5;28mself\u001B[39m,\n\u001B[1;32m    101\u001B[0m         context: RerankingContext,\n\u001B[0;32m   (...)\u001B[0m\n\u001B[1;32m    104\u001B[0m         document2: RankedDocument\n\u001B[1;32m    105\u001B[0m ) \u001B[38;5;241m-\u001B[39m\u001B[38;5;241m>\u001B[39m \u001B[38;5;28mfloat\u001B[39m:\n\u001B[1;32m    106\u001B[0m     preferences \u001B[38;5;241m=\u001B[39m [\n\u001B[0;32m--> 107\u001B[0m         \u001B[43maxiom\u001B[49m\u001B[38;5;241;43m.\u001B[39;49m\u001B[43mpreference\u001B[49m\u001B[43m(\u001B[49m\u001B[43mcontext\u001B[49m\u001B[43m,\u001B[49m\u001B[43m \u001B[49m\u001B[43mquery\u001B[49m\u001B[43m,\u001B[49m\u001B[43m \u001B[49m\u001B[43mdocument1\u001B[49m\u001B[43m,\u001B[49m\u001B[43m \u001B[49m\u001B[43mdocument2\u001B[49m\u001B[43m)\u001B[49m\n\u001B[1;32m    108\u001B[0m         \u001B[38;5;28;01mfor\u001B[39;00m axiom \u001B[38;5;129;01min\u001B[39;00m \u001B[38;5;28mself\u001B[39m\u001B[38;5;241m.\u001B[39maxioms\n\u001B[1;32m    109\u001B[0m     ]\n\u001B[1;32m    110\u001B[0m     \u001B[38;5;28;01mif\u001B[39;00m \u001B[38;5;28mall\u001B[39m(preference \u001B[38;5;241m>\u001B[39m \u001B[38;5;241m0\u001B[39m \u001B[38;5;28;01mfor\u001B[39;00m preference \u001B[38;5;129;01min\u001B[39;00m preferences):\n\u001B[1;32m    111\u001B[0m         \u001B[38;5;28;01mreturn\u001B[39;00m \u001B[38;5;241m1\u001B[39m\n",
      "File \u001B[0;32m~/Development/webis/ir_axioms/ir_axioms/axiom/cache.py:43\u001B[0m, in \u001B[0;36mCachedAxiom.preference\u001B[0;34m(self, context, query, document1, document2)\u001B[0m\n\u001B[1;32m     40\u001B[0m cache \u001B[38;5;241m=\u001B[39m \u001B[38;5;28mself\u001B[39m\u001B[38;5;241m.\u001B[39m_cache(context)\n\u001B[1;32m     42\u001B[0m \u001B[38;5;28;01mif\u001B[39;00m cache \u001B[38;5;129;01mis\u001B[39;00m \u001B[38;5;28;01mNone\u001B[39;00m:\n\u001B[0;32m---> 43\u001B[0m     \u001B[38;5;28;01mreturn\u001B[39;00m \u001B[38;5;28;43mself\u001B[39;49m\u001B[38;5;241;43m.\u001B[39;49m\u001B[43maxiom\u001B[49m\u001B[38;5;241;43m.\u001B[39;49m\u001B[43mpreference\u001B[49m\u001B[43m(\u001B[49m\u001B[43mcontext\u001B[49m\u001B[43m,\u001B[49m\u001B[43m \u001B[49m\u001B[43mquery\u001B[49m\u001B[43m,\u001B[49m\u001B[43m \u001B[49m\u001B[43mdocument1\u001B[49m\u001B[43m,\u001B[49m\u001B[43m \u001B[49m\u001B[43mdocument2\u001B[49m\u001B[43m)\u001B[49m\n\u001B[1;32m     45\u001B[0m key \u001B[38;5;241m=\u001B[39m \u001B[38;5;28mself\u001B[39m\u001B[38;5;241m.\u001B[39m_key(context, query, document1, document2)\n\u001B[1;32m     46\u001B[0m preference: \u001B[38;5;28mfloat\u001B[39m\n",
      "File \u001B[0;32m~/Development/webis/ir_axioms/ir_axioms/axiom/argumentative.py:232\u001B[0m, in \u001B[0;36mQueryTermOccurrenceInArgumentativeUnitsAxiom.preference\u001B[0;34m(self, context, query, document1, document2)\u001B[0m\n\u001B[1;32m    229\u001B[0m arguments1 \u001B[38;5;241m=\u001B[39m \u001B[38;5;28mself\u001B[39m\u001B[38;5;241m.\u001B[39mfetch_arguments(context, document1)\n\u001B[1;32m    230\u001B[0m arguments2 \u001B[38;5;241m=\u001B[39m \u001B[38;5;28mself\u001B[39m\u001B[38;5;241m.\u001B[39mfetch_arguments(context, document2)\n\u001B[0;32m--> 232\u001B[0m count1 \u001B[38;5;241m=\u001B[39m \u001B[38;5;28;43msum\u001B[39;49m\u001B[43m(\u001B[49m\n\u001B[1;32m    233\u001B[0m \u001B[43m    \u001B[49m\u001B[43m_count_query_terms\u001B[49m\u001B[43m(\u001B[49m\u001B[43mcontext\u001B[49m\u001B[43m,\u001B[49m\u001B[43m \u001B[49m\u001B[43msentences\u001B[49m\u001B[43m,\u001B[49m\u001B[43m \u001B[49m\u001B[43mquery\u001B[49m\u001B[43m)\u001B[49m\n\u001B[1;32m    234\u001B[0m \u001B[43m    \u001B[49m\u001B[38;5;28;43;01mfor\u001B[39;49;00m\u001B[43m \u001B[49m\u001B[43m_\u001B[49m\u001B[43m,\u001B[49m\u001B[43m \u001B[49m\u001B[43msentences\u001B[49m\u001B[43m \u001B[49m\u001B[38;5;129;43;01min\u001B[39;49;00m\u001B[43m \u001B[49m\u001B[43marguments1\u001B[49m\u001B[38;5;241;43m.\u001B[39;49m\u001B[43mitems\u001B[49m\u001B[43m(\u001B[49m\u001B[43m)\u001B[49m\n\u001B[1;32m    235\u001B[0m \u001B[43m\u001B[49m\u001B[43m)\u001B[49m\n\u001B[1;32m    236\u001B[0m count2 \u001B[38;5;241m=\u001B[39m \u001B[38;5;28msum\u001B[39m(\n\u001B[1;32m    237\u001B[0m     _count_query_terms(context, sentences, query)\n\u001B[1;32m    238\u001B[0m     \u001B[38;5;28;01mfor\u001B[39;00m _, sentences \u001B[38;5;129;01min\u001B[39;00m arguments2\u001B[38;5;241m.\u001B[39mitems()\n\u001B[1;32m    239\u001B[0m )\n\u001B[1;32m    241\u001B[0m \u001B[38;5;28;01mif\u001B[39;00m count1 \u001B[38;5;241m>\u001B[39m count2:\n",
      "File \u001B[0;32m~/Development/webis/ir_axioms/ir_axioms/axiom/argumentative.py:233\u001B[0m, in \u001B[0;36m<genexpr>\u001B[0;34m(.0)\u001B[0m\n\u001B[1;32m    229\u001B[0m arguments1 \u001B[38;5;241m=\u001B[39m \u001B[38;5;28mself\u001B[39m\u001B[38;5;241m.\u001B[39mfetch_arguments(context, document1)\n\u001B[1;32m    230\u001B[0m arguments2 \u001B[38;5;241m=\u001B[39m \u001B[38;5;28mself\u001B[39m\u001B[38;5;241m.\u001B[39mfetch_arguments(context, document2)\n\u001B[1;32m    232\u001B[0m count1 \u001B[38;5;241m=\u001B[39m \u001B[38;5;28msum\u001B[39m(\n\u001B[0;32m--> 233\u001B[0m     \u001B[43m_count_query_terms\u001B[49m\u001B[43m(\u001B[49m\u001B[43mcontext\u001B[49m\u001B[43m,\u001B[49m\u001B[43m \u001B[49m\u001B[43msentences\u001B[49m\u001B[43m,\u001B[49m\u001B[43m \u001B[49m\u001B[43mquery\u001B[49m\u001B[43m)\u001B[49m\n\u001B[1;32m    234\u001B[0m     \u001B[38;5;28;01mfor\u001B[39;00m _, sentences \u001B[38;5;129;01min\u001B[39;00m arguments1\u001B[38;5;241m.\u001B[39mitems()\n\u001B[1;32m    235\u001B[0m )\n\u001B[1;32m    236\u001B[0m count2 \u001B[38;5;241m=\u001B[39m \u001B[38;5;28msum\u001B[39m(\n\u001B[1;32m    237\u001B[0m     _count_query_terms(context, sentences, query)\n\u001B[1;32m    238\u001B[0m     \u001B[38;5;28;01mfor\u001B[39;00m _, sentences \u001B[38;5;129;01min\u001B[39;00m arguments2\u001B[38;5;241m.\u001B[39mitems()\n\u001B[1;32m    239\u001B[0m )\n\u001B[1;32m    241\u001B[0m \u001B[38;5;28;01mif\u001B[39;00m count1 \u001B[38;5;241m>\u001B[39m count2:\n",
      "File \u001B[0;32m~/Development/webis/ir_axioms/ir_axioms/axiom/argumentative.py:96\u001B[0m, in \u001B[0;36m_count_query_terms\u001B[0;34m(context, sentences, query, normalize)\u001B[0m\n\u001B[1;32m     94\u001B[0m \u001B[38;5;28;01mfor\u001B[39;00m tag \u001B[38;5;129;01min\u001B[39;00m sentence:\n\u001B[1;32m     95\u001B[0m     token \u001B[38;5;241m=\u001B[39m tag\u001B[38;5;241m.\u001B[39mtoken\n\u001B[0;32m---> 96\u001B[0m     normalized_token \u001B[38;5;241m=\u001B[39m \u001B[43m_normalize\u001B[49m\u001B[43m(\u001B[49m\u001B[43mtoken\u001B[49m\u001B[43m)\u001B[49m \u001B[38;5;28;01mif\u001B[39;00m normalize \u001B[38;5;28;01melse\u001B[39;00m token\n\u001B[1;32m     97\u001B[0m     \u001B[38;5;28;01mif\u001B[39;00m (\n\u001B[1;32m     98\u001B[0m             normalized_term \u001B[38;5;241m==\u001B[39m normalized_token \u001B[38;5;129;01mand\u001B[39;00m\n\u001B[1;32m     99\u001B[0m             _is_claim_or_premise(tag) \u001B[38;5;129;01mand\u001B[39;00m\n\u001B[1;32m    100\u001B[0m             tag\u001B[38;5;241m.\u001B[39mprobability \u001B[38;5;241m>\u001B[39m \u001B[38;5;241m0.5\u001B[39m\n\u001B[1;32m    101\u001B[0m     ):\n\u001B[1;32m    102\u001B[0m         term_count \u001B[38;5;241m+\u001B[39m\u001B[38;5;241m=\u001B[39m \u001B[38;5;241m1\u001B[39m\n",
      "File \u001B[0;32m~/Development/webis/ir_axioms/ir_axioms/axiom/argumentative.py:21\u001B[0m, in \u001B[0;36m_normalize\u001B[0;34m(word)\u001B[0m\n\u001B[1;32m     19\u001B[0m \u001B[38;5;129m@lru_cache\u001B[39m(maxsize\u001B[38;5;241m=\u001B[39m\u001B[38;5;241m4096\u001B[39m)\n\u001B[1;32m     20\u001B[0m \u001B[38;5;28;01mdef\u001B[39;00m \u001B[38;5;21m_normalize\u001B[39m(word: \u001B[38;5;28mstr\u001B[39m):\n\u001B[0;32m---> 21\u001B[0m     \u001B[43mdownload_nltk_dependencies\u001B[49m\u001B[43m(\u001B[49m\u001B[38;5;124;43m\"\u001B[39;49m\u001B[38;5;124;43mwordnet\u001B[39;49m\u001B[38;5;124;43m\"\u001B[39;49m\u001B[43m)\u001B[49m\n\u001B[1;32m     22\u001B[0m     _word_net_lemmatizer \u001B[38;5;241m=\u001B[39m WordNetLemmatizer()\n\u001B[1;32m     23\u001B[0m     \u001B[38;5;28;01mreturn\u001B[39;00m _word_net_lemmatizer\u001B[38;5;241m.\u001B[39mlemmatize(word)\u001B[38;5;241m.\u001B[39mlower()\n",
      "File \u001B[0;32m~/Development/webis/ir_axioms/ir_axioms/utils/nltk.py:9\u001B[0m, in \u001B[0;36mdownload_nltk_dependencies\u001B[0;34m(*dependencies)\u001B[0m\n\u001B[1;32m      7\u001B[0m downloader \u001B[38;5;241m=\u001B[39m Downloader()\n\u001B[1;32m      8\u001B[0m \u001B[38;5;28;01mfor\u001B[39;00m dependency \u001B[38;5;129;01min\u001B[39;00m dependencies:\n\u001B[0;32m----> 9\u001B[0m     \u001B[38;5;28;01mif\u001B[39;00m \u001B[38;5;129;01mnot\u001B[39;00m \u001B[43mdownloader\u001B[49m\u001B[38;5;241;43m.\u001B[39;49m\u001B[43mis_installed\u001B[49m\u001B[43m(\u001B[49m\u001B[43mdependency\u001B[49m\u001B[43m)\u001B[49m:\n\u001B[1;32m     10\u001B[0m         info(\u001B[38;5;124mf\u001B[39m\u001B[38;5;124m\"\u001B[39m\u001B[38;5;124mDownloading NLTK dependency \u001B[39m\u001B[38;5;132;01m{\u001B[39;00mdependency\u001B[38;5;132;01m}\u001B[39;00m\u001B[38;5;124m.\u001B[39m\u001B[38;5;124m\"\u001B[39m)\n\u001B[1;32m     11\u001B[0m         downloader\u001B[38;5;241m.\u001B[39mdownload(dependency)\n",
      "File \u001B[0;32m~/Development/webis/ir_axioms/venv-pyterrier/lib/python3.8/site-packages/nltk/downloader.py:844\u001B[0m, in \u001B[0;36mDownloader.is_installed\u001B[0;34m(self, info_or_id, download_dir)\u001B[0m\n\u001B[1;32m    843\u001B[0m \u001B[38;5;28;01mdef\u001B[39;00m \u001B[38;5;21mis_installed\u001B[39m(\u001B[38;5;28mself\u001B[39m, info_or_id, download_dir\u001B[38;5;241m=\u001B[39m\u001B[38;5;28;01mNone\u001B[39;00m):\n\u001B[0;32m--> 844\u001B[0m     \u001B[38;5;28;01mreturn\u001B[39;00m \u001B[38;5;28;43mself\u001B[39;49m\u001B[38;5;241;43m.\u001B[39;49m\u001B[43mstatus\u001B[49m\u001B[43m(\u001B[49m\u001B[43minfo_or_id\u001B[49m\u001B[43m,\u001B[49m\u001B[43m \u001B[49m\u001B[43mdownload_dir\u001B[49m\u001B[43m)\u001B[49m \u001B[38;5;241m==\u001B[39m \u001B[38;5;28mself\u001B[39m\u001B[38;5;241m.\u001B[39mINSTALLED\n",
      "File \u001B[0;32m~/Development/webis/ir_axioms/venv-pyterrier/lib/python3.8/site-packages/nltk/downloader.py:860\u001B[0m, in \u001B[0;36mDownloader.status\u001B[0;34m(self, info_or_id, download_dir)\u001B[0m\n\u001B[1;32m    858\u001B[0m \u001B[38;5;28;01mif\u001B[39;00m download_dir \u001B[38;5;129;01mis\u001B[39;00m \u001B[38;5;28;01mNone\u001B[39;00m:\n\u001B[1;32m    859\u001B[0m     download_dir \u001B[38;5;241m=\u001B[39m \u001B[38;5;28mself\u001B[39m\u001B[38;5;241m.\u001B[39m_download_dir\n\u001B[0;32m--> 860\u001B[0m info \u001B[38;5;241m=\u001B[39m \u001B[38;5;28;43mself\u001B[39;49m\u001B[38;5;241;43m.\u001B[39;49m\u001B[43m_info_or_id\u001B[49m\u001B[43m(\u001B[49m\u001B[43minfo_or_id\u001B[49m\u001B[43m)\u001B[49m\n\u001B[1;32m    862\u001B[0m \u001B[38;5;66;03m# Handle collections:\u001B[39;00m\n\u001B[1;32m    863\u001B[0m \u001B[38;5;28;01mif\u001B[39;00m \u001B[38;5;28misinstance\u001B[39m(info, Collection):\n",
      "File \u001B[0;32m~/Development/webis/ir_axioms/venv-pyterrier/lib/python3.8/site-packages/nltk/downloader.py:603\u001B[0m, in \u001B[0;36mDownloader._info_or_id\u001B[0;34m(self, info_or_id)\u001B[0m\n\u001B[1;32m    601\u001B[0m \u001B[38;5;28;01mdef\u001B[39;00m \u001B[38;5;21m_info_or_id\u001B[39m(\u001B[38;5;28mself\u001B[39m, info_or_id):\n\u001B[1;32m    602\u001B[0m     \u001B[38;5;28;01mif\u001B[39;00m \u001B[38;5;28misinstance\u001B[39m(info_or_id, \u001B[38;5;28mstr\u001B[39m):\n\u001B[0;32m--> 603\u001B[0m         \u001B[38;5;28;01mreturn\u001B[39;00m \u001B[38;5;28;43mself\u001B[39;49m\u001B[38;5;241;43m.\u001B[39;49m\u001B[43minfo\u001B[49m\u001B[43m(\u001B[49m\u001B[43minfo_or_id\u001B[49m\u001B[43m)\u001B[49m\n\u001B[1;32m    604\u001B[0m     \u001B[38;5;28;01melse\u001B[39;00m:\n\u001B[1;32m    605\u001B[0m         \u001B[38;5;28;01mreturn\u001B[39;00m info_or_id\n",
      "File \u001B[0;32m~/Development/webis/ir_axioms/venv-pyterrier/lib/python3.8/site-packages/nltk/downloader.py:1009\u001B[0m, in \u001B[0;36mDownloader.info\u001B[0;34m(self, id)\u001B[0m\n\u001B[1;32m   1006\u001B[0m \u001B[38;5;28;01mdef\u001B[39;00m \u001B[38;5;21minfo\u001B[39m(\u001B[38;5;28mself\u001B[39m, \u001B[38;5;28mid\u001B[39m):\n\u001B[1;32m   1007\u001B[0m     \u001B[38;5;124;03m\"\"\"Return the ``Package`` or ``Collection`` record for the\u001B[39;00m\n\u001B[1;32m   1008\u001B[0m \u001B[38;5;124;03m    given item.\"\"\"\u001B[39;00m\n\u001B[0;32m-> 1009\u001B[0m     \u001B[38;5;28;43mself\u001B[39;49m\u001B[38;5;241;43m.\u001B[39;49m\u001B[43m_update_index\u001B[49m\u001B[43m(\u001B[49m\u001B[43m)\u001B[49m\n\u001B[1;32m   1010\u001B[0m     \u001B[38;5;28;01mif\u001B[39;00m \u001B[38;5;28mid\u001B[39m \u001B[38;5;129;01min\u001B[39;00m \u001B[38;5;28mself\u001B[39m\u001B[38;5;241m.\u001B[39m_packages:\n\u001B[1;32m   1011\u001B[0m         \u001B[38;5;28;01mreturn\u001B[39;00m \u001B[38;5;28mself\u001B[39m\u001B[38;5;241m.\u001B[39m_packages[\u001B[38;5;28mid\u001B[39m]\n",
      "File \u001B[0;32m~/Development/webis/ir_axioms/venv-pyterrier/lib/python3.8/site-packages/nltk/downloader.py:957\u001B[0m, in \u001B[0;36mDownloader._update_index\u001B[0;34m(self, url)\u001B[0m\n\u001B[1;32m    954\u001B[0m \u001B[38;5;28mself\u001B[39m\u001B[38;5;241m.\u001B[39m_index_timestamp \u001B[38;5;241m=\u001B[39m time\u001B[38;5;241m.\u001B[39mtime()\n\u001B[1;32m    956\u001B[0m \u001B[38;5;66;03m# Build a dictionary of packages.\u001B[39;00m\n\u001B[0;32m--> 957\u001B[0m packages \u001B[38;5;241m=\u001B[39m [Package\u001B[38;5;241m.\u001B[39mfromxml(p) \u001B[38;5;28;01mfor\u001B[39;00m p \u001B[38;5;129;01min\u001B[39;00m \u001B[38;5;28mself\u001B[39m\u001B[38;5;241m.\u001B[39m_index\u001B[38;5;241m.\u001B[39mfindall(\u001B[38;5;124m\"\u001B[39m\u001B[38;5;124mpackages/package\u001B[39m\u001B[38;5;124m\"\u001B[39m)]\n\u001B[1;32m    958\u001B[0m \u001B[38;5;28mself\u001B[39m\u001B[38;5;241m.\u001B[39m_packages \u001B[38;5;241m=\u001B[39m {p\u001B[38;5;241m.\u001B[39mid: p \u001B[38;5;28;01mfor\u001B[39;00m p \u001B[38;5;129;01min\u001B[39;00m packages}\n\u001B[1;32m    960\u001B[0m \u001B[38;5;66;03m# Build a dictionary of collections.\u001B[39;00m\n",
      "File \u001B[0;32m~/Development/webis/ir_axioms/venv-pyterrier/lib/python3.8/site-packages/nltk/downloader.py:957\u001B[0m, in \u001B[0;36m<listcomp>\u001B[0;34m(.0)\u001B[0m\n\u001B[1;32m    954\u001B[0m \u001B[38;5;28mself\u001B[39m\u001B[38;5;241m.\u001B[39m_index_timestamp \u001B[38;5;241m=\u001B[39m time\u001B[38;5;241m.\u001B[39mtime()\n\u001B[1;32m    956\u001B[0m \u001B[38;5;66;03m# Build a dictionary of packages.\u001B[39;00m\n\u001B[0;32m--> 957\u001B[0m packages \u001B[38;5;241m=\u001B[39m [\u001B[43mPackage\u001B[49m\u001B[38;5;241;43m.\u001B[39;49m\u001B[43mfromxml\u001B[49m\u001B[43m(\u001B[49m\u001B[43mp\u001B[49m\u001B[43m)\u001B[49m \u001B[38;5;28;01mfor\u001B[39;00m p \u001B[38;5;129;01min\u001B[39;00m \u001B[38;5;28mself\u001B[39m\u001B[38;5;241m.\u001B[39m_index\u001B[38;5;241m.\u001B[39mfindall(\u001B[38;5;124m\"\u001B[39m\u001B[38;5;124mpackages/package\u001B[39m\u001B[38;5;124m\"\u001B[39m)]\n\u001B[1;32m    958\u001B[0m \u001B[38;5;28mself\u001B[39m\u001B[38;5;241m.\u001B[39m_packages \u001B[38;5;241m=\u001B[39m {p\u001B[38;5;241m.\u001B[39mid: p \u001B[38;5;28;01mfor\u001B[39;00m p \u001B[38;5;129;01min\u001B[39;00m packages}\n\u001B[1;32m    960\u001B[0m \u001B[38;5;66;03m# Build a dictionary of collections.\u001B[39;00m\n",
      "File \u001B[0;32m~/Development/webis/ir_axioms/venv-pyterrier/lib/python3.8/site-packages/nltk/downloader.py:283\u001B[0m, in \u001B[0;36mPackage.fromxml\u001B[0;34m(xml)\u001B[0m\n\u001B[1;32m    281\u001B[0m \u001B[38;5;28;01mfor\u001B[39;00m key \u001B[38;5;129;01min\u001B[39;00m xml\u001B[38;5;241m.\u001B[39mattrib:\n\u001B[1;32m    282\u001B[0m     xml\u001B[38;5;241m.\u001B[39mattrib[key] \u001B[38;5;241m=\u001B[39m \u001B[38;5;28mstr\u001B[39m(xml\u001B[38;5;241m.\u001B[39mattrib[key])\n\u001B[0;32m--> 283\u001B[0m \u001B[38;5;28;01mreturn\u001B[39;00m \u001B[43mPackage\u001B[49m\u001B[43m(\u001B[49m\u001B[38;5;241;43m*\u001B[39;49m\u001B[38;5;241;43m*\u001B[39;49m\u001B[43mxml\u001B[49m\u001B[38;5;241;43m.\u001B[39;49m\u001B[43mattrib\u001B[49m\u001B[43m)\u001B[49m\n",
      "\u001B[0;31mKeyboardInterrupt\u001B[0m: "
     ]
    }
   ],
   "source": [
    "from pyterrier.pipelines import Experiment\n",
    "from ir_measures import nDCG\n",
    "\n",
    "# noinspection PyTypeChecker\n",
    "experiment = Experiment(\n",
    "    [*reranked_retrieval_systems, *retrieval_systems],\n",
    "    track.dataset.get_topics(),\n",
    "    track.dataset.get_qrels(),\n",
    "    [nDCG @ 10],\n",
    "    verbose=True,\n",
    ")\n",
    "experiment"
   ],
   "metadata": {
    "collapsed": false,
    "pycharm": {
     "name": "#%%\n"
    }
   }
  },
  {
   "cell_type": "code",
   "execution_count": null,
   "outputs": [],
   "source": [],
   "metadata": {
    "collapsed": false,
    "pycharm": {
     "name": "#%%\n"
    }
   }
  }
 ],
 "metadata": {
  "kernelspec": {
   "display_name": "Python 3",
   "language": "python",
   "name": "python3"
  },
  "language_info": {
   "codemirror_mode": {
    "name": "ipython",
    "version": 2
   },
   "file_extension": ".py",
   "mimetype": "text/x-python",
   "name": "python",
   "nbconvert_exporter": "python",
   "pygments_lexer": "ipython2",
   "version": "2.7.6"
  }
 },
 "nbformat": 4,
 "nbformat_minor": 0
}