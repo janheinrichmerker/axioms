{
 "cells": [
  {
   "cell_type": "code",
   "execution_count": 19,
   "outputs": [],
   "source": [
    "from sys import modules\n",
    "\n",
    "IN_COLAB = 'google.colab' in modules\n",
    "if IN_COLAB:\n",
    "    !pip install -q ir_axioms[examples] python-terrier"
   ],
   "metadata": {
    "collapsed": false,
    "pycharm": {
     "name": "#%%\n"
    }
   }
  },
  {
   "cell_type": "code",
   "execution_count": 20,
   "outputs": [],
   "source": [
    "# Start/initialize PyTerrier.\n",
    "from pyterrier import started, init\n",
    "\n",
    "if not started():\n",
    "    init(tqdm=\"auto\")"
   ],
   "metadata": {
    "collapsed": false,
    "pycharm": {
     "name": "#%%\n"
    }
   }
  },
  {
   "cell_type": "code",
   "execution_count": 21,
   "outputs": [],
   "source": [
    "from pathlib import Path\n",
    "\n",
    "cache_dir = Path(f\"./cache/\")"
   ],
   "metadata": {
    "collapsed": false,
    "pycharm": {
     "name": "#%%\n"
    }
   }
  },
  {
   "cell_type": "code",
   "execution_count": 22,
   "outputs": [
    {
     "data": {
      "text/plain": "Read results:   0%|          | 0/37 [00:00<?, ?run/s]",
      "application/vnd.jupyter.widget-view+json": {
       "version_major": 2,
       "version_minor": 0,
       "model_id": "ccc376a106a0435ea57c0bb11fc00515"
      }
     },
     "metadata": {},
     "output_type": "display_data"
    }
   ],
   "source": [
    "from trec_util import TrecTrack\n",
    "\n",
    "track = TrecTrack(\n",
    "    28, \"deep\", \"msmarco-passage/trec-dl-2019\", cache_dir,\n",
    "    Path(\n",
    "        \"/mnt/ceph/storage/data-in-progress/data-research/\"\n",
    "        \"web-search/web-search-trec/trec-system-runs\"\n",
    "    )\n",
    ")\n",
    "retrieval_systems = [result for result in track.results]"
   ],
   "metadata": {
    "collapsed": false,
    "pycharm": {
     "name": "#%%\n"
    }
   }
  },
  {
   "cell_type": "code",
   "execution_count": 23,
   "outputs": [],
   "source": [
    "retrieval_system_names = track.result_names"
   ],
   "metadata": {
    "collapsed": false,
    "pycharm": {
     "name": "#%%\n"
    }
   }
  },
  {
   "cell_type": "markdown",
   "source": [
    "## Axiom definition\n",
    "Now let's define our axiom for reranking.\n",
    "In the `ir_axioms` package, we already include many great retrieval axioms that were found useful in literature.\n",
    "But a single axiom alone will likely not affect our ranking much.\n",
    "Therefore, it is essential to combine multiple axioms to form new axioms that can be used for reranking.\n",
    "We'll now combine a few axiom with and (`&`) to only give a score if all axioms agree.\n",
    "Then we add the `OriginalAxiom` as a fallback. That way, if our axioms did not conclude a preference, we use the original ranking order as preference."
   ],
   "metadata": {
    "collapsed": false
   }
  },
  {
   "cell_type": "code",
   "execution_count": 24,
   "outputs": [],
   "source": [
    "from ir_axioms.axiom import (\n",
    "    ArgUC, QTArg, QTPArg, aSL, PROX1, PROX2, PROX3, PROX4, PROX5, TFC1, TFC3, RS_TF, RS_TF_IDF, RS_BM25, RS_PL2, RS_QL,\n",
    "    LNC1, TF_LNC, LB1, STMC1, STMC1_f, STMC2, STMC2_f, AND, LEN_AND, M_AND, LEN_M_AND, DIV, LEN_DIV, M_TDC, LEN_M_TDC,\n",
    "    OriginalAxiom, AndAxiom\n",
    ")\n",
    "\n",
    "# Define axiom for reranker and permutations.\n",
    "axiom = (\n",
    "        AndAxiom([\n",
    "            ~ArgUC(),\n",
    "            ~QTArg(),\n",
    "            ~QTPArg(),\n",
    "            ~aSL(),\n",
    "            ~LNC1(),\n",
    "            ~TF_LNC(),\n",
    "            ~LB1(),\n",
    "            ~PROX1(),\n",
    "            ~PROX2(),\n",
    "            ~PROX3(),\n",
    "            ~PROX4(),\n",
    "            ~PROX5(),\n",
    "            # ~REG(),  # Tie\n",
    "            # ~ANTI_REG(),  # Tie\n",
    "            ~AND(),\n",
    "            ~LEN_AND(),\n",
    "            ~M_AND(),\n",
    "            ~LEN_M_AND(),\n",
    "            ~DIV(),\n",
    "            ~LEN_DIV(),\n",
    "            ~RS_TF(),\n",
    "            ~RS_TF_IDF(),\n",
    "            ~RS_BM25(),\n",
    "            ~RS_PL2(),\n",
    "            ~RS_QL(),\n",
    "            ~TFC1(),\n",
    "            ~TFC3(),\n",
    "            ~M_TDC(),\n",
    "            ~LEN_M_TDC(),\n",
    "            ~STMC1(),\n",
    "            ~STMC1_f(),\n",
    "            ~STMC2(),\n",
    "            ~STMC2_f(),\n",
    "        ]) | OriginalAxiom()\n",
    ")"
   ],
   "metadata": {
    "collapsed": false,
    "pycharm": {
     "name": "#%%\n"
    }
   }
  },
  {
   "cell_type": "code",
   "execution_count": 25,
   "outputs": [],
   "source": [
    "from ir_axioms.backend.pyterrier.transformers import AxiomaticReranker\n",
    "\n",
    "reranked_retrieval_systems = [\n",
    "    ~(\n",
    "            retrieval_system % 10 >>\n",
    "            AxiomaticReranker(\n",
    "                axiom=axiom,\n",
    "                index=track.index,\n",
    "                dataset=track.dataset_name,\n",
    "                verbose=True\n",
    "            ) ^ retrieval_system\n",
    "    )\n",
    "    for retrieval_system in retrieval_systems\n",
    "]"
   ],
   "metadata": {
    "collapsed": false,
    "pycharm": {
     "name": "#%%\n"
    }
   }
  },
  {
   "cell_type": "code",
   "execution_count": 26,
   "outputs": [],
   "source": [
    "reranked_retrieval_system_names = [f\"{name} reranked\" for name in retrieval_system_names]"
   ],
   "metadata": {
    "collapsed": false,
    "pycharm": {
     "name": "#%%\n"
    }
   }
  },
  {
   "cell_type": "code",
   "execution_count": 27,
   "outputs": [
    {
     "data": {
      "text/plain": "pt.Experiment:   0%|          | 0/74 [00:00<?, ?system/s]",
      "application/vnd.jupyter.widget-view+json": {
       "version_major": 2,
       "version_minor": 0,
       "model_id": "93f14ba67e4144b5822b75f1628ea9b1"
      }
     },
     "metadata": {},
     "output_type": "display_data"
    },
    {
     "data": {
      "text/plain": "Reranking axiomatically:   0%|          | 0/200 [00:00<?, ?query/s]",
      "application/vnd.jupyter.widget-view+json": {
       "version_major": 2,
       "version_minor": 0,
       "model_id": "670f8455edf04c259c92972fdd603cfe"
      }
     },
     "metadata": {},
     "output_type": "display_data"
    },
    {
     "data": {
      "text/plain": "Reranking axiomatically:   0%|          | 0/200 [00:00<?, ?query/s]",
      "application/vnd.jupyter.widget-view+json": {
       "version_major": 2,
       "version_minor": 0,
       "model_id": "f422df30b8824d3bba77c61d0e1fe551"
      }
     },
     "metadata": {},
     "output_type": "display_data"
    },
    {
     "data": {
      "text/plain": "Reranking axiomatically:   0%|          | 0/200 [00:00<?, ?query/s]",
      "application/vnd.jupyter.widget-view+json": {
       "version_major": 2,
       "version_minor": 0,
       "model_id": "5040aebe6c6648c0ad273b6b062636b2"
      }
     },
     "metadata": {},
     "output_type": "display_data"
    },
    {
     "data": {
      "text/plain": "Reranking axiomatically:   0%|          | 0/200 [00:00<?, ?query/s]",
      "application/vnd.jupyter.widget-view+json": {
       "version_major": 2,
       "version_minor": 0,
       "model_id": "b87c4eb73a914b98b347062fbd06d540"
      }
     },
     "metadata": {},
     "output_type": "display_data"
    },
    {
     "data": {
      "text/plain": "Reranking axiomatically:   0%|          | 0/200 [00:00<?, ?query/s]",
      "application/vnd.jupyter.widget-view+json": {
       "version_major": 2,
       "version_minor": 0,
       "model_id": "60186d4e6abb4df4b4d052f2e18cae8f"
      }
     },
     "metadata": {},
     "output_type": "display_data"
    },
    {
     "data": {
      "text/plain": "Reranking axiomatically:   0%|          | 0/200 [00:00<?, ?query/s]",
      "application/vnd.jupyter.widget-view+json": {
       "version_major": 2,
       "version_minor": 0,
       "model_id": "5381857cde754d6bac54dc42c9748035"
      }
     },
     "metadata": {},
     "output_type": "display_data"
    },
    {
     "data": {
      "text/plain": "Reranking axiomatically:   0%|          | 0/200 [00:00<?, ?query/s]",
      "application/vnd.jupyter.widget-view+json": {
       "version_major": 2,
       "version_minor": 0,
       "model_id": "7f68997b6d514e349ae783a1fd4f8d94"
      }
     },
     "metadata": {},
     "output_type": "display_data"
    },
    {
     "data": {
      "text/plain": "Reranking axiomatically:   0%|          | 0/200 [00:00<?, ?query/s]",
      "application/vnd.jupyter.widget-view+json": {
       "version_major": 2,
       "version_minor": 0,
       "model_id": "8bac1cdc50fc43cd983979d043c5021a"
      }
     },
     "metadata": {},
     "output_type": "display_data"
    },
    {
     "data": {
      "text/plain": "Reranking axiomatically:   0%|          | 0/200 [00:00<?, ?query/s]",
      "application/vnd.jupyter.widget-view+json": {
       "version_major": 2,
       "version_minor": 0,
       "model_id": "72958c3961be4463bd6125e2d6b37533"
      }
     },
     "metadata": {},
     "output_type": "display_data"
    },
    {
     "data": {
      "text/plain": "Reranking axiomatically:   0%|          | 0/200 [00:00<?, ?query/s]",
      "application/vnd.jupyter.widget-view+json": {
       "version_major": 2,
       "version_minor": 0,
       "model_id": "db991cd6c1f24482ac16bc6a4a3d7e09"
      }
     },
     "metadata": {},
     "output_type": "display_data"
    },
    {
     "data": {
      "text/plain": "Reranking axiomatically:   0%|          | 0/200 [00:00<?, ?query/s]",
      "application/vnd.jupyter.widget-view+json": {
       "version_major": 2,
       "version_minor": 0,
       "model_id": "f1439cee61c04976bf9fbc32b40c4361"
      }
     },
     "metadata": {},
     "output_type": "display_data"
    },
    {
     "data": {
      "text/plain": "Reranking axiomatically:   0%|          | 0/200 [00:00<?, ?query/s]",
      "application/vnd.jupyter.widget-view+json": {
       "version_major": 2,
       "version_minor": 0,
       "model_id": "9d8f14351a5f47cead50a526fbab376f"
      }
     },
     "metadata": {},
     "output_type": "display_data"
    },
    {
     "data": {
      "text/plain": "Reranking axiomatically:   0%|          | 0/200 [00:00<?, ?query/s]",
      "application/vnd.jupyter.widget-view+json": {
       "version_major": 2,
       "version_minor": 0,
       "model_id": "fa7535fcdbd647aa905d910fd118be7b"
      }
     },
     "metadata": {},
     "output_type": "display_data"
    },
    {
     "data": {
      "text/plain": "Reranking axiomatically:   0%|          | 0/200 [00:00<?, ?query/s]",
      "application/vnd.jupyter.widget-view+json": {
       "version_major": 2,
       "version_minor": 0,
       "model_id": "fc73459634814092b85fefcd40d8cc75"
      }
     },
     "metadata": {},
     "output_type": "display_data"
    },
    {
     "data": {
      "text/plain": "Reranking axiomatically:   0%|          | 0/200 [00:00<?, ?query/s]",
      "application/vnd.jupyter.widget-view+json": {
       "version_major": 2,
       "version_minor": 0,
       "model_id": "02a174f2bf9742ac838bf783bbb4db5a"
      }
     },
     "metadata": {},
     "output_type": "display_data"
    },
    {
     "data": {
      "text/plain": "Reranking axiomatically:   0%|          | 0/200 [00:00<?, ?query/s]",
      "application/vnd.jupyter.widget-view+json": {
       "version_major": 2,
       "version_minor": 0,
       "model_id": "7fba0c9084e04362953ee4ce0ca7bd7b"
      }
     },
     "metadata": {},
     "output_type": "display_data"
    },
    {
     "data": {
      "text/plain": "Reranking axiomatically:   0%|          | 0/200 [00:00<?, ?query/s]",
      "application/vnd.jupyter.widget-view+json": {
       "version_major": 2,
       "version_minor": 0,
       "model_id": "157b19415a1f4c2aa913d5f06487359d"
      }
     },
     "metadata": {},
     "output_type": "display_data"
    },
    {
     "data": {
      "text/plain": "Reranking axiomatically:   0%|          | 0/200 [00:00<?, ?query/s]",
      "application/vnd.jupyter.widget-view+json": {
       "version_major": 2,
       "version_minor": 0,
       "model_id": "a648c420c3f141e4a9d223ed77221e03"
      }
     },
     "metadata": {},
     "output_type": "display_data"
    },
    {
     "data": {
      "text/plain": "Reranking axiomatically:   0%|          | 0/200 [00:00<?, ?query/s]",
      "application/vnd.jupyter.widget-view+json": {
       "version_major": 2,
       "version_minor": 0,
       "model_id": "9e0eafab929544268a48d000a6428691"
      }
     },
     "metadata": {},
     "output_type": "display_data"
    },
    {
     "data": {
      "text/plain": "Reranking axiomatically:   0%|          | 0/200 [00:00<?, ?query/s]",
      "application/vnd.jupyter.widget-view+json": {
       "version_major": 2,
       "version_minor": 0,
       "model_id": "191c03fb21424998a8ef743b13d6d797"
      }
     },
     "metadata": {},
     "output_type": "display_data"
    },
    {
     "data": {
      "text/plain": "Reranking axiomatically:   0%|          | 0/200 [00:00<?, ?query/s]",
      "application/vnd.jupyter.widget-view+json": {
       "version_major": 2,
       "version_minor": 0,
       "model_id": "cc6d747c910441bf942b9e475d517fc4"
      }
     },
     "metadata": {},
     "output_type": "display_data"
    },
    {
     "data": {
      "text/plain": "Reranking axiomatically:   0%|          | 0/200 [00:00<?, ?query/s]",
      "application/vnd.jupyter.widget-view+json": {
       "version_major": 2,
       "version_minor": 0,
       "model_id": "ea355b4c36134c839dc8009fa7e46e04"
      }
     },
     "metadata": {},
     "output_type": "display_data"
    },
    {
     "data": {
      "text/plain": "Reranking axiomatically:   0%|          | 0/200 [00:00<?, ?query/s]",
      "application/vnd.jupyter.widget-view+json": {
       "version_major": 2,
       "version_minor": 0,
       "model_id": "a21ec53c9a88491585330cd1e49645d0"
      }
     },
     "metadata": {},
     "output_type": "display_data"
    },
    {
     "data": {
      "text/plain": "Reranking axiomatically:   0%|          | 0/200 [00:00<?, ?query/s]",
      "application/vnd.jupyter.widget-view+json": {
       "version_major": 2,
       "version_minor": 0,
       "model_id": "1d1b0086f8e94cad9ac94a721cab5b56"
      }
     },
     "metadata": {},
     "output_type": "display_data"
    },
    {
     "data": {
      "text/plain": "Reranking axiomatically:   0%|          | 0/200 [00:00<?, ?query/s]",
      "application/vnd.jupyter.widget-view+json": {
       "version_major": 2,
       "version_minor": 0,
       "model_id": "abfcf81a4ea04fc686f5e8016b7062e3"
      }
     },
     "metadata": {},
     "output_type": "display_data"
    },
    {
     "data": {
      "text/plain": "Reranking axiomatically:   0%|          | 0/200 [00:00<?, ?query/s]",
      "application/vnd.jupyter.widget-view+json": {
       "version_major": 2,
       "version_minor": 0,
       "model_id": "e1c7ee9f36d34f05b5ce5e4150eda447"
      }
     },
     "metadata": {},
     "output_type": "display_data"
    },
    {
     "data": {
      "text/plain": "Reranking axiomatically:   0%|          | 0/200 [00:00<?, ?query/s]",
      "application/vnd.jupyter.widget-view+json": {
       "version_major": 2,
       "version_minor": 0,
       "model_id": "b7f921e57a2e49ba8814dfa5b36fc9a6"
      }
     },
     "metadata": {},
     "output_type": "display_data"
    },
    {
     "data": {
      "text/plain": "Reranking axiomatically:   0%|          | 0/200 [00:00<?, ?query/s]",
      "application/vnd.jupyter.widget-view+json": {
       "version_major": 2,
       "version_minor": 0,
       "model_id": "1a27450a334946f1b6b9fceaf72eab0a"
      }
     },
     "metadata": {},
     "output_type": "display_data"
    },
    {
     "data": {
      "text/plain": "Reranking axiomatically:   0%|          | 0/200 [00:00<?, ?query/s]",
      "application/vnd.jupyter.widget-view+json": {
       "version_major": 2,
       "version_minor": 0,
       "model_id": "7dce617e8cff4348a7a846d311206f5a"
      }
     },
     "metadata": {},
     "output_type": "display_data"
    },
    {
     "data": {
      "text/plain": "Reranking axiomatically:   0%|          | 0/200 [00:00<?, ?query/s]",
      "application/vnd.jupyter.widget-view+json": {
       "version_major": 2,
       "version_minor": 0,
       "model_id": "b54bbad5b218436cbe134a8ff24c4fe9"
      }
     },
     "metadata": {},
     "output_type": "display_data"
    },
    {
     "data": {
      "text/plain": "Reranking axiomatically:   0%|          | 0/200 [00:00<?, ?query/s]",
      "application/vnd.jupyter.widget-view+json": {
       "version_major": 2,
       "version_minor": 0,
       "model_id": "4d8d6a8117dd46a5bab5a0a4e1557511"
      }
     },
     "metadata": {},
     "output_type": "display_data"
    },
    {
     "data": {
      "text/plain": "Reranking axiomatically:   0%|          | 0/200 [00:00<?, ?query/s]",
      "application/vnd.jupyter.widget-view+json": {
       "version_major": 2,
       "version_minor": 0,
       "model_id": "281d255e3ea841fb92c87eaf87070e44"
      }
     },
     "metadata": {},
     "output_type": "display_data"
    },
    {
     "data": {
      "text/plain": "Reranking axiomatically:   0%|          | 0/200 [00:00<?, ?query/s]",
      "application/vnd.jupyter.widget-view+json": {
       "version_major": 2,
       "version_minor": 0,
       "model_id": "12bbbda1d1374d8f8dc88d1b99272414"
      }
     },
     "metadata": {},
     "output_type": "display_data"
    },
    {
     "data": {
      "text/plain": "Reranking axiomatically:   0%|          | 0/200 [00:00<?, ?query/s]",
      "application/vnd.jupyter.widget-view+json": {
       "version_major": 2,
       "version_minor": 0,
       "model_id": "f3b9ac8154e64df6b90d2cda7e7f810c"
      }
     },
     "metadata": {},
     "output_type": "display_data"
    },
    {
     "data": {
      "text/plain": "Reranking axiomatically:   0%|          | 0/200 [00:00<?, ?query/s]",
      "application/vnd.jupyter.widget-view+json": {
       "version_major": 2,
       "version_minor": 0,
       "model_id": "f4e8f4547f524548a88850843967bc29"
      }
     },
     "metadata": {},
     "output_type": "display_data"
    },
    {
     "data": {
      "text/plain": "Reranking axiomatically:   0%|          | 0/200 [00:00<?, ?query/s]",
      "application/vnd.jupyter.widget-view+json": {
       "version_major": 2,
       "version_minor": 0,
       "model_id": "27cce47c4a374abdb24354ec2600808a"
      }
     },
     "metadata": {},
     "output_type": "display_data"
    },
    {
     "data": {
      "text/plain": "Reranking axiomatically:   0%|          | 0/200 [00:00<?, ?query/s]",
      "application/vnd.jupyter.widget-view+json": {
       "version_major": 2,
       "version_minor": 0,
       "model_id": "643016dae3d84856af557ac2a8724699"
      }
     },
     "metadata": {},
     "output_type": "display_data"
    }
   ],
   "source": [
    "from pyterrier.pipelines import Experiment\n",
    "from ir_measures import nDCG, MAP\n",
    "\n",
    "# noinspection PyTypeChecker\n",
    "experiment = Experiment(\n",
    "    [*reranked_retrieval_systems, *retrieval_systems],\n",
    "    track.dataset.get_topics(),\n",
    "    track.dataset.get_qrels(),\n",
    "    [nDCG @ 5, nDCG @ 10, nDCG @ 20, MAP],\n",
    "    [*reranked_retrieval_system_names, *retrieval_system_names],\n",
    "    verbose=True,\n",
    ")\n",
    "experiment.sort_values(by=\"nDCG@10\", ascending=False, inplace=True)"
   ],
   "metadata": {
    "collapsed": false,
    "pycharm": {
     "name": "#%%\n"
    }
   }
  },
  {
   "cell_type": "code",
   "execution_count": 28,
   "outputs": [
    {
     "data": {
      "text/plain": "                            name    nDCG@5   nDCG@10   nDCG@20\n45            Trec(idst_bert_p1)  0.778978  0.764475  0.733733\n67            Trec(idst_bert_p2)  0.775044  0.763157  0.737235\n8    Trec(idst_bert_p1) reranked  0.769555  0.759605  0.729307\n68            Trec(idst_bert_p3)  0.780332  0.759367  0.736413\n30   Trec(idst_bert_p2) reranked  0.764531  0.758502  0.733909\n..                           ...       ...       ...       ...\n2     Trec(bm25tuned_p) reranked  0.509691  0.496206  0.481194\n72                Trec(UNH_bm25)  0.446508  0.449468  0.448966\n35       Trec(UNH_bm25) reranked  0.444285  0.449245  0.448754\n7   Trec(UNH_exDL_bm25) reranked  0.090907  0.082574  0.083515\n44           Trec(UNH_exDL_bm25)  0.083425  0.081719  0.082905\n\n[74 rows x 4 columns]",
      "text/html": "<div>\n<style scoped>\n    .dataframe tbody tr th:only-of-type {\n        vertical-align: middle;\n    }\n\n    .dataframe tbody tr th {\n        vertical-align: top;\n    }\n\n    .dataframe thead th {\n        text-align: right;\n    }\n</style>\n<table border=\"1\" class=\"dataframe\">\n  <thead>\n    <tr style=\"text-align: right;\">\n      <th></th>\n      <th>name</th>\n      <th>nDCG@5</th>\n      <th>nDCG@10</th>\n      <th>nDCG@20</th>\n    </tr>\n  </thead>\n  <tbody>\n    <tr>\n      <th>45</th>\n      <td>Trec(idst_bert_p1)</td>\n      <td>0.778978</td>\n      <td>0.764475</td>\n      <td>0.733733</td>\n    </tr>\n    <tr>\n      <th>67</th>\n      <td>Trec(idst_bert_p2)</td>\n      <td>0.775044</td>\n      <td>0.763157</td>\n      <td>0.737235</td>\n    </tr>\n    <tr>\n      <th>8</th>\n      <td>Trec(idst_bert_p1) reranked</td>\n      <td>0.769555</td>\n      <td>0.759605</td>\n      <td>0.729307</td>\n    </tr>\n    <tr>\n      <th>68</th>\n      <td>Trec(idst_bert_p3)</td>\n      <td>0.780332</td>\n      <td>0.759367</td>\n      <td>0.736413</td>\n    </tr>\n    <tr>\n      <th>30</th>\n      <td>Trec(idst_bert_p2) reranked</td>\n      <td>0.764531</td>\n      <td>0.758502</td>\n      <td>0.733909</td>\n    </tr>\n    <tr>\n      <th>...</th>\n      <td>...</td>\n      <td>...</td>\n      <td>...</td>\n      <td>...</td>\n    </tr>\n    <tr>\n      <th>2</th>\n      <td>Trec(bm25tuned_p) reranked</td>\n      <td>0.509691</td>\n      <td>0.496206</td>\n      <td>0.481194</td>\n    </tr>\n    <tr>\n      <th>72</th>\n      <td>Trec(UNH_bm25)</td>\n      <td>0.446508</td>\n      <td>0.449468</td>\n      <td>0.448966</td>\n    </tr>\n    <tr>\n      <th>35</th>\n      <td>Trec(UNH_bm25) reranked</td>\n      <td>0.444285</td>\n      <td>0.449245</td>\n      <td>0.448754</td>\n    </tr>\n    <tr>\n      <th>7</th>\n      <td>Trec(UNH_exDL_bm25) reranked</td>\n      <td>0.090907</td>\n      <td>0.082574</td>\n      <td>0.083515</td>\n    </tr>\n    <tr>\n      <th>44</th>\n      <td>Trec(UNH_exDL_bm25)</td>\n      <td>0.083425</td>\n      <td>0.081719</td>\n      <td>0.082905</td>\n    </tr>\n  </tbody>\n</table>\n<p>74 rows × 4 columns</p>\n</div>"
     },
     "execution_count": 28,
     "metadata": {},
     "output_type": "execute_result"
    }
   ],
   "source": [
    "experiment"
   ],
   "metadata": {
    "collapsed": false,
    "pycharm": {
     "name": "#%%\n"
    }
   }
  }
 ],
 "metadata": {
  "kernelspec": {
   "display_name": "Python 3",
   "language": "python",
   "name": "python3"
  },
  "language_info": {
   "codemirror_mode": {
    "name": "ipython",
    "version": 2
   },
   "file_extension": ".py",
   "mimetype": "text/x-python",
   "name": "python",
   "nbconvert_exporter": "python",
   "pygments_lexer": "ipython2",
   "version": "2.7.6"
  }
 },
 "nbformat": 4,
 "nbformat_minor": 0
}