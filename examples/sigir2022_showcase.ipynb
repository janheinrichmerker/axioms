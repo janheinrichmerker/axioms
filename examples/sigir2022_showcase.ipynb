{
 "cells": [
  {
   "cell_type": "markdown",
   "source": [
    "# SIGIR 2022 Showcase\n",
    "- showcase some features of the [`ir_axioms`](https://github.com/webis-de/ir_axioms) framework\n",
    "- example data:\n",
    "    - MSMARCO documents and index\n",
    "    - TREC Deep Learning topics"
   ],
   "metadata": {
    "collapsed": false,
    "pycharm": {
     "name": "#%% md\n"
    }
   }
  },
  {
   "cell_type": "markdown",
   "source": [
    "## Preparation"
   ],
   "metadata": {
    "collapsed": false,
    "pycharm": {
     "name": "#%% md\n"
    }
   }
  },
  {
   "cell_type": "markdown",
   "source": [
    "1. initialize PyTerrier"
   ],
   "metadata": {
    "collapsed": false,
    "pycharm": {
     "name": "#%% md\n"
    }
   }
  },
  {
   "cell_type": "code",
   "execution_count": 12,
   "metadata": {
    "pycharm": {
     "name": "#%%\n"
    }
   },
   "outputs": [],
   "source": [
    "from pyterrier import started, init\n",
    "\n",
    "if not started():\n",
    "    init(tqdm=\"auto\")"
   ]
  },
  {
   "cell_type": "markdown",
   "source": [
    "2. download MSMARCO and TREC 2019/2020 Deep Learning tracks (using `ir_datasets`)"
   ],
   "metadata": {
    "collapsed": false,
    "pycharm": {
     "name": "#%% md\n"
    }
   }
  },
  {
   "cell_type": "code",
   "execution_count": 2,
   "metadata": {
    "pycharm": {
     "name": "#%%\n"
    }
   },
   "outputs": [],
   "source": [
    "from pyterrier.datasets import get_dataset\n",
    "\n",
    "msmarco = get_dataset(\"irds:msmarco-passage\")\n",
    "msmarco_trec_2019 = get_dataset(\"irds:msmarco-passage/trec-dl-2019/judged\")\n",
    "msmarco_trec_2020 = get_dataset(\"irds:msmarco-passage/trec-dl-2020/judged\")"
   ]
  },
  {
   "cell_type": "markdown",
   "source": [
    "3. index MSMARCO passages (skip if index already exists)"
   ],
   "metadata": {
    "collapsed": false,
    "pycharm": {
     "name": "#%% md\n"
    }
   }
  },
  {
   "cell_type": "code",
   "execution_count": 3,
   "outputs": [],
   "source": [
    "from os.path import exists\n",
    "from pyterrier import IndexRef\n",
    "from pyterrier.index import IterDictIndexer\n",
    "\n",
    "if not exists(\"./msmarco-index/\"):\n",
    "    index = IterDictIndexer(\"./msmarco-index/\").index(msmarco.get_corpus_iter())\n",
    "else:\n",
    "    index = IndexRef.of(\"./msmarco-index/\")"
   ],
   "metadata": {
    "collapsed": false,
    "pycharm": {
     "name": "#%%\n"
    }
   }
  },
  {
   "cell_type": "markdown",
   "source": [
    "### Baseline Rankers\n",
    "- define initial retrieval with [PyTerrier](https://pyterrier.readthedocs.io/)\n",
    "    - BM25\n",
    "    - PL2"
   ],
   "metadata": {
    "collapsed": false,
    "pycharm": {
     "name": "#%% md\n"
    }
   }
  },
  {
   "cell_type": "code",
   "execution_count": 4,
   "metadata": {
    "pycharm": {
     "name": "#%%\n"
    }
   },
   "outputs": [],
   "source": [
    "from pyterrier.batchretrieve import BatchRetrieve\n",
    "\n",
    "bm25 = BatchRetrieve(index, wmodel=\"BM25\")\n",
    "pl2 = BatchRetrieve(index, wmodel=\"PL2\")"
   ]
  },
  {
   "cell_type": "markdown",
   "source": [
    "## Post-hoc Axiomatic Analyses\n",
    "- create axiomatic analyses with the `AxiomaticExperiment` class\n",
    "- parameters:\n",
    "    - retrieval systems\n",
    "    - axioms\n",
    "    - depth (how many documents to consider when building preference matrices)\n",
    "    - topics and qrels\n",
    "    - index location\n",
    "    - document dataset (for full texts)"
   ],
   "metadata": {
    "collapsed": false,
    "pycharm": {
     "name": "#%% md\n"
    }
   }
  },
  {
   "cell_type": "code",
   "execution_count": 5,
   "metadata": {
    "pycharm": {
     "name": "#%%\n"
    }
   },
   "outputs": [],
   "source": [
    "from ir_axioms.axiom import TFC1, STMC1_fastText, STMC2_fastText, LB1\n",
    "from ir_axioms.backend.pyterrier.experiment import AxiomaticExperiment\n",
    "\n",
    "experiment = AxiomaticExperiment(\n",
    "    [bm25, pl2],\n",
    "    names=[\"BM25\", \"PL2\"],\n",
    "    axioms=[TFC1(), STMC1_fastText(), STMC2_fastText(), LB1()],\n",
    "    depth=5,\n",
    "    topics=msmarco_trec_2020.get_topics(),\n",
    "    qrels=msmarco_trec_2020.get_qrels(),\n",
    "    index=index,\n",
    "    dataset=msmarco,\n",
    "    verbose=True,\n",
    ")"
   ]
  },
  {
   "cell_type": "markdown",
   "source": [
    "### Calculate Pairwise Preferences\n",
    "- `DataFrame` of all pairwise preferences (up to the specified depth)\n",
    "    - rows: document pairs\n",
    "    - colums: preferences of all axioms + original DF columns\n",
    "- computational cost scales with:\n",
    "    - number of retrieval systems\n",
    "    - number of topics\n",
    "    - number of axioms\n",
    "    - depth * depth.\n",
    "- used in further analyses"
   ],
   "metadata": {
    "collapsed": false,
    "pycharm": {
     "name": "#%% md\n"
    }
   }
  },
  {
   "cell_type": "code",
   "execution_count": 6,
   "metadata": {
    "pycharm": {
     "name": "#%%\n"
    }
   },
   "outputs": [
    {
     "data": {
      "text/plain": "Computing system axiomatic preferences:   0%|          | 0/2 [00:00<?, ?system/s]",
      "application/vnd.jupyter.widget-view+json": {
       "version_major": 2,
       "version_minor": 0,
       "model_id": "c0d236ba464a42d1909d7ae12872f808"
      }
     },
     "metadata": {},
     "output_type": "display_data"
    },
    {
     "data": {
      "text/plain": "Computing query axiom preferences:   0%|          | 0/54 [00:00<?, ?query/s]",
      "application/vnd.jupyter.widget-view+json": {
       "version_major": 2,
       "version_minor": 0,
       "model_id": "9fc6cb43b3c340fc826b95617b3bf915"
      }
     },
     "metadata": {},
     "output_type": "display_data"
    },
    {
     "data": {
      "text/plain": "Computing query axiom preferences:   0%|          | 0/54 [00:00<?, ?query/s]",
      "application/vnd.jupyter.widget-view+json": {
       "version_major": 2,
       "version_minor": 0,
       "model_id": "b3a98d2372e04177bd2489ba6c2dc47d"
      }
     },
     "metadata": {},
     "output_type": "display_data"
    },
    {
     "data": {
      "text/plain": "          qid  docid_a  docno_a  rank_a    score_a  \\\n0     1030303  8726436  8726436       0  54.354218   \n1     1030303  8726436  8726436       0  54.354218   \n2     1030303  8726436  8726436       0  54.354218   \n3     1030303  8726436  8726436       0  54.354218   \n4     1030303  8726436  8726436       0  54.354218   \n...       ...      ...      ...     ...        ...   \n1318   997622  2182282  2182282       4  17.011348   \n1319   997622  2182282  2182282       4  17.011348   \n1320   997622  2182282  2182282       4  17.011348   \n1321   997622  2182282  2182282       4  17.011348   \n1322   997622  2182282  2182282       4  17.011348   \n\n                                   query  name  label_a iteration_a  docid_b  \\\n0                     who is aziz hashim  BM25        3           0  8726436   \n1                     who is aziz hashim  BM25        3           0  8726433   \n2                     who is aziz hashim  BM25        3           0  8726435   \n3                     who is aziz hashim  BM25        3           0  8726429   \n4                     who is aziz hashim  BM25        3           0  8726437   \n...                                  ...   ...      ...         ...      ...   \n1318  where is the show shameless filmed   PL2        0           0  5430574   \n1319  where is the show shameless filmed   PL2        0           0  5430569   \n1320  where is the show shameless filmed   PL2        0           0    73465   \n1321  where is the show shameless filmed   PL2        0           0  4543865   \n1322  where is the show shameless filmed   PL2        0           0  2182282   \n\n      ... rank_b    score_b  label_b  iteration_b ORIG_preference  \\\n0     ...      0  54.354218        3            0               0   \n1     ...      1  44.220280        0            0               1   \n2     ...      2  40.514966        3            0               1   \n3     ...      3  39.687092        0            0               1   \n4     ...      4  35.847262        3            0               1   \n...   ...    ...        ...      ...          ...             ...   \n1318  ...      0  18.361460        0            0              -1   \n1319  ...      1  18.093962        0            0              -1   \n1320  ...      2  17.972888        3            0              -1   \n1321  ...      3  17.548734        3            0              -1   \n1322  ...      4  17.011348        0            0               0   \n\n      ORACLE_preference  TFC1_preference  STMC1-fastText_preference  \\\n0                     0                0                          0   \n1                     1                0                          1   \n2                     0                0                          1   \n3                     1                0                         -1   \n4                     0                0                          1   \n...                 ...              ...                        ...   \n1318                  0                0                          1   \n1319                  0                0                         -1   \n1320                 -1                0                         -1   \n1321                 -1                0                         -1   \n1322                  0                0                          0   \n\n      STMC2-fastText_preference  LB1_preference  \n0                             0               0  \n1                             0               0  \n2                             0               0  \n3                             0               0  \n4                             0               0  \n...                         ...             ...  \n1318                          0               0  \n1319                         -1               0  \n1320                          0              -1  \n1321                          0              -1  \n1322                          0               0  \n\n[2646 rows x 21 columns]",
      "text/html": "<div>\n<style scoped>\n    .dataframe tbody tr th:only-of-type {\n        vertical-align: middle;\n    }\n\n    .dataframe tbody tr th {\n        vertical-align: top;\n    }\n\n    .dataframe thead th {\n        text-align: right;\n    }\n</style>\n<table border=\"1\" class=\"dataframe\">\n  <thead>\n    <tr style=\"text-align: right;\">\n      <th></th>\n      <th>qid</th>\n      <th>docid_a</th>\n      <th>docno_a</th>\n      <th>rank_a</th>\n      <th>score_a</th>\n      <th>query</th>\n      <th>name</th>\n      <th>label_a</th>\n      <th>iteration_a</th>\n      <th>docid_b</th>\n      <th>...</th>\n      <th>rank_b</th>\n      <th>score_b</th>\n      <th>label_b</th>\n      <th>iteration_b</th>\n      <th>ORIG_preference</th>\n      <th>ORACLE_preference</th>\n      <th>TFC1_preference</th>\n      <th>STMC1-fastText_preference</th>\n      <th>STMC2-fastText_preference</th>\n      <th>LB1_preference</th>\n    </tr>\n  </thead>\n  <tbody>\n    <tr>\n      <th>0</th>\n      <td>1030303</td>\n      <td>8726436</td>\n      <td>8726436</td>\n      <td>0</td>\n      <td>54.354218</td>\n      <td>who is aziz hashim</td>\n      <td>BM25</td>\n      <td>3</td>\n      <td>0</td>\n      <td>8726436</td>\n      <td>...</td>\n      <td>0</td>\n      <td>54.354218</td>\n      <td>3</td>\n      <td>0</td>\n      <td>0</td>\n      <td>0</td>\n      <td>0</td>\n      <td>0</td>\n      <td>0</td>\n      <td>0</td>\n    </tr>\n    <tr>\n      <th>1</th>\n      <td>1030303</td>\n      <td>8726436</td>\n      <td>8726436</td>\n      <td>0</td>\n      <td>54.354218</td>\n      <td>who is aziz hashim</td>\n      <td>BM25</td>\n      <td>3</td>\n      <td>0</td>\n      <td>8726433</td>\n      <td>...</td>\n      <td>1</td>\n      <td>44.220280</td>\n      <td>0</td>\n      <td>0</td>\n      <td>1</td>\n      <td>1</td>\n      <td>0</td>\n      <td>1</td>\n      <td>0</td>\n      <td>0</td>\n    </tr>\n    <tr>\n      <th>2</th>\n      <td>1030303</td>\n      <td>8726436</td>\n      <td>8726436</td>\n      <td>0</td>\n      <td>54.354218</td>\n      <td>who is aziz hashim</td>\n      <td>BM25</td>\n      <td>3</td>\n      <td>0</td>\n      <td>8726435</td>\n      <td>...</td>\n      <td>2</td>\n      <td>40.514966</td>\n      <td>3</td>\n      <td>0</td>\n      <td>1</td>\n      <td>0</td>\n      <td>0</td>\n      <td>1</td>\n      <td>0</td>\n      <td>0</td>\n    </tr>\n    <tr>\n      <th>3</th>\n      <td>1030303</td>\n      <td>8726436</td>\n      <td>8726436</td>\n      <td>0</td>\n      <td>54.354218</td>\n      <td>who is aziz hashim</td>\n      <td>BM25</td>\n      <td>3</td>\n      <td>0</td>\n      <td>8726429</td>\n      <td>...</td>\n      <td>3</td>\n      <td>39.687092</td>\n      <td>0</td>\n      <td>0</td>\n      <td>1</td>\n      <td>1</td>\n      <td>0</td>\n      <td>-1</td>\n      <td>0</td>\n      <td>0</td>\n    </tr>\n    <tr>\n      <th>4</th>\n      <td>1030303</td>\n      <td>8726436</td>\n      <td>8726436</td>\n      <td>0</td>\n      <td>54.354218</td>\n      <td>who is aziz hashim</td>\n      <td>BM25</td>\n      <td>3</td>\n      <td>0</td>\n      <td>8726437</td>\n      <td>...</td>\n      <td>4</td>\n      <td>35.847262</td>\n      <td>3</td>\n      <td>0</td>\n      <td>1</td>\n      <td>0</td>\n      <td>0</td>\n      <td>1</td>\n      <td>0</td>\n      <td>0</td>\n    </tr>\n    <tr>\n      <th>...</th>\n      <td>...</td>\n      <td>...</td>\n      <td>...</td>\n      <td>...</td>\n      <td>...</td>\n      <td>...</td>\n      <td>...</td>\n      <td>...</td>\n      <td>...</td>\n      <td>...</td>\n      <td>...</td>\n      <td>...</td>\n      <td>...</td>\n      <td>...</td>\n      <td>...</td>\n      <td>...</td>\n      <td>...</td>\n      <td>...</td>\n      <td>...</td>\n      <td>...</td>\n      <td>...</td>\n    </tr>\n    <tr>\n      <th>1318</th>\n      <td>997622</td>\n      <td>2182282</td>\n      <td>2182282</td>\n      <td>4</td>\n      <td>17.011348</td>\n      <td>where is the show shameless filmed</td>\n      <td>PL2</td>\n      <td>0</td>\n      <td>0</td>\n      <td>5430574</td>\n      <td>...</td>\n      <td>0</td>\n      <td>18.361460</td>\n      <td>0</td>\n      <td>0</td>\n      <td>-1</td>\n      <td>0</td>\n      <td>0</td>\n      <td>1</td>\n      <td>0</td>\n      <td>0</td>\n    </tr>\n    <tr>\n      <th>1319</th>\n      <td>997622</td>\n      <td>2182282</td>\n      <td>2182282</td>\n      <td>4</td>\n      <td>17.011348</td>\n      <td>where is the show shameless filmed</td>\n      <td>PL2</td>\n      <td>0</td>\n      <td>0</td>\n      <td>5430569</td>\n      <td>...</td>\n      <td>1</td>\n      <td>18.093962</td>\n      <td>0</td>\n      <td>0</td>\n      <td>-1</td>\n      <td>0</td>\n      <td>0</td>\n      <td>-1</td>\n      <td>-1</td>\n      <td>0</td>\n    </tr>\n    <tr>\n      <th>1320</th>\n      <td>997622</td>\n      <td>2182282</td>\n      <td>2182282</td>\n      <td>4</td>\n      <td>17.011348</td>\n      <td>where is the show shameless filmed</td>\n      <td>PL2</td>\n      <td>0</td>\n      <td>0</td>\n      <td>73465</td>\n      <td>...</td>\n      <td>2</td>\n      <td>17.972888</td>\n      <td>3</td>\n      <td>0</td>\n      <td>-1</td>\n      <td>-1</td>\n      <td>0</td>\n      <td>-1</td>\n      <td>0</td>\n      <td>-1</td>\n    </tr>\n    <tr>\n      <th>1321</th>\n      <td>997622</td>\n      <td>2182282</td>\n      <td>2182282</td>\n      <td>4</td>\n      <td>17.011348</td>\n      <td>where is the show shameless filmed</td>\n      <td>PL2</td>\n      <td>0</td>\n      <td>0</td>\n      <td>4543865</td>\n      <td>...</td>\n      <td>3</td>\n      <td>17.548734</td>\n      <td>3</td>\n      <td>0</td>\n      <td>-1</td>\n      <td>-1</td>\n      <td>0</td>\n      <td>-1</td>\n      <td>0</td>\n      <td>-1</td>\n    </tr>\n    <tr>\n      <th>1322</th>\n      <td>997622</td>\n      <td>2182282</td>\n      <td>2182282</td>\n      <td>4</td>\n      <td>17.011348</td>\n      <td>where is the show shameless filmed</td>\n      <td>PL2</td>\n      <td>0</td>\n      <td>0</td>\n      <td>2182282</td>\n      <td>...</td>\n      <td>4</td>\n      <td>17.011348</td>\n      <td>0</td>\n      <td>0</td>\n      <td>0</td>\n      <td>0</td>\n      <td>0</td>\n      <td>0</td>\n      <td>0</td>\n      <td>0</td>\n    </tr>\n  </tbody>\n</table>\n<p>2646 rows × 21 columns</p>\n</div>"
     },
     "execution_count": 6,
     "metadata": {},
     "output_type": "execute_result"
    }
   ],
   "source": [
    "experiment.preferences"
   ]
  },
  {
   "cell_type": "markdown",
   "source": [
    "### Preference Distribution\n",
    "- identify \"useful\" axioms\n",
    "- distribution of axiom preferences compared to ORIG\n",
    "- how many...\n",
    "    - return a \"zero\" preference?\n",
    "    - agree with ORIG?\n",
    "    - disagree with ORIG?\n",
    "- interesting: axioms that often disagree with ORIG"
   ],
   "metadata": {
    "collapsed": false,
    "pycharm": {
     "name": "#%% md\n"
    }
   }
  },
  {
   "cell_type": "code",
   "execution_count": 7,
   "outputs": [
    {
     "data": {
      "text/plain": "            axiom  axiom == 0  axiom == ORIG  axiom != ORIG\n0            ORIG           0           1056              0\n1          ORACLE         521            308            227\n2            TFC1         943             93             20\n3  STMC1-fastText          11            620            425\n4  STMC2-fastText         952             59             45\n5             LB1         819            142             95",
      "text/html": "<div>\n<style scoped>\n    .dataframe tbody tr th:only-of-type {\n        vertical-align: middle;\n    }\n\n    .dataframe tbody tr th {\n        vertical-align: top;\n    }\n\n    .dataframe thead th {\n        text-align: right;\n    }\n</style>\n<table border=\"1\" class=\"dataframe\">\n  <thead>\n    <tr style=\"text-align: right;\">\n      <th></th>\n      <th>axiom</th>\n      <th>axiom == 0</th>\n      <th>axiom == ORIG</th>\n      <th>axiom != ORIG</th>\n    </tr>\n  </thead>\n  <tbody>\n    <tr>\n      <th>0</th>\n      <td>ORIG</td>\n      <td>0</td>\n      <td>1056</td>\n      <td>0</td>\n    </tr>\n    <tr>\n      <th>1</th>\n      <td>ORACLE</td>\n      <td>521</td>\n      <td>308</td>\n      <td>227</td>\n    </tr>\n    <tr>\n      <th>2</th>\n      <td>TFC1</td>\n      <td>943</td>\n      <td>93</td>\n      <td>20</td>\n    </tr>\n    <tr>\n      <th>3</th>\n      <td>STMC1-fastText</td>\n      <td>11</td>\n      <td>620</td>\n      <td>425</td>\n    </tr>\n    <tr>\n      <th>4</th>\n      <td>STMC2-fastText</td>\n      <td>952</td>\n      <td>59</td>\n      <td>45</td>\n    </tr>\n    <tr>\n      <th>5</th>\n      <td>LB1</td>\n      <td>819</td>\n      <td>142</td>\n      <td>95</td>\n    </tr>\n  </tbody>\n</table>\n</div>"
     },
     "execution_count": 7,
     "metadata": {},
     "output_type": "execute_result"
    }
   ],
   "source": [
    "experiment.preference_distribution"
   ],
   "metadata": {
    "collapsed": false,
    "pycharm": {
     "name": "#%%\n"
    }
   }
  },
  {
   "cell_type": "markdown",
   "source": [
    "### Inconsistent Pairs\n",
    "- document pairs where...\n",
    "    - ORIG contradicts ORACLE\n",
    "    - at least 1 axiom could correct the mistake\n",
    "- useful for focussed debugging of retrieval systems"
   ],
   "metadata": {
    "collapsed": false,
    "pycharm": {
     "name": "#%% md\n"
    }
   }
  },
  {
   "cell_type": "code",
   "execution_count": 8,
   "metadata": {
    "pycharm": {
     "name": "#%%\n"
    }
   },
   "outputs": [
    {
     "data": {
      "text/plain": "          qid  docid_a  docno_a  rank_a    score_a  \\\n11    1030303  8726435  8726435       2  40.514966   \n21    1030303  8726437  8726437       4  35.847262   \n23    1030303  8726437  8726437       4  35.847262   \n30    1037496  4760912  4760912       1  33.267580   \n35    1037496  3725936  3725936       2  32.543854   \n...       ...      ...      ...     ...        ...   \n1296   940547  8805011  8805011       4  15.138041   \n1308   997622    73465    73465       2  17.972888   \n1309   997622    73465    73465       2  17.972888   \n1313   997622  4543865  4543865       3  17.548734   \n1314   997622  4543865  4543865       3  17.548734   \n\n                                   query  name  label_a iteration_a  docid_b  \\\n11                    who is aziz hashim  BM25        3           0  8726433   \n21                    who is aziz hashim  BM25        3           0  8726433   \n23                    who is aziz hashim  BM25        3           0  8726429   \n30                    who is rep scalise  BM25        3           0  7766587   \n35                    who is rep scalise  BM25        3           0  7766587   \n...                                  ...   ...      ...         ...      ...   \n1296          when did rock n roll begin   PL2        1           0  4491773   \n1308  where is the show shameless filmed   PL2        3           0  5430574   \n1309  where is the show shameless filmed   PL2        3           0  5430569   \n1313  where is the show shameless filmed   PL2        3           0  5430574   \n1314  where is the show shameless filmed   PL2        3           0  5430569   \n\n      ... rank_b    score_b  label_b  iteration_b ORIG_preference  \\\n11    ...      1  44.220280        0            0              -1   \n21    ...      1  44.220280        0            0              -1   \n23    ...      3  39.687092        0            0              -1   \n30    ...      0  36.102843        1            0              -1   \n35    ...      0  36.102843        1            0              -1   \n...   ...    ...        ...      ...          ...             ...   \n1296  ...      3  15.419666        0            0              -1   \n1308  ...      0  18.361460        0            0              -1   \n1309  ...      1  18.093962        0            0              -1   \n1313  ...      0  18.361460        0            0              -1   \n1314  ...      1  18.093962        0            0              -1   \n\n      ORACLE_preference  TFC1_preference  STMC1-fastText_preference  \\\n11                    1                0                          1   \n21                    1                0                         -1   \n23                    1                0                         -1   \n30                    1                0                          1   \n35                    1                1                          1   \n...                 ...              ...                        ...   \n1296                  1                0                         -1   \n1308                  1                0                          1   \n1309                  1                0                          1   \n1313                  1               -1                          1   \n1314                  1               -1                          1   \n\n      STMC2-fastText_preference  LB1_preference  \n11                            0               0  \n21                            0               0  \n23                            0               0  \n30                            0               0  \n35                            0               1  \n...                         ...             ...  \n1296                          0               0  \n1308                          0               1  \n1309                          0               1  \n1313                          0               1  \n1314                          0               1  \n\n[227 rows x 21 columns]",
      "text/html": "<div>\n<style scoped>\n    .dataframe tbody tr th:only-of-type {\n        vertical-align: middle;\n    }\n\n    .dataframe tbody tr th {\n        vertical-align: top;\n    }\n\n    .dataframe thead th {\n        text-align: right;\n    }\n</style>\n<table border=\"1\" class=\"dataframe\">\n  <thead>\n    <tr style=\"text-align: right;\">\n      <th></th>\n      <th>qid</th>\n      <th>docid_a</th>\n      <th>docno_a</th>\n      <th>rank_a</th>\n      <th>score_a</th>\n      <th>query</th>\n      <th>name</th>\n      <th>label_a</th>\n      <th>iteration_a</th>\n      <th>docid_b</th>\n      <th>...</th>\n      <th>rank_b</th>\n      <th>score_b</th>\n      <th>label_b</th>\n      <th>iteration_b</th>\n      <th>ORIG_preference</th>\n      <th>ORACLE_preference</th>\n      <th>TFC1_preference</th>\n      <th>STMC1-fastText_preference</th>\n      <th>STMC2-fastText_preference</th>\n      <th>LB1_preference</th>\n    </tr>\n  </thead>\n  <tbody>\n    <tr>\n      <th>11</th>\n      <td>1030303</td>\n      <td>8726435</td>\n      <td>8726435</td>\n      <td>2</td>\n      <td>40.514966</td>\n      <td>who is aziz hashim</td>\n      <td>BM25</td>\n      <td>3</td>\n      <td>0</td>\n      <td>8726433</td>\n      <td>...</td>\n      <td>1</td>\n      <td>44.220280</td>\n      <td>0</td>\n      <td>0</td>\n      <td>-1</td>\n      <td>1</td>\n      <td>0</td>\n      <td>1</td>\n      <td>0</td>\n      <td>0</td>\n    </tr>\n    <tr>\n      <th>21</th>\n      <td>1030303</td>\n      <td>8726437</td>\n      <td>8726437</td>\n      <td>4</td>\n      <td>35.847262</td>\n      <td>who is aziz hashim</td>\n      <td>BM25</td>\n      <td>3</td>\n      <td>0</td>\n      <td>8726433</td>\n      <td>...</td>\n      <td>1</td>\n      <td>44.220280</td>\n      <td>0</td>\n      <td>0</td>\n      <td>-1</td>\n      <td>1</td>\n      <td>0</td>\n      <td>-1</td>\n      <td>0</td>\n      <td>0</td>\n    </tr>\n    <tr>\n      <th>23</th>\n      <td>1030303</td>\n      <td>8726437</td>\n      <td>8726437</td>\n      <td>4</td>\n      <td>35.847262</td>\n      <td>who is aziz hashim</td>\n      <td>BM25</td>\n      <td>3</td>\n      <td>0</td>\n      <td>8726429</td>\n      <td>...</td>\n      <td>3</td>\n      <td>39.687092</td>\n      <td>0</td>\n      <td>0</td>\n      <td>-1</td>\n      <td>1</td>\n      <td>0</td>\n      <td>-1</td>\n      <td>0</td>\n      <td>0</td>\n    </tr>\n    <tr>\n      <th>30</th>\n      <td>1037496</td>\n      <td>4760912</td>\n      <td>4760912</td>\n      <td>1</td>\n      <td>33.267580</td>\n      <td>who is rep scalise</td>\n      <td>BM25</td>\n      <td>3</td>\n      <td>0</td>\n      <td>7766587</td>\n      <td>...</td>\n      <td>0</td>\n      <td>36.102843</td>\n      <td>1</td>\n      <td>0</td>\n      <td>-1</td>\n      <td>1</td>\n      <td>0</td>\n      <td>1</td>\n      <td>0</td>\n      <td>0</td>\n    </tr>\n    <tr>\n      <th>35</th>\n      <td>1037496</td>\n      <td>3725936</td>\n      <td>3725936</td>\n      <td>2</td>\n      <td>32.543854</td>\n      <td>who is rep scalise</td>\n      <td>BM25</td>\n      <td>3</td>\n      <td>0</td>\n      <td>7766587</td>\n      <td>...</td>\n      <td>0</td>\n      <td>36.102843</td>\n      <td>1</td>\n      <td>0</td>\n      <td>-1</td>\n      <td>1</td>\n      <td>1</td>\n      <td>1</td>\n      <td>0</td>\n      <td>1</td>\n    </tr>\n    <tr>\n      <th>...</th>\n      <td>...</td>\n      <td>...</td>\n      <td>...</td>\n      <td>...</td>\n      <td>...</td>\n      <td>...</td>\n      <td>...</td>\n      <td>...</td>\n      <td>...</td>\n      <td>...</td>\n      <td>...</td>\n      <td>...</td>\n      <td>...</td>\n      <td>...</td>\n      <td>...</td>\n      <td>...</td>\n      <td>...</td>\n      <td>...</td>\n      <td>...</td>\n      <td>...</td>\n      <td>...</td>\n    </tr>\n    <tr>\n      <th>1296</th>\n      <td>940547</td>\n      <td>8805011</td>\n      <td>8805011</td>\n      <td>4</td>\n      <td>15.138041</td>\n      <td>when did rock n roll begin</td>\n      <td>PL2</td>\n      <td>1</td>\n      <td>0</td>\n      <td>4491773</td>\n      <td>...</td>\n      <td>3</td>\n      <td>15.419666</td>\n      <td>0</td>\n      <td>0</td>\n      <td>-1</td>\n      <td>1</td>\n      <td>0</td>\n      <td>-1</td>\n      <td>0</td>\n      <td>0</td>\n    </tr>\n    <tr>\n      <th>1308</th>\n      <td>997622</td>\n      <td>73465</td>\n      <td>73465</td>\n      <td>2</td>\n      <td>17.972888</td>\n      <td>where is the show shameless filmed</td>\n      <td>PL2</td>\n      <td>3</td>\n      <td>0</td>\n      <td>5430574</td>\n      <td>...</td>\n      <td>0</td>\n      <td>18.361460</td>\n      <td>0</td>\n      <td>0</td>\n      <td>-1</td>\n      <td>1</td>\n      <td>0</td>\n      <td>1</td>\n      <td>0</td>\n      <td>1</td>\n    </tr>\n    <tr>\n      <th>1309</th>\n      <td>997622</td>\n      <td>73465</td>\n      <td>73465</td>\n      <td>2</td>\n      <td>17.972888</td>\n      <td>where is the show shameless filmed</td>\n      <td>PL2</td>\n      <td>3</td>\n      <td>0</td>\n      <td>5430569</td>\n      <td>...</td>\n      <td>1</td>\n      <td>18.093962</td>\n      <td>0</td>\n      <td>0</td>\n      <td>-1</td>\n      <td>1</td>\n      <td>0</td>\n      <td>1</td>\n      <td>0</td>\n      <td>1</td>\n    </tr>\n    <tr>\n      <th>1313</th>\n      <td>997622</td>\n      <td>4543865</td>\n      <td>4543865</td>\n      <td>3</td>\n      <td>17.548734</td>\n      <td>where is the show shameless filmed</td>\n      <td>PL2</td>\n      <td>3</td>\n      <td>0</td>\n      <td>5430574</td>\n      <td>...</td>\n      <td>0</td>\n      <td>18.361460</td>\n      <td>0</td>\n      <td>0</td>\n      <td>-1</td>\n      <td>1</td>\n      <td>-1</td>\n      <td>1</td>\n      <td>0</td>\n      <td>1</td>\n    </tr>\n    <tr>\n      <th>1314</th>\n      <td>997622</td>\n      <td>4543865</td>\n      <td>4543865</td>\n      <td>3</td>\n      <td>17.548734</td>\n      <td>where is the show shameless filmed</td>\n      <td>PL2</td>\n      <td>3</td>\n      <td>0</td>\n      <td>5430569</td>\n      <td>...</td>\n      <td>1</td>\n      <td>18.093962</td>\n      <td>0</td>\n      <td>0</td>\n      <td>-1</td>\n      <td>1</td>\n      <td>-1</td>\n      <td>1</td>\n      <td>0</td>\n      <td>1</td>\n    </tr>\n  </tbody>\n</table>\n<p>227 rows × 21 columns</p>\n</div>"
     },
     "execution_count": 8,
     "metadata": {},
     "output_type": "execute_result"
    }
   ],
   "source": [
    "experiment.inconsistent_pairs"
   ]
  },
  {
   "cell_type": "markdown",
   "source": [
    "## Axiomatic Re-Ranking\n",
    "- improve consistency with axioms\n",
    "- steps:\n",
    "    1. combine/weight multiple axioms\n",
    "    1. re-rank with combined axiom"
   ],
   "metadata": {
    "collapsed": false,
    "pycharm": {
     "name": "#%% md\n"
    }
   }
  },
  {
   "cell_type": "markdown",
   "source": [
    "### Majority Vote\n",
    "- idea: only change order where multiple axioms agree\n",
    "    - majority vote between specified axioms\n",
    "    - each axiom votes for its preference\n",
    "    - fall back to original ranking order if not a majority >= 50%\n",
    "- combine axioms with Python operators\n",
    "    `%`: majority vote (with 50% majority)\n",
    "    `|`: fallback, if preference is 0\n",
    "- combined axiom is itself an `Axiom`"
   ],
   "metadata": {
    "collapsed": false,
    "pycharm": {
     "name": "#%% md\n"
    }
   }
  },
  {
   "cell_type": "code",
   "execution_count": 9,
   "metadata": {
    "pycharm": {
     "name": "#%%\n"
    }
   },
   "outputs": [],
   "source": [
    "from ir_axioms.axiom import ORIG\n",
    "\n",
    "majority_vote = (TFC1() % STMC1_fastText() % STMC2_fastText() % LB1()) | ORIG()"
   ]
  },
  {
   "cell_type": "markdown",
   "source": [
    "### KwikSort\n",
    "- similar to quicksort\n",
    "    1. select pivot\n",
    "    1. compare and split rankings before and after the pivot\n",
    "    1. repeat for both sub-rankings\n",
    "- results depend on pivot selection\n",
    "- implemented as PyTerrier `Transformer`\n",
    "    - easy to use with PyTerrier pipelines (e.g., to re-rank top-10)"
   ],
   "metadata": {
    "collapsed": false,
    "pycharm": {
     "name": "#%% md\n"
    }
   }
  },
  {
   "cell_type": "code",
   "execution_count": 10,
   "metadata": {
    "pycharm": {
     "name": "#%%\n"
    }
   },
   "outputs": [],
   "source": [
    "from ir_axioms.backend.pyterrier.transformers import KwikSortReranker\n",
    "\n",
    "kwiksort = KwikSortReranker(\n",
    "    axiom=majority_vote,\n",
    "    index=index,\n",
    "    dataset=msmarco,\n",
    "    verbose=True\n",
    ")\n",
    "bm25_kwiksort = (bm25 % 10 >> kwiksort) ^ bm25\n",
    "pl2_kwiksort = (pl2 % 10 >> kwiksort) ^ pl2"
   ]
  },
  {
   "cell_type": "markdown",
   "source": [
    "### Evaluate Re-Rankers\n",
    "- evaluate with PyTerrier `Experiment`\n",
    "- use re-ranked pipelines like any other PyTerrier pipeline"
   ],
   "metadata": {
    "collapsed": false,
    "pycharm": {
     "name": "#%% md\n"
    }
   }
  },
  {
   "cell_type": "code",
   "execution_count": 11,
   "metadata": {
    "pycharm": {
     "name": "#%%\n"
    }
   },
   "outputs": [
    {
     "data": {
      "text/plain": "pt.Experiment:   0%|          | 0/4 [00:00<?, ?system/s]",
      "application/vnd.jupyter.widget-view+json": {
       "version_major": 2,
       "version_minor": 0,
       "model_id": "7e65df0753dc4cc9806fbb87c0ea60e6"
      }
     },
     "metadata": {},
     "output_type": "display_data"
    },
    {
     "data": {
      "text/plain": "Reranking query axiomatically:   0%|          | 0/54 [00:00<?, ?query/s]",
      "application/vnd.jupyter.widget-view+json": {
       "version_major": 2,
       "version_minor": 0,
       "model_id": "4b39d0ba0c454abd9553bab4e4c32605"
      }
     },
     "metadata": {},
     "output_type": "display_data"
    },
    {
     "data": {
      "text/plain": "Reranking query axiomatically:   0%|          | 0/54 [00:00<?, ?query/s]",
      "application/vnd.jupyter.widget-view+json": {
       "version_major": 2,
       "version_minor": 0,
       "model_id": "627ec283bdb64ab1878579e825bd6a49"
      }
     },
     "metadata": {},
     "output_type": "display_data"
    },
    {
     "data": {
      "text/plain": "              name  ndcg_cut_10       map\n0             BM25     0.493627  0.358724\n1  BM25 + KwikSort     0.489339  0.356793\n2              PL2     0.483847  0.345541\n3   PL2 + KwikSort     0.485026  0.344057",
      "text/html": "<div>\n<style scoped>\n    .dataframe tbody tr th:only-of-type {\n        vertical-align: middle;\n    }\n\n    .dataframe tbody tr th {\n        vertical-align: top;\n    }\n\n    .dataframe thead th {\n        text-align: right;\n    }\n</style>\n<table border=\"1\" class=\"dataframe\">\n  <thead>\n    <tr style=\"text-align: right;\">\n      <th></th>\n      <th>name</th>\n      <th>ndcg_cut_10</th>\n      <th>map</th>\n    </tr>\n  </thead>\n  <tbody>\n    <tr>\n      <th>0</th>\n      <td>BM25</td>\n      <td>0.493627</td>\n      <td>0.358724</td>\n    </tr>\n    <tr>\n      <th>1</th>\n      <td>BM25 + KwikSort</td>\n      <td>0.489339</td>\n      <td>0.356793</td>\n    </tr>\n    <tr>\n      <th>2</th>\n      <td>PL2</td>\n      <td>0.483847</td>\n      <td>0.345541</td>\n    </tr>\n    <tr>\n      <th>3</th>\n      <td>PL2 + KwikSort</td>\n      <td>0.485026</td>\n      <td>0.344057</td>\n    </tr>\n  </tbody>\n</table>\n</div>"
     },
     "execution_count": 11,
     "metadata": {},
     "output_type": "execute_result"
    }
   ],
   "source": [
    "from pyterrier.pipelines import Experiment\n",
    "\n",
    "experiment = Experiment(\n",
    "    [bm25, bm25_kwiksort, pl2, pl2_kwiksort],\n",
    "    names=[\"BM25\", \"BM25 + KwikSort\", \"PL2\", \"PL2 + KwikSort\"],\n",
    "    topics=msmarco_trec_2020.get_topics(),\n",
    "    qrels=msmarco_trec_2020.get_qrels(),\n",
    "    eval_metrics=[\"ndcg_cut_10\", \"map\"],\n",
    "    verbose=True,\n",
    ")\n",
    "experiment"
   ]
  },
  {
   "cell_type": "markdown",
   "source": [
    "#### Results\n",
    "- slightly decreased effectiveness\n",
    "- but improved consistency with axioms\n",
    "- more explainable"
   ],
   "metadata": {
    "collapsed": false,
    "pycharm": {
     "name": "#%% md\n"
    }
   }
  },
  {
   "cell_type": "markdown",
   "source": [
    "## More Features\n",
    "`ir_axioms` has even more features to offer!\n",
    "\n",
    "- caching (e.g., when computing for multiple runs)\n",
    "- parallelization with JobLib or Ray\n",
    "- axiomatic features for LTR\n",
    "- estimate the ORACLE preferences\n",
    "\n",
    "Check out all example notebooks on [GitHub](https://github.com/webis-de/ir_axioms)."
   ],
   "metadata": {
    "collapsed": false,
    "pycharm": {
     "name": "#%% md\n"
    }
   }
  },
  {
   "cell_type": "code",
   "execution_count": 11,
   "outputs": [],
   "source": [],
   "metadata": {
    "collapsed": false,
    "pycharm": {
     "name": "#%%\n"
    }
   }
  }
 ],
 "metadata": {
  "kernelspec": {
   "display_name": "Python 3 (ipykernel)",
   "language": "python",
   "name": "python3"
  },
  "language_info": {
   "codemirror_mode": {
    "name": "ipython",
    "version": 3
   },
   "file_extension": ".py",
   "mimetype": "text/x-python",
   "name": "python",
   "nbconvert_exporter": "python",
   "pygments_lexer": "ipython3",
   "version": "3.9.12"
  }
 },
 "nbformat": 4,
 "nbformat_minor": 1
}