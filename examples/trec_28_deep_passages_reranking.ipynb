{
 "cells": [
  {
   "cell_type": "code",
   "execution_count": 1,
   "outputs": [],
   "source": [
    "from sys import modules\n",
    "\n",
    "IN_COLAB = 'google.colab' in modules\n",
    "if IN_COLAB:\n",
    "    !pip install -q ir_axioms[examples] python-terrier"
   ],
   "metadata": {
    "collapsed": false,
    "pycharm": {
     "name": "#%%\n"
    }
   }
  },
  {
   "cell_type": "code",
   "execution_count": 2,
   "outputs": [
    {
     "name": "stderr",
     "output_type": "stream",
     "text": [
      "PyTerrier 0.8.0 has loaded Terrier 5.6 (built by craigmacdonald on 2021-09-17 13:27)\n",
      "\n",
      "No etc/terrier.properties, using terrier.default.properties for bootstrap configuration.\n"
     ]
    }
   ],
   "source": [
    "# Start/initialize PyTerrier.\n",
    "from pyterrier import started, init\n",
    "\n",
    "if not started():\n",
    "    init(tqdm=\"auto\")"
   ],
   "metadata": {
    "collapsed": false,
    "pycharm": {
     "name": "#%%\n"
    }
   }
  },
  {
   "cell_type": "code",
   "execution_count": 3,
   "outputs": [],
   "source": [
    "edition = 28\n",
    "track = \"deep.passages\""
   ],
   "metadata": {
    "collapsed": false,
    "pycharm": {
     "name": "#%%\n"
    }
   }
  },
  {
   "cell_type": "code",
   "execution_count": 4,
   "outputs": [],
   "source": [
    "from pyterrier.datasets import get_dataset\n",
    "from ir_datasets import load\n",
    "\n",
    "dataset_name = \"msmarco-passage/trec-dl-2019/judged\"\n",
    "dataset = get_dataset(f\"irds:{dataset_name}\")\n",
    "ir_dataset = load(dataset_name)"
   ],
   "metadata": {
    "collapsed": false,
    "pycharm": {
     "name": "#%%\n"
    }
   }
  },
  {
   "cell_type": "code",
   "execution_count": 5,
   "outputs": [],
   "source": [
    "from pathlib import Path\n",
    "\n",
    "cache_dir = Path(\"cache/\")\n",
    "index_dir = cache_dir / \"indices\" / dataset_name.replace(\"/\", \"-\")\n",
    "result_dir = Path(\n",
    "    \"/mnt/ceph/storage/data-in-progress/data-research/\"\n",
    "    \"web-search/web-search-trec/trec-system-runs\"\n",
    ") / f\"trec{edition}\" / track\n",
    "result_files = list(result_dir.iterdir())"
   ],
   "metadata": {
    "collapsed": false,
    "pycharm": {
     "name": "#%%\n"
    }
   }
  },
  {
   "cell_type": "code",
   "execution_count": 6,
   "outputs": [],
   "source": [
    "from pyterrier.index import IterDictIndexer\n",
    "\n",
    "if not index_dir.exists():\n",
    "    indexer = IterDictIndexer(str(index_dir.absolute()))\n",
    "    indexer.index(\n",
    "        dataset.get_corpus_iter(),\n",
    "        fields=[\"text\"]\n",
    "    )"
   ],
   "metadata": {
    "collapsed": false,
    "pycharm": {
     "name": "#%%\n"
    }
   }
  },
  {
   "cell_type": "code",
   "execution_count": 7,
   "outputs": [
    {
     "data": {
      "text/plain": "Load results:   0%|          | 0/37 [00:00<?, ?it/s]",
      "application/vnd.jupyter.widget-view+json": {
       "version_major": 2,
       "version_minor": 0,
       "model_id": "955b072bee99437d93089c48d9a1430d"
      }
     },
     "metadata": {},
     "output_type": "display_data"
    }
   ],
   "source": [
    "from pyterrier.text import get_text\n",
    "from pyterrier.io import read_results\n",
    "from pyterrier import Transformer\n",
    "from tqdm.auto import tqdm\n",
    "\n",
    "results = [\n",
    "    Transformer.from_df(read_results(result_file)) >> get_text(dataset, \"text\")\n",
    "    for result_file in tqdm(result_files, desc=\"Load results\")\n",
    "]\n",
    "results_names = [result_file.stem.replace(\"input.\", \"\") for result_file in result_files]"
   ],
   "metadata": {
    "collapsed": false,
    "pycharm": {
     "name": "#%%\n"
    }
   }
  },
  {
   "cell_type": "markdown",
   "source": [
    "## Axiom definition\n",
    "Now let's define our axiom for reranking.\n",
    "In the `ir_axioms` package, we already include many great retrieval axioms that were found useful in literature.\n",
    "But a single axiom alone will likely not affect our ranking much.\n",
    "Therefore, it is essential to combine multiple axioms to form new axioms that can be used for reranking.\n",
    "We'll now combine a few axiom with and (`&`) to only give a score if all axioms agree.\n",
    "Then we add the `OriginalAxiom` as a fallback. That way, if our axioms did not conclude a preference, we use the original ranking order as preference."
   ],
   "metadata": {
    "collapsed": false
   }
  },
  {
   "cell_type": "code",
   "execution_count": 8,
   "outputs": [],
   "source": [
    "from ir_axioms.axiom import (\n",
    "    ArgUC, QTArg, QTPArg, aSL, PROX1, PROX2, PROX3, PROX4, PROX5, TFC1, TFC3, RS_TF, RS_TF_IDF, RS_BM25, RS_PL2, RS_QL,\n",
    "    LNC1, TF_LNC, LB1, STMC1, STMC1_f, STMC2, STMC2_f, AND, LEN_AND, M_AND, LEN_M_AND, DIV, LEN_DIV, M_TDC, LEN_M_TDC,\n",
    "    AndAxiom, ORIG, REG, ANTI_REG\n",
    ")\n",
    "\n",
    "# Define axiom for reranker and permutations.\n",
    "axiom = ~(\n",
    "        AndAxiom([\n",
    "            ArgUC(),  # Very slow due to network access.\n",
    "            QTArg(),  # Very slow due to network access.\n",
    "            QTPArg(),  # Very slow due to network access.\n",
    "            aSL(),\n",
    "            LNC1(),\n",
    "            TF_LNC(),\n",
    "            LB1(),\n",
    "            PROX1(),\n",
    "            PROX2(),\n",
    "            PROX3(),\n",
    "            PROX4(),\n",
    "            PROX5(),\n",
    "            REG(),\n",
    "            ANTI_REG(),\n",
    "            AND(),\n",
    "            LEN_AND(),\n",
    "            M_AND(),\n",
    "            LEN_M_AND(),\n",
    "            DIV(),\n",
    "            LEN_DIV(),\n",
    "            RS_TF(),\n",
    "            RS_TF_IDF(),\n",
    "            RS_BM25(),\n",
    "            RS_PL2(),\n",
    "            RS_QL(),\n",
    "            TFC1(),\n",
    "            TFC3(),\n",
    "            M_TDC(),\n",
    "            LEN_M_TDC(),\n",
    "            STMC1(),  # Rather slow due many similarity calculations.\n",
    "            STMC1_f(),  # Rather slow due many similarity calculations.\n",
    "            STMC2(),\n",
    "            STMC2_f(),\n",
    "        ]) | ORIG()\n",
    ")"
   ],
   "metadata": {
    "collapsed": false,
    "pycharm": {
     "name": "#%%\n"
    }
   }
  },
  {
   "cell_type": "code",
   "execution_count": 9,
   "outputs": [],
   "source": [
    "from ir_axioms.backend.pyterrier.transformers import AxiomaticReranker\n",
    "\n",
    "reranked = [\n",
    "    result % 10 >>\n",
    "    AxiomaticReranker(\n",
    "        axiom=axiom,\n",
    "        index=index_dir,\n",
    "        dataset=dataset_name,\n",
    "        verbose=True\n",
    "    ) ^ result\n",
    "    for result in results\n",
    "]\n",
    "reranked_names = [f\"{name} reranked\" for name in results_names]"
   ],
   "metadata": {
    "collapsed": false,
    "pycharm": {
     "name": "#%%\n"
    }
   }
  },
  {
   "cell_type": "code",
   "execution_count": 10,
   "outputs": [
    {
     "data": {
      "text/plain": "pt.Experiment:   0%|          | 0/74 [00:00<?, ?system/s]",
      "application/vnd.jupyter.widget-view+json": {
       "version_major": 2,
       "version_minor": 0,
       "model_id": "93dc575020254de398b66b0e6a113aa7"
      }
     },
     "metadata": {},
     "output_type": "display_data"
    },
    {
     "data": {
      "text/plain": "Reranking query axiomatically:   0%|          | 0/43 [00:00<?, ?query/s]",
      "application/vnd.jupyter.widget-view+json": {
       "version_major": 2,
       "version_minor": 0,
       "model_id": "a0604e15343e4c3da7acff066f72ed7a"
      }
     },
     "metadata": {},
     "output_type": "display_data"
    },
    {
     "data": {
      "text/plain": "Reranking query axiomatically:   0%|          | 0/43 [00:00<?, ?query/s]",
      "application/vnd.jupyter.widget-view+json": {
       "version_major": 2,
       "version_minor": 0,
       "model_id": "813014e13e244ec68a2b5edb314efd50"
      }
     },
     "metadata": {},
     "output_type": "display_data"
    },
    {
     "data": {
      "text/plain": "Reranking query axiomatically:   0%|          | 0/43 [00:00<?, ?query/s]",
      "application/vnd.jupyter.widget-view+json": {
       "version_major": 2,
       "version_minor": 0,
       "model_id": "751e2aef3607422398afb77fdeffa173"
      }
     },
     "metadata": {},
     "output_type": "display_data"
    },
    {
     "data": {
      "text/plain": "Reranking query axiomatically:   0%|          | 0/43 [00:00<?, ?query/s]",
      "application/vnd.jupyter.widget-view+json": {
       "version_major": 2,
       "version_minor": 0,
       "model_id": "e574539e5f4245e6819c0fdc3dd4eeb8"
      }
     },
     "metadata": {},
     "output_type": "display_data"
    },
    {
     "data": {
      "text/plain": "Reranking query axiomatically:   0%|          | 0/43 [00:00<?, ?query/s]",
      "application/vnd.jupyter.widget-view+json": {
       "version_major": 2,
       "version_minor": 0,
       "model_id": "03e8fd27767249a292df9b31bd73f22a"
      }
     },
     "metadata": {},
     "output_type": "display_data"
    },
    {
     "data": {
      "text/plain": "Reranking query axiomatically:   0%|          | 0/43 [00:00<?, ?query/s]",
      "application/vnd.jupyter.widget-view+json": {
       "version_major": 2,
       "version_minor": 0,
       "model_id": "da6b8f24f3b24f3cb3ab6da62182eb69"
      }
     },
     "metadata": {},
     "output_type": "display_data"
    },
    {
     "data": {
      "text/plain": "Reranking query axiomatically:   0%|          | 0/43 [00:00<?, ?query/s]",
      "application/vnd.jupyter.widget-view+json": {
       "version_major": 2,
       "version_minor": 0,
       "model_id": "929472f950ae4591989531fe103cb63c"
      }
     },
     "metadata": {},
     "output_type": "display_data"
    },
    {
     "name": "stdout",
     "output_type": "stream",
     "text": [
      "01:22:42.319 [main] WARN org.terrier.structures.BaseCompressingMetaIndex - OutOfMemoryError: Structure meta reading lookup file directly from disk\n",
      "01:22:42.404 [main] WARN org.terrier.structures.BaseCompressingMetaIndex - OutOfMemoryError: Structure meta reading data file directly from disk\n"
     ]
    },
    {
     "data": {
      "text/plain": "Reranking query axiomatically:   0%|          | 0/43 [00:00<?, ?query/s]",
      "application/vnd.jupyter.widget-view+json": {
       "version_major": 2,
       "version_minor": 0,
       "model_id": "2687fc4b148f45cca0af2c3e83e6ae53"
      }
     },
     "metadata": {},
     "output_type": "display_data"
    },
    {
     "name": "stdout",
     "output_type": "stream",
     "text": [
      "01:23:20.835 [main] ERROR org.terrier.structures.Index - Couldn't load an index structure called document\n",
      "java.lang.OutOfMemoryError: Java heap space\n",
      "01:23:20.958 [main] WARN org.terrier.structures.BaseCompressingMetaIndex - OutOfMemoryError: Structure meta reading lookup file directly from disk\n",
      "01:23:21.003 [main] WARN org.terrier.structures.BaseCompressingMetaIndex - OutOfMemoryError: Structure meta reading data file directly from disk\n",
      "01:23:21.054 [main] ERROR org.terrier.structures.Index - Couldn't load an index structure called document\n",
      "java.lang.OutOfMemoryError: Java heap space\n",
      "01:23:21.103 [main] ERROR org.terrier.structures.Index - Couldn't load an index structure called document\n",
      "java.lang.OutOfMemoryError: Java heap space\n"
     ]
    },
    {
     "ename": "JavaException",
     "evalue": "JVM exception occurred: Could not load an index for ref /home/heinrich/Development/webis/ir_axioms/examples/cache/indices/msmarco-passage-trec-dl-2019-judged, even though IndexLoader org.terrier.structures.IndexOnDisk$DiskIndexLoader could support that type of index. It may be your ref had a wrong location; Terrier logs may have more information. java.lang.IllegalArgumentException",
     "output_type": "error",
     "traceback": [
      "\u001B[0;31m---------------------------------------------------------------------------\u001B[0m",
      "\u001B[0;31mJavaException\u001B[0m                             Traceback (most recent call last)",
      "Input \u001B[0;32mIn [10]\u001B[0m, in \u001B[0;36m<module>\u001B[0;34m\u001B[0m\n\u001B[1;32m      1\u001B[0m \u001B[38;5;28;01mfrom\u001B[39;00m \u001B[38;5;21;01mpyterrier\u001B[39;00m\u001B[38;5;21;01m.\u001B[39;00m\u001B[38;5;21;01mpipelines\u001B[39;00m \u001B[38;5;28;01mimport\u001B[39;00m Experiment\n\u001B[1;32m      2\u001B[0m \u001B[38;5;28;01mfrom\u001B[39;00m \u001B[38;5;21;01mir_measures\u001B[39;00m \u001B[38;5;28;01mimport\u001B[39;00m nDCG, MAP\n\u001B[0;32m----> 4\u001B[0m experiment \u001B[38;5;241m=\u001B[39m \u001B[43mExperiment\u001B[49m\u001B[43m(\u001B[49m\n\u001B[1;32m      5\u001B[0m \u001B[43m    \u001B[49m\u001B[43m[\u001B[49m\u001B[38;5;241;43m*\u001B[39;49m\u001B[43mresults\u001B[49m\u001B[43m,\u001B[49m\u001B[43m \u001B[49m\u001B[38;5;241;43m*\u001B[39;49m\u001B[43mreranked\u001B[49m\u001B[43m]\u001B[49m\u001B[43m,\u001B[49m\n\u001B[1;32m      6\u001B[0m \u001B[43m    \u001B[49m\u001B[43mdataset\u001B[49m\u001B[38;5;241;43m.\u001B[39;49m\u001B[43mget_topics\u001B[49m\u001B[43m(\u001B[49m\u001B[43m)\u001B[49m\u001B[43m,\u001B[49m\n\u001B[1;32m      7\u001B[0m \u001B[43m    \u001B[49m\u001B[43mdataset\u001B[49m\u001B[38;5;241;43m.\u001B[39;49m\u001B[43mget_qrels\u001B[49m\u001B[43m(\u001B[49m\u001B[43m)\u001B[49m\u001B[43m,\u001B[49m\n\u001B[1;32m      8\u001B[0m \u001B[43m    \u001B[49m\u001B[43m[\u001B[49m\u001B[43mnDCG\u001B[49m\u001B[43m \u001B[49m\u001B[38;5;241;43m@\u001B[39;49m\u001B[43m \u001B[49m\u001B[38;5;241;43m5\u001B[39;49m\u001B[43m,\u001B[49m\u001B[43m \u001B[49m\u001B[43mnDCG\u001B[49m\u001B[43m \u001B[49m\u001B[38;5;241;43m@\u001B[39;49m\u001B[43m \u001B[49m\u001B[38;5;241;43m10\u001B[39;49m\u001B[43m,\u001B[49m\u001B[43m \u001B[49m\u001B[43mnDCG\u001B[49m\u001B[43m \u001B[49m\u001B[38;5;241;43m@\u001B[39;49m\u001B[43m \u001B[49m\u001B[38;5;241;43m20\u001B[39;49m\u001B[43m,\u001B[49m\u001B[43m \u001B[49m\u001B[43mMAP\u001B[49m\u001B[43m]\u001B[49m\u001B[43m,\u001B[49m\n\u001B[1;32m      9\u001B[0m \u001B[43m    \u001B[49m\u001B[43m[\u001B[49m\u001B[38;5;241;43m*\u001B[39;49m\u001B[43mresults_names\u001B[49m\u001B[43m,\u001B[49m\u001B[43m \u001B[49m\u001B[38;5;241;43m*\u001B[39;49m\u001B[43mreranked_names\u001B[49m\u001B[43m]\u001B[49m\u001B[43m,\u001B[49m\n\u001B[1;32m     10\u001B[0m \u001B[43m    \u001B[49m\u001B[43mverbose\u001B[49m\u001B[38;5;241;43m=\u001B[39;49m\u001B[38;5;28;43;01mTrue\u001B[39;49;00m\u001B[43m,\u001B[49m\n\u001B[1;32m     11\u001B[0m \u001B[43m)\u001B[49m\n\u001B[1;32m     12\u001B[0m experiment\u001B[38;5;241m.\u001B[39msort_values(by\u001B[38;5;241m=\u001B[39m\u001B[38;5;124m\"\u001B[39m\u001B[38;5;124mnDCG@10\u001B[39m\u001B[38;5;124m\"\u001B[39m, ascending\u001B[38;5;241m=\u001B[39m\u001B[38;5;28;01mFalse\u001B[39;00m, inplace\u001B[38;5;241m=\u001B[39m\u001B[38;5;28;01mTrue\u001B[39;00m)\n",
      "File \u001B[0;32m~/Development/webis/ir_axioms/venv/lib/python3.9/site-packages/pyterrier/pipelines.py:450\u001B[0m, in \u001B[0;36mExperiment\u001B[0;34m(retr_systems, topics, qrels, eval_metrics, names, perquery, dataframe, batch_size, filter_by_qrels, filter_by_topics, baseline, test, correction, correction_alpha, highlight, round, verbose, save_dir, save_mode, **kwargs)\u001B[0m\n\u001B[1;32m    447\u001B[0m \u001B[38;5;28;01mif\u001B[39;00m save_dir \u001B[38;5;129;01mis\u001B[39;00m \u001B[38;5;129;01mnot\u001B[39;00m \u001B[38;5;28;01mNone\u001B[39;00m:\n\u001B[1;32m    448\u001B[0m     save_file \u001B[38;5;241m=\u001B[39m os\u001B[38;5;241m.\u001B[39mpath\u001B[38;5;241m.\u001B[39mjoin(save_dir, \u001B[38;5;124m\"\u001B[39m\u001B[38;5;132;01m%s\u001B[39;00m\u001B[38;5;124m.res.gz\u001B[39m\u001B[38;5;124m\"\u001B[39m \u001B[38;5;241m%\u001B[39m name)\n\u001B[0;32m--> 450\u001B[0m time, evalMeasuresDict \u001B[38;5;241m=\u001B[39m \u001B[43m_run_and_evaluate\u001B[49m\u001B[43m(\u001B[49m\n\u001B[1;32m    451\u001B[0m \u001B[43m    \u001B[49m\u001B[43msystem\u001B[49m\u001B[43m,\u001B[49m\u001B[43m \u001B[49m\u001B[43mtopics\u001B[49m\u001B[43m,\u001B[49m\u001B[43m \u001B[49m\u001B[43mqrels\u001B[49m\u001B[43m,\u001B[49m\u001B[43m \u001B[49m\u001B[43meval_metrics\u001B[49m\u001B[43m,\u001B[49m\u001B[43m \u001B[49m\n\u001B[1;32m    452\u001B[0m \u001B[43m    \u001B[49m\u001B[43mperquery\u001B[49m\u001B[38;5;241;43m=\u001B[39;49m\u001B[43mperquery\u001B[49m\u001B[43m \u001B[49m\u001B[38;5;129;43;01mor\u001B[39;49;00m\u001B[43m \u001B[49m\u001B[43mbaseline\u001B[49m\u001B[43m \u001B[49m\u001B[38;5;129;43;01mis\u001B[39;49;00m\u001B[43m \u001B[49m\u001B[38;5;129;43;01mnot\u001B[39;49;00m\u001B[43m \u001B[49m\u001B[38;5;28;43;01mNone\u001B[39;49;00m\u001B[43m,\u001B[49m\u001B[43m \u001B[49m\n\u001B[1;32m    453\u001B[0m \u001B[43m    \u001B[49m\u001B[43mbatch_size\u001B[49m\u001B[38;5;241;43m=\u001B[39;49m\u001B[43mbatch_size\u001B[49m\u001B[43m,\u001B[49m\u001B[43m \u001B[49m\n\u001B[1;32m    454\u001B[0m \u001B[43m    \u001B[49m\u001B[43mbackfill_qids\u001B[49m\u001B[38;5;241;43m=\u001B[39;49m\u001B[43mall_topic_qids\u001B[49m\u001B[43m \u001B[49m\u001B[38;5;28;43;01mif\u001B[39;49;00m\u001B[43m \u001B[49m\u001B[43mperquery\u001B[49m\u001B[43m \u001B[49m\u001B[38;5;28;43;01melse\u001B[39;49;00m\u001B[43m \u001B[49m\u001B[38;5;28;43;01mNone\u001B[39;49;00m\u001B[43m,\u001B[49m\n\u001B[1;32m    455\u001B[0m \u001B[43m    \u001B[49m\u001B[43msave_file\u001B[49m\u001B[38;5;241;43m=\u001B[39;49m\u001B[43msave_file\u001B[49m\u001B[43m,\u001B[49m\n\u001B[1;32m    456\u001B[0m \u001B[43m    \u001B[49m\u001B[43msave_mode\u001B[49m\u001B[38;5;241;43m=\u001B[39;49m\u001B[43msave_mode\u001B[49m\u001B[43m,\u001B[49m\n\u001B[1;32m    457\u001B[0m \u001B[43m    \u001B[49m\u001B[43mpbar\u001B[49m\u001B[38;5;241;43m=\u001B[39;49m\u001B[43mpbar\u001B[49m\u001B[43m)\u001B[49m\n\u001B[1;32m    459\u001B[0m \u001B[38;5;28;01mif\u001B[39;00m baseline \u001B[38;5;129;01mis\u001B[39;00m \u001B[38;5;129;01mnot\u001B[39;00m \u001B[38;5;28;01mNone\u001B[39;00m:\n\u001B[1;32m    460\u001B[0m     evalDictsPerQ\u001B[38;5;241m.\u001B[39mappend(evalMeasuresDict)\n",
      "File \u001B[0;32m~/Development/webis/ir_axioms/venv/lib/python3.9/site-packages/pyterrier/pipelines.py:171\u001B[0m, in \u001B[0;36m_run_and_evaluate\u001B[0;34m(system, topics, qrels, metrics, pbar, save_mode, save_file, perquery, batch_size, backfill_qids)\u001B[0m\n\u001B[1;32m    167\u001B[0m \u001B[38;5;28;01melif\u001B[39;00m batch_size \u001B[38;5;129;01mis\u001B[39;00m \u001B[38;5;28;01mNone\u001B[39;00m:\n\u001B[1;32m    168\u001B[0m     \u001B[38;5;66;03m#transformer, evaluate all queries at once\u001B[39;00m\n\u001B[1;32m    170\u001B[0m     starttime \u001B[38;5;241m=\u001B[39m timer()\n\u001B[0;32m--> 171\u001B[0m     res \u001B[38;5;241m=\u001B[39m \u001B[43msystem\u001B[49m\u001B[38;5;241;43m.\u001B[39;49m\u001B[43mtransform\u001B[49m\u001B[43m(\u001B[49m\u001B[43mtopics\u001B[49m\u001B[43m)\u001B[49m\n\u001B[1;32m    172\u001B[0m     endtime \u001B[38;5;241m=\u001B[39m timer()\n\u001B[1;32m    173\u001B[0m     runtime \u001B[38;5;241m=\u001B[39m  (endtime \u001B[38;5;241m-\u001B[39m starttime) \u001B[38;5;241m*\u001B[39m \u001B[38;5;241m1000.\u001B[39m\n",
      "File \u001B[0;32m~/Development/webis/ir_axioms/venv/lib/python3.9/site-packages/pyterrier/transformer.py:511\u001B[0m, in \u001B[0;36mConcatenateTransformer.transform\u001B[0;34m(self, topics_and_res)\u001B[0m\n\u001B[1;32m    509\u001B[0m \u001B[38;5;28;01mimport\u001B[39;00m \u001B[38;5;21;01mpandas\u001B[39;00m \u001B[38;5;28;01mas\u001B[39;00m \u001B[38;5;21;01mpd\u001B[39;00m\n\u001B[1;32m    510\u001B[0m \u001B[38;5;66;03m# take the first set as the top of the ranking\u001B[39;00m\n\u001B[0;32m--> 511\u001B[0m res1 \u001B[38;5;241m=\u001B[39m \u001B[38;5;28;43mself\u001B[39;49m\u001B[38;5;241;43m.\u001B[39;49m\u001B[43mleft\u001B[49m\u001B[38;5;241;43m.\u001B[39;49m\u001B[43mtransform\u001B[49m\u001B[43m(\u001B[49m\u001B[43mtopics_and_res\u001B[49m\u001B[43m)\u001B[49m\n\u001B[1;32m    512\u001B[0m \u001B[38;5;66;03m# identify the lowest score for each query\u001B[39;00m\n\u001B[1;32m    513\u001B[0m last_scores \u001B[38;5;241m=\u001B[39m res1[[\u001B[38;5;124m'\u001B[39m\u001B[38;5;124mqid\u001B[39m\u001B[38;5;124m'\u001B[39m, \u001B[38;5;124m'\u001B[39m\u001B[38;5;124mscore\u001B[39m\u001B[38;5;124m'\u001B[39m]]\u001B[38;5;241m.\u001B[39mgroupby(\u001B[38;5;124m'\u001B[39m\u001B[38;5;124mqid\u001B[39m\u001B[38;5;124m'\u001B[39m)\u001B[38;5;241m.\u001B[39mmin()\u001B[38;5;241m.\u001B[39mrename(columns\u001B[38;5;241m=\u001B[39m{\u001B[38;5;124m\"\u001B[39m\u001B[38;5;124mscore\u001B[39m\u001B[38;5;124m\"\u001B[39m : \u001B[38;5;124m\"\u001B[39m\u001B[38;5;124m_lastscore\u001B[39m\u001B[38;5;124m\"\u001B[39m})\n",
      "File \u001B[0;32m~/Development/webis/ir_axioms/venv/lib/python3.9/site-packages/pyterrier/transformer.py:879\u001B[0m, in \u001B[0;36mComposedPipeline.transform\u001B[0;34m(self, topics)\u001B[0m\n\u001B[1;32m    877\u001B[0m \u001B[38;5;28;01mdef\u001B[39;00m \u001B[38;5;21mtransform\u001B[39m(\u001B[38;5;28mself\u001B[39m, topics):\n\u001B[1;32m    878\u001B[0m     \u001B[38;5;28;01mfor\u001B[39;00m m \u001B[38;5;129;01min\u001B[39;00m \u001B[38;5;28mself\u001B[39m\u001B[38;5;241m.\u001B[39mmodels:\n\u001B[0;32m--> 879\u001B[0m         topics \u001B[38;5;241m=\u001B[39m \u001B[43mm\u001B[49m\u001B[38;5;241;43m.\u001B[39;49m\u001B[43mtransform\u001B[49m\u001B[43m(\u001B[49m\u001B[43mtopics\u001B[49m\u001B[43m)\u001B[49m\n\u001B[1;32m    880\u001B[0m     \u001B[38;5;28;01mreturn\u001B[39;00m topics\n",
      "File \u001B[0;32m~/Development/webis/ir_axioms/ir_axioms/backend/pyterrier/transformers.py:59\u001B[0m, in \u001B[0;36mPerGroupTransformer.transform\u001B[0;34m(self, topics_or_res)\u001B[0m\n\u001B[1;32m     53\u001B[0m \u001B[38;5;28;01mif\u001B[39;00m \u001B[38;5;28mself\u001B[39m\u001B[38;5;241m.\u001B[39mverbose:\n\u001B[1;32m     54\u001B[0m     \u001B[38;5;66;03m# Show progress during reranking queries.\u001B[39;00m\n\u001B[1;32m     55\u001B[0m     tqdm\u001B[38;5;241m.\u001B[39mpandas(\n\u001B[1;32m     56\u001B[0m         desc\u001B[38;5;241m=\u001B[39m\u001B[38;5;28mself\u001B[39m\u001B[38;5;241m.\u001B[39mdescription,\n\u001B[1;32m     57\u001B[0m         unit\u001B[38;5;241m=\u001B[39m\u001B[38;5;28mself\u001B[39m\u001B[38;5;241m.\u001B[39munit,\n\u001B[1;32m     58\u001B[0m     )\n\u001B[0;32m---> 59\u001B[0m     query_rankings \u001B[38;5;241m=\u001B[39m \u001B[43mquery_rankings\u001B[49m\u001B[38;5;241;43m.\u001B[39;49m\u001B[43mprogress_apply\u001B[49m\u001B[43m(\u001B[49m\n\u001B[1;32m     60\u001B[0m \u001B[43m        \u001B[49m\u001B[38;5;28;43mself\u001B[39;49m\u001B[38;5;241;43m.\u001B[39;49m\u001B[43mtransform_group\u001B[49m\n\u001B[1;32m     61\u001B[0m \u001B[43m    \u001B[49m\u001B[43m)\u001B[49m\n\u001B[1;32m     62\u001B[0m \u001B[38;5;28;01melse\u001B[39;00m:\n\u001B[1;32m     63\u001B[0m     query_rankings \u001B[38;5;241m=\u001B[39m query_rankings\u001B[38;5;241m.\u001B[39mapply(\u001B[38;5;28mself\u001B[39m\u001B[38;5;241m.\u001B[39mtransform_group)\n",
      "File \u001B[0;32m~/Development/webis/ir_axioms/venv/lib/python3.9/site-packages/tqdm/std.py:814\u001B[0m, in \u001B[0;36mtqdm.pandas.<locals>.inner_generator.<locals>.inner\u001B[0;34m(df, func, *args, **kwargs)\u001B[0m\n\u001B[1;32m    811\u001B[0m \u001B[38;5;66;03m# Apply the provided function (in **kwargs)\u001B[39;00m\n\u001B[1;32m    812\u001B[0m \u001B[38;5;66;03m# on the df using our wrapper (which provides bar updating)\u001B[39;00m\n\u001B[1;32m    813\u001B[0m \u001B[38;5;28;01mtry\u001B[39;00m:\n\u001B[0;32m--> 814\u001B[0m     \u001B[38;5;28;01mreturn\u001B[39;00m \u001B[38;5;28;43mgetattr\u001B[39;49m\u001B[43m(\u001B[49m\u001B[43mdf\u001B[49m\u001B[43m,\u001B[49m\u001B[43m \u001B[49m\u001B[43mdf_function\u001B[49m\u001B[43m)\u001B[49m\u001B[43m(\u001B[49m\u001B[43mwrapper\u001B[49m\u001B[43m,\u001B[49m\u001B[43m \u001B[49m\u001B[38;5;241;43m*\u001B[39;49m\u001B[38;5;241;43m*\u001B[39;49m\u001B[43mkwargs\u001B[49m\u001B[43m)\u001B[49m\n\u001B[1;32m    815\u001B[0m \u001B[38;5;28;01mfinally\u001B[39;00m:\n\u001B[1;32m    816\u001B[0m     t\u001B[38;5;241m.\u001B[39mclose()\n",
      "File \u001B[0;32m~/Development/webis/ir_axioms/venv/lib/python3.9/site-packages/pandas/core/groupby/groupby.py:1414\u001B[0m, in \u001B[0;36mGroupBy.apply\u001B[0;34m(self, func, *args, **kwargs)\u001B[0m\n\u001B[1;32m   1412\u001B[0m \u001B[38;5;28;01mwith\u001B[39;00m option_context(\u001B[38;5;124m\"\u001B[39m\u001B[38;5;124mmode.chained_assignment\u001B[39m\u001B[38;5;124m\"\u001B[39m, \u001B[38;5;28;01mNone\u001B[39;00m):\n\u001B[1;32m   1413\u001B[0m     \u001B[38;5;28;01mtry\u001B[39;00m:\n\u001B[0;32m-> 1414\u001B[0m         result \u001B[38;5;241m=\u001B[39m \u001B[38;5;28;43mself\u001B[39;49m\u001B[38;5;241;43m.\u001B[39;49m\u001B[43m_python_apply_general\u001B[49m\u001B[43m(\u001B[49m\u001B[43mf\u001B[49m\u001B[43m,\u001B[49m\u001B[43m \u001B[49m\u001B[38;5;28;43mself\u001B[39;49m\u001B[38;5;241;43m.\u001B[39;49m\u001B[43m_selected_obj\u001B[49m\u001B[43m)\u001B[49m\n\u001B[1;32m   1415\u001B[0m     \u001B[38;5;28;01mexcept\u001B[39;00m \u001B[38;5;167;01mTypeError\u001B[39;00m:\n\u001B[1;32m   1416\u001B[0m         \u001B[38;5;66;03m# gh-20949\u001B[39;00m\n\u001B[1;32m   1417\u001B[0m         \u001B[38;5;66;03m# try again, with .apply acting as a filtering\u001B[39;00m\n\u001B[0;32m   (...)\u001B[0m\n\u001B[1;32m   1421\u001B[0m         \u001B[38;5;66;03m# fails on *some* columns, e.g. a numeric operation\u001B[39;00m\n\u001B[1;32m   1422\u001B[0m         \u001B[38;5;66;03m# on a string grouper column\u001B[39;00m\n\u001B[1;32m   1424\u001B[0m         \u001B[38;5;28;01mwith\u001B[39;00m \u001B[38;5;28mself\u001B[39m\u001B[38;5;241m.\u001B[39m_group_selection_context():\n",
      "File \u001B[0;32m~/Development/webis/ir_axioms/venv/lib/python3.9/site-packages/pandas/core/groupby/groupby.py:1455\u001B[0m, in \u001B[0;36mGroupBy._python_apply_general\u001B[0;34m(self, f, data, not_indexed_same)\u001B[0m\n\u001B[1;32m   1429\u001B[0m \u001B[38;5;129m@final\u001B[39m\n\u001B[1;32m   1430\u001B[0m \u001B[38;5;28;01mdef\u001B[39;00m \u001B[38;5;21m_python_apply_general\u001B[39m(\n\u001B[1;32m   1431\u001B[0m     \u001B[38;5;28mself\u001B[39m,\n\u001B[0;32m   (...)\u001B[0m\n\u001B[1;32m   1434\u001B[0m     not_indexed_same: \u001B[38;5;28mbool\u001B[39m \u001B[38;5;241m|\u001B[39m \u001B[38;5;28;01mNone\u001B[39;00m \u001B[38;5;241m=\u001B[39m \u001B[38;5;28;01mNone\u001B[39;00m,\n\u001B[1;32m   1435\u001B[0m ) \u001B[38;5;241m-\u001B[39m\u001B[38;5;241m>\u001B[39m DataFrame \u001B[38;5;241m|\u001B[39m Series:\n\u001B[1;32m   1436\u001B[0m     \u001B[38;5;124;03m\"\"\"\u001B[39;00m\n\u001B[1;32m   1437\u001B[0m \u001B[38;5;124;03m    Apply function f in python space\u001B[39;00m\n\u001B[1;32m   1438\u001B[0m \n\u001B[0;32m   (...)\u001B[0m\n\u001B[1;32m   1453\u001B[0m \u001B[38;5;124;03m        data after applying f\u001B[39;00m\n\u001B[1;32m   1454\u001B[0m \u001B[38;5;124;03m    \"\"\"\u001B[39;00m\n\u001B[0;32m-> 1455\u001B[0m     values, mutated \u001B[38;5;241m=\u001B[39m \u001B[38;5;28;43mself\u001B[39;49m\u001B[38;5;241;43m.\u001B[39;49m\u001B[43mgrouper\u001B[49m\u001B[38;5;241;43m.\u001B[39;49m\u001B[43mapply\u001B[49m\u001B[43m(\u001B[49m\u001B[43mf\u001B[49m\u001B[43m,\u001B[49m\u001B[43m \u001B[49m\u001B[43mdata\u001B[49m\u001B[43m,\u001B[49m\u001B[43m \u001B[49m\u001B[38;5;28;43mself\u001B[39;49m\u001B[38;5;241;43m.\u001B[39;49m\u001B[43maxis\u001B[49m\u001B[43m)\u001B[49m\n\u001B[1;32m   1457\u001B[0m     \u001B[38;5;28;01mif\u001B[39;00m not_indexed_same \u001B[38;5;129;01mis\u001B[39;00m \u001B[38;5;28;01mNone\u001B[39;00m:\n\u001B[1;32m   1458\u001B[0m         not_indexed_same \u001B[38;5;241m=\u001B[39m mutated \u001B[38;5;129;01mor\u001B[39;00m \u001B[38;5;28mself\u001B[39m\u001B[38;5;241m.\u001B[39mmutated\n",
      "File \u001B[0;32m~/Development/webis/ir_axioms/venv/lib/python3.9/site-packages/pandas/core/groupby/ops.py:761\u001B[0m, in \u001B[0;36mBaseGrouper.apply\u001B[0;34m(self, f, data, axis)\u001B[0m\n\u001B[1;32m    759\u001B[0m \u001B[38;5;66;03m# group might be modified\u001B[39;00m\n\u001B[1;32m    760\u001B[0m group_axes \u001B[38;5;241m=\u001B[39m group\u001B[38;5;241m.\u001B[39maxes\n\u001B[0;32m--> 761\u001B[0m res \u001B[38;5;241m=\u001B[39m \u001B[43mf\u001B[49m\u001B[43m(\u001B[49m\u001B[43mgroup\u001B[49m\u001B[43m)\u001B[49m\n\u001B[1;32m    762\u001B[0m \u001B[38;5;28;01mif\u001B[39;00m \u001B[38;5;129;01mnot\u001B[39;00m mutated \u001B[38;5;129;01mand\u001B[39;00m \u001B[38;5;129;01mnot\u001B[39;00m _is_indexed_like(res, group_axes, axis):\n\u001B[1;32m    763\u001B[0m     mutated \u001B[38;5;241m=\u001B[39m \u001B[38;5;28;01mTrue\u001B[39;00m\n",
      "File \u001B[0;32m~/Development/webis/ir_axioms/venv/lib/python3.9/site-packages/tqdm/std.py:809\u001B[0m, in \u001B[0;36mtqdm.pandas.<locals>.inner_generator.<locals>.inner.<locals>.wrapper\u001B[0;34m(*args, **kwargs)\u001B[0m\n\u001B[1;32m    803\u001B[0m \u001B[38;5;28;01mdef\u001B[39;00m \u001B[38;5;21mwrapper\u001B[39m(\u001B[38;5;241m*\u001B[39margs, \u001B[38;5;241m*\u001B[39m\u001B[38;5;241m*\u001B[39mkwargs):\n\u001B[1;32m    804\u001B[0m     \u001B[38;5;66;03m# update tbar correctly\u001B[39;00m\n\u001B[1;32m    805\u001B[0m     \u001B[38;5;66;03m# it seems `pandas apply` calls `func` twice\u001B[39;00m\n\u001B[1;32m    806\u001B[0m     \u001B[38;5;66;03m# on the first column/row to decide whether it can\u001B[39;00m\n\u001B[1;32m    807\u001B[0m     \u001B[38;5;66;03m# take a fast or slow code path; so stop when t.total==t.n\u001B[39;00m\n\u001B[1;32m    808\u001B[0m     t\u001B[38;5;241m.\u001B[39mupdate(n\u001B[38;5;241m=\u001B[39m\u001B[38;5;241m1\u001B[39m \u001B[38;5;28;01mif\u001B[39;00m \u001B[38;5;129;01mnot\u001B[39;00m t\u001B[38;5;241m.\u001B[39mtotal \u001B[38;5;129;01mor\u001B[39;00m t\u001B[38;5;241m.\u001B[39mn \u001B[38;5;241m<\u001B[39m t\u001B[38;5;241m.\u001B[39mtotal \u001B[38;5;28;01melse\u001B[39;00m \u001B[38;5;241m0\u001B[39m)\n\u001B[0;32m--> 809\u001B[0m     \u001B[38;5;28;01mreturn\u001B[39;00m \u001B[43mfunc\u001B[49m\u001B[43m(\u001B[49m\u001B[38;5;241;43m*\u001B[39;49m\u001B[43margs\u001B[49m\u001B[43m,\u001B[49m\u001B[43m \u001B[49m\u001B[38;5;241;43m*\u001B[39;49m\u001B[38;5;241;43m*\u001B[39;49m\u001B[43mkwargs\u001B[49m\u001B[43m)\u001B[49m\n",
      "File \u001B[0;32m~/Development/webis/ir_axioms/ir_axioms/backend/pyterrier/transformers.py:134\u001B[0m, in \u001B[0;36mAxiomTransformer.transform_group\u001B[0;34m(self, topics_or_res)\u001B[0m\n\u001B[1;32m    124\u001B[0m \u001B[38;5;28;01melse\u001B[39;00m:\n\u001B[1;32m    125\u001B[0m     documents \u001B[38;5;241m=\u001B[39m [\n\u001B[1;32m    126\u001B[0m         RankedDocument(\n\u001B[1;32m    127\u001B[0m             \u001B[38;5;28mid\u001B[39m\u001B[38;5;241m=\u001B[39m\u001B[38;5;28mstr\u001B[39m(row[\u001B[38;5;124m\"\u001B[39m\u001B[38;5;124mdocno\u001B[39m\u001B[38;5;124m\"\u001B[39m]),\n\u001B[0;32m   (...)\u001B[0m\n\u001B[1;32m    131\u001B[0m         \u001B[38;5;28;01mfor\u001B[39;00m index, row \u001B[38;5;129;01min\u001B[39;00m topics_or_res\u001B[38;5;241m.\u001B[39miterrows()\n\u001B[1;32m    132\u001B[0m     ]\n\u001B[0;32m--> 134\u001B[0m \u001B[38;5;28;01mreturn\u001B[39;00m \u001B[38;5;28;43mself\u001B[39;49m\u001B[38;5;241;43m.\u001B[39;49m\u001B[43mtransform_query_ranking\u001B[49m\u001B[43m(\u001B[49m\u001B[43mquery\u001B[49m\u001B[43m,\u001B[49m\u001B[43m \u001B[49m\u001B[43mdocuments\u001B[49m\u001B[43m,\u001B[49m\u001B[43m \u001B[49m\u001B[43mtopics_or_res\u001B[49m\u001B[43m)\u001B[49m\n",
      "File \u001B[0;32m~/Development/webis/ir_axioms/ir_axioms/backend/pyterrier/transformers.py:196\u001B[0m, in \u001B[0;36mAxiomaticReranker.transform_query_ranking\u001B[0;34m(self, query, documents, topics_or_res)\u001B[0m\n\u001B[1;32m    189\u001B[0m \u001B[38;5;28;01mdef\u001B[39;00m \u001B[38;5;21mtransform_query_ranking\u001B[39m(\n\u001B[1;32m    190\u001B[0m         \u001B[38;5;28mself\u001B[39m,\n\u001B[1;32m    191\u001B[0m         query: Query,\n\u001B[0;32m   (...)\u001B[0m\n\u001B[1;32m    194\u001B[0m ) \u001B[38;5;241m-\u001B[39m\u001B[38;5;241m>\u001B[39m DataFrame:\n\u001B[1;32m    195\u001B[0m     \u001B[38;5;66;03m# Rerank documents.\u001B[39;00m\n\u001B[0;32m--> 196\u001B[0m     reranked_documents \u001B[38;5;241m=\u001B[39m \u001B[38;5;28;43mself\u001B[39;49m\u001B[38;5;241;43m.\u001B[39;49m\u001B[43maxiom\u001B[49m\u001B[38;5;241;43m.\u001B[39;49m\u001B[43mrerank\u001B[49m\u001B[43m(\u001B[49m\n\u001B[1;32m    197\u001B[0m \u001B[43m        \u001B[49m\u001B[38;5;28;43mself\u001B[39;49m\u001B[38;5;241;43m.\u001B[39;49m\u001B[43m_context\u001B[49m\u001B[43m,\u001B[49m\u001B[43m \u001B[49m\u001B[43mquery\u001B[49m\u001B[43m,\u001B[49m\u001B[43m \u001B[49m\u001B[43mdocuments\u001B[49m\n\u001B[1;32m    198\u001B[0m \u001B[43m    \u001B[49m\u001B[43m)\u001B[49m\n\u001B[1;32m    200\u001B[0m     \u001B[38;5;66;03m# Convert reranked documents back to data frame.\u001B[39;00m\n\u001B[1;32m    201\u001B[0m     reranked \u001B[38;5;241m=\u001B[39m DataFrame({\n\u001B[1;32m    202\u001B[0m         \u001B[38;5;124m\"\u001B[39m\u001B[38;5;124mdocno\u001B[39m\u001B[38;5;124m\"\u001B[39m: [doc\u001B[38;5;241m.\u001B[39mid \u001B[38;5;28;01mfor\u001B[39;00m doc \u001B[38;5;129;01min\u001B[39;00m reranked_documents],\n\u001B[1;32m    203\u001B[0m         \u001B[38;5;124m\"\u001B[39m\u001B[38;5;124mrank\u001B[39m\u001B[38;5;124m\"\u001B[39m: [doc\u001B[38;5;241m.\u001B[39mrank \u001B[38;5;28;01mfor\u001B[39;00m doc \u001B[38;5;129;01min\u001B[39;00m reranked_documents],\n\u001B[1;32m    204\u001B[0m         \u001B[38;5;124m\"\u001B[39m\u001B[38;5;124mscore\u001B[39m\u001B[38;5;124m\"\u001B[39m: [doc\u001B[38;5;241m.\u001B[39mscore \u001B[38;5;28;01mfor\u001B[39;00m doc \u001B[38;5;129;01min\u001B[39;00m reranked_documents],\n\u001B[1;32m    205\u001B[0m     })\n",
      "File \u001B[0;32m~/Development/webis/ir_axioms/ir_axioms/axiom/base.py:218\u001B[0m, in \u001B[0;36mAxiom.rerank\u001B[0;34m(self, context, query, ranking)\u001B[0m\n\u001B[1;32m    209\u001B[0m \u001B[38;5;129m@final\u001B[39m\n\u001B[1;32m    210\u001B[0m \u001B[38;5;28;01mdef\u001B[39;00m \u001B[38;5;21mrerank\u001B[39m(\n\u001B[1;32m    211\u001B[0m         \u001B[38;5;28mself\u001B[39m,\n\u001B[0;32m   (...)\u001B[0m\n\u001B[1;32m    214\u001B[0m         ranking: List[RankedDocument],\n\u001B[1;32m    215\u001B[0m ) \u001B[38;5;241m-\u001B[39m\u001B[38;5;241m>\u001B[39m List[RankedDocument]:\n\u001B[1;32m    216\u001B[0m     \u001B[38;5;28;01mfrom\u001B[39;00m \u001B[38;5;21;01mir_axioms\u001B[39;00m\u001B[38;5;21;01m.\u001B[39;00m\u001B[38;5;21;01maxiom\u001B[39;00m\u001B[38;5;21;01m.\u001B[39;00m\u001B[38;5;21;01msort\u001B[39;00m \u001B[38;5;28;01mimport\u001B[39;00m _kwiksort, _reset_score\n\u001B[0;32m--> 218\u001B[0m     ranking \u001B[38;5;241m=\u001B[39m \u001B[43m_kwiksort\u001B[49m\u001B[43m(\u001B[49m\u001B[38;5;28;43mself\u001B[39;49m\u001B[43m,\u001B[49m\u001B[43m \u001B[49m\u001B[43mquery\u001B[49m\u001B[43m,\u001B[49m\u001B[43m \u001B[49m\u001B[43mcontext\u001B[49m\u001B[43m,\u001B[49m\u001B[43m \u001B[49m\u001B[43mranking\u001B[49m\u001B[43m)\u001B[49m\n\u001B[1;32m    219\u001B[0m     ranking \u001B[38;5;241m=\u001B[39m _reset_score(ranking)\n\u001B[1;32m    220\u001B[0m     \u001B[38;5;28;01mreturn\u001B[39;00m ranking\n",
      "File \u001B[0;32m~/Development/webis/ir_axioms/ir_axioms/axiom/sort.py:30\u001B[0m, in \u001B[0;36m_kwiksort\u001B[0;34m(axiom, query, context, vertices)\u001B[0m\n\u001B[1;32m     27\u001B[0m \u001B[38;5;28;01mif\u001B[39;00m vertex \u001B[38;5;129;01mis\u001B[39;00m pivot:\n\u001B[1;32m     28\u001B[0m     \u001B[38;5;28;01mcontinue\u001B[39;00m\n\u001B[0;32m---> 30\u001B[0m preference \u001B[38;5;241m=\u001B[39m \u001B[43maxiom\u001B[49m\u001B[38;5;241;43m.\u001B[39;49m\u001B[43mpreference\u001B[49m\u001B[43m(\u001B[49m\u001B[43mcontext\u001B[49m\u001B[43m,\u001B[49m\u001B[43m \u001B[49m\u001B[43mquery\u001B[49m\u001B[43m,\u001B[49m\u001B[43m \u001B[49m\u001B[43mvertex\u001B[49m\u001B[43m,\u001B[49m\u001B[43m \u001B[49m\u001B[43mpivot\u001B[49m\u001B[43m)\u001B[49m\n\u001B[1;32m     31\u001B[0m \u001B[38;5;28;01mif\u001B[39;00m preference \u001B[38;5;241m>\u001B[39m \u001B[38;5;241m0\u001B[39m:\n\u001B[1;32m     32\u001B[0m     vertices_left\u001B[38;5;241m.\u001B[39mappend(vertex)\n",
      "File \u001B[0;32m~/Development/webis/ir_axioms/ir_axioms/axiom/cache.py:36\u001B[0m, in \u001B[0;36mCachedAxiom.preference\u001B[0;34m(self, context, query, document1, document2)\u001B[0m\n\u001B[1;32m     33\u001B[0m cache: Cache \u001B[38;5;241m=\u001B[39m context\u001B[38;5;241m.\u001B[39mcache\n\u001B[1;32m     35\u001B[0m \u001B[38;5;28;01mif\u001B[39;00m cache \u001B[38;5;129;01mis\u001B[39;00m \u001B[38;5;28;01mNone\u001B[39;00m:\n\u001B[0;32m---> 36\u001B[0m     \u001B[38;5;28;01mreturn\u001B[39;00m \u001B[38;5;28;43mself\u001B[39;49m\u001B[38;5;241;43m.\u001B[39;49m\u001B[43maxiom\u001B[49m\u001B[38;5;241;43m.\u001B[39;49m\u001B[43mpreference\u001B[49m\u001B[43m(\u001B[49m\u001B[43mcontext\u001B[49m\u001B[43m,\u001B[49m\u001B[43m \u001B[49m\u001B[43mquery\u001B[49m\u001B[43m,\u001B[49m\u001B[43m \u001B[49m\u001B[43mdocument1\u001B[49m\u001B[43m,\u001B[49m\u001B[43m \u001B[49m\u001B[43mdocument2\u001B[49m\u001B[43m)\u001B[49m\n\u001B[1;32m     38\u001B[0m key \u001B[38;5;241m=\u001B[39m \u001B[38;5;28mself\u001B[39m\u001B[38;5;241m.\u001B[39m_key(context, query, document1, document2)\n\u001B[1;32m     40\u001B[0m \u001B[38;5;28;01mif\u001B[39;00m key \u001B[38;5;129;01min\u001B[39;00m cache:\n\u001B[1;32m     41\u001B[0m     \u001B[38;5;66;03m# Cache hit.\u001B[39;00m\n",
      "File \u001B[0;32m~/Development/webis/ir_axioms/ir_axioms/axiom/arithmetic.py:190\u001B[0m, in \u001B[0;36mCascadeAxiom.preference\u001B[0;34m(self, context, query, document1, document2)\u001B[0m\n\u001B[1;32m    181\u001B[0m preferences \u001B[38;5;241m=\u001B[39m (\n\u001B[1;32m    182\u001B[0m     axiom\u001B[38;5;241m.\u001B[39mpreference(context, query, document1, document2)\n\u001B[1;32m    183\u001B[0m     \u001B[38;5;28;01mfor\u001B[39;00m axiom \u001B[38;5;129;01min\u001B[39;00m \u001B[38;5;28mself\u001B[39m\u001B[38;5;241m.\u001B[39maxioms\n\u001B[1;32m    184\u001B[0m )\n\u001B[1;32m    185\u001B[0m decisive_preferences \u001B[38;5;241m=\u001B[39m (\n\u001B[1;32m    186\u001B[0m     preference\n\u001B[1;32m    187\u001B[0m     \u001B[38;5;28;01mfor\u001B[39;00m preference \u001B[38;5;129;01min\u001B[39;00m preferences\n\u001B[1;32m    188\u001B[0m     \u001B[38;5;28;01mif\u001B[39;00m preference \u001B[38;5;241m!=\u001B[39m \u001B[38;5;241m0\u001B[39m\n\u001B[1;32m    189\u001B[0m )\n\u001B[0;32m--> 190\u001B[0m \u001B[38;5;28;01mreturn\u001B[39;00m \u001B[38;5;28;43mnext\u001B[39;49m\u001B[43m(\u001B[49m\u001B[43mdecisive_preferences\u001B[49m\u001B[43m,\u001B[49m\u001B[43m \u001B[49m\u001B[38;5;241;43m0\u001B[39;49m\u001B[43m)\u001B[49m\n",
      "File \u001B[0;32m~/Development/webis/ir_axioms/ir_axioms/axiom/arithmetic.py:185\u001B[0m, in \u001B[0;36m<genexpr>\u001B[0;34m(.0)\u001B[0m\n\u001B[1;32m    174\u001B[0m \u001B[38;5;28;01mdef\u001B[39;00m \u001B[38;5;21mpreference\u001B[39m(\n\u001B[1;32m    175\u001B[0m         \u001B[38;5;28mself\u001B[39m,\n\u001B[1;32m    176\u001B[0m         context: IndexContext,\n\u001B[0;32m   (...)\u001B[0m\n\u001B[1;32m    179\u001B[0m         document2: RankedDocument\n\u001B[1;32m    180\u001B[0m ) \u001B[38;5;241m-\u001B[39m\u001B[38;5;241m>\u001B[39m \u001B[38;5;28mfloat\u001B[39m:\n\u001B[1;32m    181\u001B[0m     preferences \u001B[38;5;241m=\u001B[39m (\n\u001B[1;32m    182\u001B[0m         axiom\u001B[38;5;241m.\u001B[39mpreference(context, query, document1, document2)\n\u001B[1;32m    183\u001B[0m         \u001B[38;5;28;01mfor\u001B[39;00m axiom \u001B[38;5;129;01min\u001B[39;00m \u001B[38;5;28mself\u001B[39m\u001B[38;5;241m.\u001B[39maxioms\n\u001B[1;32m    184\u001B[0m     )\n\u001B[0;32m--> 185\u001B[0m     decisive_preferences \u001B[38;5;241m=\u001B[39m (\n\u001B[1;32m    186\u001B[0m         preference\n\u001B[1;32m    187\u001B[0m         \u001B[38;5;28;01mfor\u001B[39;00m preference \u001B[38;5;129;01min\u001B[39;00m preferences\n\u001B[1;32m    188\u001B[0m         \u001B[38;5;28;01mif\u001B[39;00m preference \u001B[38;5;241m!=\u001B[39m \u001B[38;5;241m0\u001B[39m\n\u001B[1;32m    189\u001B[0m     )\n\u001B[1;32m    190\u001B[0m     \u001B[38;5;28;01mreturn\u001B[39;00m \u001B[38;5;28mnext\u001B[39m(decisive_preferences, \u001B[38;5;241m0\u001B[39m)\n",
      "File \u001B[0;32m~/Development/webis/ir_axioms/ir_axioms/axiom/arithmetic.py:182\u001B[0m, in \u001B[0;36m<genexpr>\u001B[0;34m(.0)\u001B[0m\n\u001B[1;32m    174\u001B[0m \u001B[38;5;28;01mdef\u001B[39;00m \u001B[38;5;21mpreference\u001B[39m(\n\u001B[1;32m    175\u001B[0m         \u001B[38;5;28mself\u001B[39m,\n\u001B[1;32m    176\u001B[0m         context: IndexContext,\n\u001B[0;32m   (...)\u001B[0m\n\u001B[1;32m    179\u001B[0m         document2: RankedDocument\n\u001B[1;32m    180\u001B[0m ) \u001B[38;5;241m-\u001B[39m\u001B[38;5;241m>\u001B[39m \u001B[38;5;28mfloat\u001B[39m:\n\u001B[1;32m    181\u001B[0m     preferences \u001B[38;5;241m=\u001B[39m (\n\u001B[0;32m--> 182\u001B[0m         \u001B[43maxiom\u001B[49m\u001B[38;5;241;43m.\u001B[39;49m\u001B[43mpreference\u001B[49m\u001B[43m(\u001B[49m\u001B[43mcontext\u001B[49m\u001B[43m,\u001B[49m\u001B[43m \u001B[49m\u001B[43mquery\u001B[49m\u001B[43m,\u001B[49m\u001B[43m \u001B[49m\u001B[43mdocument1\u001B[49m\u001B[43m,\u001B[49m\u001B[43m \u001B[49m\u001B[43mdocument2\u001B[49m\u001B[43m)\u001B[49m\n\u001B[1;32m    183\u001B[0m         \u001B[38;5;28;01mfor\u001B[39;00m axiom \u001B[38;5;129;01min\u001B[39;00m \u001B[38;5;28mself\u001B[39m\u001B[38;5;241m.\u001B[39maxioms\n\u001B[1;32m    184\u001B[0m     )\n\u001B[1;32m    185\u001B[0m     decisive_preferences \u001B[38;5;241m=\u001B[39m (\n\u001B[1;32m    186\u001B[0m         preference\n\u001B[1;32m    187\u001B[0m         \u001B[38;5;28;01mfor\u001B[39;00m preference \u001B[38;5;129;01min\u001B[39;00m preferences\n\u001B[1;32m    188\u001B[0m         \u001B[38;5;28;01mif\u001B[39;00m preference \u001B[38;5;241m!=\u001B[39m \u001B[38;5;241m0\u001B[39m\n\u001B[1;32m    189\u001B[0m     )\n\u001B[1;32m    190\u001B[0m     \u001B[38;5;28;01mreturn\u001B[39;00m \u001B[38;5;28mnext\u001B[39m(decisive_preferences, \u001B[38;5;241m0\u001B[39m)\n",
      "File \u001B[0;32m~/Development/webis/ir_axioms/ir_axioms/axiom/arithmetic.py:101\u001B[0m, in \u001B[0;36mAndAxiom.preference\u001B[0;34m(self, context, query, document1, document2)\u001B[0m\n\u001B[1;32m     94\u001B[0m \u001B[38;5;28;01mdef\u001B[39;00m \u001B[38;5;21mpreference\u001B[39m(\n\u001B[1;32m     95\u001B[0m         \u001B[38;5;28mself\u001B[39m,\n\u001B[1;32m     96\u001B[0m         context: IndexContext,\n\u001B[0;32m   (...)\u001B[0m\n\u001B[1;32m     99\u001B[0m         document2: RankedDocument\n\u001B[1;32m    100\u001B[0m ) \u001B[38;5;241m-\u001B[39m\u001B[38;5;241m>\u001B[39m \u001B[38;5;28mfloat\u001B[39m:\n\u001B[0;32m--> 101\u001B[0m     preferences \u001B[38;5;241m=\u001B[39m [\n\u001B[1;32m    102\u001B[0m         axiom\u001B[38;5;241m.\u001B[39mpreference(context, query, document1, document2)\n\u001B[1;32m    103\u001B[0m         \u001B[38;5;28;01mfor\u001B[39;00m axiom \u001B[38;5;129;01min\u001B[39;00m \u001B[38;5;28mself\u001B[39m\u001B[38;5;241m.\u001B[39maxioms\n\u001B[1;32m    104\u001B[0m     ]\n\u001B[1;32m    105\u001B[0m     \u001B[38;5;28;01mif\u001B[39;00m \u001B[38;5;28mall\u001B[39m(preference \u001B[38;5;241m>\u001B[39m \u001B[38;5;241m0\u001B[39m \u001B[38;5;28;01mfor\u001B[39;00m preference \u001B[38;5;129;01min\u001B[39;00m preferences):\n\u001B[1;32m    106\u001B[0m         \u001B[38;5;28;01mreturn\u001B[39;00m \u001B[38;5;241m1\u001B[39m\n",
      "File \u001B[0;32m~/Development/webis/ir_axioms/ir_axioms/axiom/arithmetic.py:102\u001B[0m, in \u001B[0;36m<listcomp>\u001B[0;34m(.0)\u001B[0m\n\u001B[1;32m     94\u001B[0m \u001B[38;5;28;01mdef\u001B[39;00m \u001B[38;5;21mpreference\u001B[39m(\n\u001B[1;32m     95\u001B[0m         \u001B[38;5;28mself\u001B[39m,\n\u001B[1;32m     96\u001B[0m         context: IndexContext,\n\u001B[0;32m   (...)\u001B[0m\n\u001B[1;32m     99\u001B[0m         document2: RankedDocument\n\u001B[1;32m    100\u001B[0m ) \u001B[38;5;241m-\u001B[39m\u001B[38;5;241m>\u001B[39m \u001B[38;5;28mfloat\u001B[39m:\n\u001B[1;32m    101\u001B[0m     preferences \u001B[38;5;241m=\u001B[39m [\n\u001B[0;32m--> 102\u001B[0m         \u001B[43maxiom\u001B[49m\u001B[38;5;241;43m.\u001B[39;49m\u001B[43mpreference\u001B[49m\u001B[43m(\u001B[49m\u001B[43mcontext\u001B[49m\u001B[43m,\u001B[49m\u001B[43m \u001B[49m\u001B[43mquery\u001B[49m\u001B[43m,\u001B[49m\u001B[43m \u001B[49m\u001B[43mdocument1\u001B[49m\u001B[43m,\u001B[49m\u001B[43m \u001B[49m\u001B[43mdocument2\u001B[49m\u001B[43m)\u001B[49m\n\u001B[1;32m    103\u001B[0m         \u001B[38;5;28;01mfor\u001B[39;00m axiom \u001B[38;5;129;01min\u001B[39;00m \u001B[38;5;28mself\u001B[39m\u001B[38;5;241m.\u001B[39maxioms\n\u001B[1;32m    104\u001B[0m     ]\n\u001B[1;32m    105\u001B[0m     \u001B[38;5;28;01mif\u001B[39;00m \u001B[38;5;28mall\u001B[39m(preference \u001B[38;5;241m>\u001B[39m \u001B[38;5;241m0\u001B[39m \u001B[38;5;28;01mfor\u001B[39;00m preference \u001B[38;5;129;01min\u001B[39;00m preferences):\n\u001B[1;32m    106\u001B[0m         \u001B[38;5;28;01mreturn\u001B[39;00m \u001B[38;5;241m1\u001B[39m\n",
      "File \u001B[0;32m~/Development/webis/ir_axioms/ir_axioms/axiom/retrieval_score.py:42\u001B[0m, in \u001B[0;36mRS_TF.preference\u001B[0;34m(self, context, query, document1, document2)\u001B[0m\n\u001B[1;32m     34\u001B[0m \u001B[38;5;28;01mdef\u001B[39;00m \u001B[38;5;21mpreference\u001B[39m(\n\u001B[1;32m     35\u001B[0m         \u001B[38;5;28mself\u001B[39m,\n\u001B[1;32m     36\u001B[0m         context: IndexContext,\n\u001B[0;32m   (...)\u001B[0m\n\u001B[1;32m     39\u001B[0m         document2: RankedDocument\n\u001B[1;32m     40\u001B[0m ):\n\u001B[1;32m     41\u001B[0m     \u001B[38;5;28;01mreturn\u001B[39;00m strictly_greater(\n\u001B[0;32m---> 42\u001B[0m         \u001B[43mcontext\u001B[49m\u001B[38;5;241;43m.\u001B[39;49m\u001B[43mretrieval_score\u001B[49m\u001B[43m(\u001B[49m\u001B[43mquery\u001B[49m\u001B[43m,\u001B[49m\u001B[43m \u001B[49m\u001B[43mdocument1\u001B[49m\u001B[43m,\u001B[49m\u001B[43m \u001B[49m\u001B[38;5;28;43mself\u001B[39;49m\u001B[43m)\u001B[49m,\n\u001B[1;32m     43\u001B[0m         context\u001B[38;5;241m.\u001B[39mretrieval_score(query, document2, \u001B[38;5;28mself\u001B[39m),\n\u001B[1;32m     44\u001B[0m     )\n",
      "File \u001B[0;32m~/Development/webis/ir_axioms/ir_axioms/backend/pyterrier/__init__.py:300\u001B[0m, in \u001B[0;36mTerrierIndexContext.retrieval_score\u001B[0;34m(self, query, document, model)\u001B[0m\n\u001B[1;32m    294\u001B[0m \u001B[38;5;28;01mdef\u001B[39;00m \u001B[38;5;21mretrieval_score\u001B[39m(\n\u001B[1;32m    295\u001B[0m         \u001B[38;5;28mself\u001B[39m,\n\u001B[1;32m    296\u001B[0m         query: Query,\n\u001B[1;32m    297\u001B[0m         document: Document,\n\u001B[1;32m    298\u001B[0m         model: RetrievalModel\n\u001B[1;32m    299\u001B[0m ) \u001B[38;5;241m-\u001B[39m\u001B[38;5;241m>\u001B[39m \u001B[38;5;28mfloat\u001B[39m:\n\u001B[0;32m--> 300\u001B[0m     \u001B[38;5;28;01mreturn\u001B[39;00m \u001B[38;5;28;43mself\u001B[39;49m\u001B[38;5;241;43m.\u001B[39;49m\u001B[43m_retrieval_score\u001B[49m\u001B[43m(\u001B[49m\n\u001B[1;32m    301\u001B[0m \u001B[43m        \u001B[49m\u001B[43mquery\u001B[49m\u001B[38;5;241;43m.\u001B[39;49m\u001B[43mtitle\u001B[49m\u001B[43m,\u001B[49m\n\u001B[1;32m    302\u001B[0m \u001B[43m        \u001B[49m\u001B[43mdocument\u001B[49m\u001B[38;5;241;43m.\u001B[39;49m\u001B[43mid\u001B[49m\u001B[43m,\u001B[49m\n\u001B[1;32m    303\u001B[0m \u001B[43m        \u001B[49m\u001B[43m_weighting_model\u001B[49m\u001B[43m(\u001B[49m\u001B[43mmodel\u001B[49m\u001B[43m)\u001B[49m\n\u001B[1;32m    304\u001B[0m \u001B[43m    \u001B[49m\u001B[43m)\u001B[49m\n",
      "File \u001B[0;32m~/Development/webis/ir_axioms/ir_axioms/backend/pyterrier/__init__.py:245\u001B[0m, in \u001B[0;36mTerrierIndexContext._retrieval_score\u001B[0;34m(self, query_title, document_id, weighting_model)\u001B[0m\n\u001B[1;32m    242\u001B[0m \u001B[38;5;28;01mfor\u001B[39;00m key, value \u001B[38;5;129;01min\u001B[39;00m RETRIEVAL_SCORE_APPLICATION_PROPERTIES\u001B[38;5;241m.\u001B[39mitems():\n\u001B[1;32m    243\u001B[0m     ApplicationSetup\u001B[38;5;241m.\u001B[39msetProperty(key, value)\n\u001B[0;32m--> 245\u001B[0m manager \u001B[38;5;241m=\u001B[39m \u001B[38;5;28;43mself\u001B[39;49m\u001B[38;5;241;43m.\u001B[39;49m\u001B[43m_manager\u001B[49m\n\u001B[1;32m    247\u001B[0m \u001B[38;5;66;03m# Build search request.\u001B[39;00m\n\u001B[1;32m    248\u001B[0m request: SearchRequest \u001B[38;5;241m=\u001B[39m manager\u001B[38;5;241m.\u001B[39mnewSearchRequestFromQuery(\n\u001B[1;32m    249\u001B[0m     query_title\n\u001B[1;32m    250\u001B[0m )\n",
      "File \u001B[0;32m/usr/lib/python3.9/functools.py:993\u001B[0m, in \u001B[0;36mcached_property.__get__\u001B[0;34m(self, instance, owner)\u001B[0m\n\u001B[1;32m    991\u001B[0m val \u001B[38;5;241m=\u001B[39m cache\u001B[38;5;241m.\u001B[39mget(\u001B[38;5;28mself\u001B[39m\u001B[38;5;241m.\u001B[39mattrname, _NOT_FOUND)\n\u001B[1;32m    992\u001B[0m \u001B[38;5;28;01mif\u001B[39;00m val \u001B[38;5;129;01mis\u001B[39;00m _NOT_FOUND:\n\u001B[0;32m--> 993\u001B[0m     val \u001B[38;5;241m=\u001B[39m \u001B[38;5;28;43mself\u001B[39;49m\u001B[38;5;241;43m.\u001B[39;49m\u001B[43mfunc\u001B[49m\u001B[43m(\u001B[49m\u001B[43minstance\u001B[49m\u001B[43m)\u001B[49m\n\u001B[1;32m    994\u001B[0m     \u001B[38;5;28;01mtry\u001B[39;00m:\n\u001B[1;32m    995\u001B[0m         cache[\u001B[38;5;28mself\u001B[39m\u001B[38;5;241m.\u001B[39mattrname] \u001B[38;5;241m=\u001B[39m val\n",
      "File \u001B[0;32m~/Development/webis/ir_axioms/ir_axioms/backend/pyterrier/__init__.py:225\u001B[0m, in \u001B[0;36mTerrierIndexContext._manager\u001B[0;34m(self)\u001B[0m\n\u001B[1;32m    223\u001B[0m \u001B[38;5;129m@cached_property\u001B[39m\n\u001B[1;32m    224\u001B[0m \u001B[38;5;28;01mdef\u001B[39;00m \u001B[38;5;21m_manager\u001B[39m(\u001B[38;5;28mself\u001B[39m) \u001B[38;5;241m-\u001B[39m\u001B[38;5;241m>\u001B[39m Manager:\n\u001B[0;32m--> 225\u001B[0m     index_ref \u001B[38;5;241m=\u001B[39m \u001B[38;5;28;43mself\u001B[39;49m\u001B[38;5;241;43m.\u001B[39;49m\u001B[43m_index\u001B[49m\u001B[38;5;241m.\u001B[39mgetIndexRef()\n\u001B[1;32m    226\u001B[0m     \u001B[38;5;66;03m# noinspection PyProtectedMember\u001B[39;00m\n\u001B[1;32m    227\u001B[0m     manager \u001B[38;5;241m=\u001B[39m ManagerFactory\u001B[38;5;241m.\u001B[39m_from_(index_ref)\n",
      "File \u001B[0;32m/usr/lib/python3.9/functools.py:993\u001B[0m, in \u001B[0;36mcached_property.__get__\u001B[0;34m(self, instance, owner)\u001B[0m\n\u001B[1;32m    991\u001B[0m val \u001B[38;5;241m=\u001B[39m cache\u001B[38;5;241m.\u001B[39mget(\u001B[38;5;28mself\u001B[39m\u001B[38;5;241m.\u001B[39mattrname, _NOT_FOUND)\n\u001B[1;32m    992\u001B[0m \u001B[38;5;28;01mif\u001B[39;00m val \u001B[38;5;129;01mis\u001B[39;00m _NOT_FOUND:\n\u001B[0;32m--> 993\u001B[0m     val \u001B[38;5;241m=\u001B[39m \u001B[38;5;28;43mself\u001B[39;49m\u001B[38;5;241;43m.\u001B[39;49m\u001B[43mfunc\u001B[49m\u001B[43m(\u001B[49m\u001B[43minstance\u001B[49m\u001B[43m)\u001B[49m\n\u001B[1;32m    994\u001B[0m     \u001B[38;5;28;01mtry\u001B[39;00m:\n\u001B[1;32m    995\u001B[0m         cache[\u001B[38;5;28mself\u001B[39m\u001B[38;5;241m.\u001B[39mattrname] \u001B[38;5;241m=\u001B[39m val\n",
      "File \u001B[0;32m~/Development/webis/ir_axioms/ir_axioms/backend/pyterrier/__init__.py:80\u001B[0m, in \u001B[0;36mTerrierIndexContext._index\u001B[0;34m(self)\u001B[0m\n\u001B[1;32m     78\u001B[0m     \u001B[38;5;28;01mreturn\u001B[39;00m IndexFactory\u001B[38;5;241m.\u001B[39mof(\u001B[38;5;28mself\u001B[39m\u001B[38;5;241m.\u001B[39mindex_location)\n\u001B[1;32m     79\u001B[0m \u001B[38;5;28;01melif\u001B[39;00m \u001B[38;5;28misinstance\u001B[39m(\u001B[38;5;28mself\u001B[39m\u001B[38;5;241m.\u001B[39mindex_location, Path):\n\u001B[0;32m---> 80\u001B[0m     \u001B[38;5;28;01mreturn\u001B[39;00m \u001B[43mIndexFactory\u001B[49m\u001B[38;5;241;43m.\u001B[39;49m\u001B[43mof\u001B[49m\u001B[43m(\u001B[49m\u001B[38;5;28;43mstr\u001B[39;49m\u001B[43m(\u001B[49m\u001B[38;5;28;43mself\u001B[39;49m\u001B[38;5;241;43m.\u001B[39;49m\u001B[43mindex_location\u001B[49m\u001B[38;5;241;43m.\u001B[39;49m\u001B[43mabsolute\u001B[49m\u001B[43m(\u001B[49m\u001B[43m)\u001B[49m\u001B[43m)\u001B[49m\u001B[43m)\u001B[49m\n\u001B[1;32m     81\u001B[0m \u001B[38;5;28;01melse\u001B[39;00m:\n\u001B[1;32m     82\u001B[0m     \u001B[38;5;28;01mraise\u001B[39;00m \u001B[38;5;167;01mValueError\u001B[39;00m(\n\u001B[1;32m     83\u001B[0m         \u001B[38;5;124mf\u001B[39m\u001B[38;5;124m\"\u001B[39m\u001B[38;5;124mCannot load index from location \u001B[39m\u001B[38;5;132;01m{\u001B[39;00m\u001B[38;5;28mself\u001B[39m\u001B[38;5;241m.\u001B[39mindex_location\u001B[38;5;132;01m}\u001B[39;00m\u001B[38;5;124m.\u001B[39m\u001B[38;5;124m\"\u001B[39m\n\u001B[1;32m     84\u001B[0m     )\n",
      "File \u001B[0;32mjnius/jnius_export_class.pxi:1145\u001B[0m, in \u001B[0;36mjnius.JavaMultipleMethod.__call__\u001B[0;34m()\u001B[0m\n",
      "File \u001B[0;32mjnius/jnius_export_class.pxi:856\u001B[0m, in \u001B[0;36mjnius.JavaMethod.__call__\u001B[0;34m()\u001B[0m\n",
      "File \u001B[0;32mjnius/jnius_export_class.pxi:1028\u001B[0m, in \u001B[0;36mjnius.JavaMethod.call_staticmethod\u001B[0;34m()\u001B[0m\n",
      "File \u001B[0;32mjnius/jnius_jvm_dlopen.pxi:91\u001B[0m, in \u001B[0;36mjnius.create_jnienv\u001B[0;34m()\u001B[0m\n",
      "\u001B[0;31mJavaException\u001B[0m: JVM exception occurred: Could not load an index for ref /home/heinrich/Development/webis/ir_axioms/examples/cache/indices/msmarco-passage-trec-dl-2019-judged, even though IndexLoader org.terrier.structures.IndexOnDisk$DiskIndexLoader could support that type of index. It may be your ref had a wrong location; Terrier logs may have more information. java.lang.IllegalArgumentException"
     ]
    }
   ],
   "source": [
    "from pyterrier.pipelines import Experiment\n",
    "from ir_measures import nDCG, MAP\n",
    "\n",
    "experiment = Experiment(\n",
    "    [*results, *reranked],\n",
    "    dataset.get_topics(),\n",
    "    dataset.get_qrels(),\n",
    "    [nDCG @ 5, nDCG @ 10, nDCG @ 20, MAP],\n",
    "    [*results_names, *reranked_names],\n",
    "    verbose=True,\n",
    ")\n",
    "experiment.sort_values(by=\"nDCG@10\", ascending=False, inplace=True)"
   ],
   "metadata": {
    "collapsed": false,
    "pycharm": {
     "name": "#%%\n"
    }
   }
  },
  {
   "cell_type": "code",
   "execution_count": null,
   "outputs": [],
   "source": [
    "experiment"
   ],
   "metadata": {
    "collapsed": false,
    "pycharm": {
     "name": "#%%\n"
    }
   }
  },
  {
   "cell_type": "code",
   "execution_count": null,
   "outputs": [],
   "source": [],
   "metadata": {
    "collapsed": false,
    "pycharm": {
     "name": "#%%\n"
    }
   }
  }
 ],
 "metadata": {
  "kernelspec": {
   "display_name": "Python 3",
   "language": "python",
   "name": "python3"
  },
  "language_info": {
   "codemirror_mode": {
    "name": "ipython",
    "version": 2
   },
   "file_extension": ".py",
   "mimetype": "text/x-python",
   "name": "python",
   "nbconvert_exporter": "python",
   "pygments_lexer": "ipython2",
   "version": "2.7.6"
  }
 },
 "nbformat": 4,
 "nbformat_minor": 0
}