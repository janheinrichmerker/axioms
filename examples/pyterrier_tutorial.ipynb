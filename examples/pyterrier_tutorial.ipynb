{
 "cells": [
  {
   "cell_type": "code",
   "execution_count": 1,
   "outputs": [],
   "source": [
    "from sys import modules\n",
    "\n",
    "IN_COLAB = 'google.colab' in modules\n",
    "if IN_COLAB:\n",
    "    !pip install -q ir_axioms python-terrier"
   ],
   "metadata": {
    "collapsed": false,
    "pycharm": {
     "name": "#%%\n"
    }
   }
  },
  {
   "cell_type": "code",
   "execution_count": 2,
   "outputs": [
    {
     "name": "stderr",
     "output_type": "stream",
     "text": [
      "PyTerrier 0.8.0 has loaded Terrier 5.6 (built by craigmacdonald on 2021-09-17 13:27)\n",
      "\n",
      "No etc/terrier.properties, using terrier.default.properties for bootstrap configuration.\n"
     ]
    }
   ],
   "source": [
    "# Start/initialize PyTerrier.\n",
    "from pyterrier import started, init\n",
    "\n",
    "if not started():\n",
    "    init(tqdm=\"notebook\")"
   ],
   "metadata": {
    "collapsed": false,
    "pycharm": {
     "name": "#%%\n"
    }
   }
  },
  {
   "cell_type": "code",
   "execution_count": 3,
   "outputs": [],
   "source": [
    "from pyterrier.datasets import get_dataset, Dataset\n",
    "\n",
    "# Load dataset.\n",
    "dataset_name = \"antique/test\"\n",
    "dataset: Dataset = get_dataset(f\"irds:{dataset_name}\")"
   ],
   "metadata": {
    "collapsed": false,
    "pycharm": {
     "name": "#%%\n"
    }
   }
  },
  {
   "cell_type": "code",
   "execution_count": 4,
   "outputs": [],
   "source": [
    "from pathlib import Path\n",
    "from pyterrier.index import IterDictIndexer\n",
    "from ir_axioms.backend.pyterrier import IndexRef, IndexFactory\n",
    "\n",
    "# Load documents and build index.\n",
    "index_dir = Path(f\"./data/indices/{dataset_name}\").absolute()\n",
    "index_ref: IndexRef\n",
    "if index_dir.exists():\n",
    "    index_ref = IndexRef.of(str(index_dir))\n",
    "else:\n",
    "    # Don't forget to include the 'text' field in the meta index.\n",
    "    indexer = IterDictIndexer(str(index_dir))\n",
    "    index_ref = indexer.index(dataset.get_corpus_iter(), fields=[\"text\"])\n",
    "index = IndexFactory.of(index_ref)"
   ],
   "metadata": {
    "collapsed": false,
    "pycharm": {
     "name": "#%%\n"
    }
   }
  },
  {
   "cell_type": "code",
   "execution_count": 5,
   "outputs": [],
   "source": [
    "# Load topics and qrels.\n",
    "topics = dataset.get_topics()\n",
    "qrels = dataset.get_qrels()"
   ],
   "metadata": {
    "collapsed": false,
    "pycharm": {
     "name": "#%%\n"
    }
   }
  },
  {
   "cell_type": "code",
   "execution_count": 6,
   "outputs": [
    {
     "data": {
      "text/plain": "          qid   docid       docno  rank      score  \\\n0     3990512  102622   3077638_1     0  15.887435   \n1     3990512   30676   3931664_0     1  15.621619   \n2     3990512  173781   4366141_0     2  15.395085   \n3     3990512  179429  1011598_10     3  15.134176   \n4     3990512  194913   4222212_0     4  15.134176   \n...       ...     ...         ...   ...        ...   \n1947  1340574   87627   1972970_3     7  29.386170   \n1948  1340574  357982  2980015_23     8  29.323234   \n1949  1340574  116656   2036141_7     9  29.157311   \n1950  1971899  234068   1971899_6     0  28.234530   \n1951  1971899   87610   2667237_0     1  12.560643   \n\n                                                  query  \n0              how can we get concentration onsomething  \n1              how can we get concentration onsomething  \n2              how can we get concentration onsomething  \n3              how can we get concentration onsomething  \n4              how can we get concentration onsomething  \n...                                                 ...  \n1947  why do some people only go to church on easter...  \n1948  why do some people only go to church on easter...  \n1949  why do some people only go to church on easter...  \n1950                                  what is masturbat  \n1951                                  what is masturbat  \n\n[1952 rows x 6 columns]",
      "text/html": "<div>\n<style scoped>\n    .dataframe tbody tr th:only-of-type {\n        vertical-align: middle;\n    }\n\n    .dataframe tbody tr th {\n        vertical-align: top;\n    }\n\n    .dataframe thead th {\n        text-align: right;\n    }\n</style>\n<table border=\"1\" class=\"dataframe\">\n  <thead>\n    <tr style=\"text-align: right;\">\n      <th></th>\n      <th>qid</th>\n      <th>docid</th>\n      <th>docno</th>\n      <th>rank</th>\n      <th>score</th>\n      <th>query</th>\n    </tr>\n  </thead>\n  <tbody>\n    <tr>\n      <th>0</th>\n      <td>3990512</td>\n      <td>102622</td>\n      <td>3077638_1</td>\n      <td>0</td>\n      <td>15.887435</td>\n      <td>how can we get concentration onsomething</td>\n    </tr>\n    <tr>\n      <th>1</th>\n      <td>3990512</td>\n      <td>30676</td>\n      <td>3931664_0</td>\n      <td>1</td>\n      <td>15.621619</td>\n      <td>how can we get concentration onsomething</td>\n    </tr>\n    <tr>\n      <th>2</th>\n      <td>3990512</td>\n      <td>173781</td>\n      <td>4366141_0</td>\n      <td>2</td>\n      <td>15.395085</td>\n      <td>how can we get concentration onsomething</td>\n    </tr>\n    <tr>\n      <th>3</th>\n      <td>3990512</td>\n      <td>179429</td>\n      <td>1011598_10</td>\n      <td>3</td>\n      <td>15.134176</td>\n      <td>how can we get concentration onsomething</td>\n    </tr>\n    <tr>\n      <th>4</th>\n      <td>3990512</td>\n      <td>194913</td>\n      <td>4222212_0</td>\n      <td>4</td>\n      <td>15.134176</td>\n      <td>how can we get concentration onsomething</td>\n    </tr>\n    <tr>\n      <th>...</th>\n      <td>...</td>\n      <td>...</td>\n      <td>...</td>\n      <td>...</td>\n      <td>...</td>\n      <td>...</td>\n    </tr>\n    <tr>\n      <th>1947</th>\n      <td>1340574</td>\n      <td>87627</td>\n      <td>1972970_3</td>\n      <td>7</td>\n      <td>29.386170</td>\n      <td>why do some people only go to church on easter...</td>\n    </tr>\n    <tr>\n      <th>1948</th>\n      <td>1340574</td>\n      <td>357982</td>\n      <td>2980015_23</td>\n      <td>8</td>\n      <td>29.323234</td>\n      <td>why do some people only go to church on easter...</td>\n    </tr>\n    <tr>\n      <th>1949</th>\n      <td>1340574</td>\n      <td>116656</td>\n      <td>2036141_7</td>\n      <td>9</td>\n      <td>29.157311</td>\n      <td>why do some people only go to church on easter...</td>\n    </tr>\n    <tr>\n      <th>1950</th>\n      <td>1971899</td>\n      <td>234068</td>\n      <td>1971899_6</td>\n      <td>0</td>\n      <td>28.234530</td>\n      <td>what is masturbat</td>\n    </tr>\n    <tr>\n      <th>1951</th>\n      <td>1971899</td>\n      <td>87610</td>\n      <td>2667237_0</td>\n      <td>1</td>\n      <td>12.560643</td>\n      <td>what is masturbat</td>\n    </tr>\n  </tbody>\n</table>\n<p>1952 rows × 6 columns</p>\n</div>"
     },
     "execution_count": 6,
     "metadata": {},
     "output_type": "execute_result"
    }
   ],
   "source": [
    "from pyterrier.batchretrieve import BatchRetrieve\n",
    "\n",
    "# BM25 baseline retrieval, cut off at 10 documents per query.\n",
    "pipeline_bm25 = BatchRetrieve(index, wmodel=\"BM25\", num_results=10)\n",
    "pipeline_bm25(topics)"
   ],
   "metadata": {
    "collapsed": false,
    "pycharm": {
     "name": "#%%\n"
    }
   }
  },
  {
   "cell_type": "code",
   "execution_count": 7,
   "outputs": [],
   "source": [
    "from ir_axioms.backend.pyterrier.axiom import OracleAxiom\n",
    "from ir_axioms.axiom import TFC1, LNC1, OriginalAxiom\n",
    "\n",
    "# Define axiom for reranker and permutations.\n",
    "tfc1_axiom = TFC1()  # Query term frequency in documents.\n",
    "lnc1_axiom = LNC1()  # Similarity between query and document terms.\n",
    "original_axiom = OriginalAxiom()  # Similarity between query and document terms.\n",
    "oracle_axiom = OracleAxiom(topics, qrels)"
   ],
   "metadata": {
    "collapsed": false,
    "pycharm": {
     "name": "#%%\n"
    }
   }
  },
  {
   "cell_type": "code",
   "execution_count": 8,
   "outputs": [
    {
     "name": "stderr",
     "output_type": "stream",
     "text": [
      "AxiomaticPreferences: 100%|██████████| 198/198 [00:06<00:00, 31.86query/s]\n"
     ]
    },
    {
     "data": {
      "text/plain": "           qid  docid_a    docno_a  rank_a    score_a  \\\n0      3990512   102622  3077638_1       0  15.887435   \n1      3990512   102622  3077638_1       0  15.887435   \n2      3990512   102622  3077638_1       0  15.887435   \n3      3990512   102622  3077638_1       0  15.887435   \n4      3990512   102622  3077638_1       0  15.887435   \n...        ...      ...        ...     ...        ...   \n19449  1340574   116656  2036141_7       9  29.157311   \n19450  1971899   234068  1971899_6       0  28.234530   \n19451  1971899   234068  1971899_6       0  28.234530   \n19452  1971899    87610  2667237_0       1  12.560643   \n19453  1971899    87610  2667237_0       1  12.560643   \n\n                                                   query  docid_b     docno_b  \\\n0               how can we get concentration onsomething   102622   3077638_1   \n1               how can we get concentration onsomething    30676   3931664_0   \n2               how can we get concentration onsomething   173781   4366141_0   \n3               how can we get concentration onsomething   179429  1011598_10   \n4               how can we get concentration onsomething   194913   4222212_0   \n...                                                  ...      ...         ...   \n19449  why do some people only go to church on easter...   116656   2036141_7   \n19450                                  what is masturbat   234068   1971899_6   \n19451                                  what is masturbat    87610   2667237_0   \n19452                                  what is masturbat   234068   1971899_6   \n19453                                  what is masturbat    87610   2667237_0   \n\n       rank_b    score_b  original_preference  oracle_preference  \\\n0           0  15.887435                    0                NaN   \n1           1  15.621619                    1                NaN   \n2           2  15.395085                    1                NaN   \n3           3  15.134176                    1                NaN   \n4           4  15.134176                    1                NaN   \n...       ...        ...                  ...                ...   \n19449       9  29.157311                    0                0.0   \n19450       0  28.234530                    0                0.0   \n19451       1  12.560643                    1                0.0   \n19452       0  28.234530                   -1                0.0   \n19453       1  12.560643                    0                0.0   \n\n       TFC1_preference  LNC1_preference  \n0                    0                0  \n1                    0                0  \n2                    0                0  \n3                    0                0  \n4                    0                0  \n...                ...              ...  \n19449                0                0  \n19450                0                0  \n19451                0                0  \n19452                0                0  \n19453                0                0  \n\n[19454 rows x 14 columns]",
      "text/html": "<div>\n<style scoped>\n    .dataframe tbody tr th:only-of-type {\n        vertical-align: middle;\n    }\n\n    .dataframe tbody tr th {\n        vertical-align: top;\n    }\n\n    .dataframe thead th {\n        text-align: right;\n    }\n</style>\n<table border=\"1\" class=\"dataframe\">\n  <thead>\n    <tr style=\"text-align: right;\">\n      <th></th>\n      <th>qid</th>\n      <th>docid_a</th>\n      <th>docno_a</th>\n      <th>rank_a</th>\n      <th>score_a</th>\n      <th>query</th>\n      <th>docid_b</th>\n      <th>docno_b</th>\n      <th>rank_b</th>\n      <th>score_b</th>\n      <th>original_preference</th>\n      <th>oracle_preference</th>\n      <th>TFC1_preference</th>\n      <th>LNC1_preference</th>\n    </tr>\n  </thead>\n  <tbody>\n    <tr>\n      <th>0</th>\n      <td>3990512</td>\n      <td>102622</td>\n      <td>3077638_1</td>\n      <td>0</td>\n      <td>15.887435</td>\n      <td>how can we get concentration onsomething</td>\n      <td>102622</td>\n      <td>3077638_1</td>\n      <td>0</td>\n      <td>15.887435</td>\n      <td>0</td>\n      <td>NaN</td>\n      <td>0</td>\n      <td>0</td>\n    </tr>\n    <tr>\n      <th>1</th>\n      <td>3990512</td>\n      <td>102622</td>\n      <td>3077638_1</td>\n      <td>0</td>\n      <td>15.887435</td>\n      <td>how can we get concentration onsomething</td>\n      <td>30676</td>\n      <td>3931664_0</td>\n      <td>1</td>\n      <td>15.621619</td>\n      <td>1</td>\n      <td>NaN</td>\n      <td>0</td>\n      <td>0</td>\n    </tr>\n    <tr>\n      <th>2</th>\n      <td>3990512</td>\n      <td>102622</td>\n      <td>3077638_1</td>\n      <td>0</td>\n      <td>15.887435</td>\n      <td>how can we get concentration onsomething</td>\n      <td>173781</td>\n      <td>4366141_0</td>\n      <td>2</td>\n      <td>15.395085</td>\n      <td>1</td>\n      <td>NaN</td>\n      <td>0</td>\n      <td>0</td>\n    </tr>\n    <tr>\n      <th>3</th>\n      <td>3990512</td>\n      <td>102622</td>\n      <td>3077638_1</td>\n      <td>0</td>\n      <td>15.887435</td>\n      <td>how can we get concentration onsomething</td>\n      <td>179429</td>\n      <td>1011598_10</td>\n      <td>3</td>\n      <td>15.134176</td>\n      <td>1</td>\n      <td>NaN</td>\n      <td>0</td>\n      <td>0</td>\n    </tr>\n    <tr>\n      <th>4</th>\n      <td>3990512</td>\n      <td>102622</td>\n      <td>3077638_1</td>\n      <td>0</td>\n      <td>15.887435</td>\n      <td>how can we get concentration onsomething</td>\n      <td>194913</td>\n      <td>4222212_0</td>\n      <td>4</td>\n      <td>15.134176</td>\n      <td>1</td>\n      <td>NaN</td>\n      <td>0</td>\n      <td>0</td>\n    </tr>\n    <tr>\n      <th>...</th>\n      <td>...</td>\n      <td>...</td>\n      <td>...</td>\n      <td>...</td>\n      <td>...</td>\n      <td>...</td>\n      <td>...</td>\n      <td>...</td>\n      <td>...</td>\n      <td>...</td>\n      <td>...</td>\n      <td>...</td>\n      <td>...</td>\n      <td>...</td>\n    </tr>\n    <tr>\n      <th>19449</th>\n      <td>1340574</td>\n      <td>116656</td>\n      <td>2036141_7</td>\n      <td>9</td>\n      <td>29.157311</td>\n      <td>why do some people only go to church on easter...</td>\n      <td>116656</td>\n      <td>2036141_7</td>\n      <td>9</td>\n      <td>29.157311</td>\n      <td>0</td>\n      <td>0.0</td>\n      <td>0</td>\n      <td>0</td>\n    </tr>\n    <tr>\n      <th>19450</th>\n      <td>1971899</td>\n      <td>234068</td>\n      <td>1971899_6</td>\n      <td>0</td>\n      <td>28.234530</td>\n      <td>what is masturbat</td>\n      <td>234068</td>\n      <td>1971899_6</td>\n      <td>0</td>\n      <td>28.234530</td>\n      <td>0</td>\n      <td>0.0</td>\n      <td>0</td>\n      <td>0</td>\n    </tr>\n    <tr>\n      <th>19451</th>\n      <td>1971899</td>\n      <td>234068</td>\n      <td>1971899_6</td>\n      <td>0</td>\n      <td>28.234530</td>\n      <td>what is masturbat</td>\n      <td>87610</td>\n      <td>2667237_0</td>\n      <td>1</td>\n      <td>12.560643</td>\n      <td>1</td>\n      <td>0.0</td>\n      <td>0</td>\n      <td>0</td>\n    </tr>\n    <tr>\n      <th>19452</th>\n      <td>1971899</td>\n      <td>87610</td>\n      <td>2667237_0</td>\n      <td>1</td>\n      <td>12.560643</td>\n      <td>what is masturbat</td>\n      <td>234068</td>\n      <td>1971899_6</td>\n      <td>0</td>\n      <td>28.234530</td>\n      <td>-1</td>\n      <td>0.0</td>\n      <td>0</td>\n      <td>0</td>\n    </tr>\n    <tr>\n      <th>19453</th>\n      <td>1971899</td>\n      <td>87610</td>\n      <td>2667237_0</td>\n      <td>1</td>\n      <td>12.560643</td>\n      <td>what is masturbat</td>\n      <td>87610</td>\n      <td>2667237_0</td>\n      <td>1</td>\n      <td>12.560643</td>\n      <td>0</td>\n      <td>0.0</td>\n      <td>0</td>\n      <td>0</td>\n    </tr>\n  </tbody>\n</table>\n<p>19454 rows × 14 columns</p>\n</div>"
     },
     "execution_count": 8,
     "metadata": {},
     "output_type": "execute_result"
    }
   ],
   "source": [
    "from ir_axioms.backend.pyterrier.transformers import AxiomaticPreferences\n",
    "\n",
    "# Add column counting the permutations of the BM25 baseline retrieval compared to the axiom.\n",
    "pipeline_bm25_preferences = pipeline_bm25 >> AxiomaticPreferences(\n",
    "    [original_axiom,\n",
    "     oracle_axiom,\n",
    "     tfc1_axiom, lnc1_axiom],\n",
    "    index, dataset_name, verbose=True\n",
    ")\n",
    "pipeline_bm25_preferences(topics)"
   ],
   "metadata": {
    "collapsed": false,
    "pycharm": {
     "name": "#%%\n"
    }
   }
  },
  {
   "cell_type": "markdown",
   "source": [],
   "metadata": {
    "collapsed": false
   }
  },
  {
   "cell_type": "code",
   "execution_count": 9,
   "outputs": [
    {
     "name": "stderr",
     "output_type": "stream",
     "text": [
      "AxiomaticReranker: 100%|██████████| 198/198 [00:03<00:00, 64.76query/s]\n"
     ]
    },
    {
     "data": {
      "text/plain": "           docno  rank  score      qid   docid  \\\n0      3077638_1     1     10  3990512  102622   \n1      3931664_0     2      9  3990512   30676   \n2      4366141_0     3      8  3990512  173781   \n3     1011598_10     4      7  3990512  179429   \n4      4222212_0     5      6  3990512  194913   \n...          ...   ...    ...      ...     ...   \n1947   1972970_3     8      3  1340574   87627   \n1948  2980015_23     9      2  1340574  357982   \n1949   2036141_7    10      1  1340574  116656   \n1950   1971899_6     1      2  1971899  234068   \n1951   2667237_0     2      1  1971899   87610   \n\n                                                  query  \n0              how can we get concentration onsomething  \n1              how can we get concentration onsomething  \n2              how can we get concentration onsomething  \n3              how can we get concentration onsomething  \n4              how can we get concentration onsomething  \n...                                                 ...  \n1947  why do some people only go to church on easter...  \n1948  why do some people only go to church on easter...  \n1949  why do some people only go to church on easter...  \n1950                                  what is masturbat  \n1951                                  what is masturbat  \n\n[1952 rows x 6 columns]",
      "text/html": "<div>\n<style scoped>\n    .dataframe tbody tr th:only-of-type {\n        vertical-align: middle;\n    }\n\n    .dataframe tbody tr th {\n        vertical-align: top;\n    }\n\n    .dataframe thead th {\n        text-align: right;\n    }\n</style>\n<table border=\"1\" class=\"dataframe\">\n  <thead>\n    <tr style=\"text-align: right;\">\n      <th></th>\n      <th>docno</th>\n      <th>rank</th>\n      <th>score</th>\n      <th>qid</th>\n      <th>docid</th>\n      <th>query</th>\n    </tr>\n  </thead>\n  <tbody>\n    <tr>\n      <th>0</th>\n      <td>3077638_1</td>\n      <td>1</td>\n      <td>10</td>\n      <td>3990512</td>\n      <td>102622</td>\n      <td>how can we get concentration onsomething</td>\n    </tr>\n    <tr>\n      <th>1</th>\n      <td>3931664_0</td>\n      <td>2</td>\n      <td>9</td>\n      <td>3990512</td>\n      <td>30676</td>\n      <td>how can we get concentration onsomething</td>\n    </tr>\n    <tr>\n      <th>2</th>\n      <td>4366141_0</td>\n      <td>3</td>\n      <td>8</td>\n      <td>3990512</td>\n      <td>173781</td>\n      <td>how can we get concentration onsomething</td>\n    </tr>\n    <tr>\n      <th>3</th>\n      <td>1011598_10</td>\n      <td>4</td>\n      <td>7</td>\n      <td>3990512</td>\n      <td>179429</td>\n      <td>how can we get concentration onsomething</td>\n    </tr>\n    <tr>\n      <th>4</th>\n      <td>4222212_0</td>\n      <td>5</td>\n      <td>6</td>\n      <td>3990512</td>\n      <td>194913</td>\n      <td>how can we get concentration onsomething</td>\n    </tr>\n    <tr>\n      <th>...</th>\n      <td>...</td>\n      <td>...</td>\n      <td>...</td>\n      <td>...</td>\n      <td>...</td>\n      <td>...</td>\n    </tr>\n    <tr>\n      <th>1947</th>\n      <td>1972970_3</td>\n      <td>8</td>\n      <td>3</td>\n      <td>1340574</td>\n      <td>87627</td>\n      <td>why do some people only go to church on easter...</td>\n    </tr>\n    <tr>\n      <th>1948</th>\n      <td>2980015_23</td>\n      <td>9</td>\n      <td>2</td>\n      <td>1340574</td>\n      <td>357982</td>\n      <td>why do some people only go to church on easter...</td>\n    </tr>\n    <tr>\n      <th>1949</th>\n      <td>2036141_7</td>\n      <td>10</td>\n      <td>1</td>\n      <td>1340574</td>\n      <td>116656</td>\n      <td>why do some people only go to church on easter...</td>\n    </tr>\n    <tr>\n      <th>1950</th>\n      <td>1971899_6</td>\n      <td>1</td>\n      <td>2</td>\n      <td>1971899</td>\n      <td>234068</td>\n      <td>what is masturbat</td>\n    </tr>\n    <tr>\n      <th>1951</th>\n      <td>2667237_0</td>\n      <td>2</td>\n      <td>1</td>\n      <td>1971899</td>\n      <td>87610</td>\n      <td>what is masturbat</td>\n    </tr>\n  </tbody>\n</table>\n<p>1952 rows × 6 columns</p>\n</div>"
     },
     "execution_count": 9,
     "metadata": {},
     "output_type": "execute_result"
    }
   ],
   "source": [
    "from ir_axioms.backend.pyterrier.transformers import AxiomaticReranker\n",
    "\n",
    "# Rerank the baseline retrieval using KwikSort with preferences from the axiom above.\n",
    "pipeline_axiom = pipeline_bm25 >> AxiomaticReranker(\n",
    "    tfc1_axiom + lnc1_axiom + original_axiom * 2.0,\n",
    "    index, dataset_name, verbose=True\n",
    ")\n",
    "pipeline_axiom(topics)"
   ],
   "metadata": {
    "collapsed": false,
    "pycharm": {
     "name": "#%%\n"
    }
   }
  },
  {
   "cell_type": "code",
   "execution_count": 10,
   "outputs": [
    {
     "name": "stderr",
     "output_type": "stream",
     "text": [
      "AxiomaticReranker: 100%|██████████| 198/198 [00:02<00:00, 72.39query/s]\n"
     ]
    },
    {
     "data": {
      "text/plain": "                         name    nDCG@5   nDCG@10        RR    P@5    P@10\n1  BM25 + Axiomatic Reranking  0.529076  0.510466  0.937875  0.833  0.7455\n0                        BM25  0.529428  0.509908  0.934708  0.836  0.7455",
      "text/html": "<div>\n<style scoped>\n    .dataframe tbody tr th:only-of-type {\n        vertical-align: middle;\n    }\n\n    .dataframe tbody tr th {\n        vertical-align: top;\n    }\n\n    .dataframe thead th {\n        text-align: right;\n    }\n</style>\n<table border=\"1\" class=\"dataframe\">\n  <thead>\n    <tr style=\"text-align: right;\">\n      <th></th>\n      <th>name</th>\n      <th>nDCG@5</th>\n      <th>nDCG@10</th>\n      <th>RR</th>\n      <th>P@5</th>\n      <th>P@10</th>\n    </tr>\n  </thead>\n  <tbody>\n    <tr>\n      <th>1</th>\n      <td>BM25 + Axiomatic Reranking</td>\n      <td>0.529076</td>\n      <td>0.510466</td>\n      <td>0.937875</td>\n      <td>0.833</td>\n      <td>0.7455</td>\n    </tr>\n    <tr>\n      <th>0</th>\n      <td>BM25</td>\n      <td>0.529428</td>\n      <td>0.509908</td>\n      <td>0.934708</td>\n      <td>0.836</td>\n      <td>0.7455</td>\n    </tr>\n  </tbody>\n</table>\n</div>"
     },
     "execution_count": 10,
     "metadata": {},
     "output_type": "execute_result"
    }
   ],
   "source": [
    "from ir_measures import nDCG, RR, P\n",
    "from pyterrier.pipelines import Experiment\n",
    "\n",
    "# Compare the baseline retrieval with the reranked pipeline in an experiment.\n",
    "results = Experiment(\n",
    "    [pipeline_bm25, pipeline_axiom],\n",
    "    topics,\n",
    "    qrels,\n",
    "    [nDCG @ 5, nDCG @ 10, RR, P @ 5, P @ 10],\n",
    "    [\"BM25\", \"BM25 + Axiomatic Reranking\"],\n",
    ")\n",
    "results.sort_values(\"nDCG@10\", ascending=False, inplace=True)\n",
    "results"
   ],
   "metadata": {
    "collapsed": false,
    "pycharm": {
     "name": "#%%\n"
    }
   }
  },
  {
   "cell_type": "code",
   "execution_count": 10,
   "outputs": [],
   "source": [],
   "metadata": {
    "collapsed": false,
    "pycharm": {
     "name": "#%%\n"
    }
   }
  }
 ],
 "metadata": {
  "kernelspec": {
   "display_name": "Python 3",
   "language": "python",
   "name": "python3"
  },
  "language_info": {
   "codemirror_mode": {
    "name": "ipython",
    "version": 2
   },
   "file_extension": ".py",
   "mimetype": "text/x-python",
   "name": "python",
   "nbconvert_exporter": "python",
   "pygments_lexer": "ipython2",
   "version": "2.7.6"
  }
 },
 "nbformat": 4,
 "nbformat_minor": 0
}