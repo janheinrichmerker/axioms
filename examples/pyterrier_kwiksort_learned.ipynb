{
 "cells": [
  {
   "cell_type": "code",
   "execution_count": 29,
   "outputs": [],
   "source": [
    "from sys import modules\n",
    "\n",
    "IN_COLAB = 'google.colab' in modules\n",
    "if IN_COLAB:\n",
    "    !pip install -q ir_axioms[examples] python-terrier"
   ],
   "metadata": {
    "collapsed": false,
    "pycharm": {
     "name": "#%%\n"
    }
   }
  },
  {
   "cell_type": "code",
   "execution_count": 30,
   "outputs": [],
   "source": [
    "# Start/initialize PyTerrier.\n",
    "from pyterrier import started, init\n",
    "\n",
    "if not started():\n",
    "    init(tqdm=\"auto\")"
   ],
   "metadata": {
    "collapsed": false,
    "pycharm": {
     "name": "#%%\n"
    }
   }
  },
  {
   "cell_type": "code",
   "execution_count": 31,
   "outputs": [],
   "source": [
    "from pyterrier.datasets import get_dataset, Dataset\n",
    "\n",
    "# Load dataset.\n",
    "dataset_name = \"msmarco-passage\"\n",
    "dataset: Dataset = get_dataset(f\"irds:{dataset_name}\")\n",
    "dataset_train: Dataset = get_dataset(f\"irds:{dataset_name}/trec-dl-2019/judged\")\n",
    "dataset_test: Dataset = get_dataset(f\"irds:{dataset_name}/trec-dl-2020/judged\")"
   ],
   "metadata": {
    "collapsed": false,
    "pycharm": {
     "name": "#%%\n"
    }
   }
  },
  {
   "cell_type": "code",
   "execution_count": 32,
   "outputs": [],
   "source": [
    "from pathlib import Path\n",
    "\n",
    "cache_dir = Path(\"cache/\")\n",
    "index_dir = cache_dir / \"indices\" / dataset_name.split(\"/\")[0]"
   ],
   "metadata": {
    "collapsed": false,
    "pycharm": {
     "name": "#%%\n"
    }
   }
  },
  {
   "cell_type": "code",
   "execution_count": 33,
   "outputs": [],
   "source": [
    "from pyterrier.index import IterDictIndexer\n",
    "\n",
    "if not index_dir.exists():\n",
    "    indexer = IterDictIndexer(str(index_dir.absolute()))\n",
    "    indexer.index(\n",
    "        dataset.get_corpus_iter(),\n",
    "        fields=[\"text\"]\n",
    "    )"
   ],
   "metadata": {
    "collapsed": false,
    "pycharm": {
     "name": "#%%\n"
    }
   }
  },
  {
   "cell_type": "code",
   "execution_count": 34,
   "outputs": [],
   "source": [
    "from pyterrier.batchretrieve import BatchRetrieve\n",
    "\n",
    "# BM25 baseline retrieval.\n",
    "bm25 = BatchRetrieve(str(index_dir.absolute()), wmodel=\"BM25\")"
   ],
   "metadata": {
    "collapsed": false,
    "pycharm": {
     "name": "#%%\n"
    }
   }
  },
  {
   "cell_type": "code",
   "execution_count": 35,
   "outputs": [],
   "source": [
    "from ir_axioms.axiom import (\n",
    "    ArgUC, QTArg, QTPArg, aSL, PROX1, PROX2, PROX3, PROX4, PROX5, TFC1, TFC3, RS_TF, RS_TF_IDF, RS_BM25, RS_PL2, RS_QL,\n",
    "    AND, LEN_AND, M_AND, LEN_M_AND, DIV, LEN_DIV, M_TDC, LEN_M_TDC, STMC1, STMC1_f, STMC2, STMC2_f, LNC1, TF_LNC, LB1,\n",
    "    REG, ANTI_REG, REG_f, ANTI_REG_f, ASPECT_REG, ASPECT_REG_f, ORIG\n",
    ")\n",
    "\n",
    "axioms = [\n",
    "    ~ArgUC(), ~QTArg(), ~QTPArg(), ~aSL(),\n",
    "    ~LNC1(), ~TF_LNC(), ~LB1(),\n",
    "    ~PROX1(), ~PROX2(), ~PROX3(), ~PROX4(), ~PROX5(),\n",
    "    ~REG(), ~REG_f(), ~ANTI_REG(), ~ANTI_REG_f(), ~ASPECT_REG(), ~ASPECT_REG_f(),\n",
    "    ~AND(), ~LEN_AND(), ~M_AND(), ~LEN_M_AND(), ~DIV(), ~LEN_DIV(),\n",
    "    ~RS_TF(), ~RS_TF_IDF(), ~RS_BM25(), ~RS_PL2(), ~RS_QL(),\n",
    "    ~TFC1(), ~TFC3(), ~M_TDC(), ~LEN_M_TDC(),\n",
    "    ~STMC1(), ~STMC1_f(), ~STMC2(), ~STMC2_f(),\n",
    "    ORIG()\n",
    "]"
   ],
   "metadata": {
    "collapsed": false,
    "pycharm": {
     "name": "#%%\n"
    }
   }
  },
  {
   "cell_type": "code",
   "execution_count": 73,
   "outputs": [],
   "source": [
    "from sklearn.ensemble import RandomForestClassifier\n",
    "from ir_axioms.modules.pivot import MiddlePivotSelection\n",
    "from ir_axioms.backend.pyterrier.estimator import EstimatorKwikSortReranker\n",
    "\n",
    "random_forest = RandomForestClassifier(\n",
    "    n_estimators=32,\n",
    "    max_depth=4,\n",
    ")\n",
    "kwiksort_random_forest = bm25 % 20 >> EstimatorKwikSortReranker(\n",
    "    axioms=axioms,\n",
    "    estimator=random_forest,\n",
    "    index=index_dir,\n",
    "    dataset=dataset_name,\n",
    "    pivot_selection=MiddlePivotSelection(),\n",
    "    cache_dir=cache_dir,\n",
    "    verbose=True,\n",
    ")"
   ],
   "metadata": {
    "collapsed": false,
    "pycharm": {
     "name": "#%%\n"
    }
   }
  },
  {
   "cell_type": "code",
   "execution_count": 74,
   "outputs": [
    {
     "data": {
      "text/plain": "Collecting axiom preferences:   0%|          | 0/699 [00:00<?, ?document pair/s]",
      "application/vnd.jupyter.widget-view+json": {
       "version_major": 2,
       "version_minor": 0,
       "model_id": "26f620ec691a47dabdcea9fa15af7135"
      }
     },
     "metadata": {},
     "output_type": "display_data"
    }
   ],
   "source": [
    "kwiksort_random_forest.fit(dataset_train.get_topics(), dataset_train.get_qrels())"
   ],
   "metadata": {
    "collapsed": false,
    "pycharm": {
     "name": "#%%\n"
    }
   }
  },
  {
   "cell_type": "code",
   "execution_count": 75,
   "outputs": [
    {
     "data": {
      "text/plain": "pt.Experiment:   0%|          | 0/2 [00:00<?, ?system/s]",
      "application/vnd.jupyter.widget-view+json": {
       "version_major": 2,
       "version_minor": 0,
       "model_id": "aa63e5e6dcff47fe8dab403a44776a05"
      }
     },
     "metadata": {},
     "output_type": "display_data"
    },
    {
     "data": {
      "text/plain": "Reranking query axiomatically:   0%|          | 0/54 [00:00<?, ?query/s]",
      "application/vnd.jupyter.widget-view+json": {
       "version_major": 2,
       "version_minor": 0,
       "model_id": "28fb5fa608f64cd69394d0e0e6a39071"
      }
     },
     "metadata": {},
     "output_type": "display_data"
    }
   ],
   "source": [
    "from pyterrier.pipelines import Experiment\n",
    "from ir_measures import nDCG, MAP, RR\n",
    "\n",
    "experiment = Experiment(\n",
    "    [bm25, kwiksort_random_forest ^ bm25],\n",
    "    dataset_test.get_topics(),\n",
    "    dataset_test.get_qrels(),\n",
    "    [nDCG @ 10, RR, MAP],\n",
    "    [\"BM25\", \"KwikSort Random Forest\"],\n",
    "    verbose=True,\n",
    ")\n",
    "experiment.sort_values(by=\"nDCG@10\", ascending=False, inplace=True)"
   ],
   "metadata": {
    "collapsed": false,
    "pycharm": {
     "name": "#%%\n"
    }
   }
  },
  {
   "cell_type": "code",
   "execution_count": 76,
   "outputs": [
    {
     "data": {
      "text/plain": "                     name   nDCG@10        RR        AP\n1  KwikSort Random Forest  0.494765  0.814514  0.364933\n0                    BM25  0.493627  0.802359  0.358724",
      "text/html": "<div>\n<style scoped>\n    .dataframe tbody tr th:only-of-type {\n        vertical-align: middle;\n    }\n\n    .dataframe tbody tr th {\n        vertical-align: top;\n    }\n\n    .dataframe thead th {\n        text-align: right;\n    }\n</style>\n<table border=\"1\" class=\"dataframe\">\n  <thead>\n    <tr style=\"text-align: right;\">\n      <th></th>\n      <th>name</th>\n      <th>nDCG@10</th>\n      <th>RR</th>\n      <th>AP</th>\n    </tr>\n  </thead>\n  <tbody>\n    <tr>\n      <th>1</th>\n      <td>KwikSort Random Forest</td>\n      <td>0.494765</td>\n      <td>0.814514</td>\n      <td>0.364933</td>\n    </tr>\n    <tr>\n      <th>0</th>\n      <td>BM25</td>\n      <td>0.493627</td>\n      <td>0.802359</td>\n      <td>0.358724</td>\n    </tr>\n  </tbody>\n</table>\n</div>"
     },
     "execution_count": 76,
     "metadata": {},
     "output_type": "execute_result"
    }
   ],
   "source": [
    "experiment"
   ],
   "metadata": {
    "collapsed": false,
    "pycharm": {
     "name": "#%%\n"
    }
   }
  },
  {
   "cell_type": "code",
   "execution_count": 40,
   "outputs": [
    {
     "data": {
      "text/plain": "array([0.0234073 , 0.01044632, 0.02668948, 0.01104622, 0.00303036,\n       0.02093435, 0.01090135, 0.05019401, 0.03092674, 0.0145849 ,\n       0.0473727 , 0.04824732, 0.08957332, 0.07098733, 0.08223634,\n       0.03257832, 0.        , 0.        , 0.03167914, 0.01321725,\n       0.02902326, 0.00024531, 0.05958134, 0.01565076, 0.05750398,\n       0.        , 0.        , 0.02036809, 0.03808263, 0.01575549,\n       0.        , 0.        , 0.        , 0.04630042, 0.06137938,\n       0.02135816, 0.01669843, 0.        ])"
     },
     "execution_count": 40,
     "metadata": {},
     "output_type": "execute_result"
    }
   ],
   "source": [
    "random_forest.feature_importances_"
   ],
   "metadata": {
    "collapsed": false,
    "pycharm": {
     "name": "#%%\n"
    }
   }
  }
 ],
 "metadata": {
  "kernelspec": {
   "display_name": "Python 3",
   "language": "python",
   "name": "python3"
  },
  "language_info": {
   "codemirror_mode": {
    "name": "ipython",
    "version": 2
   },
   "file_extension": ".py",
   "mimetype": "text/x-python",
   "name": "python",
   "nbconvert_exporter": "python",
   "pygments_lexer": "ipython2",
   "version": "2.7.6"
  }
 },
 "nbformat": 4,
 "nbformat_minor": 0
}