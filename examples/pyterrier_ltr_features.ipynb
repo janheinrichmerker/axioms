{
 "cells": [
  {
   "cell_type": "code",
   "execution_count": 1,
   "outputs": [],
   "source": [
    "from sys import modules\n",
    "\n",
    "IN_COLAB = 'google.colab' in modules\n",
    "if IN_COLAB:\n",
    "    !pip install -q ir_axioms[examples] python-terrier"
   ],
   "metadata": {
    "collapsed": false,
    "pycharm": {
     "name": "#%%\n"
    }
   }
  },
  {
   "cell_type": "code",
   "execution_count": 2,
   "outputs": [
    {
     "name": "stderr",
     "output_type": "stream",
     "text": [
      "PyTerrier 0.8.0 has loaded Terrier 5.6 (built by craigmacdonald on 2021-09-17 13:27)\n",
      "\n",
      "No etc/terrier.properties, using terrier.default.properties for bootstrap configuration.\n"
     ]
    }
   ],
   "source": [
    "# Start/initialize PyTerrier.\n",
    "from pyterrier import started, init\n",
    "\n",
    "if not started():\n",
    "    init(tqdm=\"auto\")"
   ],
   "metadata": {
    "collapsed": false,
    "pycharm": {
     "name": "#%%\n"
    }
   }
  },
  {
   "cell_type": "code",
   "execution_count": 3,
   "outputs": [],
   "source": [
    "from pyterrier.datasets import get_dataset, Dataset\n",
    "\n",
    "# Load dataset.\n",
    "dataset_name = \"antique\"\n",
    "dataset: Dataset = get_dataset(f\"irds:{dataset_name}\")\n",
    "dataset_train: Dataset = get_dataset(f\"irds:{dataset_name}/train\")\n",
    "dataset_test: Dataset = get_dataset(f\"irds:{dataset_name}/test\")"
   ],
   "metadata": {
    "collapsed": false,
    "pycharm": {
     "name": "#%%\n"
    }
   }
  },
  {
   "cell_type": "code",
   "execution_count": 4,
   "outputs": [],
   "source": [
    "from pathlib import Path\n",
    "from pyterrier.index import IterDictIndexer\n",
    "from ir_axioms.backend.pyterrier import IndexRef, IndexFactory\n",
    "\n",
    "# Load documents and build index.\n",
    "index_dir = Path(f\"cache/indices/{dataset_name.replace('/', '-')}\").absolute()\n",
    "index_ref: IndexRef\n",
    "if index_dir.exists():\n",
    "    index_ref = IndexRef.of(str(index_dir))\n",
    "else:\n",
    "    # Don't forget to include the 'text' field in the meta index.\n",
    "    indexer = IterDictIndexer(str(index_dir))\n",
    "    index_ref = indexer.index(dataset.get_corpus_iter(), fields=[\"text\"])\n",
    "index = IndexFactory.of(index_ref)"
   ],
   "metadata": {
    "collapsed": false,
    "pycharm": {
     "name": "#%%\n"
    }
   }
  },
  {
   "cell_type": "code",
   "execution_count": 5,
   "outputs": [
    {
     "data": {
      "text/plain": "          qid   docid       docno  rank      score  \\\n0     3990512  102622   3077638_1     0  15.887435   \n1     3990512   30676   3931664_0     1  15.621619   \n2     3990512  173781   4366141_0     2  15.395085   \n3     3990512  179429  1011598_10     3  15.134176   \n4     3990512  194913   4222212_0     4  15.134176   \n...       ...     ...         ...   ...        ...   \n3877  1340574  136249   2323025_6    17  25.933856   \n3878  1340574  116651   2036141_2    18  25.540481   \n3879  1340574  123602   1757874_0    19  25.338768   \n3880  1971899  234068   1971899_6     0  28.234530   \n3881  1971899   87610   2667237_0     1  12.560643   \n\n                                                  query  \n0              how can we get concentration onsomething  \n1              how can we get concentration onsomething  \n2              how can we get concentration onsomething  \n3              how can we get concentration onsomething  \n4              how can we get concentration onsomething  \n...                                                 ...  \n3877  why do some people only go to church on easter...  \n3878  why do some people only go to church on easter...  \n3879  why do some people only go to church on easter...  \n3880                                  what is masturbat  \n3881                                  what is masturbat  \n\n[3882 rows x 6 columns]",
      "text/html": "<div>\n<style scoped>\n    .dataframe tbody tr th:only-of-type {\n        vertical-align: middle;\n    }\n\n    .dataframe tbody tr th {\n        vertical-align: top;\n    }\n\n    .dataframe thead th {\n        text-align: right;\n    }\n</style>\n<table border=\"1\" class=\"dataframe\">\n  <thead>\n    <tr style=\"text-align: right;\">\n      <th></th>\n      <th>qid</th>\n      <th>docid</th>\n      <th>docno</th>\n      <th>rank</th>\n      <th>score</th>\n      <th>query</th>\n    </tr>\n  </thead>\n  <tbody>\n    <tr>\n      <th>0</th>\n      <td>3990512</td>\n      <td>102622</td>\n      <td>3077638_1</td>\n      <td>0</td>\n      <td>15.887435</td>\n      <td>how can we get concentration onsomething</td>\n    </tr>\n    <tr>\n      <th>1</th>\n      <td>3990512</td>\n      <td>30676</td>\n      <td>3931664_0</td>\n      <td>1</td>\n      <td>15.621619</td>\n      <td>how can we get concentration onsomething</td>\n    </tr>\n    <tr>\n      <th>2</th>\n      <td>3990512</td>\n      <td>173781</td>\n      <td>4366141_0</td>\n      <td>2</td>\n      <td>15.395085</td>\n      <td>how can we get concentration onsomething</td>\n    </tr>\n    <tr>\n      <th>3</th>\n      <td>3990512</td>\n      <td>179429</td>\n      <td>1011598_10</td>\n      <td>3</td>\n      <td>15.134176</td>\n      <td>how can we get concentration onsomething</td>\n    </tr>\n    <tr>\n      <th>4</th>\n      <td>3990512</td>\n      <td>194913</td>\n      <td>4222212_0</td>\n      <td>4</td>\n      <td>15.134176</td>\n      <td>how can we get concentration onsomething</td>\n    </tr>\n    <tr>\n      <th>...</th>\n      <td>...</td>\n      <td>...</td>\n      <td>...</td>\n      <td>...</td>\n      <td>...</td>\n      <td>...</td>\n    </tr>\n    <tr>\n      <th>3877</th>\n      <td>1340574</td>\n      <td>136249</td>\n      <td>2323025_6</td>\n      <td>17</td>\n      <td>25.933856</td>\n      <td>why do some people only go to church on easter...</td>\n    </tr>\n    <tr>\n      <th>3878</th>\n      <td>1340574</td>\n      <td>116651</td>\n      <td>2036141_2</td>\n      <td>18</td>\n      <td>25.540481</td>\n      <td>why do some people only go to church on easter...</td>\n    </tr>\n    <tr>\n      <th>3879</th>\n      <td>1340574</td>\n      <td>123602</td>\n      <td>1757874_0</td>\n      <td>19</td>\n      <td>25.338768</td>\n      <td>why do some people only go to church on easter...</td>\n    </tr>\n    <tr>\n      <th>3880</th>\n      <td>1971899</td>\n      <td>234068</td>\n      <td>1971899_6</td>\n      <td>0</td>\n      <td>28.234530</td>\n      <td>what is masturbat</td>\n    </tr>\n    <tr>\n      <th>3881</th>\n      <td>1971899</td>\n      <td>87610</td>\n      <td>2667237_0</td>\n      <td>1</td>\n      <td>12.560643</td>\n      <td>what is masturbat</td>\n    </tr>\n  </tbody>\n</table>\n<p>3882 rows × 6 columns</p>\n</div>"
     },
     "execution_count": 5,
     "metadata": {},
     "output_type": "execute_result"
    }
   ],
   "source": [
    "from pyterrier.batchretrieve import BatchRetrieve\n",
    "\n",
    "# BM25 baseline retrieval, cut off at 10 documents per query.\n",
    "pipeline_bm25 = BatchRetrieve(index, wmodel=\"BM25\", num_results=20)\n",
    "pipeline_bm25(dataset_test.get_topics())"
   ],
   "metadata": {
    "collapsed": false,
    "pycharm": {
     "name": "#%%\n"
    }
   }
  },
  {
   "cell_type": "code",
   "execution_count": 6,
   "outputs": [],
   "source": [
    "from pathlib import Path\n",
    "\n",
    "cache_dir = Path(f\"cache/\")"
   ],
   "metadata": {
    "collapsed": false,
    "pycharm": {
     "name": "#%%\n"
    }
   }
  },
  {
   "cell_type": "code",
   "execution_count": 7,
   "outputs": [],
   "source": [
    "from ir_axioms.axiom import (\n",
    "    ArgUC, QTArg, QTPArg, aSL, PROX1, PROX2, PROX3, PROX4, PROX5, TFC1, TFC3, RS_TF, RS_TF_IDF, RS_BM25, RS_PL2, RS_QL,\n",
    "    AND, LEN_AND, M_AND, LEN_M_AND, DIV, LEN_DIV, M_TDC, LEN_M_TDC, STMC1, STMC1_f, STMC2, STMC2_f, LNC1, TF_LNC, LB1,\n",
    "    REG, ANTI_REG\n",
    ")\n",
    "\n",
    "axioms = [\n",
    "    # ~ArgUC(),  # Very slow due to network access.\n",
    "    # ~QTArg(),  # Very slow due to network access.\n",
    "    # ~QTPArg(),  # Very slow due to network access.\n",
    "    ~aSL(),\n",
    "    ~LNC1(),\n",
    "    ~TF_LNC(),\n",
    "    ~LB1(),\n",
    "    ~PROX1(),\n",
    "    ~PROX2(),\n",
    "    ~PROX3(),\n",
    "    ~PROX4(),\n",
    "    ~PROX5(),\n",
    "    ~REG(),\n",
    "    ~ANTI_REG(),\n",
    "    ~AND(),\n",
    "    ~LEN_AND(),\n",
    "    ~M_AND(),\n",
    "    ~LEN_M_AND(),\n",
    "    ~DIV(),\n",
    "    ~LEN_DIV(),\n",
    "    ~RS_TF(),\n",
    "    ~RS_TF_IDF(),\n",
    "    ~RS_BM25(),\n",
    "    ~RS_PL2(),\n",
    "    ~RS_QL(),\n",
    "    ~TFC1(),\n",
    "    ~TFC3(),\n",
    "    ~M_TDC(),\n",
    "    ~LEN_M_TDC(),\n",
    "    # ~STMC1(),  # Rather slow due many similarity calculations.\n",
    "    # ~STMC1_f(),  # Rather slow due many similarity calculations.\n",
    "    ~STMC2(),\n",
    "    ~STMC2_f(),\n",
    "]"
   ],
   "metadata": {
    "collapsed": false,
    "pycharm": {
     "name": "#%%\n"
    }
   }
  },
  {
   "cell_type": "code",
   "execution_count": 8,
   "outputs": [],
   "source": [
    "from ir_axioms.backend.pyterrier.transformers import AggregatedAxiomaticPreference\n",
    "\n",
    "pipeline_features = (\n",
    "        ~(\n",
    "                pipeline_bm25 >>\n",
    "                AggregatedAxiomaticPreference(\n",
    "                    axioms=axioms,\n",
    "                    index=index,\n",
    "                    dataset=dataset_name,\n",
    "                    verbose=True\n",
    "                )\n",
    "        ) ^\n",
    "        ~(\n",
    "                pipeline_bm25 >>\n",
    "                AggregatedAxiomaticPreference(\n",
    "                    axioms=axioms,\n",
    "                    index=index,\n",
    "                    aggregation=min,\n",
    "                    dataset=dataset_name,\n",
    "                    verbose=True\n",
    "                )\n",
    "        ) ^\n",
    "        ~(\n",
    "                pipeline_bm25 >>\n",
    "                AggregatedAxiomaticPreference(\n",
    "                    axioms=axioms,\n",
    "                    index=index,\n",
    "                    aggregation=max,\n",
    "                    dataset=dataset_name,\n",
    "                    verbose=True\n",
    "                )\n",
    "        )\n",
    ")\n"
   ],
   "metadata": {
    "collapsed": false,
    "pycharm": {
     "name": "#%%\n"
    }
   }
  },
  {
   "cell_type": "code",
   "execution_count": 9,
   "outputs": [
    {
     "data": {
      "text/plain": "Aggregating query axiom preferences:   0%|          | 0/198 [00:00<?, ?query/s]",
      "application/vnd.jupyter.widget-view+json": {
       "version_major": 2,
       "version_minor": 0,
       "model_id": "0df602fc9c7d4527a3c9b704dc09cb1f"
      }
     },
     "metadata": {},
     "output_type": "display_data"
    },
    {
     "data": {
      "text/plain": "Aggregating query axiom preferences:   0%|          | 0/198 [00:00<?, ?query/s]",
      "application/vnd.jupyter.widget-view+json": {
       "version_major": 2,
       "version_minor": 0,
       "model_id": "c3b0e41986f74ea3b65c908111391dcc"
      }
     },
     "metadata": {},
     "output_type": "display_data"
    },
    {
     "data": {
      "text/plain": "Aggregating query axiom preferences:   0%|          | 0/198 [00:00<?, ?query/s]",
      "application/vnd.jupyter.widget-view+json": {
       "version_major": 2,
       "version_minor": 0,
       "model_id": "8d493c66cac34b9099c7f3dfbdfd516e"
      }
     },
     "metadata": {},
     "output_type": "display_data"
    },
    {
     "data": {
      "text/plain": "         qid   docid       docno      score  \\\n1370  100653  237982   3186954_1  35.079615   \n1371  100653   61554    221513_0  34.879853   \n1372  100653   49847   2335842_1  34.858617   \n1374  100653  403508   1000063_0  32.890428   \n1373  100653  151703   1948316_0  32.890428   \n...      ...     ...         ...        ...   \n2807  953489  152644  2561964_12  17.755551   \n2808  953489  262300   3886596_5  17.755551   \n2809  953489  313444   1101362_2  17.532370   \n2810  953489  295968   4096165_6  17.495717   \n2811  953489  258947   3462932_2  17.400187   \n\n                                                  query  \\\n1370  how do i go about getting copies of letters of...   \n1371  how do i go about getting copies of letters of...   \n1372  how do i go about getting copies of letters of...   \n1374  how do i go about getting copies of letters of...   \n1373  how do i go about getting copies of letters of...   \n...                                                 ...   \n2807  why do i have to dumb myself down all the time...   \n2808  why do i have to dumb myself down all the time...   \n2809  why do i have to dumb myself down all the time...   \n2810  why do i have to dumb myself down all the time...   \n2811  why do i have to dumb myself down all the time...   \n\n                                               features  rank  \n1370  [0, 0, 0, -1, 15, 15, 0, 0, 0, 0, 0, 0, 0, -2,...     0  \n1371  [1, 0, 1, -1, 11, 11, 0, 0, 0, 0, 0, 0, 0, -2,...     1  \n1372  [1, 0, 2, 8, 1, 1, 0, 0, 0, 0, 0, 0, 0, 18, 3,...     2  \n1374  [0, 0, 1, -1, 6, 6, 0, 0, 0, 0, 0, 0, 0, -2, 0...     3  \n1373  [0, 0, -1, -1, 15, 15, 0, 0, 0, 0, 0, 0, 0, -2...     4  \n...                                                 ...   ...  \n2807  [0, 0, 0, 9, 1, 2, 0, 0, 0, 0, -9, 0, 0, 1, 0,...    15  \n2808  [0, 0, -3, 9, 1, 0, 0, 0, 0, 0, -9, 0, 0, 1, 0...    16  \n2809  [0, 0, 2, 0, 2, 0, 0, 0, 0, 0, 5, 0, 0, 1, 0, ...    17  \n2810  [0, 0, 0, 0, -5, -6, 0, 0, 0, 0, 3, 0, 0, 1, 0...    18  \n2811  [0, 0, 0, 10, 0, 0, 0, 0, 0, 0, -9, 0, 0, 1, 0...    19  \n\n[3882 rows x 7 columns]",
      "text/html": "<div>\n<style scoped>\n    .dataframe tbody tr th:only-of-type {\n        vertical-align: middle;\n    }\n\n    .dataframe tbody tr th {\n        vertical-align: top;\n    }\n\n    .dataframe thead th {\n        text-align: right;\n    }\n</style>\n<table border=\"1\" class=\"dataframe\">\n  <thead>\n    <tr style=\"text-align: right;\">\n      <th></th>\n      <th>qid</th>\n      <th>docid</th>\n      <th>docno</th>\n      <th>score</th>\n      <th>query</th>\n      <th>features</th>\n      <th>rank</th>\n    </tr>\n  </thead>\n  <tbody>\n    <tr>\n      <th>1370</th>\n      <td>100653</td>\n      <td>237982</td>\n      <td>3186954_1</td>\n      <td>35.079615</td>\n      <td>how do i go about getting copies of letters of...</td>\n      <td>[0, 0, 0, -1, 15, 15, 0, 0, 0, 0, 0, 0, 0, -2,...</td>\n      <td>0</td>\n    </tr>\n    <tr>\n      <th>1371</th>\n      <td>100653</td>\n      <td>61554</td>\n      <td>221513_0</td>\n      <td>34.879853</td>\n      <td>how do i go about getting copies of letters of...</td>\n      <td>[1, 0, 1, -1, 11, 11, 0, 0, 0, 0, 0, 0, 0, -2,...</td>\n      <td>1</td>\n    </tr>\n    <tr>\n      <th>1372</th>\n      <td>100653</td>\n      <td>49847</td>\n      <td>2335842_1</td>\n      <td>34.858617</td>\n      <td>how do i go about getting copies of letters of...</td>\n      <td>[1, 0, 2, 8, 1, 1, 0, 0, 0, 0, 0, 0, 0, 18, 3,...</td>\n      <td>2</td>\n    </tr>\n    <tr>\n      <th>1374</th>\n      <td>100653</td>\n      <td>403508</td>\n      <td>1000063_0</td>\n      <td>32.890428</td>\n      <td>how do i go about getting copies of letters of...</td>\n      <td>[0, 0, 1, -1, 6, 6, 0, 0, 0, 0, 0, 0, 0, -2, 0...</td>\n      <td>3</td>\n    </tr>\n    <tr>\n      <th>1373</th>\n      <td>100653</td>\n      <td>151703</td>\n      <td>1948316_0</td>\n      <td>32.890428</td>\n      <td>how do i go about getting copies of letters of...</td>\n      <td>[0, 0, -1, -1, 15, 15, 0, 0, 0, 0, 0, 0, 0, -2...</td>\n      <td>4</td>\n    </tr>\n    <tr>\n      <th>...</th>\n      <td>...</td>\n      <td>...</td>\n      <td>...</td>\n      <td>...</td>\n      <td>...</td>\n      <td>...</td>\n      <td>...</td>\n    </tr>\n    <tr>\n      <th>2807</th>\n      <td>953489</td>\n      <td>152644</td>\n      <td>2561964_12</td>\n      <td>17.755551</td>\n      <td>why do i have to dumb myself down all the time...</td>\n      <td>[0, 0, 0, 9, 1, 2, 0, 0, 0, 0, -9, 0, 0, 1, 0,...</td>\n      <td>15</td>\n    </tr>\n    <tr>\n      <th>2808</th>\n      <td>953489</td>\n      <td>262300</td>\n      <td>3886596_5</td>\n      <td>17.755551</td>\n      <td>why do i have to dumb myself down all the time...</td>\n      <td>[0, 0, -3, 9, 1, 0, 0, 0, 0, 0, -9, 0, 0, 1, 0...</td>\n      <td>16</td>\n    </tr>\n    <tr>\n      <th>2809</th>\n      <td>953489</td>\n      <td>313444</td>\n      <td>1101362_2</td>\n      <td>17.532370</td>\n      <td>why do i have to dumb myself down all the time...</td>\n      <td>[0, 0, 2, 0, 2, 0, 0, 0, 0, 0, 5, 0, 0, 1, 0, ...</td>\n      <td>17</td>\n    </tr>\n    <tr>\n      <th>2810</th>\n      <td>953489</td>\n      <td>295968</td>\n      <td>4096165_6</td>\n      <td>17.495717</td>\n      <td>why do i have to dumb myself down all the time...</td>\n      <td>[0, 0, 0, 0, -5, -6, 0, 0, 0, 0, 3, 0, 0, 1, 0...</td>\n      <td>18</td>\n    </tr>\n    <tr>\n      <th>2811</th>\n      <td>953489</td>\n      <td>258947</td>\n      <td>3462932_2</td>\n      <td>17.400187</td>\n      <td>why do i have to dumb myself down all the time...</td>\n      <td>[0, 0, 0, 10, 0, 0, 0, 0, 0, 0, -9, 0, 0, 1, 0...</td>\n      <td>19</td>\n    </tr>\n  </tbody>\n</table>\n<p>3882 rows × 7 columns</p>\n</div>"
     },
     "execution_count": 9,
     "metadata": {},
     "output_type": "execute_result"
    }
   ],
   "source": [
    "pipeline_features.transform(dataset_test.get_topics())"
   ],
   "metadata": {
    "collapsed": false,
    "pycharm": {
     "name": "#%%\n"
    }
   }
  },
  {
   "cell_type": "code",
   "execution_count": 10,
   "outputs": [
    {
     "data": {
      "text/plain": "Aggregating query axiom preferences:   0%|          | 0/2413 [00:00<?, ?query/s]",
      "application/vnd.jupyter.widget-view+json": {
       "version_major": 2,
       "version_minor": 0,
       "model_id": "4857ae9138184eac9cae480279de6a11"
      }
     },
     "metadata": {},
     "output_type": "display_data"
    },
    {
     "ename": "KeyboardInterrupt",
     "evalue": "",
     "output_type": "error",
     "traceback": [
      "\u001B[0;31m---------------------------------------------------------------------------\u001B[0m",
      "\u001B[0;31mKeyboardInterrupt\u001B[0m                         Traceback (most recent call last)",
      "Input \u001B[0;32mIn [10]\u001B[0m, in \u001B[0;36m<module>\u001B[0;34m\u001B[0m\n\u001B[1;32m      5\u001B[0m random_forest \u001B[38;5;241m=\u001B[39m RandomForestRegressor(n_estimators\u001B[38;5;241m=\u001B[39m\u001B[38;5;241m400\u001B[39m)\n\u001B[1;32m      6\u001B[0m pipeline_random_forest \u001B[38;5;241m=\u001B[39m pipeline_features \u001B[38;5;241m>>\u001B[39m apply_learned_model(random_forest)\n\u001B[0;32m----> 7\u001B[0m \u001B[43mpipeline_random_forest\u001B[49m\u001B[38;5;241;43m.\u001B[39;49m\u001B[43mfit\u001B[49m\u001B[43m(\u001B[49m\n\u001B[1;32m      8\u001B[0m \u001B[43m    \u001B[49m\u001B[43mdataset_train\u001B[49m\u001B[38;5;241;43m.\u001B[39;49m\u001B[43mget_topics\u001B[49m\u001B[43m(\u001B[49m\u001B[43m)\u001B[49m\u001B[43m,\u001B[49m\n\u001B[1;32m      9\u001B[0m \u001B[43m    \u001B[49m\u001B[43mdataset_train\u001B[49m\u001B[38;5;241;43m.\u001B[39;49m\u001B[43mget_qrels\u001B[49m\u001B[43m(\u001B[49m\u001B[43m)\u001B[49m\n\u001B[1;32m     10\u001B[0m \u001B[43m)\u001B[49m\n",
      "File \u001B[0;32m~/Development/webis/ir_axioms/venv/lib/python3.9/site-packages/pyterrier/transformer.py:892\u001B[0m, in \u001B[0;36mComposedPipeline.fit\u001B[0;34m(self, topics_or_res_tr, qrels_tr, topics_or_res_va, qrels_va)\u001B[0m\n\u001B[1;32m    890\u001B[0m     m\u001B[38;5;241m.\u001B[39mfit(topics_or_res_tr, qrels_tr, topics_or_res_va, qrels_va)\n\u001B[1;32m    891\u001B[0m \u001B[38;5;28;01melse\u001B[39;00m:\n\u001B[0;32m--> 892\u001B[0m     topics_or_res_tr \u001B[38;5;241m=\u001B[39m \u001B[43mm\u001B[49m\u001B[38;5;241;43m.\u001B[39;49m\u001B[43mtransform\u001B[49m\u001B[43m(\u001B[49m\u001B[43mtopics_or_res_tr\u001B[49m\u001B[43m)\u001B[49m\n\u001B[1;32m    893\u001B[0m     \u001B[38;5;66;03m# validation is optional for some learners\u001B[39;00m\n\u001B[1;32m    894\u001B[0m     \u001B[38;5;28;01mif\u001B[39;00m topics_or_res_va \u001B[38;5;129;01mis\u001B[39;00m \u001B[38;5;129;01mnot\u001B[39;00m \u001B[38;5;28;01mNone\u001B[39;00m:\n",
      "File \u001B[0;32m~/Development/webis/ir_axioms/venv/lib/python3.9/site-packages/pyterrier/transformer.py:511\u001B[0m, in \u001B[0;36mConcatenateTransformer.transform\u001B[0;34m(self, topics_and_res)\u001B[0m\n\u001B[1;32m    509\u001B[0m \u001B[38;5;28;01mimport\u001B[39;00m \u001B[38;5;21;01mpandas\u001B[39;00m \u001B[38;5;28;01mas\u001B[39;00m \u001B[38;5;21;01mpd\u001B[39;00m\n\u001B[1;32m    510\u001B[0m \u001B[38;5;66;03m# take the first set as the top of the ranking\u001B[39;00m\n\u001B[0;32m--> 511\u001B[0m res1 \u001B[38;5;241m=\u001B[39m \u001B[38;5;28;43mself\u001B[39;49m\u001B[38;5;241;43m.\u001B[39;49m\u001B[43mleft\u001B[49m\u001B[38;5;241;43m.\u001B[39;49m\u001B[43mtransform\u001B[49m\u001B[43m(\u001B[49m\u001B[43mtopics_and_res\u001B[49m\u001B[43m)\u001B[49m\n\u001B[1;32m    512\u001B[0m \u001B[38;5;66;03m# identify the lowest score for each query\u001B[39;00m\n\u001B[1;32m    513\u001B[0m last_scores \u001B[38;5;241m=\u001B[39m res1[[\u001B[38;5;124m'\u001B[39m\u001B[38;5;124mqid\u001B[39m\u001B[38;5;124m'\u001B[39m, \u001B[38;5;124m'\u001B[39m\u001B[38;5;124mscore\u001B[39m\u001B[38;5;124m'\u001B[39m]]\u001B[38;5;241m.\u001B[39mgroupby(\u001B[38;5;124m'\u001B[39m\u001B[38;5;124mqid\u001B[39m\u001B[38;5;124m'\u001B[39m)\u001B[38;5;241m.\u001B[39mmin()\u001B[38;5;241m.\u001B[39mrename(columns\u001B[38;5;241m=\u001B[39m{\u001B[38;5;124m\"\u001B[39m\u001B[38;5;124mscore\u001B[39m\u001B[38;5;124m\"\u001B[39m : \u001B[38;5;124m\"\u001B[39m\u001B[38;5;124m_lastscore\u001B[39m\u001B[38;5;124m\"\u001B[39m})\n",
      "File \u001B[0;32m~/Development/webis/ir_axioms/venv/lib/python3.9/site-packages/pyterrier/transformer.py:511\u001B[0m, in \u001B[0;36mConcatenateTransformer.transform\u001B[0;34m(self, topics_and_res)\u001B[0m\n\u001B[1;32m    509\u001B[0m \u001B[38;5;28;01mimport\u001B[39;00m \u001B[38;5;21;01mpandas\u001B[39;00m \u001B[38;5;28;01mas\u001B[39;00m \u001B[38;5;21;01mpd\u001B[39;00m\n\u001B[1;32m    510\u001B[0m \u001B[38;5;66;03m# take the first set as the top of the ranking\u001B[39;00m\n\u001B[0;32m--> 511\u001B[0m res1 \u001B[38;5;241m=\u001B[39m \u001B[38;5;28;43mself\u001B[39;49m\u001B[38;5;241;43m.\u001B[39;49m\u001B[43mleft\u001B[49m\u001B[38;5;241;43m.\u001B[39;49m\u001B[43mtransform\u001B[49m\u001B[43m(\u001B[49m\u001B[43mtopics_and_res\u001B[49m\u001B[43m)\u001B[49m\n\u001B[1;32m    512\u001B[0m \u001B[38;5;66;03m# identify the lowest score for each query\u001B[39;00m\n\u001B[1;32m    513\u001B[0m last_scores \u001B[38;5;241m=\u001B[39m res1[[\u001B[38;5;124m'\u001B[39m\u001B[38;5;124mqid\u001B[39m\u001B[38;5;124m'\u001B[39m, \u001B[38;5;124m'\u001B[39m\u001B[38;5;124mscore\u001B[39m\u001B[38;5;124m'\u001B[39m]]\u001B[38;5;241m.\u001B[39mgroupby(\u001B[38;5;124m'\u001B[39m\u001B[38;5;124mqid\u001B[39m\u001B[38;5;124m'\u001B[39m)\u001B[38;5;241m.\u001B[39mmin()\u001B[38;5;241m.\u001B[39mrename(columns\u001B[38;5;241m=\u001B[39m{\u001B[38;5;124m\"\u001B[39m\u001B[38;5;124mscore\u001B[39m\u001B[38;5;124m\"\u001B[39m : \u001B[38;5;124m\"\u001B[39m\u001B[38;5;124m_lastscore\u001B[39m\u001B[38;5;124m\"\u001B[39m})\n",
      "File \u001B[0;32m~/Development/webis/ir_axioms/venv/lib/python3.9/site-packages/pyterrier/cache.py:146\u001B[0m, in \u001B[0;36mChestCacheTransformer.transform\u001B[0;34m(self, input_res)\u001B[0m\n\u001B[1;32m    144\u001B[0m \u001B[38;5;28;01mif\u001B[39;00m \u001B[38;5;124m\"\u001B[39m\u001B[38;5;124mdocid\u001B[39m\u001B[38;5;124m\"\u001B[39m \u001B[38;5;129;01min\u001B[39;00m input_res\u001B[38;5;241m.\u001B[39mcolumns \u001B[38;5;129;01mor\u001B[39;00m \u001B[38;5;124m\"\u001B[39m\u001B[38;5;124mdocno\u001B[39m\u001B[38;5;124m\"\u001B[39m \u001B[38;5;129;01min\u001B[39;00m input_res\u001B[38;5;241m.\u001B[39mcolumns:\n\u001B[1;32m    145\u001B[0m     \u001B[38;5;28;01mraise\u001B[39;00m \u001B[38;5;167;01mValueError\u001B[39;00m(\u001B[38;5;124m\"\u001B[39m\u001B[38;5;124mCaching of \u001B[39m\u001B[38;5;132;01m%s\u001B[39;00m\u001B[38;5;124m for re-ranking is not supported. Caching currently only supports input dataframes with queries as inputs and cannot be used for re-rankers.\u001B[39m\u001B[38;5;124m\"\u001B[39m \u001B[38;5;241m%\u001B[39m \u001B[38;5;28mself\u001B[39m\u001B[38;5;241m.\u001B[39minner\u001B[38;5;241m.\u001B[39m\u001B[38;5;21m__repr__\u001B[39m())\n\u001B[0;32m--> 146\u001B[0m \u001B[38;5;28;01mreturn\u001B[39;00m \u001B[38;5;28;43mself\u001B[39;49m\u001B[38;5;241;43m.\u001B[39;49m\u001B[43m_transform_qid\u001B[49m\u001B[43m(\u001B[49m\u001B[43minput_res\u001B[49m\u001B[43m)\u001B[49m\n",
      "File \u001B[0;32m~/Development/webis/ir_axioms/venv/lib/python3.9/site-packages/pyterrier/cache.py:170\u001B[0m, in \u001B[0;36mChestCacheTransformer._transform_qid\u001B[0;34m(self, input_res)\u001B[0m\n\u001B[1;32m    168\u001B[0m \u001B[38;5;28;01mif\u001B[39;00m \u001B[38;5;28mlen\u001B[39m(todo) \u001B[38;5;241m>\u001B[39m \u001B[38;5;241m0\u001B[39m:\n\u001B[1;32m    169\u001B[0m     todo_df \u001B[38;5;241m=\u001B[39m pd\u001B[38;5;241m.\u001B[39mconcat(todo)\n\u001B[0;32m--> 170\u001B[0m     todo_res \u001B[38;5;241m=\u001B[39m \u001B[38;5;28;43mself\u001B[39;49m\u001B[38;5;241;43m.\u001B[39;49m\u001B[43minner\u001B[49m\u001B[38;5;241;43m.\u001B[39;49m\u001B[43mtransform\u001B[49m\u001B[43m(\u001B[49m\u001B[43mtodo_df\u001B[49m\u001B[43m)\u001B[49m\n\u001B[1;32m    171\u001B[0m     \u001B[38;5;28;01mfor\u001B[39;00m row \u001B[38;5;129;01min\u001B[39;00m todo_df\u001B[38;5;241m.\u001B[39mitertuples():\n\u001B[1;32m    172\u001B[0m         qid \u001B[38;5;241m=\u001B[39m row\u001B[38;5;241m.\u001B[39mqid\n",
      "File \u001B[0;32m~/Development/webis/ir_axioms/venv/lib/python3.9/site-packages/pyterrier/transformer.py:879\u001B[0m, in \u001B[0;36mComposedPipeline.transform\u001B[0;34m(self, topics)\u001B[0m\n\u001B[1;32m    877\u001B[0m \u001B[38;5;28;01mdef\u001B[39;00m \u001B[38;5;21mtransform\u001B[39m(\u001B[38;5;28mself\u001B[39m, topics):\n\u001B[1;32m    878\u001B[0m     \u001B[38;5;28;01mfor\u001B[39;00m m \u001B[38;5;129;01min\u001B[39;00m \u001B[38;5;28mself\u001B[39m\u001B[38;5;241m.\u001B[39mmodels:\n\u001B[0;32m--> 879\u001B[0m         topics \u001B[38;5;241m=\u001B[39m \u001B[43mm\u001B[49m\u001B[38;5;241;43m.\u001B[39;49m\u001B[43mtransform\u001B[49m\u001B[43m(\u001B[49m\u001B[43mtopics\u001B[49m\u001B[43m)\u001B[49m\n\u001B[1;32m    880\u001B[0m     \u001B[38;5;28;01mreturn\u001B[39;00m topics\n",
      "File \u001B[0;32m~/Development/webis/ir_axioms/ir_axioms/backend/pyterrier/transformers.py:61\u001B[0m, in \u001B[0;36mPerGroupTransformer.transform\u001B[0;34m(self, topics_or_res)\u001B[0m\n\u001B[1;32m     55\u001B[0m \u001B[38;5;28;01mif\u001B[39;00m \u001B[38;5;28mself\u001B[39m\u001B[38;5;241m.\u001B[39mverbose:\n\u001B[1;32m     56\u001B[0m     \u001B[38;5;66;03m# Show progress during reranking queries.\u001B[39;00m\n\u001B[1;32m     57\u001B[0m     tqdm\u001B[38;5;241m.\u001B[39mpandas(\n\u001B[1;32m     58\u001B[0m         desc\u001B[38;5;241m=\u001B[39m\u001B[38;5;28mself\u001B[39m\u001B[38;5;241m.\u001B[39mdescription,\n\u001B[1;32m     59\u001B[0m         unit\u001B[38;5;241m=\u001B[39m\u001B[38;5;28mself\u001B[39m\u001B[38;5;241m.\u001B[39munit,\n\u001B[1;32m     60\u001B[0m     )\n\u001B[0;32m---> 61\u001B[0m     query_rankings \u001B[38;5;241m=\u001B[39m \u001B[43mquery_rankings\u001B[49m\u001B[38;5;241;43m.\u001B[39;49m\u001B[43mprogress_apply\u001B[49m\u001B[43m(\u001B[49m\n\u001B[1;32m     62\u001B[0m \u001B[43m        \u001B[49m\u001B[38;5;28;43mself\u001B[39;49m\u001B[38;5;241;43m.\u001B[39;49m\u001B[43mtransform_group\u001B[49m\n\u001B[1;32m     63\u001B[0m \u001B[43m    \u001B[49m\u001B[43m)\u001B[49m\n\u001B[1;32m     64\u001B[0m \u001B[38;5;28;01melse\u001B[39;00m:\n\u001B[1;32m     65\u001B[0m     query_rankings \u001B[38;5;241m=\u001B[39m query_rankings\u001B[38;5;241m.\u001B[39mapply(\u001B[38;5;28mself\u001B[39m\u001B[38;5;241m.\u001B[39mtransform_group)\n",
      "File \u001B[0;32m~/Development/webis/ir_axioms/venv/lib/python3.9/site-packages/tqdm/std.py:814\u001B[0m, in \u001B[0;36mtqdm.pandas.<locals>.inner_generator.<locals>.inner\u001B[0;34m(df, func, *args, **kwargs)\u001B[0m\n\u001B[1;32m    811\u001B[0m \u001B[38;5;66;03m# Apply the provided function (in **kwargs)\u001B[39;00m\n\u001B[1;32m    812\u001B[0m \u001B[38;5;66;03m# on the df using our wrapper (which provides bar updating)\u001B[39;00m\n\u001B[1;32m    813\u001B[0m \u001B[38;5;28;01mtry\u001B[39;00m:\n\u001B[0;32m--> 814\u001B[0m     \u001B[38;5;28;01mreturn\u001B[39;00m \u001B[38;5;28;43mgetattr\u001B[39;49m\u001B[43m(\u001B[49m\u001B[43mdf\u001B[49m\u001B[43m,\u001B[49m\u001B[43m \u001B[49m\u001B[43mdf_function\u001B[49m\u001B[43m)\u001B[49m\u001B[43m(\u001B[49m\u001B[43mwrapper\u001B[49m\u001B[43m,\u001B[49m\u001B[43m \u001B[49m\u001B[38;5;241;43m*\u001B[39;49m\u001B[38;5;241;43m*\u001B[39;49m\u001B[43mkwargs\u001B[49m\u001B[43m)\u001B[49m\n\u001B[1;32m    815\u001B[0m \u001B[38;5;28;01mfinally\u001B[39;00m:\n\u001B[1;32m    816\u001B[0m     t\u001B[38;5;241m.\u001B[39mclose()\n",
      "File \u001B[0;32m~/Development/webis/ir_axioms/venv/lib/python3.9/site-packages/pandas/core/groupby/groupby.py:1414\u001B[0m, in \u001B[0;36mGroupBy.apply\u001B[0;34m(self, func, *args, **kwargs)\u001B[0m\n\u001B[1;32m   1412\u001B[0m \u001B[38;5;28;01mwith\u001B[39;00m option_context(\u001B[38;5;124m\"\u001B[39m\u001B[38;5;124mmode.chained_assignment\u001B[39m\u001B[38;5;124m\"\u001B[39m, \u001B[38;5;28;01mNone\u001B[39;00m):\n\u001B[1;32m   1413\u001B[0m     \u001B[38;5;28;01mtry\u001B[39;00m:\n\u001B[0;32m-> 1414\u001B[0m         result \u001B[38;5;241m=\u001B[39m \u001B[38;5;28;43mself\u001B[39;49m\u001B[38;5;241;43m.\u001B[39;49m\u001B[43m_python_apply_general\u001B[49m\u001B[43m(\u001B[49m\u001B[43mf\u001B[49m\u001B[43m,\u001B[49m\u001B[43m \u001B[49m\u001B[38;5;28;43mself\u001B[39;49m\u001B[38;5;241;43m.\u001B[39;49m\u001B[43m_selected_obj\u001B[49m\u001B[43m)\u001B[49m\n\u001B[1;32m   1415\u001B[0m     \u001B[38;5;28;01mexcept\u001B[39;00m \u001B[38;5;167;01mTypeError\u001B[39;00m:\n\u001B[1;32m   1416\u001B[0m         \u001B[38;5;66;03m# gh-20949\u001B[39;00m\n\u001B[1;32m   1417\u001B[0m         \u001B[38;5;66;03m# try again, with .apply acting as a filtering\u001B[39;00m\n\u001B[0;32m   (...)\u001B[0m\n\u001B[1;32m   1421\u001B[0m         \u001B[38;5;66;03m# fails on *some* columns, e.g. a numeric operation\u001B[39;00m\n\u001B[1;32m   1422\u001B[0m         \u001B[38;5;66;03m# on a string grouper column\u001B[39;00m\n\u001B[1;32m   1424\u001B[0m         \u001B[38;5;28;01mwith\u001B[39;00m \u001B[38;5;28mself\u001B[39m\u001B[38;5;241m.\u001B[39m_group_selection_context():\n",
      "File \u001B[0;32m~/Development/webis/ir_axioms/venv/lib/python3.9/site-packages/pandas/core/groupby/groupby.py:1455\u001B[0m, in \u001B[0;36mGroupBy._python_apply_general\u001B[0;34m(self, f, data, not_indexed_same)\u001B[0m\n\u001B[1;32m   1429\u001B[0m \u001B[38;5;129m@final\u001B[39m\n\u001B[1;32m   1430\u001B[0m \u001B[38;5;28;01mdef\u001B[39;00m \u001B[38;5;21m_python_apply_general\u001B[39m(\n\u001B[1;32m   1431\u001B[0m     \u001B[38;5;28mself\u001B[39m,\n\u001B[0;32m   (...)\u001B[0m\n\u001B[1;32m   1434\u001B[0m     not_indexed_same: \u001B[38;5;28mbool\u001B[39m \u001B[38;5;241m|\u001B[39m \u001B[38;5;28;01mNone\u001B[39;00m \u001B[38;5;241m=\u001B[39m \u001B[38;5;28;01mNone\u001B[39;00m,\n\u001B[1;32m   1435\u001B[0m ) \u001B[38;5;241m-\u001B[39m\u001B[38;5;241m>\u001B[39m DataFrame \u001B[38;5;241m|\u001B[39m Series:\n\u001B[1;32m   1436\u001B[0m     \u001B[38;5;124;03m\"\"\"\u001B[39;00m\n\u001B[1;32m   1437\u001B[0m \u001B[38;5;124;03m    Apply function f in python space\u001B[39;00m\n\u001B[1;32m   1438\u001B[0m \n\u001B[0;32m   (...)\u001B[0m\n\u001B[1;32m   1453\u001B[0m \u001B[38;5;124;03m        data after applying f\u001B[39;00m\n\u001B[1;32m   1454\u001B[0m \u001B[38;5;124;03m    \"\"\"\u001B[39;00m\n\u001B[0;32m-> 1455\u001B[0m     values, mutated \u001B[38;5;241m=\u001B[39m \u001B[38;5;28;43mself\u001B[39;49m\u001B[38;5;241;43m.\u001B[39;49m\u001B[43mgrouper\u001B[49m\u001B[38;5;241;43m.\u001B[39;49m\u001B[43mapply\u001B[49m\u001B[43m(\u001B[49m\u001B[43mf\u001B[49m\u001B[43m,\u001B[49m\u001B[43m \u001B[49m\u001B[43mdata\u001B[49m\u001B[43m,\u001B[49m\u001B[43m \u001B[49m\u001B[38;5;28;43mself\u001B[39;49m\u001B[38;5;241;43m.\u001B[39;49m\u001B[43maxis\u001B[49m\u001B[43m)\u001B[49m\n\u001B[1;32m   1457\u001B[0m     \u001B[38;5;28;01mif\u001B[39;00m not_indexed_same \u001B[38;5;129;01mis\u001B[39;00m \u001B[38;5;28;01mNone\u001B[39;00m:\n\u001B[1;32m   1458\u001B[0m         not_indexed_same \u001B[38;5;241m=\u001B[39m mutated \u001B[38;5;129;01mor\u001B[39;00m \u001B[38;5;28mself\u001B[39m\u001B[38;5;241m.\u001B[39mmutated\n",
      "File \u001B[0;32m~/Development/webis/ir_axioms/venv/lib/python3.9/site-packages/pandas/core/groupby/ops.py:761\u001B[0m, in \u001B[0;36mBaseGrouper.apply\u001B[0;34m(self, f, data, axis)\u001B[0m\n\u001B[1;32m    759\u001B[0m \u001B[38;5;66;03m# group might be modified\u001B[39;00m\n\u001B[1;32m    760\u001B[0m group_axes \u001B[38;5;241m=\u001B[39m group\u001B[38;5;241m.\u001B[39maxes\n\u001B[0;32m--> 761\u001B[0m res \u001B[38;5;241m=\u001B[39m \u001B[43mf\u001B[49m\u001B[43m(\u001B[49m\u001B[43mgroup\u001B[49m\u001B[43m)\u001B[49m\n\u001B[1;32m    762\u001B[0m \u001B[38;5;28;01mif\u001B[39;00m \u001B[38;5;129;01mnot\u001B[39;00m mutated \u001B[38;5;129;01mand\u001B[39;00m \u001B[38;5;129;01mnot\u001B[39;00m _is_indexed_like(res, group_axes, axis):\n\u001B[1;32m    763\u001B[0m     mutated \u001B[38;5;241m=\u001B[39m \u001B[38;5;28;01mTrue\u001B[39;00m\n",
      "File \u001B[0;32m~/Development/webis/ir_axioms/venv/lib/python3.9/site-packages/tqdm/std.py:809\u001B[0m, in \u001B[0;36mtqdm.pandas.<locals>.inner_generator.<locals>.inner.<locals>.wrapper\u001B[0;34m(*args, **kwargs)\u001B[0m\n\u001B[1;32m    803\u001B[0m \u001B[38;5;28;01mdef\u001B[39;00m \u001B[38;5;21mwrapper\u001B[39m(\u001B[38;5;241m*\u001B[39margs, \u001B[38;5;241m*\u001B[39m\u001B[38;5;241m*\u001B[39mkwargs):\n\u001B[1;32m    804\u001B[0m     \u001B[38;5;66;03m# update tbar correctly\u001B[39;00m\n\u001B[1;32m    805\u001B[0m     \u001B[38;5;66;03m# it seems `pandas apply` calls `func` twice\u001B[39;00m\n\u001B[1;32m    806\u001B[0m     \u001B[38;5;66;03m# on the first column/row to decide whether it can\u001B[39;00m\n\u001B[1;32m    807\u001B[0m     \u001B[38;5;66;03m# take a fast or slow code path; so stop when t.total==t.n\u001B[39;00m\n\u001B[1;32m    808\u001B[0m     t\u001B[38;5;241m.\u001B[39mupdate(n\u001B[38;5;241m=\u001B[39m\u001B[38;5;241m1\u001B[39m \u001B[38;5;28;01mif\u001B[39;00m \u001B[38;5;129;01mnot\u001B[39;00m t\u001B[38;5;241m.\u001B[39mtotal \u001B[38;5;129;01mor\u001B[39;00m t\u001B[38;5;241m.\u001B[39mn \u001B[38;5;241m<\u001B[39m t\u001B[38;5;241m.\u001B[39mtotal \u001B[38;5;28;01melse\u001B[39;00m \u001B[38;5;241m0\u001B[39m)\n\u001B[0;32m--> 809\u001B[0m     \u001B[38;5;28;01mreturn\u001B[39;00m \u001B[43mfunc\u001B[49m\u001B[43m(\u001B[49m\u001B[38;5;241;43m*\u001B[39;49m\u001B[43margs\u001B[49m\u001B[43m,\u001B[49m\u001B[43m \u001B[49m\u001B[38;5;241;43m*\u001B[39;49m\u001B[38;5;241;43m*\u001B[39;49m\u001B[43mkwargs\u001B[49m\u001B[43m)\u001B[49m\n",
      "File \u001B[0;32m~/Development/webis/ir_axioms/ir_axioms/backend/pyterrier/transformers.py:136\u001B[0m, in \u001B[0;36mAxiomTransformer.transform_group\u001B[0;34m(self, topics_or_res)\u001B[0m\n\u001B[1;32m    126\u001B[0m \u001B[38;5;28;01melse\u001B[39;00m:\n\u001B[1;32m    127\u001B[0m     documents \u001B[38;5;241m=\u001B[39m [\n\u001B[1;32m    128\u001B[0m         RankedDocument(\n\u001B[1;32m    129\u001B[0m             \u001B[38;5;28mid\u001B[39m\u001B[38;5;241m=\u001B[39mrow[\u001B[38;5;124m\"\u001B[39m\u001B[38;5;124mdocno\u001B[39m\u001B[38;5;124m\"\u001B[39m],\n\u001B[0;32m   (...)\u001B[0m\n\u001B[1;32m    133\u001B[0m         \u001B[38;5;28;01mfor\u001B[39;00m index, row \u001B[38;5;129;01min\u001B[39;00m topics_or_res\u001B[38;5;241m.\u001B[39miterrows()\n\u001B[1;32m    134\u001B[0m     ]\n\u001B[0;32m--> 136\u001B[0m \u001B[38;5;28;01mreturn\u001B[39;00m \u001B[38;5;28;43mself\u001B[39;49m\u001B[38;5;241;43m.\u001B[39;49m\u001B[43mtransform_query_ranking\u001B[49m\u001B[43m(\u001B[49m\u001B[43mquery\u001B[49m\u001B[43m,\u001B[49m\u001B[43m \u001B[49m\u001B[43mdocuments\u001B[49m\u001B[43m,\u001B[49m\u001B[43m \u001B[49m\u001B[43mtopics_or_res\u001B[49m\u001B[43m)\u001B[49m\n",
      "File \u001B[0;32m~/Development/webis/ir_axioms/ir_axioms/backend/pyterrier/transformers.py:243\u001B[0m, in \u001B[0;36mAggregatedAxiomaticPreference.transform_query_ranking\u001B[0;34m(self, query, documents, topics_or_res)\u001B[0m\n\u001B[1;32m    240\u001B[0m context \u001B[38;5;241m=\u001B[39m \u001B[38;5;28mself\u001B[39m\u001B[38;5;241m.\u001B[39m_context\n\u001B[1;32m    241\u001B[0m aggregation \u001B[38;5;241m=\u001B[39m \u001B[38;5;28mself\u001B[39m\u001B[38;5;241m.\u001B[39maggregation\n\u001B[0;32m--> 243\u001B[0m aggregated_preferences \u001B[38;5;241m=\u001B[39m [\n\u001B[1;32m    244\u001B[0m     axiom\u001B[38;5;241m.\u001B[39maggregated_preference(\n\u001B[1;32m    245\u001B[0m         context,\n\u001B[1;32m    246\u001B[0m         query,\n\u001B[1;32m    247\u001B[0m         documents,\n\u001B[1;32m    248\u001B[0m         aggregation\n\u001B[1;32m    249\u001B[0m     )\n\u001B[1;32m    250\u001B[0m     \u001B[38;5;28;01mfor\u001B[39;00m axiom \u001B[38;5;129;01min\u001B[39;00m axioms\n\u001B[1;32m    251\u001B[0m ]\n\u001B[1;32m    253\u001B[0m transposed \u001B[38;5;241m=\u001B[39m \u001B[38;5;28mlist\u001B[39m(\u001B[38;5;28mmap\u001B[39m(array, \u001B[38;5;28mzip\u001B[39m(\u001B[38;5;241m*\u001B[39maggregated_preferences)))\n\u001B[1;32m    255\u001B[0m features \u001B[38;5;241m=\u001B[39m topics_or_res\n",
      "File \u001B[0;32m~/Development/webis/ir_axioms/ir_axioms/backend/pyterrier/transformers.py:244\u001B[0m, in \u001B[0;36m<listcomp>\u001B[0;34m(.0)\u001B[0m\n\u001B[1;32m    240\u001B[0m context \u001B[38;5;241m=\u001B[39m \u001B[38;5;28mself\u001B[39m\u001B[38;5;241m.\u001B[39m_context\n\u001B[1;32m    241\u001B[0m aggregation \u001B[38;5;241m=\u001B[39m \u001B[38;5;28mself\u001B[39m\u001B[38;5;241m.\u001B[39maggregation\n\u001B[1;32m    243\u001B[0m aggregated_preferences \u001B[38;5;241m=\u001B[39m [\n\u001B[0;32m--> 244\u001B[0m     \u001B[43maxiom\u001B[49m\u001B[38;5;241;43m.\u001B[39;49m\u001B[43maggregated_preference\u001B[49m\u001B[43m(\u001B[49m\n\u001B[1;32m    245\u001B[0m \u001B[43m        \u001B[49m\u001B[43mcontext\u001B[49m\u001B[43m,\u001B[49m\n\u001B[1;32m    246\u001B[0m \u001B[43m        \u001B[49m\u001B[43mquery\u001B[49m\u001B[43m,\u001B[49m\n\u001B[1;32m    247\u001B[0m \u001B[43m        \u001B[49m\u001B[43mdocuments\u001B[49m\u001B[43m,\u001B[49m\n\u001B[1;32m    248\u001B[0m \u001B[43m        \u001B[49m\u001B[43maggregation\u001B[49m\n\u001B[1;32m    249\u001B[0m \u001B[43m    \u001B[49m\u001B[43m)\u001B[49m\n\u001B[1;32m    250\u001B[0m     \u001B[38;5;28;01mfor\u001B[39;00m axiom \u001B[38;5;129;01min\u001B[39;00m axioms\n\u001B[1;32m    251\u001B[0m ]\n\u001B[1;32m    253\u001B[0m transposed \u001B[38;5;241m=\u001B[39m \u001B[38;5;28mlist\u001B[39m(\u001B[38;5;28mmap\u001B[39m(array, \u001B[38;5;28mzip\u001B[39m(\u001B[38;5;241m*\u001B[39maggregated_preferences)))\n\u001B[1;32m    255\u001B[0m features \u001B[38;5;241m=\u001B[39m topics_or_res\n",
      "File \u001B[0;32m~/Development/webis/ir_axioms/ir_axioms/axiom/base.py:252\u001B[0m, in \u001B[0;36mAxiom.aggregated_preference\u001B[0;34m(self, context, query, ranking, aggregation)\u001B[0m\n\u001B[1;32m    242\u001B[0m \u001B[38;5;129m@final\u001B[39m\n\u001B[1;32m    243\u001B[0m \u001B[38;5;28;01mdef\u001B[39;00m \u001B[38;5;21maggregated_preference\u001B[39m(\n\u001B[1;32m    244\u001B[0m         \u001B[38;5;28mself\u001B[39m,\n\u001B[0;32m   (...)\u001B[0m\n\u001B[1;32m    248\u001B[0m         aggregation: Callable[[List[\u001B[38;5;28mfloat\u001B[39m]], \u001B[38;5;28mfloat\u001B[39m]\n\u001B[1;32m    249\u001B[0m ) \u001B[38;5;241m-\u001B[39m\u001B[38;5;241m>\u001B[39m List[\u001B[38;5;28mfloat\u001B[39m]:\n\u001B[1;32m    250\u001B[0m     \u001B[38;5;28;01mreturn\u001B[39;00m [\n\u001B[1;32m    251\u001B[0m         aggregation(preferences)\n\u001B[0;32m--> 252\u001B[0m         \u001B[38;5;28;01mfor\u001B[39;00m preferences \u001B[38;5;129;01min\u001B[39;00m \u001B[38;5;28;43mself\u001B[39;49m\u001B[38;5;241;43m.\u001B[39;49m\u001B[43mpreferences\u001B[49m\u001B[43m(\u001B[49m\u001B[43mcontext\u001B[49m\u001B[43m,\u001B[49m\u001B[43m \u001B[49m\u001B[43mquery\u001B[49m\u001B[43m,\u001B[49m\u001B[43m \u001B[49m\u001B[43mranking\u001B[49m\u001B[43m)\u001B[49m\n\u001B[1;32m    253\u001B[0m     ]\n",
      "File \u001B[0;32m~/Development/webis/ir_axioms/ir_axioms/axiom/base.py:225\u001B[0m, in \u001B[0;36mAxiom.preferences\u001B[0;34m(self, context, query, ranking)\u001B[0m\n\u001B[1;32m    218\u001B[0m \u001B[38;5;129m@final\u001B[39m\n\u001B[1;32m    219\u001B[0m \u001B[38;5;28;01mdef\u001B[39;00m \u001B[38;5;21mpreferences\u001B[39m(\n\u001B[1;32m    220\u001B[0m         \u001B[38;5;28mself\u001B[39m,\n\u001B[0;32m   (...)\u001B[0m\n\u001B[1;32m    223\u001B[0m         ranking: List[RankedDocument],\n\u001B[1;32m    224\u001B[0m ) \u001B[38;5;241m-\u001B[39m\u001B[38;5;241m>\u001B[39m List[List[\u001B[38;5;28mfloat\u001B[39m]]:\n\u001B[0;32m--> 225\u001B[0m     \u001B[38;5;28;01mreturn\u001B[39;00m [\n\u001B[1;32m    226\u001B[0m         [\n\u001B[1;32m    227\u001B[0m             \u001B[38;5;28mself\u001B[39m\u001B[38;5;241m.\u001B[39mpreference(context, query, document1, document2)\n\u001B[1;32m    228\u001B[0m             \u001B[38;5;28;01mfor\u001B[39;00m document2 \u001B[38;5;129;01min\u001B[39;00m ranking\n\u001B[1;32m    229\u001B[0m         ]\n\u001B[1;32m    230\u001B[0m         \u001B[38;5;28;01mfor\u001B[39;00m document1 \u001B[38;5;129;01min\u001B[39;00m ranking\n\u001B[1;32m    231\u001B[0m     ]\n",
      "File \u001B[0;32m~/Development/webis/ir_axioms/ir_axioms/axiom/base.py:226\u001B[0m, in \u001B[0;36m<listcomp>\u001B[0;34m(.0)\u001B[0m\n\u001B[1;32m    218\u001B[0m \u001B[38;5;129m@final\u001B[39m\n\u001B[1;32m    219\u001B[0m \u001B[38;5;28;01mdef\u001B[39;00m \u001B[38;5;21mpreferences\u001B[39m(\n\u001B[1;32m    220\u001B[0m         \u001B[38;5;28mself\u001B[39m,\n\u001B[0;32m   (...)\u001B[0m\n\u001B[1;32m    223\u001B[0m         ranking: List[RankedDocument],\n\u001B[1;32m    224\u001B[0m ) \u001B[38;5;241m-\u001B[39m\u001B[38;5;241m>\u001B[39m List[List[\u001B[38;5;28mfloat\u001B[39m]]:\n\u001B[1;32m    225\u001B[0m     \u001B[38;5;28;01mreturn\u001B[39;00m [\n\u001B[0;32m--> 226\u001B[0m         [\n\u001B[1;32m    227\u001B[0m             \u001B[38;5;28mself\u001B[39m\u001B[38;5;241m.\u001B[39mpreference(context, query, document1, document2)\n\u001B[1;32m    228\u001B[0m             \u001B[38;5;28;01mfor\u001B[39;00m document2 \u001B[38;5;129;01min\u001B[39;00m ranking\n\u001B[1;32m    229\u001B[0m         ]\n\u001B[1;32m    230\u001B[0m         \u001B[38;5;28;01mfor\u001B[39;00m document1 \u001B[38;5;129;01min\u001B[39;00m ranking\n\u001B[1;32m    231\u001B[0m     ]\n",
      "File \u001B[0;32m~/Development/webis/ir_axioms/ir_axioms/axiom/base.py:227\u001B[0m, in \u001B[0;36m<listcomp>\u001B[0;34m(.0)\u001B[0m\n\u001B[1;32m    218\u001B[0m \u001B[38;5;129m@final\u001B[39m\n\u001B[1;32m    219\u001B[0m \u001B[38;5;28;01mdef\u001B[39;00m \u001B[38;5;21mpreferences\u001B[39m(\n\u001B[1;32m    220\u001B[0m         \u001B[38;5;28mself\u001B[39m,\n\u001B[0;32m   (...)\u001B[0m\n\u001B[1;32m    223\u001B[0m         ranking: List[RankedDocument],\n\u001B[1;32m    224\u001B[0m ) \u001B[38;5;241m-\u001B[39m\u001B[38;5;241m>\u001B[39m List[List[\u001B[38;5;28mfloat\u001B[39m]]:\n\u001B[1;32m    225\u001B[0m     \u001B[38;5;28;01mreturn\u001B[39;00m [\n\u001B[1;32m    226\u001B[0m         [\n\u001B[0;32m--> 227\u001B[0m             \u001B[38;5;28;43mself\u001B[39;49m\u001B[38;5;241;43m.\u001B[39;49m\u001B[43mpreference\u001B[49m\u001B[43m(\u001B[49m\u001B[43mcontext\u001B[49m\u001B[43m,\u001B[49m\u001B[43m \u001B[49m\u001B[43mquery\u001B[49m\u001B[43m,\u001B[49m\u001B[43m \u001B[49m\u001B[43mdocument1\u001B[49m\u001B[43m,\u001B[49m\u001B[43m \u001B[49m\u001B[43mdocument2\u001B[49m\u001B[43m)\u001B[49m\n\u001B[1;32m    228\u001B[0m             \u001B[38;5;28;01mfor\u001B[39;00m document2 \u001B[38;5;129;01min\u001B[39;00m ranking\n\u001B[1;32m    229\u001B[0m         ]\n\u001B[1;32m    230\u001B[0m         \u001B[38;5;28;01mfor\u001B[39;00m document1 \u001B[38;5;129;01min\u001B[39;00m ranking\n\u001B[1;32m    231\u001B[0m     ]\n",
      "File \u001B[0;32m~/Development/webis/ir_axioms/ir_axioms/axiom/cache.py:44\u001B[0m, in \u001B[0;36mCachedAxiom.preference\u001B[0;34m(self, context, query, document1, document2)\u001B[0m\n\u001B[1;32m     41\u001B[0m cache \u001B[38;5;241m=\u001B[39m _cache(context)\n\u001B[1;32m     43\u001B[0m \u001B[38;5;28;01mif\u001B[39;00m cache \u001B[38;5;129;01mis\u001B[39;00m \u001B[38;5;28;01mNone\u001B[39;00m:\n\u001B[0;32m---> 44\u001B[0m     \u001B[38;5;28;01mreturn\u001B[39;00m \u001B[38;5;28;43mself\u001B[39;49m\u001B[38;5;241;43m.\u001B[39;49m\u001B[43maxiom\u001B[49m\u001B[38;5;241;43m.\u001B[39;49m\u001B[43mpreference\u001B[49m\u001B[43m(\u001B[49m\u001B[43mcontext\u001B[49m\u001B[43m,\u001B[49m\u001B[43m \u001B[49m\u001B[43mquery\u001B[49m\u001B[43m,\u001B[49m\u001B[43m \u001B[49m\u001B[43mdocument1\u001B[49m\u001B[43m,\u001B[49m\u001B[43m \u001B[49m\u001B[43mdocument2\u001B[49m\u001B[43m)\u001B[49m\n\u001B[1;32m     46\u001B[0m key \u001B[38;5;241m=\u001B[39m \u001B[38;5;28mself\u001B[39m\u001B[38;5;241m.\u001B[39m_key(context, query, document1, document2)\n\u001B[1;32m     48\u001B[0m \u001B[38;5;28;01mif\u001B[39;00m key \u001B[38;5;129;01min\u001B[39;00m cache:\n\u001B[1;32m     49\u001B[0m     \u001B[38;5;66;03m# Cache hit.\u001B[39;00m\n",
      "File \u001B[0;32m~/Development/webis/ir_axioms/ir_axioms/axiom/term_similarity.py:100\u001B[0m, in \u001B[0;36m_STMC2.preference\u001B[0;34m(self, context, query, document1, document2)\u001B[0m\n\u001B[1;32m     96\u001B[0m \u001B[38;5;28;01mif\u001B[39;00m \u001B[38;5;28mlen\u001B[39m(query_terms) \u001B[38;5;241m==\u001B[39m \u001B[38;5;241m0\u001B[39m \u001B[38;5;129;01mor\u001B[39;00m \u001B[38;5;28mlen\u001B[39m(non_query_terms) \u001B[38;5;241m==\u001B[39m \u001B[38;5;241m0\u001B[39m:\n\u001B[1;32m     97\u001B[0m     \u001B[38;5;28;01mreturn\u001B[39;00m \u001B[38;5;241m0\u001B[39m\n\u001B[1;32m     99\u001B[0m most_similar_query_term, most_similar_non_query_term \u001B[38;5;241m=\u001B[39m (\n\u001B[0;32m--> 100\u001B[0m     \u001B[38;5;28;43mself\u001B[39;49m\u001B[38;5;241;43m.\u001B[39;49m\u001B[43m_most_similar_terms\u001B[49m\u001B[43m(\u001B[49m\u001B[43mquery_terms\u001B[49m\u001B[43m,\u001B[49m\u001B[43m \u001B[49m\u001B[43mnon_query_terms\u001B[49m\u001B[43m)\u001B[49m\n\u001B[1;32m    101\u001B[0m )\n\u001B[1;32m    103\u001B[0m \u001B[38;5;28;01mdef\u001B[39;00m \u001B[38;5;21mterm_frequency_ratio\u001B[39m(\n\u001B[1;32m    104\u001B[0m         document_a: RankedDocument,\n\u001B[1;32m    105\u001B[0m         document_b: RankedDocument\n\u001B[1;32m    106\u001B[0m ):\n\u001B[1;32m    107\u001B[0m     tf_most_similar_query_term \u001B[38;5;241m=\u001B[39m context\u001B[38;5;241m.\u001B[39mterm_frequency(\n\u001B[1;32m    108\u001B[0m         document_b,\n\u001B[1;32m    109\u001B[0m         most_similar_query_term\n\u001B[1;32m    110\u001B[0m     )\n",
      "File \u001B[0;32m~/Development/webis/ir_axioms/ir_axioms/axiom/term_similarity.py:66\u001B[0m, in \u001B[0;36m_STMC2._most_similar_terms\u001B[0;34m(self, terms1, terms2)\u001B[0m\n\u001B[1;32m     61\u001B[0m \u001B[38;5;28;01mdef\u001B[39;00m \u001B[38;5;21m_most_similar_terms\u001B[39m(\n\u001B[1;32m     62\u001B[0m         \u001B[38;5;28mself\u001B[39m,\n\u001B[1;32m     63\u001B[0m         terms1: Set[\u001B[38;5;28mstr\u001B[39m],\n\u001B[1;32m     64\u001B[0m         terms2: Set[\u001B[38;5;28mstr\u001B[39m]\n\u001B[1;32m     65\u001B[0m ) \u001B[38;5;241m-\u001B[39m\u001B[38;5;241m>\u001B[39m Tuple[\u001B[38;5;28mstr\u001B[39m, \u001B[38;5;28mstr\u001B[39m]:\n\u001B[0;32m---> 66\u001B[0m     \u001B[38;5;28;01mreturn\u001B[39;00m \u001B[38;5;28;43mmax\u001B[39;49m\u001B[43m(\u001B[49m\n\u001B[1;32m     67\u001B[0m \u001B[43m        \u001B[49m\u001B[43mproduct\u001B[49m\u001B[43m(\u001B[49m\u001B[43mterms1\u001B[49m\u001B[43m,\u001B[49m\u001B[43m \u001B[49m\u001B[43mterms2\u001B[49m\u001B[43m)\u001B[49m\u001B[43m,\u001B[49m\n\u001B[1;32m     68\u001B[0m \u001B[43m        \u001B[49m\u001B[43mkey\u001B[49m\u001B[38;5;241;43m=\u001B[39;49m\u001B[38;5;28;43mself\u001B[39;49m\u001B[38;5;241;43m.\u001B[39;49m\u001B[43m_tuple_similarity\u001B[49m\n\u001B[1;32m     69\u001B[0m \u001B[43m    \u001B[49m\u001B[43m)\u001B[49m\n",
      "File \u001B[0;32m~/Development/webis/ir_axioms/ir_axioms/axiom/term_similarity.py:59\u001B[0m, in \u001B[0;36m_STMC2._tuple_similarity\u001B[0;34m(self, terms)\u001B[0m\n\u001B[1;32m     57\u001B[0m \u001B[38;5;28;01mdef\u001B[39;00m \u001B[38;5;21m_tuple_similarity\u001B[39m(\u001B[38;5;28mself\u001B[39m, terms: Tuple[\u001B[38;5;28mstr\u001B[39m, \u001B[38;5;28mstr\u001B[39m]) \u001B[38;5;241m-\u001B[39m\u001B[38;5;241m>\u001B[39m \u001B[38;5;28mfloat\u001B[39m:\n\u001B[1;32m     58\u001B[0m     term1, term2 \u001B[38;5;241m=\u001B[39m terms\n\u001B[0;32m---> 59\u001B[0m     \u001B[38;5;28;01mreturn\u001B[39;00m \u001B[38;5;28;43mself\u001B[39;49m\u001B[38;5;241;43m.\u001B[39;49m\u001B[43msimilarity\u001B[49m\u001B[43m(\u001B[49m\u001B[43mterm1\u001B[49m\u001B[43m,\u001B[49m\u001B[43m \u001B[49m\u001B[43mterm2\u001B[49m\u001B[43m)\u001B[49m\n",
      "File \u001B[0;32m~/Development/webis/ir_axioms/ir_axioms/utils/similarity.py:69\u001B[0m, in \u001B[0;36mWordNetSynonymSetTermSimilarityMixin.similarity\u001B[0;34m(self, term1, term2)\u001B[0m\n\u001B[1;32m     66\u001B[0m \u001B[38;5;129m@final\u001B[39m\n\u001B[1;32m     67\u001B[0m \u001B[38;5;129m@lru_cache\u001B[39m(\u001B[38;5;28;01mNone\u001B[39;00m)\n\u001B[1;32m     68\u001B[0m \u001B[38;5;28;01mdef\u001B[39;00m \u001B[38;5;21msimilarity\u001B[39m(\u001B[38;5;28mself\u001B[39m, term1: \u001B[38;5;28mstr\u001B[39m, term2: \u001B[38;5;28mstr\u001B[39m) \u001B[38;5;241m-\u001B[39m\u001B[38;5;241m>\u001B[39m \u001B[38;5;28mfloat\u001B[39m:\n\u001B[0;32m---> 69\u001B[0m     \u001B[38;5;28;01mreturn\u001B[39;00m \u001B[43msynonym_set_similarity\u001B[49m\u001B[43m(\u001B[49m\u001B[43mterm1\u001B[49m\u001B[43m,\u001B[49m\u001B[43m \u001B[49m\u001B[43mterm2\u001B[49m\u001B[43m,\u001B[49m\u001B[43m \u001B[49m\u001B[38;5;28;43mself\u001B[39;49m\u001B[38;5;241;43m.\u001B[39;49m\u001B[43msmoothing\u001B[49m\u001B[43m)\u001B[49m\n",
      "File \u001B[0;32m~/Development/webis/ir_axioms/ir_axioms/utils/similarity.py:29\u001B[0m, in \u001B[0;36msynonym_set_similarity\u001B[0;34m(term1, term2, smoothing)\u001B[0m\n\u001B[1;32m     22\u001B[0m \u001B[38;5;129m@lru_cache\u001B[39m(\u001B[38;5;28;01mNone\u001B[39;00m)\n\u001B[1;32m     23\u001B[0m \u001B[38;5;28;01mdef\u001B[39;00m \u001B[38;5;21msynonym_set_similarity\u001B[39m(\n\u001B[1;32m     24\u001B[0m         term1: \u001B[38;5;28mstr\u001B[39m,\n\u001B[1;32m     25\u001B[0m         term2: \u001B[38;5;28mstr\u001B[39m,\n\u001B[1;32m     26\u001B[0m         smoothing: \u001B[38;5;28mint\u001B[39m \u001B[38;5;241m=\u001B[39m \u001B[38;5;241m0\u001B[39m\n\u001B[1;32m     27\u001B[0m ) \u001B[38;5;241m-\u001B[39m\u001B[38;5;241m>\u001B[39m \u001B[38;5;28mfloat\u001B[39m:\n\u001B[1;32m     28\u001B[0m     synonyms_term1 \u001B[38;5;241m=\u001B[39m synonym_set(term1, smoothing)\n\u001B[0;32m---> 29\u001B[0m     synonyms_term2 \u001B[38;5;241m=\u001B[39m \u001B[43msynonym_set\u001B[49m\u001B[43m(\u001B[49m\u001B[43mterm2\u001B[49m\u001B[43m,\u001B[49m\u001B[43m \u001B[49m\u001B[43msmoothing\u001B[49m\u001B[43m)\u001B[49m\n\u001B[1;32m     31\u001B[0m     n \u001B[38;5;241m=\u001B[39m \u001B[38;5;241m0\u001B[39m\n\u001B[1;32m     32\u001B[0m     similarity_sum \u001B[38;5;241m=\u001B[39m \u001B[38;5;241m0\u001B[39m\n",
      "File \u001B[0;32m~/Development/webis/ir_axioms/ir_axioms/utils/similarity.py:17\u001B[0m, in \u001B[0;36msynonym_set\u001B[0;34m(term, smoothing)\u001B[0m\n\u001B[1;32m     12\u001B[0m \u001B[38;5;129m@lru_cache\u001B[39m(\u001B[38;5;28;01mNone\u001B[39;00m)\n\u001B[1;32m     13\u001B[0m \u001B[38;5;28;01mdef\u001B[39;00m \u001B[38;5;21msynonym_set\u001B[39m(\n\u001B[1;32m     14\u001B[0m         term: \u001B[38;5;28mstr\u001B[39m,\n\u001B[1;32m     15\u001B[0m         smoothing: \u001B[38;5;28mint\u001B[39m \u001B[38;5;241m=\u001B[39m \u001B[38;5;241m0\u001B[39m\n\u001B[1;32m     16\u001B[0m ) \u001B[38;5;241m-\u001B[39m\u001B[38;5;241m>\u001B[39m List[\u001B[38;5;28mstr\u001B[39m]:\n\u001B[0;32m---> 17\u001B[0m     \u001B[43mdownload_nltk_dependencies\u001B[49m\u001B[43m(\u001B[49m\u001B[38;5;124;43m\"\u001B[39;49m\u001B[38;5;124;43mwordnet\u001B[39;49m\u001B[38;5;124;43m\"\u001B[39;49m\u001B[43m,\u001B[49m\u001B[43m \u001B[49m\u001B[38;5;124;43m\"\u001B[39;49m\u001B[38;5;124;43momw-1.4\u001B[39;49m\u001B[38;5;124;43m\"\u001B[39;49m\u001B[43m)\u001B[49m\n\u001B[1;32m     18\u001B[0m     cutoff \u001B[38;5;241m=\u001B[39m smoothing \u001B[38;5;241m+\u001B[39m \u001B[38;5;241m1\u001B[39m\n\u001B[1;32m     19\u001B[0m     \u001B[38;5;28;01mreturn\u001B[39;00m wordnet\u001B[38;5;241m.\u001B[39msynsets(term)[:cutoff]\n",
      "File \u001B[0;32m~/Development/webis/ir_axioms/ir_axioms/utils/nltk.py:9\u001B[0m, in \u001B[0;36mdownload_nltk_dependencies\u001B[0;34m(*dependencies)\u001B[0m\n\u001B[1;32m      7\u001B[0m downloader \u001B[38;5;241m=\u001B[39m Downloader()\n\u001B[1;32m      8\u001B[0m \u001B[38;5;28;01mfor\u001B[39;00m dependency \u001B[38;5;129;01min\u001B[39;00m dependencies:\n\u001B[0;32m----> 9\u001B[0m     \u001B[38;5;28;01mif\u001B[39;00m \u001B[38;5;129;01mnot\u001B[39;00m \u001B[43mdownloader\u001B[49m\u001B[38;5;241;43m.\u001B[39;49m\u001B[43mis_installed\u001B[49m\u001B[43m(\u001B[49m\u001B[43mdependency\u001B[49m\u001B[43m)\u001B[49m:\n\u001B[1;32m     10\u001B[0m         info(\u001B[38;5;124mf\u001B[39m\u001B[38;5;124m\"\u001B[39m\u001B[38;5;124mDownloading NLTK dependency \u001B[39m\u001B[38;5;132;01m{\u001B[39;00mdependency\u001B[38;5;132;01m}\u001B[39;00m\u001B[38;5;124m.\u001B[39m\u001B[38;5;124m\"\u001B[39m)\n\u001B[1;32m     11\u001B[0m         downloader\u001B[38;5;241m.\u001B[39mdownload(dependency)\n",
      "File \u001B[0;32m~/Development/webis/ir_axioms/venv/lib/python3.9/site-packages/nltk/downloader.py:844\u001B[0m, in \u001B[0;36mDownloader.is_installed\u001B[0;34m(self, info_or_id, download_dir)\u001B[0m\n\u001B[1;32m    843\u001B[0m \u001B[38;5;28;01mdef\u001B[39;00m \u001B[38;5;21mis_installed\u001B[39m(\u001B[38;5;28mself\u001B[39m, info_or_id, download_dir\u001B[38;5;241m=\u001B[39m\u001B[38;5;28;01mNone\u001B[39;00m):\n\u001B[0;32m--> 844\u001B[0m     \u001B[38;5;28;01mreturn\u001B[39;00m \u001B[38;5;28;43mself\u001B[39;49m\u001B[38;5;241;43m.\u001B[39;49m\u001B[43mstatus\u001B[49m\u001B[43m(\u001B[49m\u001B[43minfo_or_id\u001B[49m\u001B[43m,\u001B[49m\u001B[43m \u001B[49m\u001B[43mdownload_dir\u001B[49m\u001B[43m)\u001B[49m \u001B[38;5;241m==\u001B[39m \u001B[38;5;28mself\u001B[39m\u001B[38;5;241m.\u001B[39mINSTALLED\n",
      "File \u001B[0;32m~/Development/webis/ir_axioms/venv/lib/python3.9/site-packages/nltk/downloader.py:883\u001B[0m, in \u001B[0;36mDownloader.status\u001B[0;34m(self, info_or_id, download_dir)\u001B[0m\n\u001B[1;32m    881\u001B[0m \u001B[38;5;28;01melse\u001B[39;00m:\n\u001B[1;32m    882\u001B[0m     \u001B[38;5;28;01mif\u001B[39;00m info\u001B[38;5;241m.\u001B[39mid \u001B[38;5;129;01mnot\u001B[39;00m \u001B[38;5;129;01min\u001B[39;00m \u001B[38;5;28mself\u001B[39m\u001B[38;5;241m.\u001B[39m_status_cache:\n\u001B[0;32m--> 883\u001B[0m         \u001B[38;5;28mself\u001B[39m\u001B[38;5;241m.\u001B[39m_status_cache[info\u001B[38;5;241m.\u001B[39mid] \u001B[38;5;241m=\u001B[39m \u001B[38;5;28;43mself\u001B[39;49m\u001B[38;5;241;43m.\u001B[39;49m\u001B[43m_pkg_status\u001B[49m\u001B[43m(\u001B[49m\u001B[43minfo\u001B[49m\u001B[43m,\u001B[49m\u001B[43m \u001B[49m\u001B[43mfilepath\u001B[49m\u001B[43m)\u001B[49m\n\u001B[1;32m    884\u001B[0m     \u001B[38;5;28;01mreturn\u001B[39;00m \u001B[38;5;28mself\u001B[39m\u001B[38;5;241m.\u001B[39m_status_cache[info\u001B[38;5;241m.\u001B[39mid]\n",
      "File \u001B[0;32m~/Development/webis/ir_axioms/venv/lib/python3.9/site-packages/nltk/downloader.py:899\u001B[0m, in \u001B[0;36mDownloader._pkg_status\u001B[0;34m(self, info, filepath)\u001B[0m\n\u001B[1;32m    896\u001B[0m     \u001B[38;5;28;01mreturn\u001B[39;00m \u001B[38;5;28mself\u001B[39m\u001B[38;5;241m.\u001B[39mSTALE\n\u001B[1;32m    898\u001B[0m \u001B[38;5;66;03m# Check if the file's checksum matches\u001B[39;00m\n\u001B[0;32m--> 899\u001B[0m \u001B[38;5;28;01mif\u001B[39;00m \u001B[43mmd5_hexdigest\u001B[49m\u001B[43m(\u001B[49m\u001B[43mfilepath\u001B[49m\u001B[43m)\u001B[49m \u001B[38;5;241m!=\u001B[39m info\u001B[38;5;241m.\u001B[39mchecksum:\n\u001B[1;32m    900\u001B[0m     \u001B[38;5;28;01mreturn\u001B[39;00m \u001B[38;5;28mself\u001B[39m\u001B[38;5;241m.\u001B[39mSTALE\n\u001B[1;32m    902\u001B[0m \u001B[38;5;66;03m# If it's a zipfile, and it's been at least partially\u001B[39;00m\n\u001B[1;32m    903\u001B[0m \u001B[38;5;66;03m# unzipped, then check if it's been fully unzipped.\u001B[39;00m\n",
      "File \u001B[0;32m~/Development/webis/ir_axioms/venv/lib/python3.9/site-packages/nltk/downloader.py:2209\u001B[0m, in \u001B[0;36mmd5_hexdigest\u001B[0;34m(file)\u001B[0m\n\u001B[1;32m   2207\u001B[0m \u001B[38;5;28;01mif\u001B[39;00m \u001B[38;5;28misinstance\u001B[39m(file, \u001B[38;5;28mstr\u001B[39m):\n\u001B[1;32m   2208\u001B[0m     \u001B[38;5;28;01mwith\u001B[39;00m \u001B[38;5;28mopen\u001B[39m(file, \u001B[38;5;124m\"\u001B[39m\u001B[38;5;124mrb\u001B[39m\u001B[38;5;124m\"\u001B[39m) \u001B[38;5;28;01mas\u001B[39;00m infile:\n\u001B[0;32m-> 2209\u001B[0m         \u001B[38;5;28;01mreturn\u001B[39;00m \u001B[43m_md5_hexdigest\u001B[49m\u001B[43m(\u001B[49m\u001B[43minfile\u001B[49m\u001B[43m)\u001B[49m\n\u001B[1;32m   2210\u001B[0m \u001B[38;5;28;01mreturn\u001B[39;00m _md5_hexdigest(file)\n",
      "File \u001B[0;32m~/Development/webis/ir_axioms/venv/lib/python3.9/site-packages/nltk/downloader.py:2219\u001B[0m, in \u001B[0;36m_md5_hexdigest\u001B[0;34m(fp)\u001B[0m\n\u001B[1;32m   2217\u001B[0m     \u001B[38;5;28;01mif\u001B[39;00m \u001B[38;5;129;01mnot\u001B[39;00m block:\n\u001B[1;32m   2218\u001B[0m         \u001B[38;5;28;01mbreak\u001B[39;00m\n\u001B[0;32m-> 2219\u001B[0m     \u001B[43mmd5_digest\u001B[49m\u001B[38;5;241;43m.\u001B[39;49m\u001B[43mupdate\u001B[49m\u001B[43m(\u001B[49m\u001B[43mblock\u001B[49m\u001B[43m)\u001B[49m\n\u001B[1;32m   2220\u001B[0m \u001B[38;5;28;01mreturn\u001B[39;00m md5_digest\u001B[38;5;241m.\u001B[39mhexdigest()\n",
      "\u001B[0;31mKeyboardInterrupt\u001B[0m: "
     ]
    }
   ],
   "source": [
    "from pyterrier.pipelines import Experiment\n",
    "from pyterrier.ltr import apply_learned_model\n",
    "from sklearn.ensemble import RandomForestRegressor\n",
    "\n",
    "random_forest = RandomForestRegressor(n_estimators=400)\n",
    "pipeline_random_forest = pipeline_features >> apply_learned_model(random_forest)\n",
    "pipeline_random_forest.fit(\n",
    "    dataset_train.get_topics(),\n",
    "    dataset_train.get_qrels()\n",
    ")"
   ],
   "metadata": {
    "collapsed": false,
    "pycharm": {
     "name": "#%%\n"
    }
   }
  },
  {
   "cell_type": "code",
   "execution_count": null,
   "outputs": [],
   "source": [
    "Experiment(\n",
    "    [pipeline_bm25, pipeline_random_forest],\n",
    "    dataset_test.get_topics(),\n",
    "    dataset_test.get_qrels(),\n",
    "    [\"map\"],\n",
    "    names=[\"BM25 Baseline\", \"Random Forest Axiom\"]\n",
    ")"
   ],
   "metadata": {
    "collapsed": false,
    "pycharm": {
     "name": "#%%\n"
    }
   }
  }
 ],
 "metadata": {
  "kernelspec": {
   "display_name": "Python 3",
   "language": "python",
   "name": "python3"
  },
  "language_info": {
   "codemirror_mode": {
    "name": "ipython",
    "version": 2
   },
   "file_extension": ".py",
   "mimetype": "text/x-python",
   "name": "python",
   "nbconvert_exporter": "python",
   "pygments_lexer": "ipython2",
   "version": "2.7.6"
  }
 },
 "nbformat": 4,
 "nbformat_minor": 0
}