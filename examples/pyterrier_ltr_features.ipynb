{
 "cells": [
  {
   "cell_type": "code",
   "execution_count": 1,
   "outputs": [],
   "source": [
    "from sys import modules\n",
    "\n",
    "IN_COLAB = 'google.colab' in modules\n",
    "if IN_COLAB:\n",
    "    !pip install -q ir_axioms[examples] python-terrier"
   ],
   "metadata": {
    "collapsed": false,
    "pycharm": {
     "name": "#%%\n"
    }
   }
  },
  {
   "cell_type": "code",
   "execution_count": 2,
   "outputs": [
    {
     "name": "stderr",
     "output_type": "stream",
     "text": [
      "PyTerrier 0.8.0 has loaded Terrier 5.6 (built by craigmacdonald on 2021-09-17 13:27)\n",
      "\n",
      "No etc/terrier.properties, using terrier.default.properties for bootstrap configuration.\n"
     ]
    }
   ],
   "source": [
    "# Start/initialize PyTerrier.\n",
    "from pyterrier import started, init\n",
    "\n",
    "if not started():\n",
    "    init(tqdm=\"auto\")"
   ],
   "metadata": {
    "collapsed": false,
    "pycharm": {
     "name": "#%%\n"
    }
   }
  },
  {
   "cell_type": "code",
   "execution_count": 3,
   "outputs": [],
   "source": [
    "from pyterrier.datasets import get_dataset, Dataset\n",
    "\n",
    "# Load dataset.\n",
    "dataset_name = \"antique\"\n",
    "dataset: Dataset = get_dataset(f\"irds:{dataset_name}\")\n",
    "dataset_train: Dataset = get_dataset(f\"irds:{dataset_name}/train\")\n",
    "dataset_test: Dataset = get_dataset(f\"irds:{dataset_name}/test\")"
   ],
   "metadata": {
    "collapsed": false,
    "pycharm": {
     "name": "#%%\n"
    }
   }
  },
  {
   "cell_type": "code",
   "execution_count": 4,
   "outputs": [],
   "source": [
    "from pathlib import Path\n",
    "from pyterrier.index import IterDictIndexer\n",
    "from ir_axioms.backend.pyterrier import IndexRef, IndexFactory\n",
    "\n",
    "# Load documents and build index.\n",
    "index_dir = Path(f\"cache/indices/{dataset_name.replace('/', '-')}\").absolute()\n",
    "index_ref: IndexRef\n",
    "if index_dir.exists():\n",
    "    index_ref = IndexRef.of(str(index_dir))\n",
    "else:\n",
    "    # Don't forget to include the 'text' field in the meta index.\n",
    "    indexer = IterDictIndexer(str(index_dir))\n",
    "    index_ref = indexer.index(dataset.get_corpus_iter(), fields=[\"text\"])\n",
    "index = IndexFactory.of(index_ref)"
   ],
   "metadata": {
    "collapsed": false,
    "pycharm": {
     "name": "#%%\n"
    }
   }
  },
  {
   "cell_type": "code",
   "execution_count": 5,
   "outputs": [
    {
     "data": {
      "text/plain": "          qid   docid       docno  rank      score  \\\n0     3990512  102622   3077638_1     0  15.887435   \n1     3990512   30676   3931664_0     1  15.621619   \n2     3990512  173781   4366141_0     2  15.395085   \n3     3990512  179429  1011598_10     3  15.134176   \n4     3990512  194913   4222212_0     4  15.134176   \n...       ...     ...         ...   ...        ...   \n3877  1340574  136249   2323025_6    17  25.933856   \n3878  1340574  116651   2036141_2    18  25.540481   \n3879  1340574  123602   1757874_0    19  25.338768   \n3880  1971899  234068   1971899_6     0  28.234530   \n3881  1971899   87610   2667237_0     1  12.560643   \n\n                                                  query  \n0              how can we get concentration onsomething  \n1              how can we get concentration onsomething  \n2              how can we get concentration onsomething  \n3              how can we get concentration onsomething  \n4              how can we get concentration onsomething  \n...                                                 ...  \n3877  why do some people only go to church on easter...  \n3878  why do some people only go to church on easter...  \n3879  why do some people only go to church on easter...  \n3880                                  what is masturbat  \n3881                                  what is masturbat  \n\n[3882 rows x 6 columns]",
      "text/html": "<div>\n<style scoped>\n    .dataframe tbody tr th:only-of-type {\n        vertical-align: middle;\n    }\n\n    .dataframe tbody tr th {\n        vertical-align: top;\n    }\n\n    .dataframe thead th {\n        text-align: right;\n    }\n</style>\n<table border=\"1\" class=\"dataframe\">\n  <thead>\n    <tr style=\"text-align: right;\">\n      <th></th>\n      <th>qid</th>\n      <th>docid</th>\n      <th>docno</th>\n      <th>rank</th>\n      <th>score</th>\n      <th>query</th>\n    </tr>\n  </thead>\n  <tbody>\n    <tr>\n      <th>0</th>\n      <td>3990512</td>\n      <td>102622</td>\n      <td>3077638_1</td>\n      <td>0</td>\n      <td>15.887435</td>\n      <td>how can we get concentration onsomething</td>\n    </tr>\n    <tr>\n      <th>1</th>\n      <td>3990512</td>\n      <td>30676</td>\n      <td>3931664_0</td>\n      <td>1</td>\n      <td>15.621619</td>\n      <td>how can we get concentration onsomething</td>\n    </tr>\n    <tr>\n      <th>2</th>\n      <td>3990512</td>\n      <td>173781</td>\n      <td>4366141_0</td>\n      <td>2</td>\n      <td>15.395085</td>\n      <td>how can we get concentration onsomething</td>\n    </tr>\n    <tr>\n      <th>3</th>\n      <td>3990512</td>\n      <td>179429</td>\n      <td>1011598_10</td>\n      <td>3</td>\n      <td>15.134176</td>\n      <td>how can we get concentration onsomething</td>\n    </tr>\n    <tr>\n      <th>4</th>\n      <td>3990512</td>\n      <td>194913</td>\n      <td>4222212_0</td>\n      <td>4</td>\n      <td>15.134176</td>\n      <td>how can we get concentration onsomething</td>\n    </tr>\n    <tr>\n      <th>...</th>\n      <td>...</td>\n      <td>...</td>\n      <td>...</td>\n      <td>...</td>\n      <td>...</td>\n      <td>...</td>\n    </tr>\n    <tr>\n      <th>3877</th>\n      <td>1340574</td>\n      <td>136249</td>\n      <td>2323025_6</td>\n      <td>17</td>\n      <td>25.933856</td>\n      <td>why do some people only go to church on easter...</td>\n    </tr>\n    <tr>\n      <th>3878</th>\n      <td>1340574</td>\n      <td>116651</td>\n      <td>2036141_2</td>\n      <td>18</td>\n      <td>25.540481</td>\n      <td>why do some people only go to church on easter...</td>\n    </tr>\n    <tr>\n      <th>3879</th>\n      <td>1340574</td>\n      <td>123602</td>\n      <td>1757874_0</td>\n      <td>19</td>\n      <td>25.338768</td>\n      <td>why do some people only go to church on easter...</td>\n    </tr>\n    <tr>\n      <th>3880</th>\n      <td>1971899</td>\n      <td>234068</td>\n      <td>1971899_6</td>\n      <td>0</td>\n      <td>28.234530</td>\n      <td>what is masturbat</td>\n    </tr>\n    <tr>\n      <th>3881</th>\n      <td>1971899</td>\n      <td>87610</td>\n      <td>2667237_0</td>\n      <td>1</td>\n      <td>12.560643</td>\n      <td>what is masturbat</td>\n    </tr>\n  </tbody>\n</table>\n<p>3882 rows × 6 columns</p>\n</div>"
     },
     "execution_count": 5,
     "metadata": {},
     "output_type": "execute_result"
    }
   ],
   "source": [
    "from pyterrier.batchretrieve import BatchRetrieve\n",
    "\n",
    "# BM25 baseline retrieval, cut off at 10 documents per query.\n",
    "pipeline_bm25 = BatchRetrieve(index, wmodel=\"BM25\", num_results=20)\n",
    "pipeline_bm25(dataset_test.get_topics())"
   ],
   "metadata": {
    "collapsed": false,
    "pycharm": {
     "name": "#%%\n"
    }
   }
  },
  {
   "cell_type": "code",
   "execution_count": 6,
   "outputs": [],
   "source": [
    "from pathlib import Path\n",
    "\n",
    "cache_dir = Path(f\"cache/\")"
   ],
   "metadata": {
    "collapsed": false,
    "pycharm": {
     "name": "#%%\n"
    }
   }
  },
  {
   "cell_type": "code",
   "execution_count": 7,
   "outputs": [],
   "source": [
    "from ir_axioms.axiom import (\n",
    "    ArgUC, QTArg, QTPArg, aSL, PROX1, PROX2, PROX3, PROX4, PROX5, TFC1, TFC3, RS_TF, RS_TF_IDF, RS_BM25, RS_PL2, RS_QL,\n",
    "    AND, LEN_AND, M_AND, LEN_M_AND, DIV, LEN_DIV, M_TDC, LEN_M_TDC, STMC1, STMC1_f, STMC2, STMC2_f, LNC1, TF_LNC, LB1,\n",
    "    REG, ANTI_REG\n",
    ")\n",
    "\n",
    "axioms = [\n",
    "    # ~ArgUC(),  # Very slow due to network access.\n",
    "    # ~QTArg(),  # Very slow due to network access.\n",
    "    # ~QTPArg(),  # Very slow due to network access.\n",
    "    ~aSL(),\n",
    "    ~LNC1(),\n",
    "    ~TF_LNC(),\n",
    "    ~LB1(),\n",
    "    ~PROX1(),\n",
    "    ~PROX2(),\n",
    "    ~PROX3(),\n",
    "    ~PROX4(),\n",
    "    ~PROX5(),\n",
    "    ~REG(),\n",
    "    ~ANTI_REG(),\n",
    "    ~AND(),\n",
    "    ~LEN_AND(),\n",
    "    ~M_AND(),\n",
    "    ~LEN_M_AND(),\n",
    "    ~DIV(),\n",
    "    ~LEN_DIV(),\n",
    "    ~RS_TF(),\n",
    "    ~RS_TF_IDF(),\n",
    "    ~RS_BM25(),\n",
    "    ~RS_PL2(),\n",
    "    ~RS_QL(),\n",
    "    ~TFC1(),\n",
    "    ~TFC3(),\n",
    "    ~M_TDC(),\n",
    "    ~LEN_M_TDC(),\n",
    "    ~STMC1(),\n",
    "    ~STMC1_f(),\n",
    "    ~STMC2(),\n",
    "    ~STMC2_f(),\n",
    "]"
   ],
   "metadata": {
    "collapsed": false,
    "pycharm": {
     "name": "#%%\n"
    }
   }
  },
  {
   "cell_type": "code",
   "execution_count": 8,
   "outputs": [],
   "source": [
    "from ir_axioms.backend.pyterrier.transformers import AggregatedAxiomaticPreference\n",
    "\n",
    "pipeline_features = (\n",
    "        ~(\n",
    "                pipeline_bm25 >>\n",
    "                AggregatedAxiomaticPreference(\n",
    "                    axioms=axioms,\n",
    "                    index=index,\n",
    "                    dataset=dataset_name,\n",
    "                    verbose=True\n",
    "                )\n",
    "        ) ^\n",
    "        ~(\n",
    "                pipeline_bm25 >>\n",
    "                AggregatedAxiomaticPreference(\n",
    "                    axioms=axioms,\n",
    "                    index=index,\n",
    "                    aggregation=min,\n",
    "                    dataset=dataset_name,\n",
    "                    verbose=True\n",
    "                )\n",
    "        ) ^\n",
    "        ~(\n",
    "                pipeline_bm25 >>\n",
    "                AggregatedAxiomaticPreference(\n",
    "                    axioms=axioms,\n",
    "                    index=index,\n",
    "                    aggregation=max,\n",
    "                    dataset=dataset_name,\n",
    "                    verbose=True\n",
    "                )\n",
    "        )\n",
    ")\n"
   ],
   "metadata": {
    "collapsed": false,
    "pycharm": {
     "name": "#%%\n"
    }
   }
  },
  {
   "cell_type": "code",
   "execution_count": 9,
   "outputs": [
    {
     "data": {
      "text/plain": "Aggregating query axiom preferences:   0%|          | 0/198 [00:00<?, ?query/s]",
      "application/vnd.jupyter.widget-view+json": {
       "version_major": 2,
       "version_minor": 0,
       "model_id": "eae002c130624a5ebf45680ca3989312"
      }
     },
     "metadata": {},
     "output_type": "display_data"
    },
    {
     "data": {
      "text/plain": "          qid   docid       docno  rank      score  \\\n0     3990512  102622   3077638_1     0  15.887435   \n1     3990512   30676   3931664_0     1  15.621619   \n2     3990512  173781   4366141_0     2  15.395085   \n3     3990512  179429  1011598_10     3  15.134176   \n4     3990512  194913   4222212_0     4  15.134176   \n...       ...     ...         ...   ...        ...   \n3877  1340574  136249   2323025_6    17  25.933856   \n3878  1340574  116651   2036141_2    18  25.540481   \n3879  1340574  123602   1757874_0    19  25.338768   \n3880  1971899  234068   1971899_6     0  28.234530   \n3881  1971899   87610   2667237_0     1  12.560643   \n\n                                                  query           features  \n0              how can we get concentration onsomething   [-3, 1, 0, 0, 0]  \n1              how can we get concentration onsomething   [12, 5, 0, 0, 0]  \n2              how can we get concentration onsomething   [2, 10, 0, 0, 0]  \n3              how can we get concentration onsomething    [2, 5, 0, 0, 0]  \n4              how can we get concentration onsomething   [12, 5, 0, 0, 0]  \n...                                                 ...                ...  \n3877  why do some people only go to church on easter...  [-4, -5, 0, 0, 0]  \n3878  why do some people only go to church on easter...  [-6, -5, 0, 0, 0]  \n3879  why do some people only go to church on easter...  [-1, -1, 0, 0, 0]  \n3880                                  what is masturbat    [0, 0, 0, 0, 0]  \n3881                                  what is masturbat    [0, 0, 0, 0, 0]  \n\n[3882 rows x 7 columns]",
      "text/html": "<div>\n<style scoped>\n    .dataframe tbody tr th:only-of-type {\n        vertical-align: middle;\n    }\n\n    .dataframe tbody tr th {\n        vertical-align: top;\n    }\n\n    .dataframe thead th {\n        text-align: right;\n    }\n</style>\n<table border=\"1\" class=\"dataframe\">\n  <thead>\n    <tr style=\"text-align: right;\">\n      <th></th>\n      <th>qid</th>\n      <th>docid</th>\n      <th>docno</th>\n      <th>rank</th>\n      <th>score</th>\n      <th>query</th>\n      <th>features</th>\n    </tr>\n  </thead>\n  <tbody>\n    <tr>\n      <th>0</th>\n      <td>3990512</td>\n      <td>102622</td>\n      <td>3077638_1</td>\n      <td>0</td>\n      <td>15.887435</td>\n      <td>how can we get concentration onsomething</td>\n      <td>[-3, 1, 0, 0, 0]</td>\n    </tr>\n    <tr>\n      <th>1</th>\n      <td>3990512</td>\n      <td>30676</td>\n      <td>3931664_0</td>\n      <td>1</td>\n      <td>15.621619</td>\n      <td>how can we get concentration onsomething</td>\n      <td>[12, 5, 0, 0, 0]</td>\n    </tr>\n    <tr>\n      <th>2</th>\n      <td>3990512</td>\n      <td>173781</td>\n      <td>4366141_0</td>\n      <td>2</td>\n      <td>15.395085</td>\n      <td>how can we get concentration onsomething</td>\n      <td>[2, 10, 0, 0, 0]</td>\n    </tr>\n    <tr>\n      <th>3</th>\n      <td>3990512</td>\n      <td>179429</td>\n      <td>1011598_10</td>\n      <td>3</td>\n      <td>15.134176</td>\n      <td>how can we get concentration onsomething</td>\n      <td>[2, 5, 0, 0, 0]</td>\n    </tr>\n    <tr>\n      <th>4</th>\n      <td>3990512</td>\n      <td>194913</td>\n      <td>4222212_0</td>\n      <td>4</td>\n      <td>15.134176</td>\n      <td>how can we get concentration onsomething</td>\n      <td>[12, 5, 0, 0, 0]</td>\n    </tr>\n    <tr>\n      <th>...</th>\n      <td>...</td>\n      <td>...</td>\n      <td>...</td>\n      <td>...</td>\n      <td>...</td>\n      <td>...</td>\n      <td>...</td>\n    </tr>\n    <tr>\n      <th>3877</th>\n      <td>1340574</td>\n      <td>136249</td>\n      <td>2323025_6</td>\n      <td>17</td>\n      <td>25.933856</td>\n      <td>why do some people only go to church on easter...</td>\n      <td>[-4, -5, 0, 0, 0]</td>\n    </tr>\n    <tr>\n      <th>3878</th>\n      <td>1340574</td>\n      <td>116651</td>\n      <td>2036141_2</td>\n      <td>18</td>\n      <td>25.540481</td>\n      <td>why do some people only go to church on easter...</td>\n      <td>[-6, -5, 0, 0, 0]</td>\n    </tr>\n    <tr>\n      <th>3879</th>\n      <td>1340574</td>\n      <td>123602</td>\n      <td>1757874_0</td>\n      <td>19</td>\n      <td>25.338768</td>\n      <td>why do some people only go to church on easter...</td>\n      <td>[-1, -1, 0, 0, 0]</td>\n    </tr>\n    <tr>\n      <th>3880</th>\n      <td>1971899</td>\n      <td>234068</td>\n      <td>1971899_6</td>\n      <td>0</td>\n      <td>28.234530</td>\n      <td>what is masturbat</td>\n      <td>[0, 0, 0, 0, 0]</td>\n    </tr>\n    <tr>\n      <th>3881</th>\n      <td>1971899</td>\n      <td>87610</td>\n      <td>2667237_0</td>\n      <td>1</td>\n      <td>12.560643</td>\n      <td>what is masturbat</td>\n      <td>[0, 0, 0, 0, 0]</td>\n    </tr>\n  </tbody>\n</table>\n<p>3882 rows × 7 columns</p>\n</div>"
     },
     "execution_count": 9,
     "metadata": {},
     "output_type": "execute_result"
    }
   ],
   "source": [
    "pipeline_features.transform(dataset_test.get_topics())"
   ],
   "metadata": {
    "collapsed": false,
    "pycharm": {
     "name": "#%%\n"
    }
   }
  },
  {
   "cell_type": "code",
   "execution_count": 10,
   "outputs": [
    {
     "data": {
      "text/plain": "Aggregating query axiom preferences:   0%|          | 0/2413 [00:00<?, ?query/s]",
      "application/vnd.jupyter.widget-view+json": {
       "version_major": 2,
       "version_minor": 0,
       "model_id": "672e87455aef4048bb58642a1cafde78"
      }
     },
     "metadata": {},
     "output_type": "display_data"
    }
   ],
   "source": [
    "from pyterrier.pipelines import Experiment\n",
    "from pyterrier.ltr import apply_learned_model\n",
    "from sklearn.ensemble import RandomForestRegressor\n",
    "\n",
    "random_forest = RandomForestRegressor(n_estimators=400)\n",
    "pipeline_random_forest = pipeline_features >> apply_learned_model(random_forest)\n",
    "pipeline_random_forest.fit(\n",
    "    dataset_train.get_topics(),\n",
    "    dataset_train.get_qrels()\n",
    ")"
   ],
   "metadata": {
    "collapsed": false,
    "pycharm": {
     "name": "#%%\n"
    }
   }
  },
  {
   "cell_type": "code",
   "execution_count": 11,
   "outputs": [
    {
     "data": {
      "text/plain": "            name       map\n0  BM25 Baseline  0.320300\n1            LTR  0.267358",
      "text/html": "<div>\n<style scoped>\n    .dataframe tbody tr th:only-of-type {\n        vertical-align: middle;\n    }\n\n    .dataframe tbody tr th {\n        vertical-align: top;\n    }\n\n    .dataframe thead th {\n        text-align: right;\n    }\n</style>\n<table border=\"1\" class=\"dataframe\">\n  <thead>\n    <tr style=\"text-align: right;\">\n      <th></th>\n      <th>name</th>\n      <th>map</th>\n    </tr>\n  </thead>\n  <tbody>\n    <tr>\n      <th>0</th>\n      <td>BM25 Baseline</td>\n      <td>0.320300</td>\n    </tr>\n    <tr>\n      <th>1</th>\n      <td>LTR</td>\n      <td>0.267358</td>\n    </tr>\n  </tbody>\n</table>\n</div>"
     },
     "execution_count": 11,
     "metadata": {},
     "output_type": "execute_result"
    }
   ],
   "source": [
    "Experiment(\n",
    "    [pipeline_bm25, pipeline_random_forest],\n",
    "    dataset_test.get_topics(),\n",
    "    dataset_test.get_qrels(),\n",
    "    [\"map\"],\n",
    "    names=[\"BM25 Baseline\", \"LTR\"]\n",
    ")"
   ],
   "metadata": {
    "collapsed": false,
    "pycharm": {
     "name": "#%%\n"
    }
   }
  }
 ],
 "metadata": {
  "kernelspec": {
   "display_name": "Python 3",
   "language": "python",
   "name": "python3"
  },
  "language_info": {
   "codemirror_mode": {
    "name": "ipython",
    "version": 2
   },
   "file_extension": ".py",
   "mimetype": "text/x-python",
   "name": "python",
   "nbconvert_exporter": "python",
   "pygments_lexer": "ipython2",
   "version": "2.7.6"
  }
 },
 "nbformat": 4,
 "nbformat_minor": 0
}