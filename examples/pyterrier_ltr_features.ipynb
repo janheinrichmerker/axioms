{
 "cells": [
  {
   "cell_type": "code",
   "execution_count": 32,
   "outputs": [],
   "source": [
    "from sys import modules\n",
    "\n",
    "IN_COLAB = 'google.colab' in modules\n",
    "if IN_COLAB:\n",
    "    !pip install -q ir_axioms[examples] python-terrier"
   ],
   "metadata": {
    "collapsed": false,
    "pycharm": {
     "name": "#%%\n"
    }
   }
  },
  {
   "cell_type": "code",
   "execution_count": 33,
   "outputs": [],
   "source": [
    "# Start/initialize PyTerrier.\n",
    "from pyterrier import started, init\n",
    "\n",
    "if not started():\n",
    "    init(tqdm=\"auto\")"
   ],
   "metadata": {
    "collapsed": false,
    "pycharm": {
     "name": "#%%\n"
    }
   }
  },
  {
   "cell_type": "code",
   "execution_count": 34,
   "outputs": [],
   "source": [
    "from pyterrier.datasets import get_dataset, Dataset\n",
    "\n",
    "# Load dataset.\n",
    "dataset_name = \"msmarco-passage\"\n",
    "dataset: Dataset = get_dataset(f\"irds:{dataset_name}\")\n",
    "dataset_train: Dataset = get_dataset(f\"irds:{dataset_name}/trec-dl-2019/judged\")\n",
    "dataset_test: Dataset = get_dataset(f\"irds:{dataset_name}/trec-dl-2020/judged\")"
   ],
   "metadata": {
    "collapsed": false,
    "pycharm": {
     "name": "#%%\n"
    }
   }
  },
  {
   "cell_type": "code",
   "execution_count": 35,
   "outputs": [],
   "source": [
    "from pathlib import Path\n",
    "\n",
    "cache_dir = Path(\"cache/\")\n",
    "index_dir = cache_dir / \"indices\" / dataset_name.split(\"/\")[0]"
   ],
   "metadata": {
    "collapsed": false,
    "pycharm": {
     "name": "#%%\n"
    }
   }
  },
  {
   "cell_type": "code",
   "execution_count": 36,
   "outputs": [],
   "source": [
    "from pyterrier.index import IterDictIndexer\n",
    "\n",
    "if not index_dir.exists():\n",
    "    indexer = IterDictIndexer(str(index_dir.absolute()))\n",
    "    indexer.index(\n",
    "        dataset.get_corpus_iter(),\n",
    "        fields=[\"text\"]\n",
    "    )"
   ],
   "metadata": {
    "collapsed": false,
    "pycharm": {
     "name": "#%%\n"
    }
   }
  },
  {
   "cell_type": "code",
   "execution_count": 37,
   "outputs": [],
   "source": [
    "from pyterrier.batchretrieve import BatchRetrieve\n",
    "\n",
    "# BM25 baseline retrieval.\n",
    "bm25 = BatchRetrieve(str(index_dir.absolute()), wmodel=\"BM25\", verbose=True, num_results=20)"
   ],
   "metadata": {
    "collapsed": false,
    "pycharm": {
     "name": "#%%\n"
    }
   }
  },
  {
   "cell_type": "code",
   "execution_count": 38,
   "outputs": [],
   "source": [
    "from ir_axioms.axiom import (\n",
    "    ArgUC, QTArg, QTPArg, aSL, PROX1, PROX2, PROX3, PROX4, PROX5, TFC1, TFC3, RS_TF, RS_TF_IDF, RS_BM25, RS_PL2, RS_QL,\n",
    "    AND, LEN_AND, M_AND, LEN_M_AND, DIV, LEN_DIV, M_TDC, LEN_M_TDC, STMC1, STMC1_f, STMC2, STMC2_f, LNC1, TF_LNC, LB1,\n",
    "    REG, ANTI_REG, REG_f, ANTI_REG_f, ORIG\n",
    ")\n",
    "\n",
    "axioms = [\n",
    "    ~ArgUC(), ~QTArg(), ~QTPArg(), ~aSL(),\n",
    "    ~LNC1(), ~TF_LNC(), ~LB1(),\n",
    "    ~PROX1(), ~PROX2(), ~PROX3(), ~PROX4(), ~PROX5(),\n",
    "    ~REG(), ~REG_f(), ~ANTI_REG(), ~ANTI_REG_f(),\n",
    "    ~AND(), ~LEN_AND(), ~M_AND(), ~LEN_M_AND(), ~DIV(), ~LEN_DIV(),\n",
    "    ~RS_TF(), ~RS_TF_IDF(), ~RS_BM25(), ~RS_PL2(), ~RS_QL(),\n",
    "    ~TFC1(), ~TFC3(), ~M_TDC(), ~LEN_M_TDC(),\n",
    "    ~STMC1(), ~STMC1_f(), ~STMC2(), ~STMC2_f(),\n",
    "    ORIG()\n",
    "]"
   ],
   "metadata": {
    "collapsed": false,
    "pycharm": {
     "name": "#%%\n"
    }
   }
  },
  {
   "cell_type": "code",
   "execution_count": 39,
   "outputs": [],
   "source": [
    "from statistics import mean, variance\n",
    "from ir_axioms.backend.pyterrier.transformers import AggregatedAxiomaticPreference\n",
    "\n",
    "aggregations = [\n",
    "    sum,\n",
    "    variance,\n",
    "    mean,\n",
    "    max,\n",
    "    min,\n",
    "    lambda ps: mean(float(p >= 0) for p in ps),\n",
    "    lambda ps: mean(float(p <= 0) for p in ps),\n",
    "]\n",
    "features = bm25 % 20 >> AggregatedAxiomaticPreference(\n",
    "    axioms=axioms,\n",
    "    index=index_dir,\n",
    "    aggregations=aggregations,\n",
    "    dataset=dataset_name,\n",
    "    verbose=True,\n",
    ")"
   ],
   "metadata": {
    "collapsed": false,
    "pycharm": {
     "name": "#%%\n"
    }
   }
  },
  {
   "cell_type": "code",
   "execution_count": 40,
   "outputs": [
    {
     "data": {
      "text/plain": "BR(BM25):   0%|          | 0/1 [00:00<?, ?q/s]",
      "application/vnd.jupyter.widget-view+json": {
       "version_major": 2,
       "version_minor": 0,
       "model_id": "c0733e11a4874f8589c928ac7ede174e"
      }
     },
     "metadata": {},
     "output_type": "display_data"
    },
    {
     "data": {
      "text/plain": "Aggregating query axiom preferences:   0%|          | 0/1 [00:00<?, ?query/s]",
      "application/vnd.jupyter.widget-view+json": {
       "version_major": 2,
       "version_minor": 0,
       "model_id": "5c42ee1744d9444995e7519cd0c5e452"
      }
     },
     "metadata": {},
     "output_type": "display_data"
    },
    {
     "data": {
      "text/plain": "0     [-5.0, 0.19736842105263158, -0.25, 0.0, -1.0, ...\n1     [-3.0, 0.23947368421052628, -0.15, 1.0, -1.0, ...\n2     [-4.0, 0.16842105263157897, -0.2, 0.0, -1.0, 0...\n3     [-2.0, 0.2, -0.1, 1.0, -1.0, 0.85, 0.95, -1.0,...\n4     [6.0, 0.22105263157894733, 0.3, 1.0, 0.0, 1.0,...\n5     [4.0, 0.16842105263157897, 0.2, 1.0, 0.0, 1.0,...\n6     [2.0, 0.2, 0.1, 1.0, -1.0, 0.95, 0.85, 5.0, 0....\n7     [4.0, 0.16842105263157897, 0.2, 1.0, 0.0, 1.0,...\n8     [0.0, 0.0, 0.0, 0.0, 0.0, 1.0, 1.0, 0.0, 0.0, ...\n9     [0.0, 0.0, 0.0, 0.0, 0.0, 1.0, 1.0, 0.0, 0.0, ...\n10    [-1.0, 0.049999999999999996, -0.05, 0.0, -1.0,...\n11    [1.0, 0.049999999999999996, 0.05, 1.0, 0.0, 1....\n12    [2.0, 0.2, 0.1, 1.0, -1.0, 0.95, 0.85, -6.0, 0...\n13    [0.0, 0.0, 0.0, 0.0, 0.0, 1.0, 1.0, 0.0, 0.0, ...\n14    [-3.0, 0.13421052631578945, -0.15, 0.0, -1.0, ...\n15    [-1.0, 0.049999999999999996, -0.05, 0.0, -1.0,...\n16    [2.0, 0.09473684210526316, 0.1, 1.0, 0.0, 1.0,...\n17    [1.0, 0.26052631578947366, 0.05, 1.0, -1.0, 0....\n18    [-3.0, 0.13421052631578945, -0.15, 0.0, -1.0, ...\n19    [0.0, 0.0, 0.0, 0.0, 0.0, 1.0, 1.0, 0.0, 0.0, ...\nName: features, dtype: object"
     },
     "execution_count": 40,
     "metadata": {},
     "output_type": "execute_result"
    }
   ],
   "source": [
    "features.transform(dataset_test.get_topics()[:1])[\"features\"]"
   ],
   "metadata": {
    "collapsed": false,
    "pycharm": {
     "name": "#%%\n"
    }
   }
  },
  {
   "cell_type": "code",
   "execution_count": 41,
   "outputs": [],
   "source": [
    "from lightgbm import LGBMRanker\n",
    "from pyterrier.ltr import apply_learned_model\n",
    "\n",
    "lambda_mart = LGBMRanker(\n",
    "    task=\"train\",\n",
    "    num_leaves=64,\n",
    "    objective=\"lambdarank\",\n",
    "    metric=\"ndcg\",\n",
    "    ndcg_eval_at=[5, 10],\n",
    "    learning_rate=.1,\n",
    "    num_iterations=500,\n",
    "    importance_type=\"gain\",\n",
    ")\n",
    "ltr = features >> apply_learned_model(lambda_mart, form=\"ltr\")"
   ],
   "metadata": {
    "collapsed": false,
    "pycharm": {
     "name": "#%%\n"
    }
   }
  },
  {
   "cell_type": "code",
   "execution_count": 42,
   "outputs": [
    {
     "data": {
      "text/plain": "BR(BM25):   0%|          | 0/43 [00:00<?, ?q/s]",
      "application/vnd.jupyter.widget-view+json": {
       "version_major": 2,
       "version_minor": 0,
       "model_id": "fe99d2635e8b4d87aeb01d60f6366137"
      }
     },
     "metadata": {},
     "output_type": "display_data"
    },
    {
     "data": {
      "text/plain": "Aggregating query axiom preferences:   0%|          | 0/43 [00:00<?, ?query/s]",
      "application/vnd.jupyter.widget-view+json": {
       "version_major": 2,
       "version_minor": 0,
       "model_id": "e99758b656c646d882dca53c57a3e01f"
      }
     },
     "metadata": {},
     "output_type": "display_data"
    },
    {
     "data": {
      "text/plain": "BR(BM25):   0%|          | 0/10 [00:00<?, ?q/s]",
      "application/vnd.jupyter.widget-view+json": {
       "version_major": 2,
       "version_minor": 0,
       "model_id": "ab105bbafb2347f68618791319054856"
      }
     },
     "metadata": {},
     "output_type": "display_data"
    },
    {
     "data": {
      "text/plain": "Aggregating query axiom preferences:   0%|          | 0/10 [00:00<?, ?query/s]",
      "application/vnd.jupyter.widget-view+json": {
       "version_major": 2,
       "version_minor": 0,
       "model_id": "82bb9eeded6044e986390971ba630875"
      }
     },
     "metadata": {},
     "output_type": "display_data"
    },
    {
     "name": "stderr",
     "output_type": "stream",
     "text": [
      "/home/heinrich/Development/webis/ir_axioms/venv/lib/python3.9/site-packages/lightgbm/sklearn.py:621: UserWarning: Found 'ndcg_eval_at' in params. Will use it instead of 'eval_at' argument\n",
      "  _log_warning(f\"Found '{alias}' in params. Will use it instead of 'eval_at' argument\")\n",
      "/home/heinrich/Development/webis/ir_axioms/venv/lib/python3.9/site-packages/lightgbm/engine.py:177: UserWarning: Found `num_iterations` in params. Will use it instead of argument\n",
      "  _log_warning(f\"Found `{alias}` in params. Will use it instead of argument\")\n"
     ]
    },
    {
     "name": "stdout",
     "output_type": "stream",
     "text": [
      "[1]\tvalid_0's ndcg@5: 0.414169\tvalid_0's ndcg@10: 0.539215\n",
      "[2]\tvalid_0's ndcg@5: 0.452077\tvalid_0's ndcg@10: 0.56795\n",
      "[3]\tvalid_0's ndcg@5: 0.466076\tvalid_0's ndcg@10: 0.560126\n",
      "[4]\tvalid_0's ndcg@5: 0.461305\tvalid_0's ndcg@10: 0.537124\n",
      "[5]\tvalid_0's ndcg@5: 0.531345\tvalid_0's ndcg@10: 0.583721\n",
      "[6]\tvalid_0's ndcg@5: 0.523462\tvalid_0's ndcg@10: 0.588838\n",
      "[7]\tvalid_0's ndcg@5: 0.55886\tvalid_0's ndcg@10: 0.609431\n",
      "[8]\tvalid_0's ndcg@5: 0.569162\tvalid_0's ndcg@10: 0.619859\n",
      "[9]\tvalid_0's ndcg@5: 0.543874\tvalid_0's ndcg@10: 0.648808\n",
      "[10]\tvalid_0's ndcg@5: 0.543237\tvalid_0's ndcg@10: 0.636326\n",
      "[11]\tvalid_0's ndcg@5: 0.544582\tvalid_0's ndcg@10: 0.654756\n",
      "[12]\tvalid_0's ndcg@5: 0.581585\tvalid_0's ndcg@10: 0.645021\n",
      "[13]\tvalid_0's ndcg@5: 0.578295\tvalid_0's ndcg@10: 0.646972\n",
      "[14]\tvalid_0's ndcg@5: 0.559168\tvalid_0's ndcg@10: 0.636265\n",
      "[15]\tvalid_0's ndcg@5: 0.521877\tvalid_0's ndcg@10: 0.613303\n",
      "[16]\tvalid_0's ndcg@5: 0.567678\tvalid_0's ndcg@10: 0.636185\n",
      "[17]\tvalid_0's ndcg@5: 0.572691\tvalid_0's ndcg@10: 0.616853\n",
      "[18]\tvalid_0's ndcg@5: 0.566707\tvalid_0's ndcg@10: 0.614661\n",
      "[19]\tvalid_0's ndcg@5: 0.578558\tvalid_0's ndcg@10: 0.62394\n",
      "[20]\tvalid_0's ndcg@5: 0.592682\tvalid_0's ndcg@10: 0.630786\n",
      "[21]\tvalid_0's ndcg@5: 0.587876\tvalid_0's ndcg@10: 0.629219\n",
      "[22]\tvalid_0's ndcg@5: 0.578841\tvalid_0's ndcg@10: 0.630043\n",
      "[23]\tvalid_0's ndcg@5: 0.583797\tvalid_0's ndcg@10: 0.628157\n",
      "[24]\tvalid_0's ndcg@5: 0.573821\tvalid_0's ndcg@10: 0.618174\n",
      "[25]\tvalid_0's ndcg@5: 0.571279\tvalid_0's ndcg@10: 0.618723\n",
      "[26]\tvalid_0's ndcg@5: 0.584601\tvalid_0's ndcg@10: 0.624522\n",
      "[27]\tvalid_0's ndcg@5: 0.584601\tvalid_0's ndcg@10: 0.624484\n",
      "[28]\tvalid_0's ndcg@5: 0.584601\tvalid_0's ndcg@10: 0.626644\n",
      "[29]\tvalid_0's ndcg@5: 0.577104\tvalid_0's ndcg@10: 0.625758\n",
      "[30]\tvalid_0's ndcg@5: 0.584005\tvalid_0's ndcg@10: 0.626594\n",
      "[31]\tvalid_0's ndcg@5: 0.591503\tvalid_0's ndcg@10: 0.623619\n",
      "[32]\tvalid_0's ndcg@5: 0.574911\tvalid_0's ndcg@10: 0.613303\n",
      "[33]\tvalid_0's ndcg@5: 0.577453\tvalid_0's ndcg@10: 0.610955\n",
      "[34]\tvalid_0's ndcg@5: 0.556835\tvalid_0's ndcg@10: 0.608802\n",
      "[35]\tvalid_0's ndcg@5: 0.56587\tvalid_0's ndcg@10: 0.609952\n",
      "[36]\tvalid_0's ndcg@5: 0.559846\tvalid_0's ndcg@10: 0.616299\n",
      "[37]\tvalid_0's ndcg@5: 0.562238\tvalid_0's ndcg@10: 0.614086\n",
      "[38]\tvalid_0's ndcg@5: 0.560751\tvalid_0's ndcg@10: 0.606264\n",
      "[39]\tvalid_0's ndcg@5: 0.554201\tvalid_0's ndcg@10: 0.611613\n",
      "[40]\tvalid_0's ndcg@5: 0.556835\tvalid_0's ndcg@10: 0.615507\n",
      "[41]\tvalid_0's ndcg@5: 0.569955\tvalid_0's ndcg@10: 0.619444\n",
      "[42]\tvalid_0's ndcg@5: 0.569955\tvalid_0's ndcg@10: 0.622902\n",
      "[43]\tvalid_0's ndcg@5: 0.553874\tvalid_0's ndcg@10: 0.619437\n",
      "[44]\tvalid_0's ndcg@5: 0.564453\tvalid_0's ndcg@10: 0.618096\n",
      "[45]\tvalid_0's ndcg@5: 0.566376\tvalid_0's ndcg@10: 0.619527\n",
      "[46]\tvalid_0's ndcg@5: 0.566995\tvalid_0's ndcg@10: 0.620292\n",
      "[47]\tvalid_0's ndcg@5: 0.566376\tvalid_0's ndcg@10: 0.620419\n",
      "[48]\tvalid_0's ndcg@5: 0.566376\tvalid_0's ndcg@10: 0.620731\n",
      "[49]\tvalid_0's ndcg@5: 0.566376\tvalid_0's ndcg@10: 0.620478\n",
      "[50]\tvalid_0's ndcg@5: 0.566376\tvalid_0's ndcg@10: 0.618186\n",
      "[51]\tvalid_0's ndcg@5: 0.566376\tvalid_0's ndcg@10: 0.615544\n",
      "[52]\tvalid_0's ndcg@5: 0.566376\tvalid_0's ndcg@10: 0.615591\n",
      "[53]\tvalid_0's ndcg@5: 0.577166\tvalid_0's ndcg@10: 0.616317\n",
      "[54]\tvalid_0's ndcg@5: 0.577166\tvalid_0's ndcg@10: 0.616272\n",
      "[55]\tvalid_0's ndcg@5: 0.577166\tvalid_0's ndcg@10: 0.616456\n",
      "[56]\tvalid_0's ndcg@5: 0.563802\tvalid_0's ndcg@10: 0.615552\n",
      "[57]\tvalid_0's ndcg@5: 0.563802\tvalid_0's ndcg@10: 0.615852\n",
      "[58]\tvalid_0's ndcg@5: 0.568668\tvalid_0's ndcg@10: 0.620284\n",
      "[59]\tvalid_0's ndcg@5: 0.563115\tvalid_0's ndcg@10: 0.618023\n",
      "[60]\tvalid_0's ndcg@5: 0.56484\tvalid_0's ndcg@10: 0.619381\n",
      "[61]\tvalid_0's ndcg@5: 0.567433\tvalid_0's ndcg@10: 0.622305\n",
      "[62]\tvalid_0's ndcg@5: 0.567433\tvalid_0's ndcg@10: 0.619713\n",
      "[63]\tvalid_0's ndcg@5: 0.564891\tvalid_0's ndcg@10: 0.617345\n",
      "[64]\tvalid_0's ndcg@5: 0.580182\tvalid_0's ndcg@10: 0.630598\n",
      "[65]\tvalid_0's ndcg@5: 0.564421\tvalid_0's ndcg@10: 0.616718\n",
      "[66]\tvalid_0's ndcg@5: 0.577123\tvalid_0's ndcg@10: 0.627579\n",
      "[67]\tvalid_0's ndcg@5: 0.577123\tvalid_0's ndcg@10: 0.627391\n",
      "[68]\tvalid_0's ndcg@5: 0.564421\tvalid_0's ndcg@10: 0.619389\n",
      "[69]\tvalid_0's ndcg@5: 0.564421\tvalid_0's ndcg@10: 0.621447\n",
      "[70]\tvalid_0's ndcg@5: 0.561879\tvalid_0's ndcg@10: 0.619764\n",
      "[71]\tvalid_0's ndcg@5: 0.539947\tvalid_0's ndcg@10: 0.615151\n",
      "[72]\tvalid_0's ndcg@5: 0.549638\tvalid_0's ndcg@10: 0.617645\n",
      "[73]\tvalid_0's ndcg@5: 0.539947\tvalid_0's ndcg@10: 0.610243\n",
      "[74]\tvalid_0's ndcg@5: 0.553311\tvalid_0's ndcg@10: 0.618352\n",
      "[75]\tvalid_0's ndcg@5: 0.555853\tvalid_0's ndcg@10: 0.619447\n",
      "[76]\tvalid_0's ndcg@5: 0.556271\tvalid_0's ndcg@10: 0.618738\n",
      "[77]\tvalid_0's ndcg@5: 0.569095\tvalid_0's ndcg@10: 0.64371\n",
      "[78]\tvalid_0's ndcg@5: 0.566134\tvalid_0's ndcg@10: 0.640332\n",
      "[79]\tvalid_0's ndcg@5: 0.564515\tvalid_0's ndcg@10: 0.640871\n",
      "[80]\tvalid_0's ndcg@5: 0.564515\tvalid_0's ndcg@10: 0.641039\n",
      "[81]\tvalid_0's ndcg@5: 0.564515\tvalid_0's ndcg@10: 0.6263\n",
      "[82]\tvalid_0's ndcg@5: 0.554825\tvalid_0's ndcg@10: 0.618383\n",
      "[83]\tvalid_0's ndcg@5: 0.554825\tvalid_0's ndcg@10: 0.618676\n",
      "[84]\tvalid_0's ndcg@5: 0.563001\tvalid_0's ndcg@10: 0.618129\n",
      "[85]\tvalid_0's ndcg@5: 0.563001\tvalid_0's ndcg@10: 0.617353\n",
      "[86]\tvalid_0's ndcg@5: 0.563001\tvalid_0's ndcg@10: 0.618026\n",
      "[87]\tvalid_0's ndcg@5: 0.563001\tvalid_0's ndcg@10: 0.618186\n",
      "[88]\tvalid_0's ndcg@5: 0.563001\tvalid_0's ndcg@10: 0.614247\n",
      "[89]\tvalid_0's ndcg@5: 0.564515\tvalid_0's ndcg@10: 0.617873\n",
      "[90]\tvalid_0's ndcg@5: 0.566013\tvalid_0's ndcg@10: 0.616779\n",
      "[91]\tvalid_0's ndcg@5: 0.566013\tvalid_0's ndcg@10: 0.61692\n",
      "[92]\tvalid_0's ndcg@5: 0.566013\tvalid_0's ndcg@10: 0.621269\n",
      "[93]\tvalid_0's ndcg@5: 0.565892\tvalid_0's ndcg@10: 0.619367\n",
      "[94]\tvalid_0's ndcg@5: 0.556202\tvalid_0's ndcg@10: 0.611219\n",
      "[95]\tvalid_0's ndcg@5: 0.556202\tvalid_0's ndcg@10: 0.608365\n",
      "[96]\tvalid_0's ndcg@5: 0.556202\tvalid_0's ndcg@10: 0.606714\n",
      "[97]\tvalid_0's ndcg@5: 0.565892\tvalid_0's ndcg@10: 0.622544\n",
      "[98]\tvalid_0's ndcg@5: 0.565892\tvalid_0's ndcg@10: 0.622546\n",
      "[99]\tvalid_0's ndcg@5: 0.564406\tvalid_0's ndcg@10: 0.621538\n",
      "[100]\tvalid_0's ndcg@5: 0.565892\tvalid_0's ndcg@10: 0.622801\n",
      "[101]\tvalid_0's ndcg@5: 0.565892\tvalid_0's ndcg@10: 0.615359\n",
      "[102]\tvalid_0's ndcg@5: 0.564406\tvalid_0's ndcg@10: 0.613755\n",
      "[103]\tvalid_0's ndcg@5: 0.552649\tvalid_0's ndcg@10: 0.614908\n",
      "[104]\tvalid_0's ndcg@5: 0.552649\tvalid_0's ndcg@10: 0.598381\n",
      "[105]\tvalid_0's ndcg@5: 0.555489\tvalid_0's ndcg@10: 0.608011\n",
      "[106]\tvalid_0's ndcg@5: 0.551857\tvalid_0's ndcg@10: 0.621425\n",
      "[107]\tvalid_0's ndcg@5: 0.556394\tvalid_0's ndcg@10: 0.596403\n",
      "[108]\tvalid_0's ndcg@5: 0.558001\tvalid_0's ndcg@10: 0.598281\n",
      "[109]\tvalid_0's ndcg@5: 0.558001\tvalid_0's ndcg@10: 0.598164\n",
      "[110]\tvalid_0's ndcg@5: 0.558001\tvalid_0's ndcg@10: 0.614692\n",
      "[111]\tvalid_0's ndcg@5: 0.558001\tvalid_0's ndcg@10: 0.614808\n",
      "[112]\tvalid_0's ndcg@5: 0.558001\tvalid_0's ndcg@10: 0.598883\n",
      "[113]\tvalid_0's ndcg@5: 0.558001\tvalid_0's ndcg@10: 0.598289\n",
      "[114]\tvalid_0's ndcg@5: 0.551978\tvalid_0's ndcg@10: 0.597537\n",
      "[115]\tvalid_0's ndcg@5: 0.551978\tvalid_0's ndcg@10: 0.59803\n",
      "[116]\tvalid_0's ndcg@5: 0.554003\tvalid_0's ndcg@10: 0.599187\n",
      "[117]\tvalid_0's ndcg@5: 0.554003\tvalid_0's ndcg@10: 0.599507\n",
      "[118]\tvalid_0's ndcg@5: 0.551978\tvalid_0's ndcg@10: 0.59803\n",
      "[119]\tvalid_0's ndcg@5: 0.55561\tvalid_0's ndcg@10: 0.600868\n",
      "[120]\tvalid_0's ndcg@5: 0.55561\tvalid_0's ndcg@10: 0.60125\n",
      "[121]\tvalid_0's ndcg@5: 0.55561\tvalid_0's ndcg@10: 0.600911\n",
      "[122]\tvalid_0's ndcg@5: 0.550371\tvalid_0's ndcg@10: 0.59644\n",
      "[123]\tvalid_0's ndcg@5: 0.551978\tvalid_0's ndcg@10: 0.597937\n",
      "[124]\tvalid_0's ndcg@5: 0.551978\tvalid_0's ndcg@10: 0.598073\n",
      "[125]\tvalid_0's ndcg@5: 0.551978\tvalid_0's ndcg@10: 0.59786\n",
      "[126]\tvalid_0's ndcg@5: 0.551978\tvalid_0's ndcg@10: 0.597897\n",
      "[127]\tvalid_0's ndcg@5: 0.551978\tvalid_0's ndcg@10: 0.59754\n",
      "[128]\tvalid_0's ndcg@5: 0.55561\tvalid_0's ndcg@10: 0.600514\n",
      "[129]\tvalid_0's ndcg@5: 0.551978\tvalid_0's ndcg@10: 0.59754\n",
      "[130]\tvalid_0's ndcg@5: 0.553464\tvalid_0's ndcg@10: 0.598648\n",
      "[131]\tvalid_0's ndcg@5: 0.553464\tvalid_0's ndcg@10: 0.598648\n",
      "[132]\tvalid_0's ndcg@5: 0.553464\tvalid_0's ndcg@10: 0.598648\n",
      "[133]\tvalid_0's ndcg@5: 0.553464\tvalid_0's ndcg@10: 0.598504\n",
      "[134]\tvalid_0's ndcg@5: 0.558001\tvalid_0's ndcg@10: 0.597645\n",
      "[135]\tvalid_0's ndcg@5: 0.558001\tvalid_0's ndcg@10: 0.597188\n",
      "[136]\tvalid_0's ndcg@5: 0.558001\tvalid_0's ndcg@10: 0.597448\n",
      "[137]\tvalid_0's ndcg@5: 0.558001\tvalid_0's ndcg@10: 0.597866\n",
      "[138]\tvalid_0's ndcg@5: 0.558001\tvalid_0's ndcg@10: 0.59781\n",
      "[139]\tvalid_0's ndcg@5: 0.558001\tvalid_0's ndcg@10: 0.597712\n",
      "[140]\tvalid_0's ndcg@5: 0.558001\tvalid_0's ndcg@10: 0.597712\n",
      "[141]\tvalid_0's ndcg@5: 0.556394\tvalid_0's ndcg@10: 0.596215\n",
      "[142]\tvalid_0's ndcg@5: 0.558001\tvalid_0's ndcg@10: 0.597712\n",
      "[143]\tvalid_0's ndcg@5: 0.558001\tvalid_0's ndcg@10: 0.597971\n",
      "[144]\tvalid_0's ndcg@5: 0.558001\tvalid_0's ndcg@10: 0.59781\n",
      "[145]\tvalid_0's ndcg@5: 0.558001\tvalid_0's ndcg@10: 0.597391\n",
      "[146]\tvalid_0's ndcg@5: 0.558001\tvalid_0's ndcg@10: 0.597472\n",
      "[147]\tvalid_0's ndcg@5: 0.558001\tvalid_0's ndcg@10: 0.597472\n",
      "[148]\tvalid_0's ndcg@5: 0.559569\tvalid_0's ndcg@10: 0.598877\n",
      "[149]\tvalid_0's ndcg@5: 0.557962\tvalid_0's ndcg@10: 0.597356\n",
      "[150]\tvalid_0's ndcg@5: 0.557962\tvalid_0's ndcg@10: 0.596817\n",
      "[151]\tvalid_0's ndcg@5: 0.553545\tvalid_0's ndcg@10: 0.598108\n",
      "[152]\tvalid_0's ndcg@5: 0.553545\tvalid_0's ndcg@10: 0.598389\n",
      "[153]\tvalid_0's ndcg@5: 0.553545\tvalid_0's ndcg@10: 0.598073\n",
      "[154]\tvalid_0's ndcg@5: 0.553545\tvalid_0's ndcg@10: 0.598073\n",
      "[155]\tvalid_0's ndcg@5: 0.553545\tvalid_0's ndcg@10: 0.598237\n",
      "[156]\tvalid_0's ndcg@5: 0.553545\tvalid_0's ndcg@10: 0.598237\n",
      "[157]\tvalid_0's ndcg@5: 0.551939\tvalid_0's ndcg@10: 0.610096\n",
      "[158]\tvalid_0's ndcg@5: 0.559569\tvalid_0's ndcg@10: 0.598285\n",
      "[159]\tvalid_0's ndcg@5: 0.559569\tvalid_0's ndcg@10: 0.598168\n",
      "[160]\tvalid_0's ndcg@5: 0.557962\tvalid_0's ndcg@10: 0.596763\n",
      "[161]\tvalid_0's ndcg@5: 0.557962\tvalid_0's ndcg@10: 0.596509\n",
      "[162]\tvalid_0's ndcg@5: 0.556355\tvalid_0's ndcg@10: 0.595526\n",
      "[163]\tvalid_0's ndcg@5: 0.557962\tvalid_0's ndcg@10: 0.596659\n",
      "[164]\tvalid_0's ndcg@5: 0.557962\tvalid_0's ndcg@10: 0.611171\n",
      "[165]\tvalid_0's ndcg@5: 0.559569\tvalid_0's ndcg@10: 0.612091\n",
      "[166]\tvalid_0's ndcg@5: 0.559569\tvalid_0's ndcg@10: 0.61235\n",
      "[167]\tvalid_0's ndcg@5: 0.559569\tvalid_0's ndcg@10: 0.61235\n",
      "[168]\tvalid_0's ndcg@5: 0.559569\tvalid_0's ndcg@10: 0.611899\n",
      "[169]\tvalid_0's ndcg@5: 0.559569\tvalid_0's ndcg@10: 0.612757\n",
      "[170]\tvalid_0's ndcg@5: 0.559569\tvalid_0's ndcg@10: 0.61208\n",
      "[171]\tvalid_0's ndcg@5: 0.559569\tvalid_0's ndcg@10: 0.61309\n",
      "[172]\tvalid_0's ndcg@5: 0.557962\tvalid_0's ndcg@10: 0.610034\n",
      "[173]\tvalid_0's ndcg@5: 0.558001\tvalid_0's ndcg@10: 0.610879\n",
      "[174]\tvalid_0's ndcg@5: 0.558001\tvalid_0's ndcg@10: 0.610879\n",
      "[175]\tvalid_0's ndcg@5: 0.558001\tvalid_0's ndcg@10: 0.610879\n",
      "[176]\tvalid_0's ndcg@5: 0.556394\tvalid_0's ndcg@10: 0.610051\n",
      "[177]\tvalid_0's ndcg@5: 0.559569\tvalid_0's ndcg@10: 0.613005\n",
      "[178]\tvalid_0's ndcg@5: 0.559569\tvalid_0's ndcg@10: 0.612527\n",
      "[179]\tvalid_0's ndcg@5: 0.559569\tvalid_0's ndcg@10: 0.611991\n",
      "[180]\tvalid_0's ndcg@5: 0.559569\tvalid_0's ndcg@10: 0.612527\n",
      "[181]\tvalid_0's ndcg@5: 0.557962\tvalid_0's ndcg@10: 0.610885\n",
      "[182]\tvalid_0's ndcg@5: 0.557962\tvalid_0's ndcg@10: 0.610885\n",
      "[183]\tvalid_0's ndcg@5: 0.556394\tvalid_0's ndcg@10: 0.610098\n",
      "[184]\tvalid_0's ndcg@5: 0.558001\tvalid_0's ndcg@10: 0.610991\n",
      "[185]\tvalid_0's ndcg@5: 0.557962\tvalid_0's ndcg@10: 0.610349\n",
      "[186]\tvalid_0's ndcg@5: 0.557962\tvalid_0's ndcg@10: 0.61063\n",
      "[187]\tvalid_0's ndcg@5: 0.557962\tvalid_0's ndcg@10: 0.611234\n",
      "[188]\tvalid_0's ndcg@5: 0.557962\tvalid_0's ndcg@10: 0.611814\n",
      "[189]\tvalid_0's ndcg@5: 0.557962\tvalid_0's ndcg@10: 0.611166\n",
      "[190]\tvalid_0's ndcg@5: 0.557962\tvalid_0's ndcg@10: 0.611166\n",
      "[191]\tvalid_0's ndcg@5: 0.557962\tvalid_0's ndcg@10: 0.611526\n",
      "[192]\tvalid_0's ndcg@5: 0.559448\tvalid_0's ndcg@10: 0.617352\n",
      "[193]\tvalid_0's ndcg@5: 0.559448\tvalid_0's ndcg@10: 0.617352\n",
      "[194]\tvalid_0's ndcg@5: 0.551365\tvalid_0's ndcg@10: 0.610983\n",
      "[195]\tvalid_0's ndcg@5: 0.561055\tvalid_0's ndcg@10: 0.6188\n",
      "[196]\tvalid_0's ndcg@5: 0.551365\tvalid_0's ndcg@10: 0.610574\n",
      "[197]\tvalid_0's ndcg@5: 0.551365\tvalid_0's ndcg@10: 0.610623\n",
      "[198]\tvalid_0's ndcg@5: 0.549758\tvalid_0's ndcg@10: 0.608621\n",
      "[199]\tvalid_0's ndcg@5: 0.559448\tvalid_0's ndcg@10: 0.616376\n",
      "[200]\tvalid_0's ndcg@5: 0.549758\tvalid_0's ndcg@10: 0.609257\n",
      "[201]\tvalid_0's ndcg@5: 0.549758\tvalid_0's ndcg@10: 0.609257\n",
      "[202]\tvalid_0's ndcg@5: 0.551365\tvalid_0's ndcg@10: 0.606523\n",
      "[203]\tvalid_0's ndcg@5: 0.551365\tvalid_0's ndcg@10: 0.606523\n",
      "[204]\tvalid_0's ndcg@5: 0.551365\tvalid_0's ndcg@10: 0.606523\n",
      "[205]\tvalid_0's ndcg@5: 0.551365\tvalid_0's ndcg@10: 0.606634\n",
      "[206]\tvalid_0's ndcg@5: 0.549758\tvalid_0's ndcg@10: 0.604749\n",
      "[207]\tvalid_0's ndcg@5: 0.551365\tvalid_0's ndcg@10: 0.606767\n",
      "[208]\tvalid_0's ndcg@5: 0.551365\tvalid_0's ndcg@10: 0.606492\n",
      "[209]\tvalid_0's ndcg@5: 0.558266\tvalid_0's ndcg@10: 0.607087\n",
      "[210]\tvalid_0's ndcg@5: 0.551365\tvalid_0's ndcg@10: 0.606492\n",
      "[211]\tvalid_0's ndcg@5: 0.551365\tvalid_0's ndcg@10: 0.606492\n",
      "[212]\tvalid_0's ndcg@5: 0.551365\tvalid_0's ndcg@10: 0.606356\n",
      "[213]\tvalid_0's ndcg@5: 0.551365\tvalid_0's ndcg@10: 0.606356\n",
      "[214]\tvalid_0's ndcg@5: 0.567957\tvalid_0's ndcg@10: 0.618933\n",
      "[215]\tvalid_0's ndcg@5: 0.552166\tvalid_0's ndcg@10: 0.616525\n",
      "[216]\tvalid_0's ndcg@5: 0.542476\tvalid_0's ndcg@10: 0.608523\n",
      "[217]\tvalid_0's ndcg@5: 0.542476\tvalid_0's ndcg@10: 0.608523\n",
      "[218]\tvalid_0's ndcg@5: 0.555225\tvalid_0's ndcg@10: 0.619408\n",
      "[219]\tvalid_0's ndcg@5: 0.542476\tvalid_0's ndcg@10: 0.608523\n",
      "[220]\tvalid_0's ndcg@5: 0.555225\tvalid_0's ndcg@10: 0.619708\n",
      "[221]\tvalid_0's ndcg@5: 0.555225\tvalid_0's ndcg@10: 0.619387\n",
      "[222]\tvalid_0's ndcg@5: 0.555225\tvalid_0's ndcg@10: 0.61929\n",
      "[223]\tvalid_0's ndcg@5: 0.555225\tvalid_0's ndcg@10: 0.619387\n",
      "[224]\tvalid_0's ndcg@5: 0.555225\tvalid_0's ndcg@10: 0.61929\n",
      "[225]\tvalid_0's ndcg@5: 0.555225\tvalid_0's ndcg@10: 0.61929\n",
      "[226]\tvalid_0's ndcg@5: 0.555225\tvalid_0's ndcg@10: 0.619387\n",
      "[227]\tvalid_0's ndcg@5: 0.555225\tvalid_0's ndcg@10: 0.619387\n",
      "[228]\tvalid_0's ndcg@5: 0.569409\tvalid_0's ndcg@10: 0.620551\n",
      "[229]\tvalid_0's ndcg@5: 0.569409\tvalid_0's ndcg@10: 0.620551\n",
      "[230]\tvalid_0's ndcg@5: 0.569409\tvalid_0's ndcg@10: 0.620551\n",
      "[231]\tvalid_0's ndcg@5: 0.569409\tvalid_0's ndcg@10: 0.620551\n",
      "[232]\tvalid_0's ndcg@5: 0.569409\tvalid_0's ndcg@10: 0.620551\n",
      "[233]\tvalid_0's ndcg@5: 0.555225\tvalid_0's ndcg@10: 0.619504\n",
      "[234]\tvalid_0's ndcg@5: 0.555225\tvalid_0's ndcg@10: 0.619504\n",
      "[235]\tvalid_0's ndcg@5: 0.555225\tvalid_0's ndcg@10: 0.619504\n",
      "[236]\tvalid_0's ndcg@5: 0.555225\tvalid_0's ndcg@10: 0.619504\n",
      "[237]\tvalid_0's ndcg@5: 0.542476\tvalid_0's ndcg@10: 0.608619\n",
      "[238]\tvalid_0's ndcg@5: 0.542476\tvalid_0's ndcg@10: 0.607949\n",
      "[239]\tvalid_0's ndcg@5: 0.542476\tvalid_0's ndcg@10: 0.607949\n",
      "[240]\tvalid_0's ndcg@5: 0.544502\tvalid_0's ndcg@10: 0.607497\n",
      "[241]\tvalid_0's ndcg@5: 0.544502\tvalid_0's ndcg@10: 0.608666\n",
      "[242]\tvalid_0's ndcg@5: 0.544502\tvalid_0's ndcg@10: 0.607497\n",
      "[243]\tvalid_0's ndcg@5: 0.557251\tvalid_0's ndcg@10: 0.618382\n",
      "[244]\tvalid_0's ndcg@5: 0.555225\tvalid_0's ndcg@10: 0.618232\n",
      "[245]\tvalid_0's ndcg@5: 0.556007\tvalid_0's ndcg@10: 0.618917\n",
      "[246]\tvalid_0's ndcg@5: 0.556007\tvalid_0's ndcg@10: 0.618917\n",
      "[247]\tvalid_0's ndcg@5: 0.556007\tvalid_0's ndcg@10: 0.618917\n",
      "[248]\tvalid_0's ndcg@5: 0.543257\tvalid_0's ndcg@10: 0.607968\n",
      "[249]\tvalid_0's ndcg@5: 0.545284\tvalid_0's ndcg@10: 0.608857\n",
      "[250]\tvalid_0's ndcg@5: 0.543257\tvalid_0's ndcg@10: 0.608708\n",
      "[251]\tvalid_0's ndcg@5: 0.545284\tvalid_0's ndcg@10: 0.60876\n",
      "[252]\tvalid_0's ndcg@5: 0.545513\tvalid_0's ndcg@10: 0.608974\n",
      "[253]\tvalid_0's ndcg@5: 0.545284\tvalid_0's ndcg@10: 0.608857\n",
      "[254]\tvalid_0's ndcg@5: 0.543257\tvalid_0's ndcg@10: 0.608708\n",
      "[255]\tvalid_0's ndcg@5: 0.543257\tvalid_0's ndcg@10: 0.608708\n",
      "[256]\tvalid_0's ndcg@5: 0.543257\tvalid_0's ndcg@10: 0.608825\n",
      "[257]\tvalid_0's ndcg@5: 0.543257\tvalid_0's ndcg@10: 0.608825\n",
      "[258]\tvalid_0's ndcg@5: 0.543257\tvalid_0's ndcg@10: 0.608954\n",
      "[259]\tvalid_0's ndcg@5: 0.543257\tvalid_0's ndcg@10: 0.608128\n",
      "[260]\tvalid_0's ndcg@5: 0.543257\tvalid_0's ndcg@10: 0.608245\n",
      "[261]\tvalid_0's ndcg@5: 0.543257\tvalid_0's ndcg@10: 0.608245\n",
      "[262]\tvalid_0's ndcg@5: 0.543257\tvalid_0's ndcg@10: 0.608085\n",
      "[263]\tvalid_0's ndcg@5: 0.543257\tvalid_0's ndcg@10: 0.608085\n",
      "[264]\tvalid_0's ndcg@5: 0.543257\tvalid_0's ndcg@10: 0.608085\n",
      "[265]\tvalid_0's ndcg@5: 0.543257\tvalid_0's ndcg@10: 0.608085\n",
      "[266]\tvalid_0's ndcg@5: 0.543257\tvalid_0's ndcg@10: 0.608245\n",
      "[267]\tvalid_0's ndcg@5: 0.543257\tvalid_0's ndcg@10: 0.608778\n",
      "[268]\tvalid_0's ndcg@5: 0.543257\tvalid_0's ndcg@10: 0.60839\n",
      "[269]\tvalid_0's ndcg@5: 0.543257\tvalid_0's ndcg@10: 0.608778\n",
      "[270]\tvalid_0's ndcg@5: 0.543257\tvalid_0's ndcg@10: 0.60839\n",
      "[271]\tvalid_0's ndcg@5: 0.543257\tvalid_0's ndcg@10: 0.60839\n",
      "[272]\tvalid_0's ndcg@5: 0.543257\tvalid_0's ndcg@10: 0.60839\n",
      "[273]\tvalid_0's ndcg@5: 0.543257\tvalid_0's ndcg@10: 0.608778\n",
      "[274]\tvalid_0's ndcg@5: 0.543257\tvalid_0's ndcg@10: 0.608778\n",
      "[275]\tvalid_0's ndcg@5: 0.543257\tvalid_0's ndcg@10: 0.608778\n",
      "[276]\tvalid_0's ndcg@5: 0.543257\tvalid_0's ndcg@10: 0.608778\n",
      "[277]\tvalid_0's ndcg@5: 0.543257\tvalid_0's ndcg@10: 0.608778\n",
      "[278]\tvalid_0's ndcg@5: 0.543257\tvalid_0's ndcg@10: 0.608778\n",
      "[279]\tvalid_0's ndcg@5: 0.542476\tvalid_0's ndcg@10: 0.608094\n",
      "[280]\tvalid_0's ndcg@5: 0.543257\tvalid_0's ndcg@10: 0.609099\n",
      "[281]\tvalid_0's ndcg@5: 0.542476\tvalid_0's ndcg@10: 0.608414\n",
      "[282]\tvalid_0's ndcg@5: 0.542476\tvalid_0's ndcg@10: 0.608414\n",
      "[283]\tvalid_0's ndcg@5: 0.542476\tvalid_0's ndcg@10: 0.608236\n",
      "[284]\tvalid_0's ndcg@5: 0.542476\tvalid_0's ndcg@10: 0.608414\n",
      "[285]\tvalid_0's ndcg@5: 0.543257\tvalid_0's ndcg@10: 0.60892\n",
      "[286]\tvalid_0's ndcg@5: 0.543257\tvalid_0's ndcg@10: 0.60892\n",
      "[287]\tvalid_0's ndcg@5: 0.543257\tvalid_0's ndcg@10: 0.609099\n",
      "[288]\tvalid_0's ndcg@5: 0.542476\tvalid_0's ndcg@10: 0.608414\n",
      "[289]\tvalid_0's ndcg@5: 0.542476\tvalid_0's ndcg@10: 0.608236\n",
      "[290]\tvalid_0's ndcg@5: 0.542476\tvalid_0's ndcg@10: 0.608414\n",
      "[291]\tvalid_0's ndcg@5: 0.542476\tvalid_0's ndcg@10: 0.608414\n",
      "[292]\tvalid_0's ndcg@5: 0.542476\tvalid_0's ndcg@10: 0.608641\n",
      "[293]\tvalid_0's ndcg@5: 0.542476\tvalid_0's ndcg@10: 0.608463\n",
      "[294]\tvalid_0's ndcg@5: 0.542476\tvalid_0's ndcg@10: 0.608641\n",
      "[295]\tvalid_0's ndcg@5: 0.542476\tvalid_0's ndcg@10: 0.608641\n",
      "[296]\tvalid_0's ndcg@5: 0.542476\tvalid_0's ndcg@10: 0.608414\n",
      "[297]\tvalid_0's ndcg@5: 0.542476\tvalid_0's ndcg@10: 0.608414\n",
      "[298]\tvalid_0's ndcg@5: 0.542476\tvalid_0's ndcg@10: 0.608414\n",
      "[299]\tvalid_0's ndcg@5: 0.542476\tvalid_0's ndcg@10: 0.608414\n",
      "[300]\tvalid_0's ndcg@5: 0.542476\tvalid_0's ndcg@10: 0.608414\n",
      "[301]\tvalid_0's ndcg@5: 0.542476\tvalid_0's ndcg@10: 0.608414\n",
      "[302]\tvalid_0's ndcg@5: 0.542476\tvalid_0's ndcg@10: 0.608414\n",
      "[303]\tvalid_0's ndcg@5: 0.542476\tvalid_0's ndcg@10: 0.608414\n",
      "[304]\tvalid_0's ndcg@5: 0.542476\tvalid_0's ndcg@10: 0.608414\n",
      "[305]\tvalid_0's ndcg@5: 0.542476\tvalid_0's ndcg@10: 0.608414\n",
      "[306]\tvalid_0's ndcg@5: 0.542476\tvalid_0's ndcg@10: 0.608414\n",
      "[307]\tvalid_0's ndcg@5: 0.542476\tvalid_0's ndcg@10: 0.608414\n",
      "[308]\tvalid_0's ndcg@5: 0.542476\tvalid_0's ndcg@10: 0.608414\n",
      "[309]\tvalid_0's ndcg@5: 0.542476\tvalid_0's ndcg@10: 0.608414\n",
      "[310]\tvalid_0's ndcg@5: 0.555225\tvalid_0's ndcg@10: 0.6193\n",
      "[311]\tvalid_0's ndcg@5: 0.555225\tvalid_0's ndcg@10: 0.6193\n",
      "[312]\tvalid_0's ndcg@5: 0.555225\tvalid_0's ndcg@10: 0.6193\n",
      "[313]\tvalid_0's ndcg@5: 0.555225\tvalid_0's ndcg@10: 0.6193\n",
      "[314]\tvalid_0's ndcg@5: 0.544502\tvalid_0's ndcg@10: 0.608564\n",
      "[315]\tvalid_0's ndcg@5: 0.544502\tvalid_0's ndcg@10: 0.608564\n",
      "[316]\tvalid_0's ndcg@5: 0.557251\tvalid_0's ndcg@10: 0.619449\n",
      "[317]\tvalid_0's ndcg@5: 0.544502\tvalid_0's ndcg@10: 0.608564\n",
      "[318]\tvalid_0's ndcg@5: 0.548956\tvalid_0's ndcg@10: 0.608865\n",
      "[319]\tvalid_0's ndcg@5: 0.54693\tvalid_0's ndcg@10: 0.608716\n",
      "[320]\tvalid_0's ndcg@5: 0.555225\tvalid_0's ndcg@10: 0.6193\n",
      "[321]\tvalid_0's ndcg@5: 0.555225\tvalid_0's ndcg@10: 0.6193\n",
      "[322]\tvalid_0's ndcg@5: 0.555225\tvalid_0's ndcg@10: 0.6193\n",
      "[323]\tvalid_0's ndcg@5: 0.555225\tvalid_0's ndcg@10: 0.6193\n",
      "[324]\tvalid_0's ndcg@5: 0.555225\tvalid_0's ndcg@10: 0.6193\n",
      "[325]\tvalid_0's ndcg@5: 0.555225\tvalid_0's ndcg@10: 0.6193\n",
      "[326]\tvalid_0's ndcg@5: 0.555225\tvalid_0's ndcg@10: 0.6193\n",
      "[327]\tvalid_0's ndcg@5: 0.555225\tvalid_0's ndcg@10: 0.6193\n",
      "[328]\tvalid_0's ndcg@5: 0.554009\tvalid_0's ndcg@10: 0.618304\n",
      "[329]\tvalid_0's ndcg@5: 0.555225\tvalid_0's ndcg@10: 0.618874\n",
      "[330]\tvalid_0's ndcg@5: 0.555225\tvalid_0's ndcg@10: 0.618874\n",
      "[331]\tvalid_0's ndcg@5: 0.555225\tvalid_0's ndcg@10: 0.618922\n",
      "[332]\tvalid_0's ndcg@5: 0.555225\tvalid_0's ndcg@10: 0.618695\n",
      "[333]\tvalid_0's ndcg@5: 0.555225\tvalid_0's ndcg@10: 0.618695\n",
      "[334]\tvalid_0's ndcg@5: 0.559679\tvalid_0's ndcg@10: 0.618997\n",
      "[335]\tvalid_0's ndcg@5: 0.559679\tvalid_0's ndcg@10: 0.619175\n",
      "[336]\tvalid_0's ndcg@5: 0.559679\tvalid_0's ndcg@10: 0.619175\n",
      "[337]\tvalid_0's ndcg@5: 0.559679\tvalid_0's ndcg@10: 0.618997\n",
      "[338]\tvalid_0's ndcg@5: 0.559679\tvalid_0's ndcg@10: 0.618997\n",
      "[339]\tvalid_0's ndcg@5: 0.559679\tvalid_0's ndcg@10: 0.618997\n",
      "[340]\tvalid_0's ndcg@5: 0.559679\tvalid_0's ndcg@10: 0.619224\n",
      "[341]\tvalid_0's ndcg@5: 0.559679\tvalid_0's ndcg@10: 0.618997\n",
      "[342]\tvalid_0's ndcg@5: 0.559679\tvalid_0's ndcg@10: 0.619402\n",
      "[343]\tvalid_0's ndcg@5: 0.559679\tvalid_0's ndcg@10: 0.619402\n",
      "[344]\tvalid_0's ndcg@5: 0.559679\tvalid_0's ndcg@10: 0.619402\n",
      "[345]\tvalid_0's ndcg@5: 0.559679\tvalid_0's ndcg@10: 0.618644\n",
      "[346]\tvalid_0's ndcg@5: 0.559679\tvalid_0's ndcg@10: 0.618644\n",
      "[347]\tvalid_0's ndcg@5: 0.559679\tvalid_0's ndcg@10: 0.618644\n",
      "[348]\tvalid_0's ndcg@5: 0.559679\tvalid_0's ndcg@10: 0.618644\n",
      "[349]\tvalid_0's ndcg@5: 0.559679\tvalid_0's ndcg@10: 0.618871\n",
      "[350]\tvalid_0's ndcg@5: 0.559679\tvalid_0's ndcg@10: 0.618644\n",
      "[351]\tvalid_0's ndcg@5: 0.559679\tvalid_0's ndcg@10: 0.618644\n",
      "[352]\tvalid_0's ndcg@5: 0.559679\tvalid_0's ndcg@10: 0.618822\n",
      "[353]\tvalid_0's ndcg@5: 0.559679\tvalid_0's ndcg@10: 0.618644\n",
      "[354]\tvalid_0's ndcg@5: 0.559679\tvalid_0's ndcg@10: 0.618644\n",
      "[355]\tvalid_0's ndcg@5: 0.559679\tvalid_0's ndcg@10: 0.618644\n",
      "[356]\tvalid_0's ndcg@5: 0.559679\tvalid_0's ndcg@10: 0.618822\n",
      "[357]\tvalid_0's ndcg@5: 0.559679\tvalid_0's ndcg@10: 0.618822\n",
      "[358]\tvalid_0's ndcg@5: 0.560847\tvalid_0's ndcg@10: 0.619666\n",
      "[359]\tvalid_0's ndcg@5: 0.560847\tvalid_0's ndcg@10: 0.619666\n",
      "[360]\tvalid_0's ndcg@5: 0.556393\tvalid_0's ndcg@10: 0.619592\n",
      "[361]\tvalid_0's ndcg@5: 0.556393\tvalid_0's ndcg@10: 0.619365\n",
      "[362]\tvalid_0's ndcg@5: 0.556393\tvalid_0's ndcg@10: 0.619365\n",
      "[363]\tvalid_0's ndcg@5: 0.556393\tvalid_0's ndcg@10: 0.619592\n",
      "[364]\tvalid_0's ndcg@5: 0.556393\tvalid_0's ndcg@10: 0.619365\n",
      "[365]\tvalid_0's ndcg@5: 0.556393\tvalid_0's ndcg@10: 0.619365\n",
      "[366]\tvalid_0's ndcg@5: 0.556393\tvalid_0's ndcg@10: 0.619365\n",
      "[367]\tvalid_0's ndcg@5: 0.560847\tvalid_0's ndcg@10: 0.619845\n",
      "[368]\tvalid_0's ndcg@5: 0.560847\tvalid_0's ndcg@10: 0.619666\n",
      "[369]\tvalid_0's ndcg@5: 0.560847\tvalid_0's ndcg@10: 0.619666\n",
      "[370]\tvalid_0's ndcg@5: 0.560847\tvalid_0's ndcg@10: 0.619666\n",
      "[371]\tvalid_0's ndcg@5: 0.560847\tvalid_0's ndcg@10: 0.619666\n",
      "[372]\tvalid_0's ndcg@5: 0.560847\tvalid_0's ndcg@10: 0.619845\n",
      "[373]\tvalid_0's ndcg@5: 0.560847\tvalid_0's ndcg@10: 0.619666\n",
      "[374]\tvalid_0's ndcg@5: 0.560847\tvalid_0's ndcg@10: 0.619845\n",
      "[375]\tvalid_0's ndcg@5: 0.559632\tvalid_0's ndcg@10: 0.618849\n",
      "[376]\tvalid_0's ndcg@5: 0.559632\tvalid_0's ndcg@10: 0.618849\n",
      "[377]\tvalid_0's ndcg@5: 0.559632\tvalid_0's ndcg@10: 0.618849\n",
      "[378]\tvalid_0's ndcg@5: 0.559632\tvalid_0's ndcg@10: 0.618849\n",
      "[379]\tvalid_0's ndcg@5: 0.559632\tvalid_0's ndcg@10: 0.618849\n",
      "[380]\tvalid_0's ndcg@5: 0.549279\tvalid_0's ndcg@10: 0.617953\n",
      "[381]\tvalid_0's ndcg@5: 0.55273\tvalid_0's ndcg@10: 0.618062\n",
      "[382]\tvalid_0's ndcg@5: 0.55273\tvalid_0's ndcg@10: 0.617835\n",
      "[383]\tvalid_0's ndcg@5: 0.55273\tvalid_0's ndcg@10: 0.617835\n",
      "[384]\tvalid_0's ndcg@5: 0.55273\tvalid_0's ndcg@10: 0.618371\n",
      "[385]\tvalid_0's ndcg@5: 0.55273\tvalid_0's ndcg@10: 0.618598\n",
      "[386]\tvalid_0's ndcg@5: 0.55273\tvalid_0's ndcg@10: 0.61776\n",
      "[387]\tvalid_0's ndcg@5: 0.55273\tvalid_0's ndcg@10: 0.617987\n",
      "[388]\tvalid_0's ndcg@5: 0.55273\tvalid_0's ndcg@10: 0.617987\n",
      "[389]\tvalid_0's ndcg@5: 0.55273\tvalid_0's ndcg@10: 0.61776\n",
      "[390]\tvalid_0's ndcg@5: 0.55273\tvalid_0's ndcg@10: 0.61776\n",
      "[391]\tvalid_0's ndcg@5: 0.55273\tvalid_0's ndcg@10: 0.617987\n",
      "[392]\tvalid_0's ndcg@5: 0.548275\tvalid_0's ndcg@10: 0.617686\n",
      "[393]\tvalid_0's ndcg@5: 0.548275\tvalid_0's ndcg@10: 0.617459\n",
      "[394]\tvalid_0's ndcg@5: 0.55273\tvalid_0's ndcg@10: 0.61776\n",
      "[395]\tvalid_0's ndcg@5: 0.55273\tvalid_0's ndcg@10: 0.61776\n",
      "[396]\tvalid_0's ndcg@5: 0.55273\tvalid_0's ndcg@10: 0.61776\n",
      "[397]\tvalid_0's ndcg@5: 0.55273\tvalid_0's ndcg@10: 0.61776\n",
      "[398]\tvalid_0's ndcg@5: 0.55273\tvalid_0's ndcg@10: 0.617987\n",
      "[399]\tvalid_0's ndcg@5: 0.55273\tvalid_0's ndcg@10: 0.61776\n",
      "[400]\tvalid_0's ndcg@5: 0.55273\tvalid_0's ndcg@10: 0.617987\n",
      "[401]\tvalid_0's ndcg@5: 0.55273\tvalid_0's ndcg@10: 0.617987\n",
      "[402]\tvalid_0's ndcg@5: 0.55273\tvalid_0's ndcg@10: 0.61776\n",
      "[403]\tvalid_0's ndcg@5: 0.55273\tvalid_0's ndcg@10: 0.61776\n",
      "[404]\tvalid_0's ndcg@5: 0.55273\tvalid_0's ndcg@10: 0.617224\n",
      "[405]\tvalid_0's ndcg@5: 0.55273\tvalid_0's ndcg@10: 0.617224\n",
      "[406]\tvalid_0's ndcg@5: 0.553946\tvalid_0's ndcg@10: 0.61809\n",
      "[407]\tvalid_0's ndcg@5: 0.55273\tvalid_0's ndcg@10: 0.617095\n",
      "[408]\tvalid_0's ndcg@5: 0.55273\tvalid_0's ndcg@10: 0.617095\n",
      "[409]\tvalid_0's ndcg@5: 0.55273\tvalid_0's ndcg@10: 0.617095\n",
      "[410]\tvalid_0's ndcg@5: 0.55273\tvalid_0's ndcg@10: 0.617095\n",
      "[411]\tvalid_0's ndcg@5: 0.55273\tvalid_0's ndcg@10: 0.617095\n",
      "[412]\tvalid_0's ndcg@5: 0.55273\tvalid_0's ndcg@10: 0.617095\n",
      "[413]\tvalid_0's ndcg@5: 0.55273\tvalid_0's ndcg@10: 0.617095\n",
      "[414]\tvalid_0's ndcg@5: 0.55273\tvalid_0's ndcg@10: 0.617095\n",
      "[415]\tvalid_0's ndcg@5: 0.55273\tvalid_0's ndcg@10: 0.617095\n",
      "[416]\tvalid_0's ndcg@5: 0.55273\tvalid_0's ndcg@10: 0.617095\n",
      "[417]\tvalid_0's ndcg@5: 0.55273\tvalid_0's ndcg@10: 0.617095\n",
      "[418]\tvalid_0's ndcg@5: 0.55273\tvalid_0's ndcg@10: 0.617095\n",
      "[419]\tvalid_0's ndcg@5: 0.55273\tvalid_0's ndcg@10: 0.617095\n",
      "[420]\tvalid_0's ndcg@5: 0.55273\tvalid_0's ndcg@10: 0.617095\n",
      "[421]\tvalid_0's ndcg@5: 0.55273\tvalid_0's ndcg@10: 0.617095\n",
      "[422]\tvalid_0's ndcg@5: 0.55273\tvalid_0's ndcg@10: 0.617095\n",
      "[423]\tvalid_0's ndcg@5: 0.55273\tvalid_0's ndcg@10: 0.617095\n",
      "[424]\tvalid_0's ndcg@5: 0.55273\tvalid_0's ndcg@10: 0.617095\n",
      "[425]\tvalid_0's ndcg@5: 0.55273\tvalid_0's ndcg@10: 0.617095\n",
      "[426]\tvalid_0's ndcg@5: 0.55273\tvalid_0's ndcg@10: 0.617095\n",
      "[427]\tvalid_0's ndcg@5: 0.55273\tvalid_0's ndcg@10: 0.61715\n",
      "[428]\tvalid_0's ndcg@5: 0.55273\tvalid_0's ndcg@10: 0.61715\n",
      "[429]\tvalid_0's ndcg@5: 0.55273\tvalid_0's ndcg@10: 0.61715\n",
      "[430]\tvalid_0's ndcg@5: 0.55273\tvalid_0's ndcg@10: 0.617377\n",
      "[431]\tvalid_0's ndcg@5: 0.55273\tvalid_0's ndcg@10: 0.617858\n",
      "[432]\tvalid_0's ndcg@5: 0.55273\tvalid_0's ndcg@10: 0.617858\n",
      "[433]\tvalid_0's ndcg@5: 0.55273\tvalid_0's ndcg@10: 0.617858\n",
      "[434]\tvalid_0's ndcg@5: 0.55273\tvalid_0's ndcg@10: 0.617858\n",
      "[435]\tvalid_0's ndcg@5: 0.55273\tvalid_0's ndcg@10: 0.617858\n",
      "[436]\tvalid_0's ndcg@5: 0.55273\tvalid_0's ndcg@10: 0.617322\n",
      "[437]\tvalid_0's ndcg@5: 0.55273\tvalid_0's ndcg@10: 0.617322\n",
      "[438]\tvalid_0's ndcg@5: 0.55273\tvalid_0's ndcg@10: 0.617858\n",
      "[439]\tvalid_0's ndcg@5: 0.55273\tvalid_0's ndcg@10: 0.616614\n",
      "[440]\tvalid_0's ndcg@5: 0.55273\tvalid_0's ndcg@10: 0.616614\n",
      "[441]\tvalid_0's ndcg@5: 0.55273\tvalid_0's ndcg@10: 0.616614\n",
      "[442]\tvalid_0's ndcg@5: 0.55273\tvalid_0's ndcg@10: 0.617322\n",
      "[443]\tvalid_0's ndcg@5: 0.55273\tvalid_0's ndcg@10: 0.61715\n",
      "[444]\tvalid_0's ndcg@5: 0.55273\tvalid_0's ndcg@10: 0.616614\n",
      "[445]\tvalid_0's ndcg@5: 0.55273\tvalid_0's ndcg@10: 0.616614\n",
      "[446]\tvalid_0's ndcg@5: 0.55273\tvalid_0's ndcg@10: 0.61715\n",
      "[447]\tvalid_0's ndcg@5: 0.55273\tvalid_0's ndcg@10: 0.61715\n",
      "[448]\tvalid_0's ndcg@5: 0.55273\tvalid_0's ndcg@10: 0.617377\n",
      "[449]\tvalid_0's ndcg@5: 0.55273\tvalid_0's ndcg@10: 0.616841\n",
      "[450]\tvalid_0's ndcg@5: 0.55273\tvalid_0's ndcg@10: 0.616614\n",
      "[451]\tvalid_0's ndcg@5: 0.55273\tvalid_0's ndcg@10: 0.616614\n",
      "[452]\tvalid_0's ndcg@5: 0.55273\tvalid_0's ndcg@10: 0.616614\n",
      "[453]\tvalid_0's ndcg@5: 0.549279\tvalid_0's ndcg@10: 0.616375\n",
      "[454]\tvalid_0's ndcg@5: 0.549279\tvalid_0's ndcg@10: 0.616375\n",
      "[455]\tvalid_0's ndcg@5: 0.549279\tvalid_0's ndcg@10: 0.616375\n",
      "[456]\tvalid_0's ndcg@5: 0.549279\tvalid_0's ndcg@10: 0.616375\n",
      "[457]\tvalid_0's ndcg@5: 0.549279\tvalid_0's ndcg@10: 0.616602\n",
      "[458]\tvalid_0's ndcg@5: 0.549279\tvalid_0's ndcg@10: 0.616602\n",
      "[459]\tvalid_0's ndcg@5: 0.549279\tvalid_0's ndcg@10: 0.616602\n",
      "[460]\tvalid_0's ndcg@5: 0.549279\tvalid_0's ndcg@10: 0.616959\n",
      "[461]\tvalid_0's ndcg@5: 0.561796\tvalid_0's ndcg@10: 0.626887\n",
      "[462]\tvalid_0's ndcg@5: 0.561796\tvalid_0's ndcg@10: 0.626887\n",
      "[463]\tvalid_0's ndcg@5: 0.561796\tvalid_0's ndcg@10: 0.626887\n",
      "[464]\tvalid_0's ndcg@5: 0.561796\tvalid_0's ndcg@10: 0.626887\n",
      "[465]\tvalid_0's ndcg@5: 0.561796\tvalid_0's ndcg@10: 0.626887\n",
      "[466]\tvalid_0's ndcg@5: 0.561796\tvalid_0's ndcg@10: 0.62666\n",
      "[467]\tvalid_0's ndcg@5: 0.561796\tvalid_0's ndcg@10: 0.62666\n",
      "[468]\tvalid_0's ndcg@5: 0.561796\tvalid_0's ndcg@10: 0.62666\n",
      "[469]\tvalid_0's ndcg@5: 0.561796\tvalid_0's ndcg@10: 0.62666\n",
      "[470]\tvalid_0's ndcg@5: 0.561796\tvalid_0's ndcg@10: 0.62666\n",
      "[471]\tvalid_0's ndcg@5: 0.561796\tvalid_0's ndcg@10: 0.62666\n",
      "[472]\tvalid_0's ndcg@5: 0.561796\tvalid_0's ndcg@10: 0.62666\n",
      "[473]\tvalid_0's ndcg@5: 0.561796\tvalid_0's ndcg@10: 0.626887\n",
      "[474]\tvalid_0's ndcg@5: 0.561796\tvalid_0's ndcg@10: 0.626887\n",
      "[475]\tvalid_0's ndcg@5: 0.561796\tvalid_0's ndcg@10: 0.626887\n",
      "[476]\tvalid_0's ndcg@5: 0.561796\tvalid_0's ndcg@10: 0.626887\n",
      "[477]\tvalid_0's ndcg@5: 0.561796\tvalid_0's ndcg@10: 0.626887\n",
      "[478]\tvalid_0's ndcg@5: 0.561796\tvalid_0's ndcg@10: 0.626887\n",
      "[479]\tvalid_0's ndcg@5: 0.561796\tvalid_0's ndcg@10: 0.626887\n",
      "[480]\tvalid_0's ndcg@5: 0.561796\tvalid_0's ndcg@10: 0.626887\n",
      "[481]\tvalid_0's ndcg@5: 0.561796\tvalid_0's ndcg@10: 0.626887\n",
      "[482]\tvalid_0's ndcg@5: 0.561796\tvalid_0's ndcg@10: 0.626887\n",
      "[483]\tvalid_0's ndcg@5: 0.561796\tvalid_0's ndcg@10: 0.626887\n",
      "[484]\tvalid_0's ndcg@5: 0.561796\tvalid_0's ndcg@10: 0.626887\n",
      "[485]\tvalid_0's ndcg@5: 0.561796\tvalid_0's ndcg@10: 0.626887\n",
      "[486]\tvalid_0's ndcg@5: 0.561796\tvalid_0's ndcg@10: 0.626887\n",
      "[487]\tvalid_0's ndcg@5: 0.561796\tvalid_0's ndcg@10: 0.626887\n",
      "[488]\tvalid_0's ndcg@5: 0.561796\tvalid_0's ndcg@10: 0.626887\n",
      "[489]\tvalid_0's ndcg@5: 0.561796\tvalid_0's ndcg@10: 0.626887\n",
      "[490]\tvalid_0's ndcg@5: 0.561796\tvalid_0's ndcg@10: 0.626887\n",
      "[491]\tvalid_0's ndcg@5: 0.561796\tvalid_0's ndcg@10: 0.626887\n",
      "[492]\tvalid_0's ndcg@5: 0.561796\tvalid_0's ndcg@10: 0.62653\n",
      "[493]\tvalid_0's ndcg@5: 0.561796\tvalid_0's ndcg@10: 0.62653\n",
      "[494]\tvalid_0's ndcg@5: 0.561796\tvalid_0's ndcg@10: 0.62653\n",
      "[495]\tvalid_0's ndcg@5: 0.561796\tvalid_0's ndcg@10: 0.62653\n",
      "[496]\tvalid_0's ndcg@5: 0.561796\tvalid_0's ndcg@10: 0.62653\n",
      "[497]\tvalid_0's ndcg@5: 0.561796\tvalid_0's ndcg@10: 0.62653\n",
      "[498]\tvalid_0's ndcg@5: 0.561796\tvalid_0's ndcg@10: 0.626887\n",
      "[499]\tvalid_0's ndcg@5: 0.561796\tvalid_0's ndcg@10: 0.626887\n",
      "[500]\tvalid_0's ndcg@5: 0.561796\tvalid_0's ndcg@10: 0.626887\n"
     ]
    }
   ],
   "source": [
    "ltr.fit(\n",
    "    dataset_train.get_topics(),\n",
    "    dataset_train.get_qrels(),\n",
    "    dataset_test.get_topics()[:10],\n",
    "    dataset_test.get_qrels()\n",
    ")"
   ],
   "metadata": {
    "collapsed": false,
    "pycharm": {
     "name": "#%%\n"
    }
   }
  },
  {
   "cell_type": "code",
   "execution_count": 43,
   "outputs": [
    {
     "data": {
      "text/plain": "pt.Experiment:   0%|          | 0/2 [00:00<?, ?system/s]",
      "application/vnd.jupyter.widget-view+json": {
       "version_major": 2,
       "version_minor": 0,
       "model_id": "6470aeda49034d17a8596dbca0b7267e"
      }
     },
     "metadata": {},
     "output_type": "display_data"
    },
    {
     "data": {
      "text/plain": "BR(BM25):   0%|          | 0/44 [00:00<?, ?q/s]",
      "application/vnd.jupyter.widget-view+json": {
       "version_major": 2,
       "version_minor": 0,
       "model_id": "78205ed5017c4e0b9f9169fa5c38ceea"
      }
     },
     "metadata": {},
     "output_type": "display_data"
    },
    {
     "data": {
      "text/plain": "BR(BM25):   0%|          | 0/44 [00:00<?, ?q/s]",
      "application/vnd.jupyter.widget-view+json": {
       "version_major": 2,
       "version_minor": 0,
       "model_id": "06cb10497b024ee18017ee11207252bf"
      }
     },
     "metadata": {},
     "output_type": "display_data"
    },
    {
     "data": {
      "text/plain": "Aggregating query axiom preferences:   0%|          | 0/44 [00:00<?, ?query/s]",
      "application/vnd.jupyter.widget-view+json": {
       "version_major": 2,
       "version_minor": 0,
       "model_id": "d1d88c6ec14c488bb91ba29978d33346"
      }
     },
     "metadata": {},
     "output_type": "display_data"
    },
    {
     "data": {
      "text/plain": "BR(BM25):   0%|          | 0/44 [00:00<?, ?q/s]",
      "application/vnd.jupyter.widget-view+json": {
       "version_major": 2,
       "version_minor": 0,
       "model_id": "9830f6c7fce74118bb04f857aad0f423"
      }
     },
     "metadata": {},
     "output_type": "display_data"
    }
   ],
   "source": [
    "from pyterrier.pipelines import Experiment\n",
    "from ir_measures import nDCG, MAP, RR\n",
    "\n",
    "experiment = Experiment(\n",
    "    [bm25, ltr ^ bm25],\n",
    "    dataset_test.get_topics()[10:],\n",
    "    dataset_test.get_qrels(),\n",
    "    [nDCG@10, RR, MAP],\n",
    "    [\"BM25\", \"Axiomatic LTR\"],\n",
    "    verbose=True,\n",
    ")\n",
    "experiment.sort_values(by=\"nDCG@10\", ascending=False, inplace=True)"
   ],
   "metadata": {
    "collapsed": false,
    "pycharm": {
     "name": "#%%\n"
    }
   }
  },
  {
   "cell_type": "code",
   "execution_count": 44,
   "outputs": [
    {
     "data": {
      "text/plain": "            name   nDCG@10        RR        AP\n1  Axiomatic LTR  0.475901  0.796266  0.190383\n0           BM25  0.470551  0.799107  0.183848",
      "text/html": "<div>\n<style scoped>\n    .dataframe tbody tr th:only-of-type {\n        vertical-align: middle;\n    }\n\n    .dataframe tbody tr th {\n        vertical-align: top;\n    }\n\n    .dataframe thead th {\n        text-align: right;\n    }\n</style>\n<table border=\"1\" class=\"dataframe\">\n  <thead>\n    <tr style=\"text-align: right;\">\n      <th></th>\n      <th>name</th>\n      <th>nDCG@10</th>\n      <th>RR</th>\n      <th>AP</th>\n    </tr>\n  </thead>\n  <tbody>\n    <tr>\n      <th>1</th>\n      <td>Axiomatic LTR</td>\n      <td>0.475901</td>\n      <td>0.796266</td>\n      <td>0.190383</td>\n    </tr>\n    <tr>\n      <th>0</th>\n      <td>BM25</td>\n      <td>0.470551</td>\n      <td>0.799107</td>\n      <td>0.183848</td>\n    </tr>\n  </tbody>\n</table>\n</div>"
     },
     "execution_count": 44,
     "metadata": {},
     "output_type": "execute_result"
    }
   ],
   "source": [
    "experiment"
   ],
   "metadata": {
    "collapsed": false,
    "pycharm": {
     "name": "#%%\n"
    }
   }
  },
  {
   "cell_type": "code",
   "execution_count": 47,
   "outputs": [
    {
     "data": {
      "text/plain": "array([[3.53962691e+00, 4.88271986e+00, 8.98717887e-02, 1.10044021e-01,\n        6.77355734e-01, 4.22180108e+00, 6.16534892e-02],\n       [1.12641352e+00, 1.84297464e+00, 1.70581290e+00, 3.44499658e-02,\n        2.28179793e-01, 2.43759907e+00, 2.03200565e-01],\n       [2.50685029e+01, 5.13284056e+00, 1.36954241e+00, 9.60822386e-02,\n        3.24100329e-02, 1.80064516e+01, 1.05106501e+01],\n       [6.07094014e+00, 1.03302524e+00, 1.60142772e+00, 0.00000000e+00,\n        3.17919813e-01, 1.32853560e+00, 5.45561012e+00],\n       [1.02719601e-01, 4.15137305e-02, 9.20499231e-01, 4.20133556e+00,\n        1.88329137e-01, 0.00000000e+00, 1.98332000e+00],\n       [3.11966548e+00, 3.90741867e+00, 4.36768006e-01, 1.35187585e+00,\n        3.93872125e-02, 2.47504320e-02, 1.47237484e+00],\n       [2.01742371e+01, 3.81565872e+00, 5.55264138e+00, 1.02132477e+00,\n        1.04590540e-01, 5.35229373e-01, 5.71365235e-01],\n       [4.84482560e+00, 3.87233031e+00, 3.53681798e+00, 1.06177442e-01,\n        4.47618893e-02, 8.56114163e+00, 4.64245331e+00],\n       [4.57828240e+01, 5.12025011e+00, 1.31770143e+01, 7.78764624e-01,\n        5.13395962e-03, 5.48569940e+00, 4.95534905e+01],\n       [0.00000000e+00, 0.00000000e+00, 0.00000000e+00, 0.00000000e+00,\n        0.00000000e+00, 0.00000000e+00, 0.00000000e+00],\n       [1.36144102e+01, 3.78880876e+00, 9.38354991e-04, 6.81670429e-03,\n        1.69769153e-01, 7.65206959e-01, 2.66061667e+00],\n       [2.29259487e+00, 4.06734204e-01, 8.15006135e-01, 0.00000000e+00,\n        1.42655001e-04, 6.51176538e+00, 3.33690888e-01],\n       [3.88859564e+00, 2.69400718e+01, 1.09056136e-01, 5.12573981e-03,\n        2.01217110e-02, 4.69233362e+00, 5.81364895e+00],\n       [1.08273702e+01, 1.42442730e+01, 6.81266470e+00, 2.79495202e-03,\n        3.30651004e-04, 1.21370663e+01, 8.34665357e+00],\n       [1.62727117e+00, 8.45600417e+00, 2.87463219e-01, 7.76102741e-01,\n        3.88046094e-04, 1.57995001e+00, 5.89325216e+00],\n       [1.28009616e+01, 2.43868489e+01, 8.86168224e+00, 0.00000000e+00,\n        3.13952828e-03, 1.23224367e+01, 1.02448943e+01],\n       [2.58192227e+00, 2.58225586e-01, 2.42571383e+00, 2.43222395e-01,\n        0.00000000e+00, 0.00000000e+00, 8.94720594e-01],\n       [2.77530688e+00, 3.63348085e+00, 1.20253649e-02, 0.00000000e+00,\n        0.00000000e+00, 0.00000000e+00, 0.00000000e+00],\n       [2.33211973e+01, 5.41168094e+00, 3.50748753e+01, 2.09257978e-03,\n        4.27975401e-05, 5.50050725e+00, 4.99084631e-01],\n       [1.58394494e-02, 1.11240154e-01, 5.20175037e-01, 1.41722000e+00,\n        4.63267817e-02, 0.00000000e+00, 2.86748998e-01],\n       [1.07606192e+01, 2.40814782e+01, 3.33445632e+00, 1.26419007e-04,\n        7.23736311e-03, 1.84807357e+01, 1.56542207e+01],\n       [3.42546914e+00, 4.21697229e+00, 3.67603691e+00, 2.36845636e-02,\n        3.92531174e+00, 9.72691410e-01, 7.42246863e-01],\n       [1.15353360e+01, 3.06993120e+01, 6.00315147e-01, 0.00000000e+00,\n        9.45887019e-04, 4.24589320e+00, 1.15721833e+01],\n       [1.88606597e+01, 7.48653141e+00, 1.11002254e+01, 0.00000000e+00,\n        0.00000000e+00, 1.89246914e+01, 1.90457660e+00],\n       [1.11541152e+01, 4.43743472e+00, 1.84467461e-01, 0.00000000e+00,\n        0.00000000e+00, 1.37944920e-01, 3.47095274e+00],\n       [3.49351065e+00, 1.31772255e+01, 8.43991550e+00, 0.00000000e+00,\n        0.00000000e+00, 2.73365912e+00, 6.89495705e+00],\n       [3.14254572e+01, 1.21052170e+00, 1.01017865e+01, 0.00000000e+00,\n        0.00000000e+00, 1.94594868e+01, 6.94262109e+00],\n       [9.54671035e+00, 5.81326592e+00, 1.15668396e+01, 3.17295773e-02,\n        2.77914053e-01, 3.24193677e+00, 5.95344267e-01],\n       [0.00000000e+00, 0.00000000e+00, 0.00000000e+00, 0.00000000e+00,\n        0.00000000e+00, 0.00000000e+00, 0.00000000e+00],\n       [0.00000000e+00, 0.00000000e+00, 3.72549753e-03, 0.00000000e+00,\n        0.00000000e+00, 0.00000000e+00, 0.00000000e+00],\n       [0.00000000e+00, 0.00000000e+00, 0.00000000e+00, 0.00000000e+00,\n        0.00000000e+00, 0.00000000e+00, 0.00000000e+00],\n       [3.19202316e+01, 1.00619516e+01, 1.32515346e+01, 2.79852393e-03,\n        8.54057244e-02, 4.11300444e+00, 7.59636084e+00],\n       [1.32574165e+01, 1.67007938e+01, 2.22295631e+01, 7.27707986e-03,\n        0.00000000e+00, 3.38274716e+00, 1.00127325e+00],\n       [1.31082407e+00, 1.66011894e+01, 1.41331696e+00, 8.54716250e-01,\n        2.96165026e-01, 8.17030185e-03, 2.25600001e-04],\n       [3.77070167e+00, 3.13030950e+00, 6.50470272e+00, 5.01186217e-01,\n        3.71350459e-01, 2.01221115e+00, 3.07066447e+00],\n       [5.60832652e-01, 3.39244652e-01, 3.01907014e-04, 0.00000000e+00,\n        0.00000000e+00, 9.03908225e-02, 1.47032323e+00]])"
     },
     "execution_count": 47,
     "metadata": {},
     "output_type": "execute_result"
    }
   ],
   "source": [
    "from numpy import ndarray\n",
    "\n",
    "feature_importance: ndarray = lambda_mart.feature_importances_.reshape(-1, len(aggregations))\n",
    "feature_importance"
   ],
   "metadata": {
    "collapsed": false,
    "pycharm": {
     "name": "#%%\n"
    }
   }
  },
  {
   "cell_type": "code",
   "execution_count": 49,
   "outputs": [
    {
     "data": {
      "text/plain": "array([1.35830729e+01, 7.57863046e+00, 6.02164799e+01, 1.58074586e+01,\n       7.43771726e+00, 1.03522405e+01, 3.17750471e+01, 2.56085082e+01,\n       1.19903177e+02, 0.00000000e+00, 2.10065668e+01, 1.03599341e+01,\n       4.14689536e+01, 5.23711533e+01, 1.86204315e+01, 6.86199632e+01,\n       6.40380468e+00, 6.42081310e+00, 6.98094808e+01, 2.39755042e+00,\n       7.23188739e+01, 1.69824129e+01, 5.86539854e+01, 5.82766846e+01,\n       1.93849151e+01, 3.47392678e+01, 6.91398733e+01, 3.10737406e+01,\n       0.00000000e+00, 3.72549753e-03, 0.00000000e+00, 6.70312873e+01,\n       5.65790709e+01, 2.04846076e+01, 1.93611262e+01, 2.46109326e+00])"
     },
     "execution_count": 49,
     "metadata": {},
     "output_type": "execute_result"
    }
   ],
   "source": [
    "feature_importance.sum(1)"
   ],
   "metadata": {
    "collapsed": false,
    "pycharm": {
     "name": "#%%\n"
    }
   }
  }
 ],
 "metadata": {
  "kernelspec": {
   "display_name": "Python 3",
   "language": "python",
   "name": "python3"
  },
  "language_info": {
   "codemirror_mode": {
    "name": "ipython",
    "version": 2
   },
   "file_extension": ".py",
   "mimetype": "text/x-python",
   "name": "python",
   "nbconvert_exporter": "python",
   "pygments_lexer": "ipython2",
   "version": "2.7.6"
  }
 },
 "nbformat": 4,
 "nbformat_minor": 0
}