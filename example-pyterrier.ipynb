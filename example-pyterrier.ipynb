{
 "cells": [
  {
   "cell_type": "code",
   "execution_count": 1,
   "outputs": [
    {
     "name": "stdout",
     "output_type": "stream",
     "text": [
      "PyTerrier 0.7.2 has loaded Terrier 5.6 (built by craigmacdonald on 2021-09-17 13:27)\n"
     ]
    },
    {
     "name": "stderr",
     "output_type": "stream",
     "text": [
      "No etc/terrier.properties, using terrier.default.properties for bootstrap configuration.\n"
     ]
    }
   ],
   "source": [
    "# Start/initialize PyTerrier.\n",
    "from pyterrier import started, init\n",
    "\n",
    "if not started():\n",
    "    init(tqdm=\"notebook\")"
   ],
   "metadata": {
    "collapsed": false,
    "pycharm": {
     "name": "#%%\n"
    }
   }
  },
  {
   "cell_type": "code",
   "execution_count": 2,
   "outputs": [],
   "source": [
    "# Imports\n",
    "from pathlib import Path\n",
    "\n",
    "from ir_measures import nDCG, RR, P\n",
    "from pyterrier import IndexRef, IndexFactory\n",
    "from pyterrier.batchretrieve import BatchRetrieve\n",
    "from pyterrier.datasets import get_dataset, Dataset\n",
    "from pyterrier.index import IterDictIndexer\n",
    "from pyterrier.pipelines import Experiment\n",
    "from pyterrier.text import get_text\n",
    "\n",
    "from ir_axioms.axiom import Axiom\n",
    "from ir_axioms.axiom.term_frequency import TFC1\n",
    "from ir_axioms.axiom.length_norm import LNC1\n",
    "from ir_axioms.backend.pyterrier.transformers import AxiomaticReranker, AxiomaticPermutationsCount, AxiomaticPreferences"
   ],
   "metadata": {
    "collapsed": false,
    "pycharm": {
     "name": "#%%\n"
    }
   }
  },
  {
   "cell_type": "code",
   "execution_count": 3,
   "outputs": [],
   "source": [
    "# Load dataset.\n",
    "dataset: Dataset = get_dataset(\"irds:antique/test\")"
   ],
   "metadata": {
    "collapsed": false,
    "pycharm": {
     "name": "#%%\n"
    }
   }
  },
  {
   "cell_type": "code",
   "execution_count": 4,
   "outputs": [],
   "source": [
    "# Load documents and build index.\n",
    "index_dir = Path(\"./data/indices/antique\").absolute()\n",
    "index_ref: IndexRef\n",
    "if index_dir.exists():\n",
    "    index_ref = IndexRef.of(str(index_dir))\n",
    "else:\n",
    "    indexer = IterDictIndexer(str(index_dir))\n",
    "    index_ref = indexer.index(dataset.get_corpus_iter(), fields=[\"text\"])\n",
    "index = IndexFactory.of(index_ref)"
   ],
   "metadata": {
    "collapsed": false,
    "pycharm": {
     "name": "#%%\n"
    }
   }
  },
  {
   "cell_type": "code",
   "execution_count": 5,
   "outputs": [],
   "source": [
    "# Load topics.\n",
    "topics = dataset.get_topics()"
   ],
   "metadata": {
    "collapsed": false,
    "pycharm": {
     "name": "#%%\n"
    }
   }
  },
  {
   "cell_type": "code",
   "execution_count": 6,
   "outputs": [],
   "source": [
    "# BM25 baseline retrieval, cut off at 10 documents per query.\n",
    "pipeline_bm25 = BatchRetrieve(index, wmodel=\"BM25\") % 10\n",
    "# pipeline_bm25(topics)"
   ],
   "metadata": {
    "collapsed": false,
    "pycharm": {
     "name": "#%%\n"
    }
   }
  },
  {
   "cell_type": "code",
   "execution_count": 7,
   "outputs": [
    {
     "data": {
      "text/plain": "AggregatedAxiom(axioms=[WeightedAxiom(axiom=<ir_axioms.axiom.term_frequency.TFC1 object at 0x7ff779aa81c0>, weight=1.5), <ir_axioms.axiom.length_norm.LNC1 object at 0x7ff779aa8130>])"
     },
     "execution_count": 7,
     "metadata": {},
     "output_type": "execute_result"
    }
   ],
   "source": [
    "# Define axiom for reranker and permutations.\n",
    "tfc1_axiom = TFC1()  # Query term frequency in documents.\n",
    "lnc1_axiom = LNC1()  # Similarity between query and document terms.\n",
    "axiom: Axiom = (tfc1_axiom * 1.5) + lnc1_axiom\n",
    "# axiom: Axiom = (TFC1() * 1.5) + LNC1()  # We can also use the constructors directly.\n",
    "axiom  # The combination of both axioms is itself an axiom."
   ],
   "metadata": {
    "collapsed": false,
    "pycharm": {
     "name": "#%%\n"
    }
   }
  },
  {
   "cell_type": "code",
   "execution_count": 8,
   "outputs": [
    {
     "name": "stderr",
     "output_type": "stream",
     "text": [
      "Compute axiomatic preferences: 100%|██████████| 198/198 [00:02<00:00, 88.88 topics/s] \n"
     ]
    },
    {
     "data": {
      "text/plain": "           qid  docid_a    docno_a  rank_a    score_a  \\\n0      3990512   102622  3077638_1       0  15.887435   \n1      3990512   102622  3077638_1       0  15.887435   \n2      3990512   102622  3077638_1       0  15.887435   \n3      3990512   102622  3077638_1       0  15.887435   \n4      3990512   102622  3077638_1       0  15.887435   \n...        ...      ...        ...     ...        ...   \n19449  1340574   116656  2036141_7       9  29.157311   \n19450  1971899   234068  1971899_6       0  28.234530   \n19451  1971899   234068  1971899_6       0  28.234530   \n19452  1971899    87610  2667237_0       1  12.560643   \n19453  1971899    87610  2667237_0       1  12.560643   \n\n                                                   query  \\\n0               how can we get concentration onsomething   \n1               how can we get concentration onsomething   \n2               how can we get concentration onsomething   \n3               how can we get concentration onsomething   \n4               how can we get concentration onsomething   \n...                                                  ...   \n19449  why do some people only go to church on easter...   \n19450                                  what is masturbat   \n19451                                  what is masturbat   \n19452                                  what is masturbat   \n19453                                  what is masturbat   \n\n                                                  text_a  docid_b     docno_b  \\\n0      Learn to concentrate.. First you really must w...   102622   3077638_1   \n1      Learn to concentrate.. First you really must w...    30676   3931664_0   \n2      Learn to concentrate.. First you really must w...   173781   4366141_0   \n3      Learn to concentrate.. First you really must w...   179429  1011598_10   \n4      Learn to concentrate.. First you really must w...   194913   4222212_0   \n...                                                  ...      ...         ...   \n19449  We do celebrate Easter. Many churches and peop...   116656   2036141_7   \n19450                              what is masturbat***?   234068   1971899_6   \n19451                              what is masturbat***?    87610   2667237_0   \n19452  Sperm only comes out either when a man is arou...   234068   1971899_6   \n19453  Sperm only comes out either when a man is arou...    87610   2667237_0   \n\n       rank_b    score_b                                             text_b  \\\n0           0  15.887435  Learn to concentrate.. First you really must w...   \n1           1  15.621619       When u \"love\" the subject u can concentrate.   \n2           2  15.395085  You can improve your ability to concentrate by...   \n3           3  15.134176  its green, and has many vitamins that are conc...   \n4           4  15.134176  The less you talk, the more you think.  Then y...   \n...       ...        ...                                                ...   \n19449       9  29.157311  We do celebrate Easter. Many churches and peop...   \n19450       0  28.234530                              what is masturbat***?   \n19451       1  12.560643  Sperm only comes out either when a man is arou...   \n19452       0  28.234530                              what is masturbat***?   \n19453       1  12.560643  Sperm only comes out either when a man is arou...   \n\n       preference  \n0             0.0  \n1             0.0  \n2             0.0  \n3             0.0  \n4             0.0  \n...           ...  \n19449         0.0  \n19450         0.0  \n19451         0.0  \n19452         0.0  \n19453         0.0  \n\n[19454 rows x 13 columns]",
      "text/html": "<div>\n<style scoped>\n    .dataframe tbody tr th:only-of-type {\n        vertical-align: middle;\n    }\n\n    .dataframe tbody tr th {\n        vertical-align: top;\n    }\n\n    .dataframe thead th {\n        text-align: right;\n    }\n</style>\n<table border=\"1\" class=\"dataframe\">\n  <thead>\n    <tr style=\"text-align: right;\">\n      <th></th>\n      <th>qid</th>\n      <th>docid_a</th>\n      <th>docno_a</th>\n      <th>rank_a</th>\n      <th>score_a</th>\n      <th>query</th>\n      <th>text_a</th>\n      <th>docid_b</th>\n      <th>docno_b</th>\n      <th>rank_b</th>\n      <th>score_b</th>\n      <th>text_b</th>\n      <th>preference</th>\n    </tr>\n  </thead>\n  <tbody>\n    <tr>\n      <th>0</th>\n      <td>3990512</td>\n      <td>102622</td>\n      <td>3077638_1</td>\n      <td>0</td>\n      <td>15.887435</td>\n      <td>how can we get concentration onsomething</td>\n      <td>Learn to concentrate.. First you really must w...</td>\n      <td>102622</td>\n      <td>3077638_1</td>\n      <td>0</td>\n      <td>15.887435</td>\n      <td>Learn to concentrate.. First you really must w...</td>\n      <td>0.0</td>\n    </tr>\n    <tr>\n      <th>1</th>\n      <td>3990512</td>\n      <td>102622</td>\n      <td>3077638_1</td>\n      <td>0</td>\n      <td>15.887435</td>\n      <td>how can we get concentration onsomething</td>\n      <td>Learn to concentrate.. First you really must w...</td>\n      <td>30676</td>\n      <td>3931664_0</td>\n      <td>1</td>\n      <td>15.621619</td>\n      <td>When u \"love\" the subject u can concentrate.</td>\n      <td>0.0</td>\n    </tr>\n    <tr>\n      <th>2</th>\n      <td>3990512</td>\n      <td>102622</td>\n      <td>3077638_1</td>\n      <td>0</td>\n      <td>15.887435</td>\n      <td>how can we get concentration onsomething</td>\n      <td>Learn to concentrate.. First you really must w...</td>\n      <td>173781</td>\n      <td>4366141_0</td>\n      <td>2</td>\n      <td>15.395085</td>\n      <td>You can improve your ability to concentrate by...</td>\n      <td>0.0</td>\n    </tr>\n    <tr>\n      <th>3</th>\n      <td>3990512</td>\n      <td>102622</td>\n      <td>3077638_1</td>\n      <td>0</td>\n      <td>15.887435</td>\n      <td>how can we get concentration onsomething</td>\n      <td>Learn to concentrate.. First you really must w...</td>\n      <td>179429</td>\n      <td>1011598_10</td>\n      <td>3</td>\n      <td>15.134176</td>\n      <td>its green, and has many vitamins that are conc...</td>\n      <td>0.0</td>\n    </tr>\n    <tr>\n      <th>4</th>\n      <td>3990512</td>\n      <td>102622</td>\n      <td>3077638_1</td>\n      <td>0</td>\n      <td>15.887435</td>\n      <td>how can we get concentration onsomething</td>\n      <td>Learn to concentrate.. First you really must w...</td>\n      <td>194913</td>\n      <td>4222212_0</td>\n      <td>4</td>\n      <td>15.134176</td>\n      <td>The less you talk, the more you think.  Then y...</td>\n      <td>0.0</td>\n    </tr>\n    <tr>\n      <th>...</th>\n      <td>...</td>\n      <td>...</td>\n      <td>...</td>\n      <td>...</td>\n      <td>...</td>\n      <td>...</td>\n      <td>...</td>\n      <td>...</td>\n      <td>...</td>\n      <td>...</td>\n      <td>...</td>\n      <td>...</td>\n      <td>...</td>\n    </tr>\n    <tr>\n      <th>19449</th>\n      <td>1340574</td>\n      <td>116656</td>\n      <td>2036141_7</td>\n      <td>9</td>\n      <td>29.157311</td>\n      <td>why do some people only go to church on easter...</td>\n      <td>We do celebrate Easter. Many churches and peop...</td>\n      <td>116656</td>\n      <td>2036141_7</td>\n      <td>9</td>\n      <td>29.157311</td>\n      <td>We do celebrate Easter. Many churches and peop...</td>\n      <td>0.0</td>\n    </tr>\n    <tr>\n      <th>19450</th>\n      <td>1971899</td>\n      <td>234068</td>\n      <td>1971899_6</td>\n      <td>0</td>\n      <td>28.234530</td>\n      <td>what is masturbat</td>\n      <td>what is masturbat***?</td>\n      <td>234068</td>\n      <td>1971899_6</td>\n      <td>0</td>\n      <td>28.234530</td>\n      <td>what is masturbat***?</td>\n      <td>0.0</td>\n    </tr>\n    <tr>\n      <th>19451</th>\n      <td>1971899</td>\n      <td>234068</td>\n      <td>1971899_6</td>\n      <td>0</td>\n      <td>28.234530</td>\n      <td>what is masturbat</td>\n      <td>what is masturbat***?</td>\n      <td>87610</td>\n      <td>2667237_0</td>\n      <td>1</td>\n      <td>12.560643</td>\n      <td>Sperm only comes out either when a man is arou...</td>\n      <td>0.0</td>\n    </tr>\n    <tr>\n      <th>19452</th>\n      <td>1971899</td>\n      <td>87610</td>\n      <td>2667237_0</td>\n      <td>1</td>\n      <td>12.560643</td>\n      <td>what is masturbat</td>\n      <td>Sperm only comes out either when a man is arou...</td>\n      <td>234068</td>\n      <td>1971899_6</td>\n      <td>0</td>\n      <td>28.234530</td>\n      <td>what is masturbat***?</td>\n      <td>0.0</td>\n    </tr>\n    <tr>\n      <th>19453</th>\n      <td>1971899</td>\n      <td>87610</td>\n      <td>2667237_0</td>\n      <td>1</td>\n      <td>12.560643</td>\n      <td>what is masturbat</td>\n      <td>Sperm only comes out either when a man is arou...</td>\n      <td>87610</td>\n      <td>2667237_0</td>\n      <td>1</td>\n      <td>12.560643</td>\n      <td>Sperm only comes out either when a man is arou...</td>\n      <td>0.0</td>\n    </tr>\n  </tbody>\n</table>\n<p>19454 rows × 13 columns</p>\n</div>"
     },
     "execution_count": 8,
     "metadata": {},
     "output_type": "execute_result"
    }
   ],
   "source": [
    "# Add column counting the permutations of the BM25 baseline retrieval compared to the axiom.\n",
    "pipeline_bm25_preferences = pipeline_bm25 >> get_text(dataset, \"text\") >> AxiomaticPreferences(axiom, index_ref)\n",
    "pipeline_bm25_preferences(topics)"
   ],
   "metadata": {
    "collapsed": false,
    "pycharm": {
     "name": "#%%\n"
    }
   }
  },
  {
   "cell_type": "code",
   "execution_count": 9,
   "outputs": [
    {
     "name": "stderr",
     "output_type": "stream",
     "text": [
      "Counting permutations compared to axiom preferences: 100%|██████████| 198/198 [00:01<00:00, 132.56 topics/s]\n"
     ]
    },
    {
     "data": {
      "text/plain": "          qid   docid       docno  rank      score  \\\n0     3990512  102622   3077638_1     0  15.887435   \n1     3990512   30676   3931664_0     1  15.621619   \n2     3990512  173781   4366141_0     2  15.395085   \n3     3990512  179429  1011598_10     3  15.134176   \n4     3990512  194913   4222212_0     4  15.134176   \n...       ...     ...         ...   ...        ...   \n1947  1340574   87627   1972970_3     7  29.386170   \n1948  1340574  357982  2980015_23     8  29.323234   \n1949  1340574  116656   2036141_7     9  29.157311   \n1950  1971899  234068   1971899_6     0  28.234530   \n1951  1971899   87610   2667237_0     1  12.560643   \n\n                                                  query  \\\n0              how can we get concentration onsomething   \n1              how can we get concentration onsomething   \n2              how can we get concentration onsomething   \n3              how can we get concentration onsomething   \n4              how can we get concentration onsomething   \n...                                                 ...   \n1947  why do some people only go to church on easter...   \n1948  why do some people only go to church on easter...   \n1949  why do some people only go to church on easter...   \n1950                                  what is masturbat   \n1951                                  what is masturbat   \n\n                                                   text  permutations_count  \n0     Learn to concentrate.. First you really must w...                 0.7  \n1          When u \"love\" the subject u can concentrate.                 0.8  \n2     You can improve your ability to concentrate by...                 0.6  \n3     its green, and has many vitamins that are conc...                 0.8  \n4     The less you talk, the more you think.  Then y...                 0.8  \n...                                                 ...                 ...  \n1947                 Easter is this Sunday in April!!!!                 0.8  \n1948  Mine is...but why would it stop people from go...                 0.8  \n1949  We do celebrate Easter. Many churches and peop...                 0.8  \n1950                              what is masturbat***?                 0.0  \n1951  Sperm only comes out either when a man is arou...                 0.0  \n\n[1952 rows x 8 columns]",
      "text/html": "<div>\n<style scoped>\n    .dataframe tbody tr th:only-of-type {\n        vertical-align: middle;\n    }\n\n    .dataframe tbody tr th {\n        vertical-align: top;\n    }\n\n    .dataframe thead th {\n        text-align: right;\n    }\n</style>\n<table border=\"1\" class=\"dataframe\">\n  <thead>\n    <tr style=\"text-align: right;\">\n      <th></th>\n      <th>qid</th>\n      <th>docid</th>\n      <th>docno</th>\n      <th>rank</th>\n      <th>score</th>\n      <th>query</th>\n      <th>text</th>\n      <th>permutations_count</th>\n    </tr>\n  </thead>\n  <tbody>\n    <tr>\n      <th>0</th>\n      <td>3990512</td>\n      <td>102622</td>\n      <td>3077638_1</td>\n      <td>0</td>\n      <td>15.887435</td>\n      <td>how can we get concentration onsomething</td>\n      <td>Learn to concentrate.. First you really must w...</td>\n      <td>0.7</td>\n    </tr>\n    <tr>\n      <th>1</th>\n      <td>3990512</td>\n      <td>30676</td>\n      <td>3931664_0</td>\n      <td>1</td>\n      <td>15.621619</td>\n      <td>how can we get concentration onsomething</td>\n      <td>When u \"love\" the subject u can concentrate.</td>\n      <td>0.8</td>\n    </tr>\n    <tr>\n      <th>2</th>\n      <td>3990512</td>\n      <td>173781</td>\n      <td>4366141_0</td>\n      <td>2</td>\n      <td>15.395085</td>\n      <td>how can we get concentration onsomething</td>\n      <td>You can improve your ability to concentrate by...</td>\n      <td>0.6</td>\n    </tr>\n    <tr>\n      <th>3</th>\n      <td>3990512</td>\n      <td>179429</td>\n      <td>1011598_10</td>\n      <td>3</td>\n      <td>15.134176</td>\n      <td>how can we get concentration onsomething</td>\n      <td>its green, and has many vitamins that are conc...</td>\n      <td>0.8</td>\n    </tr>\n    <tr>\n      <th>4</th>\n      <td>3990512</td>\n      <td>194913</td>\n      <td>4222212_0</td>\n      <td>4</td>\n      <td>15.134176</td>\n      <td>how can we get concentration onsomething</td>\n      <td>The less you talk, the more you think.  Then y...</td>\n      <td>0.8</td>\n    </tr>\n    <tr>\n      <th>...</th>\n      <td>...</td>\n      <td>...</td>\n      <td>...</td>\n      <td>...</td>\n      <td>...</td>\n      <td>...</td>\n      <td>...</td>\n      <td>...</td>\n    </tr>\n    <tr>\n      <th>1947</th>\n      <td>1340574</td>\n      <td>87627</td>\n      <td>1972970_3</td>\n      <td>7</td>\n      <td>29.386170</td>\n      <td>why do some people only go to church on easter...</td>\n      <td>Easter is this Sunday in April!!!!</td>\n      <td>0.8</td>\n    </tr>\n    <tr>\n      <th>1948</th>\n      <td>1340574</td>\n      <td>357982</td>\n      <td>2980015_23</td>\n      <td>8</td>\n      <td>29.323234</td>\n      <td>why do some people only go to church on easter...</td>\n      <td>Mine is...but why would it stop people from go...</td>\n      <td>0.8</td>\n    </tr>\n    <tr>\n      <th>1949</th>\n      <td>1340574</td>\n      <td>116656</td>\n      <td>2036141_7</td>\n      <td>9</td>\n      <td>29.157311</td>\n      <td>why do some people only go to church on easter...</td>\n      <td>We do celebrate Easter. Many churches and peop...</td>\n      <td>0.8</td>\n    </tr>\n    <tr>\n      <th>1950</th>\n      <td>1971899</td>\n      <td>234068</td>\n      <td>1971899_6</td>\n      <td>0</td>\n      <td>28.234530</td>\n      <td>what is masturbat</td>\n      <td>what is masturbat***?</td>\n      <td>0.0</td>\n    </tr>\n    <tr>\n      <th>1951</th>\n      <td>1971899</td>\n      <td>87610</td>\n      <td>2667237_0</td>\n      <td>1</td>\n      <td>12.560643</td>\n      <td>what is masturbat</td>\n      <td>Sperm only comes out either when a man is arou...</td>\n      <td>0.0</td>\n    </tr>\n  </tbody>\n</table>\n<p>1952 rows × 8 columns</p>\n</div>"
     },
     "execution_count": 9,
     "metadata": {},
     "output_type": "execute_result"
    }
   ],
   "source": [
    "# Add column counting the permutations of the BM25 baseline retrieval compared to the axiom.\n",
    "pipeline_bm25_permutations = pipeline_bm25 >> get_text(dataset, \"text\") >> AxiomaticPermutationsCount(axiom, index_ref)\n",
    "pipeline_bm25_permutations(topics)"
   ],
   "metadata": {
    "collapsed": false,
    "pycharm": {
     "name": "#%%\n"
    }
   }
  },
  {
   "cell_type": "code",
   "execution_count": 10,
   "outputs": [
    {
     "name": "stderr",
     "output_type": "stream",
     "text": [
      "Reranking with axiom preferences: 100%|██████████| 198/198 [00:01<00:00, 109.42 topics/s]\n"
     ]
    },
    {
     "data": {
      "text/plain": "           docno  rank  score      qid   docid  \\\n0      3077638_1     1     10  3990512  102622   \n1      3931664_0     2      9  3990512   30676   \n2      4366141_0     3      8  3990512  173781   \n3     1011598_10     4      7  3990512  179429   \n4      4222212_0     5      6  3990512  194913   \n...          ...   ...    ...      ...     ...   \n1947   1972970_3     8      3  1340574   87627   \n1948  2980015_23     9      2  1340574  357982   \n1949   2036141_7    10      1  1340574  116656   \n1950   1971899_6     1      2  1971899  234068   \n1951   2667237_0     2      1  1971899   87610   \n\n                                                  query  \\\n0              how can we get concentration onsomething   \n1              how can we get concentration onsomething   \n2              how can we get concentration onsomething   \n3              how can we get concentration onsomething   \n4              how can we get concentration onsomething   \n...                                                 ...   \n1947  why do some people only go to church on easter...   \n1948  why do some people only go to church on easter...   \n1949  why do some people only go to church on easter...   \n1950                                  what is masturbat   \n1951                                  what is masturbat   \n\n                                                   text  \n0     Learn to concentrate.. First you really must w...  \n1          When u \"love\" the subject u can concentrate.  \n2     You can improve your ability to concentrate by...  \n3     its green, and has many vitamins that are conc...  \n4     The less you talk, the more you think.  Then y...  \n...                                                 ...  \n1947                 Easter is this Sunday in April!!!!  \n1948  Mine is...but why would it stop people from go...  \n1949  We do celebrate Easter. Many churches and peop...  \n1950                              what is masturbat***?  \n1951  Sperm only comes out either when a man is arou...  \n\n[1952 rows x 7 columns]",
      "text/html": "<div>\n<style scoped>\n    .dataframe tbody tr th:only-of-type {\n        vertical-align: middle;\n    }\n\n    .dataframe tbody tr th {\n        vertical-align: top;\n    }\n\n    .dataframe thead th {\n        text-align: right;\n    }\n</style>\n<table border=\"1\" class=\"dataframe\">\n  <thead>\n    <tr style=\"text-align: right;\">\n      <th></th>\n      <th>docno</th>\n      <th>rank</th>\n      <th>score</th>\n      <th>qid</th>\n      <th>docid</th>\n      <th>query</th>\n      <th>text</th>\n    </tr>\n  </thead>\n  <tbody>\n    <tr>\n      <th>0</th>\n      <td>3077638_1</td>\n      <td>1</td>\n      <td>10</td>\n      <td>3990512</td>\n      <td>102622</td>\n      <td>how can we get concentration onsomething</td>\n      <td>Learn to concentrate.. First you really must w...</td>\n    </tr>\n    <tr>\n      <th>1</th>\n      <td>3931664_0</td>\n      <td>2</td>\n      <td>9</td>\n      <td>3990512</td>\n      <td>30676</td>\n      <td>how can we get concentration onsomething</td>\n      <td>When u \"love\" the subject u can concentrate.</td>\n    </tr>\n    <tr>\n      <th>2</th>\n      <td>4366141_0</td>\n      <td>3</td>\n      <td>8</td>\n      <td>3990512</td>\n      <td>173781</td>\n      <td>how can we get concentration onsomething</td>\n      <td>You can improve your ability to concentrate by...</td>\n    </tr>\n    <tr>\n      <th>3</th>\n      <td>1011598_10</td>\n      <td>4</td>\n      <td>7</td>\n      <td>3990512</td>\n      <td>179429</td>\n      <td>how can we get concentration onsomething</td>\n      <td>its green, and has many vitamins that are conc...</td>\n    </tr>\n    <tr>\n      <th>4</th>\n      <td>4222212_0</td>\n      <td>5</td>\n      <td>6</td>\n      <td>3990512</td>\n      <td>194913</td>\n      <td>how can we get concentration onsomething</td>\n      <td>The less you talk, the more you think.  Then y...</td>\n    </tr>\n    <tr>\n      <th>...</th>\n      <td>...</td>\n      <td>...</td>\n      <td>...</td>\n      <td>...</td>\n      <td>...</td>\n      <td>...</td>\n      <td>...</td>\n    </tr>\n    <tr>\n      <th>1947</th>\n      <td>1972970_3</td>\n      <td>8</td>\n      <td>3</td>\n      <td>1340574</td>\n      <td>87627</td>\n      <td>why do some people only go to church on easter...</td>\n      <td>Easter is this Sunday in April!!!!</td>\n    </tr>\n    <tr>\n      <th>1948</th>\n      <td>2980015_23</td>\n      <td>9</td>\n      <td>2</td>\n      <td>1340574</td>\n      <td>357982</td>\n      <td>why do some people only go to church on easter...</td>\n      <td>Mine is...but why would it stop people from go...</td>\n    </tr>\n    <tr>\n      <th>1949</th>\n      <td>2036141_7</td>\n      <td>10</td>\n      <td>1</td>\n      <td>1340574</td>\n      <td>116656</td>\n      <td>why do some people only go to church on easter...</td>\n      <td>We do celebrate Easter. Many churches and peop...</td>\n    </tr>\n    <tr>\n      <th>1950</th>\n      <td>1971899_6</td>\n      <td>1</td>\n      <td>2</td>\n      <td>1971899</td>\n      <td>234068</td>\n      <td>what is masturbat</td>\n      <td>what is masturbat***?</td>\n    </tr>\n    <tr>\n      <th>1951</th>\n      <td>2667237_0</td>\n      <td>2</td>\n      <td>1</td>\n      <td>1971899</td>\n      <td>87610</td>\n      <td>what is masturbat</td>\n      <td>Sperm only comes out either when a man is arou...</td>\n    </tr>\n  </tbody>\n</table>\n<p>1952 rows × 7 columns</p>\n</div>"
     },
     "execution_count": 10,
     "metadata": {},
     "output_type": "execute_result"
    }
   ],
   "source": [
    "# Rerank the baseline retrieval using KwikSort with preferences from the axiom above.\n",
    "pipeline_axiom = pipeline_bm25 >> get_text(dataset, \"text\") >> AxiomaticReranker(axiom, index_ref)\n",
    "pipeline_axiom(topics)"
   ],
   "metadata": {
    "collapsed": false,
    "pycharm": {
     "name": "#%%\n"
    }
   }
  },
  {
   "cell_type": "code",
   "execution_count": 11,
   "outputs": [],
   "source": [
    "# Load qrels.\n",
    "qrels = dataset.get_qrels()"
   ],
   "metadata": {
    "collapsed": false,
    "pycharm": {
     "name": "#%%\n"
    }
   }
  },
  {
   "cell_type": "code",
   "execution_count": 12,
   "outputs": [
    {
     "name": "stderr",
     "output_type": "stream",
     "text": [
      "Reranking with axiom preferences: 100%|██████████| 198/198 [00:01<00:00, 101.54 topics/s]\n"
     ]
    },
    {
     "data": {
      "text/plain": "                         name    nDCG@5   nDCG@10        RR    P@5    P@10\n0                        BM25  0.529428  0.509908  0.934708  0.836  0.7455\n1  BM25 + Axiomatic Reranking  0.525695  0.507620  0.930375  0.831  0.7455",
      "text/html": "<div>\n<style scoped>\n    .dataframe tbody tr th:only-of-type {\n        vertical-align: middle;\n    }\n\n    .dataframe tbody tr th {\n        vertical-align: top;\n    }\n\n    .dataframe thead th {\n        text-align: right;\n    }\n</style>\n<table border=\"1\" class=\"dataframe\">\n  <thead>\n    <tr style=\"text-align: right;\">\n      <th></th>\n      <th>name</th>\n      <th>nDCG@5</th>\n      <th>nDCG@10</th>\n      <th>RR</th>\n      <th>P@5</th>\n      <th>P@10</th>\n    </tr>\n  </thead>\n  <tbody>\n    <tr>\n      <th>0</th>\n      <td>BM25</td>\n      <td>0.529428</td>\n      <td>0.509908</td>\n      <td>0.934708</td>\n      <td>0.836</td>\n      <td>0.7455</td>\n    </tr>\n    <tr>\n      <th>1</th>\n      <td>BM25 + Axiomatic Reranking</td>\n      <td>0.525695</td>\n      <td>0.507620</td>\n      <td>0.930375</td>\n      <td>0.831</td>\n      <td>0.7455</td>\n    </tr>\n  </tbody>\n</table>\n</div>"
     },
     "execution_count": 12,
     "metadata": {},
     "output_type": "execute_result"
    }
   ],
   "source": [
    "# Compare the baseline retrieval with the reranked pipeline in an experiment.\n",
    "results = Experiment(\n",
    "    [pipeline_bm25, pipeline_axiom],\n",
    "    topics,\n",
    "    qrels,\n",
    "    [nDCG @ 5, nDCG @ 10, RR, P @ 5, P @ 10],\n",
    "    [\"BM25\", \"BM25 + Axiomatic Reranking\"],\n",
    ")\n",
    "results.sort_values(\"nDCG@10\", ascending=False, inplace=True)\n",
    "results"
   ],
   "metadata": {
    "collapsed": false,
    "pycharm": {
     "name": "#%%\n"
    }
   }
  },
  {
   "cell_type": "code",
   "execution_count": 12,
   "outputs": [],
   "source": [],
   "metadata": {
    "collapsed": false,
    "pycharm": {
     "name": "#%%\n"
    }
   }
  }
 ],
 "metadata": {
  "kernelspec": {
   "display_name": "Python 3",
   "language": "python",
   "name": "python3"
  },
  "language_info": {
   "codemirror_mode": {
    "name": "ipython",
    "version": 2
   },
   "file_extension": ".py",
   "mimetype": "text/x-python",
   "name": "python",
   "nbconvert_exporter": "python",
   "pygments_lexer": "ipython2",
   "version": "2.7.6"
  }
 },
 "nbformat": 4,
 "nbformat_minor": 0
}