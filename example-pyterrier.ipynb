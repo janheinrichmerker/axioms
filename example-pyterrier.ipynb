{
 "cells": [
  {
   "cell_type": "code",
   "execution_count": 1,
   "outputs": [
    {
     "name": "stdout",
     "output_type": "stream",
     "text": [
      "PyTerrier 0.7.2 has loaded Terrier 5.6 (built by craigmacdonald on 2021-09-17 13:27)\n"
     ]
    },
    {
     "name": "stderr",
     "output_type": "stream",
     "text": [
      "No etc/terrier.properties, using terrier.default.properties for bootstrap configuration.\n"
     ]
    }
   ],
   "source": [
    "# Start/initialize PyTerrier.\n",
    "from pyterrier import started, init\n",
    "\n",
    "if not started():\n",
    "    init()"
   ],
   "metadata": {
    "collapsed": false,
    "pycharm": {
     "name": "#%%\n"
    }
   }
  },
  {
   "cell_type": "code",
   "execution_count": 2,
   "outputs": [],
   "source": [
    "# Import everything.\n",
    "from pathlib import Path\n",
    "\n",
    "from pyterrier import IndexRef\n",
    "from pyterrier.batchretrieve import BatchRetrieve\n",
    "from pyterrier.datasets import get_dataset, Dataset\n",
    "from pyterrier.index import IterDictIndexer\n",
    "from pyterrier.pipelines import Experiment\n",
    "from pyterrier.text import get_text\n",
    "\n",
    "from ir_axioms.axiom.term_frequency import TFC1\n",
    "from ir_axioms.backend.pyterrier.transformers import AxiomaticReranker"
   ],
   "metadata": {
    "collapsed": false,
    "pycharm": {
     "name": "#%%\n"
    }
   }
  },
  {
   "cell_type": "code",
   "execution_count": 3,
   "outputs": [
    {
     "data": {
      "text/plain": "IRDSDataset('antique/test')"
     },
     "execution_count": 3,
     "metadata": {},
     "output_type": "execute_result"
    }
   ],
   "source": [
    "dataset: Dataset = get_dataset(\"irds:antique/test\")\n",
    "dataset"
   ],
   "metadata": {
    "collapsed": false,
    "pycharm": {
     "name": "#%%\n"
    }
   }
  },
  {
   "cell_type": "code",
   "execution_count": 4,
   "outputs": [],
   "source": [
    "index_dir = Path('./data/indices/antique').absolute()"
   ],
   "metadata": {
    "collapsed": false,
    "pycharm": {
     "name": "#%%\n"
    }
   }
  },
  {
   "cell_type": "code",
   "execution_count": 5,
   "outputs": [],
   "source": [
    "index_ref: IndexRef\n",
    "if index_dir.exists():\n",
    "    index_ref = IndexRef.of(str(index_dir))\n",
    "else:\n",
    "    indexer = IterDictIndexer(str(index_dir))\n",
    "    index_ref = indexer.index(dataset.get_corpus_iter(), fields=['text'])"
   ],
   "metadata": {
    "collapsed": false,
    "pycharm": {
     "name": "#%%\n"
    }
   }
  },
  {
   "cell_type": "code",
   "execution_count": 6,
   "outputs": [],
   "source": [
    "topics = dataset.get_topics()"
   ],
   "metadata": {
    "collapsed": false,
    "pycharm": {
     "name": "#%%\n"
    }
   }
  },
  {
   "cell_type": "code",
   "execution_count": 7,
   "outputs": [],
   "source": [
    "# # Original run 'RmitLm' from TREC 18, cut off at 10 documents per query.\n",
    "# pipeline_run = get_transformer(read_results(\n",
    "#     \"/mnt/ceph/storage/data-in-progress/data-research/web-search/web-search-trec/trec-system-runs/trec18/web.adhoc/input.RmitLm.gz\"\n",
    "# )) % 10\n",
    "# pipeline_run(topics)"
   ],
   "metadata": {
    "collapsed": false,
    "pycharm": {
     "name": "#%%\n"
    }
   }
  },
  {
   "cell_type": "code",
   "execution_count": 8,
   "outputs": [
    {
     "data": {
      "text/plain": "            qid   docid       docno  rank      score  \\\n0       3990512  102622   3077638_1     0  15.887435   \n1       3990512   30676   3931664_0     1  15.621619   \n2       3990512  173781   4366141_0     2  15.395085   \n3       3990512  179429  1011598_10     3  15.134176   \n4       3990512  194913   4222212_0     4  15.134176   \n...         ...     ...         ...   ...        ...   \n187638  1340574   87627   1972970_3     7  29.386170   \n187639  1340574  357982  2980015_23     8  29.323234   \n187640  1340574  116656   2036141_7     9  29.157311   \n188631  1971899  234068   1971899_6     0  28.234530   \n188632  1971899   87610   2667237_0     1  12.560643   \n\n                                                    query  \n0                how can we get concentration onsomething  \n1                how can we get concentration onsomething  \n2                how can we get concentration onsomething  \n3                how can we get concentration onsomething  \n4                how can we get concentration onsomething  \n...                                                   ...  \n187638  why do some people only go to church on easter...  \n187639  why do some people only go to church on easter...  \n187640  why do some people only go to church on easter...  \n188631                                  what is masturbat  \n188632                                  what is masturbat  \n\n[1952 rows x 6 columns]",
      "text/html": "<div>\n<style scoped>\n    .dataframe tbody tr th:only-of-type {\n        vertical-align: middle;\n    }\n\n    .dataframe tbody tr th {\n        vertical-align: top;\n    }\n\n    .dataframe thead th {\n        text-align: right;\n    }\n</style>\n<table border=\"1\" class=\"dataframe\">\n  <thead>\n    <tr style=\"text-align: right;\">\n      <th></th>\n      <th>qid</th>\n      <th>docid</th>\n      <th>docno</th>\n      <th>rank</th>\n      <th>score</th>\n      <th>query</th>\n    </tr>\n  </thead>\n  <tbody>\n    <tr>\n      <th>0</th>\n      <td>3990512</td>\n      <td>102622</td>\n      <td>3077638_1</td>\n      <td>0</td>\n      <td>15.887435</td>\n      <td>how can we get concentration onsomething</td>\n    </tr>\n    <tr>\n      <th>1</th>\n      <td>3990512</td>\n      <td>30676</td>\n      <td>3931664_0</td>\n      <td>1</td>\n      <td>15.621619</td>\n      <td>how can we get concentration onsomething</td>\n    </tr>\n    <tr>\n      <th>2</th>\n      <td>3990512</td>\n      <td>173781</td>\n      <td>4366141_0</td>\n      <td>2</td>\n      <td>15.395085</td>\n      <td>how can we get concentration onsomething</td>\n    </tr>\n    <tr>\n      <th>3</th>\n      <td>3990512</td>\n      <td>179429</td>\n      <td>1011598_10</td>\n      <td>3</td>\n      <td>15.134176</td>\n      <td>how can we get concentration onsomething</td>\n    </tr>\n    <tr>\n      <th>4</th>\n      <td>3990512</td>\n      <td>194913</td>\n      <td>4222212_0</td>\n      <td>4</td>\n      <td>15.134176</td>\n      <td>how can we get concentration onsomething</td>\n    </tr>\n    <tr>\n      <th>...</th>\n      <td>...</td>\n      <td>...</td>\n      <td>...</td>\n      <td>...</td>\n      <td>...</td>\n      <td>...</td>\n    </tr>\n    <tr>\n      <th>187638</th>\n      <td>1340574</td>\n      <td>87627</td>\n      <td>1972970_3</td>\n      <td>7</td>\n      <td>29.386170</td>\n      <td>why do some people only go to church on easter...</td>\n    </tr>\n    <tr>\n      <th>187639</th>\n      <td>1340574</td>\n      <td>357982</td>\n      <td>2980015_23</td>\n      <td>8</td>\n      <td>29.323234</td>\n      <td>why do some people only go to church on easter...</td>\n    </tr>\n    <tr>\n      <th>187640</th>\n      <td>1340574</td>\n      <td>116656</td>\n      <td>2036141_7</td>\n      <td>9</td>\n      <td>29.157311</td>\n      <td>why do some people only go to church on easter...</td>\n    </tr>\n    <tr>\n      <th>188631</th>\n      <td>1971899</td>\n      <td>234068</td>\n      <td>1971899_6</td>\n      <td>0</td>\n      <td>28.234530</td>\n      <td>what is masturbat</td>\n    </tr>\n    <tr>\n      <th>188632</th>\n      <td>1971899</td>\n      <td>87610</td>\n      <td>2667237_0</td>\n      <td>1</td>\n      <td>12.560643</td>\n      <td>what is masturbat</td>\n    </tr>\n  </tbody>\n</table>\n<p>1952 rows × 6 columns</p>\n</div>"
     },
     "execution_count": 8,
     "metadata": {},
     "output_type": "execute_result"
    }
   ],
   "source": [
    "# BM25 baseline retrieval, cut off at 10 documents per query.\n",
    "pipeline_bm25 = BatchRetrieve(index_ref, wmodel='BM25') % 10\n",
    "pipeline_bm25(topics)"
   ],
   "metadata": {
    "collapsed": false,
    "pycharm": {
     "name": "#%%\n"
    }
   }
  },
  {
   "cell_type": "code",
   "execution_count": 9,
   "outputs": [
    {
     "name": "stderr",
     "output_type": "stream",
     "text": [
      "Reranking axiomatically: 100%|██████████| 198/198 [00:02<00:00, 96.28 topics/s] \n"
     ]
    },
    {
     "data": {
      "text/plain": "           docno  rank  score     qid   docid  \\\n0      3186954_1     1     10  100653  237982   \n1       221513_0     2      9  100653   61554   \n2      2335842_1     3      8  100653   49847   \n3      1948316_0     4      7  100653  151703   \n4      1000063_0     5      6  100653  403508   \n...          ...   ...    ...     ...     ...   \n1947   2144392_0     6      5  953489   45292   \n1948   3528380_5     7      4  953489  116709   \n1949  1378072_14     8      3  953489  388739   \n1950   3577456_1     9      2  953489  275766   \n1951  1378072_19    10      1  953489  388744   \n\n                                                  query  \\\n0     how do i go about getting copies of letters of...   \n1     how do i go about getting copies of letters of...   \n2     how do i go about getting copies of letters of...   \n3     how do i go about getting copies of letters of...   \n4     how do i go about getting copies of letters of...   \n...                                                 ...   \n1947  why do i have to dumb myself down all the time...   \n1948  why do i have to dumb myself down all the time...   \n1949  why do i have to dumb myself down all the time...   \n1950  why do i have to dumb myself down all the time...   \n1951  why do i have to dumb myself down all the time...   \n\n                                                   text  \n0                    San Diego has much better weather.  \n1     San Diego doesn't have a supreme court. The su...  \n2     Call a freight forwarder, preferrably in your ...  \n3             San Diego! I told yer sis about this one.  \n4     How would you like to have San Diego underwate...  \n...                                                 ...  \n1947  IM DUMB IM DUMB IM DUMB!!!!!!!!!!!!!!!! hehe :...  \n1948  I am a Democrat and am not afraid of free spee...  \n1949  Because......... I am answering dumb questions...  \n1950  libs are dumb i bet ima get thumbs down for th...  \n1951  Hey, c'mon now. I may be dumb, but I am stupid...  \n\n[1952 rows x 7 columns]",
      "text/html": "<div>\n<style scoped>\n    .dataframe tbody tr th:only-of-type {\n        vertical-align: middle;\n    }\n\n    .dataframe tbody tr th {\n        vertical-align: top;\n    }\n\n    .dataframe thead th {\n        text-align: right;\n    }\n</style>\n<table border=\"1\" class=\"dataframe\">\n  <thead>\n    <tr style=\"text-align: right;\">\n      <th></th>\n      <th>docno</th>\n      <th>rank</th>\n      <th>score</th>\n      <th>qid</th>\n      <th>docid</th>\n      <th>query</th>\n      <th>text</th>\n    </tr>\n  </thead>\n  <tbody>\n    <tr>\n      <th>0</th>\n      <td>3186954_1</td>\n      <td>1</td>\n      <td>10</td>\n      <td>100653</td>\n      <td>237982</td>\n      <td>how do i go about getting copies of letters of...</td>\n      <td>San Diego has much better weather.</td>\n    </tr>\n    <tr>\n      <th>1</th>\n      <td>221513_0</td>\n      <td>2</td>\n      <td>9</td>\n      <td>100653</td>\n      <td>61554</td>\n      <td>how do i go about getting copies of letters of...</td>\n      <td>San Diego doesn't have a supreme court. The su...</td>\n    </tr>\n    <tr>\n      <th>2</th>\n      <td>2335842_1</td>\n      <td>3</td>\n      <td>8</td>\n      <td>100653</td>\n      <td>49847</td>\n      <td>how do i go about getting copies of letters of...</td>\n      <td>Call a freight forwarder, preferrably in your ...</td>\n    </tr>\n    <tr>\n      <th>3</th>\n      <td>1948316_0</td>\n      <td>4</td>\n      <td>7</td>\n      <td>100653</td>\n      <td>151703</td>\n      <td>how do i go about getting copies of letters of...</td>\n      <td>San Diego! I told yer sis about this one.</td>\n    </tr>\n    <tr>\n      <th>4</th>\n      <td>1000063_0</td>\n      <td>5</td>\n      <td>6</td>\n      <td>100653</td>\n      <td>403508</td>\n      <td>how do i go about getting copies of letters of...</td>\n      <td>How would you like to have San Diego underwate...</td>\n    </tr>\n    <tr>\n      <th>...</th>\n      <td>...</td>\n      <td>...</td>\n      <td>...</td>\n      <td>...</td>\n      <td>...</td>\n      <td>...</td>\n      <td>...</td>\n    </tr>\n    <tr>\n      <th>1947</th>\n      <td>2144392_0</td>\n      <td>6</td>\n      <td>5</td>\n      <td>953489</td>\n      <td>45292</td>\n      <td>why do i have to dumb myself down all the time...</td>\n      <td>IM DUMB IM DUMB IM DUMB!!!!!!!!!!!!!!!! hehe :...</td>\n    </tr>\n    <tr>\n      <th>1948</th>\n      <td>3528380_5</td>\n      <td>7</td>\n      <td>4</td>\n      <td>953489</td>\n      <td>116709</td>\n      <td>why do i have to dumb myself down all the time...</td>\n      <td>I am a Democrat and am not afraid of free spee...</td>\n    </tr>\n    <tr>\n      <th>1949</th>\n      <td>1378072_14</td>\n      <td>8</td>\n      <td>3</td>\n      <td>953489</td>\n      <td>388739</td>\n      <td>why do i have to dumb myself down all the time...</td>\n      <td>Because......... I am answering dumb questions...</td>\n    </tr>\n    <tr>\n      <th>1950</th>\n      <td>3577456_1</td>\n      <td>9</td>\n      <td>2</td>\n      <td>953489</td>\n      <td>275766</td>\n      <td>why do i have to dumb myself down all the time...</td>\n      <td>libs are dumb i bet ima get thumbs down for th...</td>\n    </tr>\n    <tr>\n      <th>1951</th>\n      <td>1378072_19</td>\n      <td>10</td>\n      <td>1</td>\n      <td>953489</td>\n      <td>388744</td>\n      <td>why do i have to dumb myself down all the time...</td>\n      <td>Hey, c'mon now. I may be dumb, but I am stupid...</td>\n    </tr>\n  </tbody>\n</table>\n<p>1952 rows × 7 columns</p>\n</div>"
     },
     "execution_count": 9,
     "metadata": {},
     "output_type": "execute_result"
    }
   ],
   "source": [
    "pipeline_axiom = pipeline_bm25 >> get_text(dataset, \"text\") >> AxiomaticReranker(TFC1(), index_ref)\n",
    "pipeline_axiom(topics)"
   ],
   "metadata": {
    "collapsed": false,
    "pycharm": {
     "name": "#%%\n"
    }
   }
  },
  {
   "cell_type": "code",
   "execution_count": 10,
   "outputs": [],
   "source": [
    "qrels = dataset.get_qrels()"
   ],
   "metadata": {
    "collapsed": false,
    "pycharm": {
     "name": "#%%\n"
    }
   }
  },
  {
   "cell_type": "code",
   "execution_count": 11,
   "outputs": [
    {
     "name": "stderr",
     "output_type": "stream",
     "text": [
      "Reranking axiomatically: 100%|██████████| 198/198 [00:01<00:00, 109.24 topics/s]\n"
     ]
    },
    {
     "data": {
      "text/plain": "    name  ndcg_cut_10  ndcg_cut_20  recip_rank    P.10    P.5\n1  axiom     0.510250     0.380903    0.937042  0.7455  0.827\n0   bm25     0.509908     0.380645    0.934708  0.7455  0.836",
      "text/html": "<div>\n<style scoped>\n    .dataframe tbody tr th:only-of-type {\n        vertical-align: middle;\n    }\n\n    .dataframe tbody tr th {\n        vertical-align: top;\n    }\n\n    .dataframe thead th {\n        text-align: right;\n    }\n</style>\n<table border=\"1\" class=\"dataframe\">\n  <thead>\n    <tr style=\"text-align: right;\">\n      <th></th>\n      <th>name</th>\n      <th>ndcg_cut_10</th>\n      <th>ndcg_cut_20</th>\n      <th>recip_rank</th>\n      <th>P.10</th>\n      <th>P.5</th>\n    </tr>\n  </thead>\n  <tbody>\n    <tr>\n      <th>1</th>\n      <td>axiom</td>\n      <td>0.510250</td>\n      <td>0.380903</td>\n      <td>0.937042</td>\n      <td>0.7455</td>\n      <td>0.827</td>\n    </tr>\n    <tr>\n      <th>0</th>\n      <td>bm25</td>\n      <td>0.509908</td>\n      <td>0.380645</td>\n      <td>0.934708</td>\n      <td>0.7455</td>\n      <td>0.836</td>\n    </tr>\n  </tbody>\n</table>\n</div>"
     },
     "execution_count": 11,
     "metadata": {},
     "output_type": "execute_result"
    }
   ],
   "source": [
    "Experiment(\n",
    "    [pipeline_bm25, pipeline_axiom],\n",
    "    topics,\n",
    "    qrels,\n",
    "    ['ndcg_cut_10', 'ndcg_cut_20', 'recip_rank', 'P.10', 'P.5'],\n",
    "    [\"bm25\", \"axiom\"],\n",
    ").sort_values('ndcg_cut_10', ascending=False)"
   ],
   "metadata": {
    "collapsed": false,
    "pycharm": {
     "name": "#%%\n"
    }
   }
  }
 ],
 "metadata": {
  "kernelspec": {
   "display_name": "Python 3",
   "language": "python",
   "name": "python3"
  },
  "language_info": {
   "codemirror_mode": {
    "name": "ipython",
    "version": 2
   },
   "file_extension": ".py",
   "mimetype": "text/x-python",
   "name": "python",
   "nbconvert_exporter": "python",
   "pygments_lexer": "ipython2",
   "version": "2.7.6"
  }
 },
 "nbformat": 4,
 "nbformat_minor": 0
}